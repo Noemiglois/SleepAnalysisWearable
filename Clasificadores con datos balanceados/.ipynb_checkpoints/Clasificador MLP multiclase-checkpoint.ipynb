{
 "cells": [
  {
   "cell_type": "markdown",
   "metadata": {},
   "source": [
    "<center> <h1>PREDICIÓN DEL SUEÑO CON MLP MULTICLASE</h1> </center>\n",
    "<center> <h4>Noemi González, Roberto Holgado y Carmen Plaza seco</h4> </center>\n",
    "\n",
    "\n",
    "###### Indice\n",
    "\n",
    "En este jupyter notebook se lleva a cabo la construcción de un clasificador MLP de salida multiclase para predecir el el estado de vigilia o sueño ligero y  el de sueño profundo.\n",
    "\n",
    "    1. Clasficador MLP multiclase\n",
    "        1.1 Preparación datos de entrada y salida\n",
    "        1.2 Creación del modelo y selección parámetros libres\n",
    "        1.3 Evaluación del modelo\n",
    "        1.4 Visualización de resultados"
   ]
  },
  {
   "cell_type": "markdown",
   "metadata": {},
   "source": [
    "IMPORTAR MÓDULOS"
   ]
  },
  {
   "cell_type": "code",
   "execution_count": 1,
   "metadata": {},
   "outputs": [],
   "source": [
    "from sklearn.metrics import classification_report,confusion_matrix\n",
    "from sklearn.model_selection import train_test_split\n",
    "from sklearn.neural_network import MLPClassifier\n",
    "from sklearn.preprocessing import MinMaxScaler\n",
    "import matplotlib.pyplot as plt\n",
    "import pandas as pd\n",
    "import numpy as np\n",
    "from sklearn import svm\n",
    "import sklearn"
   ]
  },
  {
   "cell_type": "markdown",
   "metadata": {},
   "source": [
    "## 1. CLASIFICADOR MLP MULTICLASE"
   ]
  },
  {
   "cell_type": "markdown",
   "metadata": {},
   "source": [
    "Se ha utilizado un perceptrón multicapa para clasificar las distintas fases del sueño. Es decir, se ha construido un clasificador con salida multiclase."
   ]
  },
  {
   "cell_type": "markdown",
   "metadata": {},
   "source": [
    "### 1.1 Preparación datos de entrada y salida"
   ]
  },
  {
   "cell_type": "code",
   "execution_count": 2,
   "metadata": {},
   "outputs": [],
   "source": [
    "Train_multi= pd.read_csv('Train_multiclass.csv')\n",
    "Test_multi= pd.read_csv('Test_multiclass.csv')"
   ]
  },
  {
   "cell_type": "code",
   "execution_count": 3,
   "metadata": {
    "scrolled": true
   },
   "outputs": [],
   "source": [
    "X_train_multi=Train_multi.drop(['Etiquetas multiclase', 'Etiquetas binarias','ID'], axis = 1) \n",
    "y_train_multi=Train_multi['Etiquetas multiclase']\n",
    "\n",
    "X_test_multi=Test_multi.drop(['Etiquetas multiclase', 'Etiquetas binarias','ID'], axis = 1)\n",
    "y_test_multi=Test_multi['Etiquetas multiclase']"
   ]
  },
  {
   "cell_type": "markdown",
   "metadata": {},
   "source": [
    "### 1.2  Creación del modelo y selección parámetros libres"
   ]
  },
  {
   "cell_type": "markdown",
   "metadata": {},
   "source": [
    "Se proponen posibles valores de neuronas en la capa oculta para ver con cuál de ellos se obtienen las mejores prestaciones para el modelo. Se crea una tabla que recoge la pérdidas para cada valor del número de neuronas y aquel que tenga menos pérdida es el que se utilizará para el conjunto de test.\n",
    "\n",
    "Se estudia el número de neuronas para un rango de 4 a 20 cogiendo los valores con saltos de 3."
   ]
  },
  {
   "cell_type": "code",
   "execution_count": 4,
   "metadata": {},
   "outputs": [],
   "source": [
    "# Tabla para recoger las prestaciones en train \n",
    "columns  = ['Loss','Score']\n",
    "comp_train = pd.DataFrame(columns=columns)\n"
   ]
  },
  {
   "cell_type": "code",
   "execution_count": 5,
   "metadata": {},
   "outputs": [
    {
     "name": "stdout",
     "output_type": "stream",
     "text": [
      "\u001b[4;32mMLP clasiffier with 4 neurons in the hidden layer\u001b[0m\n",
      "Iteration 1, loss = inf\n",
      "Validation score: 0.184211\n",
      "Iteration 2, loss = 1.96606338\n",
      "Validation score: 0.197368\n",
      "Iteration 3, loss = 2.03654500\n",
      "Validation score: 0.197368\n",
      "Iteration 4, loss = 2.05545658\n",
      "Validation score: 0.184211\n",
      "Iteration 5, loss = 2.05847225\n",
      "Validation score: 0.184211\n",
      "Iteration 6, loss = 2.06004576\n",
      "Validation score: 0.184211\n",
      "Iteration 7, loss = 2.05972044\n",
      "Validation score: 0.184211\n",
      "Iteration 8, loss = 2.05920661\n",
      "Validation score: 0.197368\n",
      "Validation score did not improve more than tol=0.000100 for 5 consecutive epochs. Stopping.\n",
      "\u001b[4;32mMLP clasiffier with 7 neurons in the hidden layer\u001b[0m\n",
      "Iteration 1, loss = inf\n",
      "Validation score: 0.210526\n",
      "Iteration 2, loss = 1.82543870\n",
      "Validation score: 0.171053\n",
      "Iteration 3, loss = 1.87033667\n",
      "Validation score: 0.171053\n",
      "Iteration 4, loss = 1.88240184\n",
      "Validation score: 0.171053\n",
      "Iteration 5, loss = 1.88713580\n",
      "Validation score: 0.210526\n",
      "Iteration 6, loss = 1.88446060\n",
      "Validation score: 0.171053\n",
      "Iteration 7, loss = 1.88633221\n",
      "Validation score: 0.210526\n",
      "Validation score did not improve more than tol=0.000100 for 5 consecutive epochs. Stopping.\n",
      "\u001b[4;32mMLP clasiffier with 10 neurons in the hidden layer\u001b[0m\n",
      "Iteration 1, loss = 26.43673583\n",
      "Validation score: 0.250000\n",
      "Iteration 2, loss = 1.69417145\n",
      "Validation score: 0.131579\n",
      "Iteration 3, loss = 1.71318673\n",
      "Validation score: 0.131579\n",
      "Iteration 4, loss = 1.71355543\n",
      "Validation score: 0.210526\n",
      "Iteration 5, loss = 1.71427436\n",
      "Validation score: 0.210526\n",
      "Iteration 6, loss = 1.71409854\n",
      "Validation score: 0.210526\n",
      "Iteration 7, loss = 1.71382414\n",
      "Validation score: 0.184211\n",
      "Validation score did not improve more than tol=0.000100 for 5 consecutive epochs. Stopping.\n",
      "\u001b[4;32mMLP clasiffier with 13 neurons in the hidden layer\u001b[0m\n",
      "Iteration 1, loss = inf\n",
      "Validation score: 0.157895\n",
      "Iteration 2, loss = 1.85668931\n",
      "Validation score: 0.184211\n",
      "Iteration 3, loss = 1.90733392\n",
      "Validation score: 0.223684\n"
     ]
    },
    {
     "name": "stderr",
     "output_type": "stream",
     "text": [
      "/Applications/anaconda3/envs/cuarto/lib/python3.7/site-packages/ipykernel_launcher.py:14: FutureWarning: set_value is deprecated and will be removed in a future release. Please use .at[] or .iat[] accessors instead\n",
      "  \n",
      "/Applications/anaconda3/envs/cuarto/lib/python3.7/site-packages/ipykernel_launcher.py:14: FutureWarning: set_value is deprecated and will be removed in a future release. Please use .at[] or .iat[] accessors instead\n",
      "  \n",
      "/Applications/anaconda3/envs/cuarto/lib/python3.7/site-packages/ipykernel_launcher.py:14: FutureWarning: set_value is deprecated and will be removed in a future release. Please use .at[] or .iat[] accessors instead\n",
      "  \n",
      "/Applications/anaconda3/envs/cuarto/lib/python3.7/site-packages/ipykernel_launcher.py:14: FutureWarning: set_value is deprecated and will be removed in a future release. Please use .at[] or .iat[] accessors instead\n",
      "  \n"
     ]
    },
    {
     "name": "stdout",
     "output_type": "stream",
     "text": [
      "Iteration 4, loss = 1.91937326\n",
      "Validation score: 0.157895\n",
      "Iteration 5, loss = 1.92436246\n",
      "Validation score: 0.157895\n",
      "Iteration 6, loss = 1.92323241\n",
      "Validation score: 0.184211\n",
      "Iteration 7, loss = 1.92586451\n",
      "Validation score: 0.223684\n",
      "Iteration 8, loss = 1.92494336\n",
      "Validation score: 0.184211\n",
      "Iteration 9, loss = 1.92514175\n",
      "Validation score: 0.157895\n",
      "Validation score did not improve more than tol=0.000100 for 5 consecutive epochs. Stopping.\n",
      "\u001b[4;32mMLP clasiffier with 16 neurons in the hidden layer\u001b[0m\n",
      "Iteration 1, loss = inf\n",
      "Validation score: 0.171053\n",
      "Iteration 2, loss = 34.85745040\n",
      "Validation score: 0.157895\n",
      "Iteration 3, loss = 43.51997296\n",
      "Validation score: 0.157895\n",
      "Iteration 4, loss = 45.66242495\n",
      "Validation score: 0.197368\n",
      "Iteration 5, loss = 46.16210120\n",
      "Validation score: 0.157895\n",
      "Iteration 6, loss = 46.27539050\n",
      "Validation score: 0.157895\n",
      "Iteration 7, loss = 46.30020181\n",
      "Validation score: 0.157895\n",
      "Iteration 8, loss = 46.30206427\n",
      "Validation score: 0.157895\n",
      "Iteration 9, loss = 46.30150047\n",
      "Validation score: 0.157895\n",
      "Iteration 10, loss = 46.29935310\n",
      "Validation score: 0.157895\n",
      "Validation score did not improve more than tol=0.000100 for 5 consecutive epochs. Stopping.\n",
      "\u001b[4;32mMLP clasiffier with 19 neurons in the hidden layer\u001b[0m\n",
      "Iteration 1, loss = inf\n",
      "Validation score: 0.157895\n",
      "Iteration 2, loss = 2.94186149\n",
      "Validation score: 0.157895\n",
      "Iteration 3, loss = 3.23692203\n",
      "Validation score: 0.184211\n",
      "Iteration 4, loss = 3.31475687\n",
      "Validation score: 0.157895\n",
      "Iteration 5, loss = 3.32879106\n",
      "Validation score: 0.157895\n",
      "Iteration 6, loss = 3.33308102\n",
      "Validation score: 0.157895\n",
      "Iteration 7, loss = 3.33485383\n",
      "Validation score: 0.157895\n",
      "Iteration 8, loss = 3.33259116\n",
      "Validation score: 0.157895\n",
      "Iteration 9, loss = 3.33353493\n",
      "Validation score: 0.157895\n",
      "Validation score did not improve more than tol=0.000100 for 5 consecutive epochs. Stopping.\n"
     ]
    },
    {
     "name": "stderr",
     "output_type": "stream",
     "text": [
      "/Applications/anaconda3/envs/cuarto/lib/python3.7/site-packages/ipykernel_launcher.py:14: FutureWarning: set_value is deprecated and will be removed in a future release. Please use .at[] or .iat[] accessors instead\n",
      "  \n",
      "/Applications/anaconda3/envs/cuarto/lib/python3.7/site-packages/ipykernel_launcher.py:14: FutureWarning: set_value is deprecated and will be removed in a future release. Please use .at[] or .iat[] accessors instead\n",
      "  \n"
     ]
    }
   ],
   "source": [
    "# Número de neuronas de la capa oculta\n",
    "n_hidden=range(4,20,3)\n",
    "\n",
    "for i in n_hidden:\n",
    "    \n",
    "    print('\\033[4;32m' + 'MLP clasiffier with',i,'neurons in the hidden layer' + '\\033[0m')\n",
    "\n",
    "    model=MLPClassifier(activation='relu', batch_size=50, hidden_layer_sizes=(i,), learning_rate='constant',\n",
    "        learning_rate_init=0.1, shuffle=True, solver='sgd', early_stopping=True, verbose=True, n_iter_no_change=5)\n",
    "\n",
    "    model.fit(X_train_multi, y_train_multi)\n",
    "    \n",
    "    loss=model.loss_  \n",
    "    comp_train = comp_train.set_value(i,('Loss','Score'),(loss,'Verbose'))"
   ]
  },
  {
   "cell_type": "markdown",
   "metadata": {},
   "source": [
    "Las medidas de prestación elegidas para la elección de una topología han sido el validation score y la pérdida. Ambas se pueden ver al aplicar el fit del modelo, gracias al parámetro verbose=True. La pérdida la hemos añadido a la siguiente tabla pero la accuracy de cada epoch para el conjunto de validación hay que verla en la celda anterior. Según estos resultados, la mejor topología de MLP sería la de **n_hidden con 7 neuronas** en la capa oculta, ya que el par (loss,val_score) es el mejor.\n",
    "En todos los casos el valor 'validation score' está entorno a 0.2, pero el número de neuronas de mayor score y  pérdida baja es 7."
   ]
  },
  {
   "cell_type": "code",
   "execution_count": 7,
   "metadata": {},
   "outputs": [
    {
     "data": {
      "text/html": [
       "<div>\n",
       "<style scoped>\n",
       "    .dataframe tbody tr th:only-of-type {\n",
       "        vertical-align: middle;\n",
       "    }\n",
       "\n",
       "    .dataframe tbody tr th {\n",
       "        vertical-align: top;\n",
       "    }\n",
       "\n",
       "    .dataframe thead th {\n",
       "        text-align: right;\n",
       "    }\n",
       "</style>\n",
       "<table border=\"1\" class=\"dataframe\">\n",
       "  <thead>\n",
       "    <tr style=\"text-align: right;\">\n",
       "      <th></th>\n",
       "      <th>Loss</th>\n",
       "      <th>Score</th>\n",
       "    </tr>\n",
       "  </thead>\n",
       "  <tbody>\n",
       "    <tr>\n",
       "      <th>4</th>\n",
       "      <td>2.05921</td>\n",
       "      <td>Verbose</td>\n",
       "    </tr>\n",
       "    <tr>\n",
       "      <th>7</th>\n",
       "      <td>1.88633</td>\n",
       "      <td>Verbose</td>\n",
       "    </tr>\n",
       "    <tr>\n",
       "      <th>10</th>\n",
       "      <td>1.71382</td>\n",
       "      <td>Verbose</td>\n",
       "    </tr>\n",
       "    <tr>\n",
       "      <th>13</th>\n",
       "      <td>1.92514</td>\n",
       "      <td>Verbose</td>\n",
       "    </tr>\n",
       "    <tr>\n",
       "      <th>16</th>\n",
       "      <td>46.2994</td>\n",
       "      <td>Verbose</td>\n",
       "    </tr>\n",
       "    <tr>\n",
       "      <th>19</th>\n",
       "      <td>3.33353</td>\n",
       "      <td>Verbose</td>\n",
       "    </tr>\n",
       "  </tbody>\n",
       "</table>\n",
       "</div>"
      ],
      "text/plain": [
       "       Loss    Score\n",
       "4   2.05921  Verbose\n",
       "7   1.88633  Verbose\n",
       "10  1.71382  Verbose\n",
       "13  1.92514  Verbose\n",
       "16  46.2994  Verbose\n",
       "19  3.33353  Verbose"
      ]
     },
     "execution_count": 7,
     "metadata": {},
     "output_type": "execute_result"
    }
   ],
   "source": [
    "comp_train"
   ]
  },
  {
   "cell_type": "markdown",
   "metadata": {},
   "source": [
    "### 1.3 Evaluación del modelo"
   ]
  },
  {
   "cell_type": "markdown",
   "metadata": {},
   "source": [
    "Testeamos el modelo con el número de neuronas en la capa oculta que ofrece la menor pérdida (número neuronas = 7)"
   ]
  },
  {
   "cell_type": "code",
   "execution_count": 8,
   "metadata": {},
   "outputs": [
    {
     "name": "stdout",
     "output_type": "stream",
     "text": [
      "\u001b[4;32mMLP clasiffier with 7 neurons in the hidden layer\u001b[0m\n",
      "Iteration 1, loss = 3.33766687\n",
      "Validation score: 0.131579\n",
      "Iteration 2, loss = 1.62350012\n",
      "Validation score: 0.250000\n",
      "Iteration 3, loss = 1.62531533\n",
      "Validation score: 0.197368\n",
      "Iteration 4, loss = 1.62227750\n",
      "Validation score: 0.131579\n",
      "Iteration 5, loss = 1.62540043\n",
      "Validation score: 0.131579\n",
      "Iteration 6, loss = 1.62451416\n",
      "Validation score: 0.131579\n",
      "Iteration 7, loss = 1.62375272\n",
      "Validation score: 0.131579\n",
      "Iteration 8, loss = 1.62859470\n",
      "Validation score: 0.197368\n",
      "Validation score did not improve more than tol=0.000100 for 5 consecutive epochs. Stopping.\n"
     ]
    },
    {
     "name": "stderr",
     "output_type": "stream",
     "text": [
      "/Applications/anaconda3/envs/cuarto/lib/python3.7/site-packages/sklearn/metrics/classification.py:1437: UndefinedMetricWarning: Precision and F-score are ill-defined and being set to 0.0 in labels with no predicted samples.\n",
      "  'precision', 'predicted', average, warn_for)\n",
      "/Applications/anaconda3/envs/cuarto/lib/python3.7/site-packages/ipykernel_launcher.py:15: FutureWarning: set_value is deprecated and will be removed in a future release. Please use .at[] or .iat[] accessors instead\n",
      "  from ipykernel import kernelapp as app\n"
     ]
    }
   ],
   "source": [
    "columns  = ['Accuracy','Recall','F1-score']\n",
    "comp_test = pd.DataFrame(columns=columns)\n",
    "\n",
    "print('\\033[4;32m' + 'MLP clasiffier with 7 neurons in the hidden layer' + '\\033[0m')\n",
    "\n",
    "model=MLPClassifier(activation='relu', batch_size=50, hidden_layer_sizes=7, learning_rate='constant',\n",
    "        learning_rate_init=0.1, shuffle=True, solver='sgd', early_stopping=True, verbose=True, n_iter_no_change=5)\n",
    "\n",
    "model.fit(X_train_multi,y_train_multi)\n",
    "\n",
    "predictions = model.predict(X_test_multi)\n",
    "cr=classification_report(y_test_multi,predictions,output_dict=True)\n",
    "acc,rec,f1=cr['weighted avg']['precision'],cr['weighted avg']['recall'],cr['weighted avg']['f1-score']\n",
    "\n",
    "comp_test = comp_test.set_value('4', ('Accuracy','Recall','F1-score'),(acc,rec,f1))"
   ]
  },
  {
   "cell_type": "code",
   "execution_count": 9,
   "metadata": {},
   "outputs": [
    {
     "data": {
      "text/html": [
       "<div>\n",
       "<style scoped>\n",
       "    .dataframe tbody tr th:only-of-type {\n",
       "        vertical-align: middle;\n",
       "    }\n",
       "\n",
       "    .dataframe tbody tr th {\n",
       "        vertical-align: top;\n",
       "    }\n",
       "\n",
       "    .dataframe thead th {\n",
       "        text-align: right;\n",
       "    }\n",
       "</style>\n",
       "<table border=\"1\" class=\"dataframe\">\n",
       "  <thead>\n",
       "    <tr style=\"text-align: right;\">\n",
       "      <th></th>\n",
       "      <th>Accuracy</th>\n",
       "      <th>Recall</th>\n",
       "      <th>F1-score</th>\n",
       "    </tr>\n",
       "  </thead>\n",
       "  <tbody>\n",
       "    <tr>\n",
       "      <th>4</th>\n",
       "      <td>0.0315723</td>\n",
       "      <td>0.177686</td>\n",
       "      <td>0.0536175</td>\n",
       "    </tr>\n",
       "  </tbody>\n",
       "</table>\n",
       "</div>"
      ],
      "text/plain": [
       "    Accuracy    Recall   F1-score\n",
       "4  0.0315723  0.177686  0.0536175"
      ]
     },
     "execution_count": 9,
     "metadata": {},
     "output_type": "execute_result"
    }
   ],
   "source": [
    "comp_test"
   ]
  },
  {
   "cell_type": "code",
   "execution_count": 10,
   "metadata": {},
   "outputs": [
    {
     "name": "stdout",
     "output_type": "stream",
     "text": [
      "================Classification Report=================\n",
      "{'0.0': {'precision': 0.0, 'recall': 0.0, 'f1-score': 0.0, 'support': 48}, '1.0': {'precision': 0.17768595041322313, 'recall': 1.0, 'f1-score': 0.3017543859649123, 'support': 43}, '2.0': {'precision': 0.0, 'recall': 0.0, 'f1-score': 0.0, 'support': 46}, '3.0': {'precision': 0.0, 'recall': 0.0, 'f1-score': 0.0, 'support': 54}, '5.0': {'precision': 0.0, 'recall': 0.0, 'f1-score': 0.0, 'support': 51}, 'accuracy': 0.17768595041322313, 'macro avg': {'precision': 0.035537190082644624, 'recall': 0.2, 'f1-score': 0.060350877192982454, 'support': 242}, 'weighted avg': {'precision': 0.03157229697425039, 'recall': 0.17768595041322313, 'f1-score': 0.053617514861534, 'support': 242}}\n"
     ]
    }
   ],
   "source": [
    "print(\"================Classification Report=================\")\n",
    "print(cr)"
   ]
  },
  {
   "cell_type": "markdown",
   "metadata": {},
   "source": [
    "### 1.5 Visualización de resultados\n",
    "A continuación se muestra un ejemplo de las fases del sueño predichas frente a las reales. Para facilitar esta visualización, se muestran la mitad de la muestras del subconjunto de test. "
   ]
  },
  {
   "cell_type": "code",
   "execution_count": 11,
   "metadata": {},
   "outputs": [
    {
     "data": {
      "text/plain": [
       "<matplotlib.legend.Legend at 0x1a1c295510>"
      ]
     },
     "execution_count": 11,
     "metadata": {},
     "output_type": "execute_result"
    },
    {
     "data": {
      "image/png": "[encoded data removed]",
      "text/plain": [
       "<Figure size 864x576 with 1 Axes>"
      ]
     },
     "metadata": {
      "needs_background": "light"
     },
     "output_type": "display_data"
    }
   ],
   "source": [
    "plt.figure(figsize=(12,8))\n",
    "plt.plot(y_test_multi[0:90],color='blue', marker='.',label='Real')\n",
    "plt.plot(predictions[0:90],color='green', marker='.',label='Predicha')\n",
    "\n",
    "plt.title('Fase del sueño real vs. predicha')\n",
    "plt.xlabel('Muestras')\n",
    "plt.ylabel('Fase del sueño')\n",
    "plt.legend()"
   ]
  },
  {
   "cell_type": "markdown",
   "metadata": {},
   "source": [
    "**Residuos**"
   ]
  },
  {
   "cell_type": "code",
   "execution_count": 12,
   "metadata": {},
   "outputs": [
    {
     "data": {
      "text/plain": [
       "<matplotlib.legend.Legend at 0x1a1d145650>"
      ]
     },
     "execution_count": 12,
     "metadata": {},
     "output_type": "execute_result"
    },
    {
     "data": {
      "image/png": "[encoded data removed]",
      "text/plain": [
       "<Figure size 864x576 with 1 Axes>"
      ]
     },
     "metadata": {
      "needs_background": "light"
     },
     "output_type": "display_data"
    }
   ],
   "source": [
    "residuos= y_test_multi - predictions\n",
    "plt.figure(figsize=(12,8))\n",
    "plt.plot(residuos[0:90],color='purple', marker='.',label='Residuos')\n",
    "\n",
    "plt.title('RESIDUOS')\n",
    "plt.xlabel('Muestras')\n",
    "plt.ylabel('Fase del sueño')\n",
    "plt.legend()"
   ]
  },
  {
   "cell_type": "code",
   "execution_count": null,
   "metadata": {},
   "outputs": [],
   "source": []
  }
 ],
 "metadata": {
  "kernelspec": {
   "display_name": "Python 3",
   "language": "python",
   "name": "python3"
  },
  "language_info": {
   "codemirror_mode": {
    "name": "ipython",
    "version": 3
   },
   "file_extension": ".py",
   "mimetype": "text/x-python",
   "name": "python",
   "nbconvert_exporter": "python",
   "pygments_lexer": "ipython3",
   "version": "3.7.4"
  }
 },
 "nbformat": 4,
 "nbformat_minor": 2
}
