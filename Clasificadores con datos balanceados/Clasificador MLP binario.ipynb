{
 "cells": [
  {
   "cell_type": "markdown",
   "metadata": {},
   "source": [
    "<center> <h1>PREDICIÓN DEL SUEÑO CON MLP BINARIO</h1> </center>\n",
    "<center> <h4>Noemi González, Roberto Holgado y Carmen Plaza seco</h4> </center>\n",
    "\n",
    "\n",
    "###### Indice\n",
    "\n",
    "En este jupyter notebook se lleva a cabo la construcción de un clasificador MLP de salida binaria para predecir el el estado de vigilia o sueño ligero y  el de sueño profundo.\n",
    "\n",
    "    1. Clasficador MLP binario\n",
    "        1.1 Preparación datos de entrada y salida\n",
    "        1.2 Creación del modelo y selección parámetros libres\n",
    "        1.3 Evaluación del modelo\n",
    "        1.4 Visualización de resultados"
   ]
  },
  {
   "cell_type": "code",
   "execution_count": 1,
   "metadata": {},
   "outputs": [],
   "source": [
    "from sklearn.metrics import classification_report,confusion_matrix\n",
    "from sklearn.model_selection import train_test_split\n",
    "from sklearn.neural_network import MLPClassifier\n",
    "from sklearn.preprocessing import MinMaxScaler\n",
    "import matplotlib.pyplot as plt\n",
    "import pandas as pd\n",
    "import numpy as np\n",
    "from sklearn import svm\n",
    "import sklearn"
   ]
  },
  {
   "cell_type": "markdown",
   "metadata": {},
   "source": [
    "## 1. CLASIFICADOR MLP BINARIO"
   ]
  },
  {
   "cell_type": "markdown",
   "metadata": {},
   "source": [
    "Se ha utilizado un perceptrón multicapa para clasificar la vigilia o sueño ligero del sueño profundo. Es decir, se ha construido un clasificador con salida binaria."
   ]
  },
  {
   "cell_type": "markdown",
   "metadata": {},
   "source": [
    "### 1.1 Preparación datos de entrada y salida"
   ]
  },
  {
   "cell_type": "code",
   "execution_count": 2,
   "metadata": {},
   "outputs": [],
   "source": [
    "Train_bin= pd.read_csv('Train_binary.csv')\n",
    "Test_bin= pd.read_csv('Test_binary.csv')"
   ]
  },
  {
   "cell_type": "code",
   "execution_count": 3,
   "metadata": {
    "scrolled": true
   },
   "outputs": [],
   "source": [
    "X_train_bin=Train_bin.drop(['Etiquetas multiclase', 'Etiquetas binarias','ID'], axis = 1) \n",
    "y_train_bin=Train_bin['Etiquetas binarias']\n",
    "\n",
    "X_test_bin=Test_bin.drop(['Etiquetas multiclase', 'Etiquetas binarias','ID'], axis = 1)\n",
    "y_test_bin=Test_bin['Etiquetas binarias']"
   ]
  },
  {
   "cell_type": "markdown",
   "metadata": {},
   "source": [
    "### 1.2  Creación del modelo y selección parámetros libres"
   ]
  },
  {
   "cell_type": "markdown",
   "metadata": {},
   "source": [
    "Se proponen posibles valores de neuronas en la capa oculta para ver con cuál de ellos se obtienen las mejores prestaciones para el modelo. Se crea una tabla que recoge la pérdidas para cada valor del número de neuronas y aquel que tenga menos pérdida es el que se utilizará para el conjunto de test.\n",
    "\n",
    "Se estudia el número de neuronas para un rango de 4 a 20 cogiendo los valores con saltos de 3."
   ]
  },
  {
   "cell_type": "code",
   "execution_count": 4,
   "metadata": {},
   "outputs": [],
   "source": [
    "# Tabla para recoger las prestaciones en train \n",
    "columns  = ['Loss','Score']\n",
    "comp_train = pd.DataFrame(columns=columns)\n"
   ]
  },
  {
   "cell_type": "code",
   "execution_count": 5,
   "metadata": {},
   "outputs": [
    {
     "name": "stdout",
     "output_type": "stream",
     "text": [
      "\u001b[4;32mMLP clasiffier with 4 neurons in the hidden layer\u001b[0m\n",
      "Iteration 1, loss = inf\n",
      "Validation score: 0.500000\n",
      "Iteration 2, loss = 0.70567523\n",
      "Validation score: 0.500000\n",
      "Iteration 3, loss = 0.70115148\n",
      "Validation score: 0.500000\n",
      "Iteration 4, loss = 0.70143809\n",
      "Validation score: 0.500000\n",
      "Iteration 5, loss = 0.70186424\n",
      "Validation score: 0.500000\n",
      "Iteration 6, loss = 0.70282754\n",
      "Validation score: 0.500000\n",
      "Iteration 7, loss = 0.70121591\n",
      "Validation score: 0.500000\n",
      "Validation score did not improve more than tol=0.000100 for 5 consecutive epochs. Stopping.\n",
      "\u001b[4;32mMLP clasiffier with 7 neurons in the hidden layer\u001b[0m\n",
      "Iteration 1, loss = inf\n",
      "Validation score: 0.500000\n",
      "Iteration 2, loss = 0.74345967\n",
      "Validation score: 0.500000\n",
      "Iteration 3, loss = 0.75187117\n",
      "Validation score: 0.500000\n",
      "Iteration 4, loss = 0.75359212\n",
      "Validation score: 0.500000\n",
      "Iteration 5, loss = 0.75337292\n",
      "Validation score: 0.500000\n",
      "Iteration 6, loss = 0.75405515\n",
      "Validation score: 0.500000\n",
      "Iteration 7, loss = 0.75276397\n",
      "Validation score: 0.500000\n",
      "Validation score did not improve more than tol=0.000100 for 5 consecutive epochs. Stopping.\n",
      "\u001b[4;32mMLP clasiffier with 10 neurons in the hidden layer\u001b[0m\n",
      "Iteration 1, loss = inf\n",
      "Validation score: 0.500000\n",
      "Iteration 2, loss = 0.94762141\n",
      "Validation score: 0.500000\n",
      "Iteration 3, loss = 0.98374149\n",
      "Validation score: 0.500000\n",
      "Iteration 4, loss = 0.99090520\n",
      "Validation score: 0.500000\n",
      "Iteration 5, loss = 0.99231303\n",
      "Validation score: 0.500000\n",
      "Iteration 6, loss = 0.99246603\n",
      "Validation score: 0.500000\n",
      "Iteration 7, loss = 0.99234252\n",
      "Validation score: 0.500000\n",
      "Validation score did not improve more than tol=0.000100 for 5 consecutive epochs. Stopping.\n",
      "\u001b[4;32mMLP clasiffier with 13 neurons in the hidden layer\u001b[0m\n",
      "Iteration 1, loss = inf\n",
      "Validation score: 0.500000\n"
     ]
    },
    {
     "name": "stderr",
     "output_type": "stream",
     "text": [
      "/Applications/anaconda3/envs/cuarto/lib/python3.7/site-packages/ipykernel_launcher.py:14: FutureWarning: set_value is deprecated and will be removed in a future release. Please use .at[] or .iat[] accessors instead\n",
      "  \n",
      "/Applications/anaconda3/envs/cuarto/lib/python3.7/site-packages/ipykernel_launcher.py:14: FutureWarning: set_value is deprecated and will be removed in a future release. Please use .at[] or .iat[] accessors instead\n",
      "  \n",
      "/Applications/anaconda3/envs/cuarto/lib/python3.7/site-packages/ipykernel_launcher.py:14: FutureWarning: set_value is deprecated and will be removed in a future release. Please use .at[] or .iat[] accessors instead\n",
      "  \n",
      "/Applications/anaconda3/envs/cuarto/lib/python3.7/site-packages/ipykernel_launcher.py:14: FutureWarning: set_value is deprecated and will be removed in a future release. Please use .at[] or .iat[] accessors instead\n",
      "  \n"
     ]
    },
    {
     "name": "stdout",
     "output_type": "stream",
     "text": [
      "Iteration 2, loss = 0.72714163\n",
      "Validation score: 0.500000\n",
      "Iteration 3, loss = 0.73026228\n",
      "Validation score: 0.500000\n",
      "Iteration 4, loss = 0.73208827\n",
      "Validation score: 0.500000\n",
      "Iteration 5, loss = 0.73075362\n",
      "Validation score: 0.500000\n",
      "Iteration 6, loss = 0.73139622\n",
      "Validation score: 0.500000\n",
      "Iteration 7, loss = 0.73053210\n",
      "Validation score: 0.500000\n",
      "Validation score did not improve more than tol=0.000100 for 5 consecutive epochs. Stopping.\n",
      "\u001b[4;32mMLP clasiffier with 16 neurons in the hidden layer\u001b[0m\n",
      "Iteration 1, loss = inf\n",
      "Validation score: 0.500000\n",
      "Iteration 2, loss = 0.83293047\n",
      "Validation score: 0.500000\n",
      "Iteration 3, loss = 0.85466737\n",
      "Validation score: 0.500000\n",
      "Iteration 4, loss = 0.85794899\n",
      "Validation score: 0.500000\n",
      "Iteration 5, loss = 0.85954705\n",
      "Validation score: 0.500000\n",
      "Iteration 6, loss = 0.85833467\n",
      "Validation score: 0.500000\n",
      "Iteration 7, loss = 0.85832785\n",
      "Validation score: 0.500000\n",
      "Validation score did not improve more than tol=0.000100 for 5 consecutive epochs. Stopping.\n",
      "\u001b[4;32mMLP clasiffier with 19 neurons in the hidden layer\u001b[0m\n",
      "Iteration 1, loss = inf\n",
      "Validation score: 0.500000\n",
      "Iteration 2, loss = 0.92492883\n",
      "Validation score: 0.500000\n",
      "Iteration 3, loss = 0.95885187\n",
      "Validation score: 0.500000\n",
      "Iteration 4, loss = 0.96449720\n",
      "Validation score: 0.500000\n",
      "Iteration 5, loss = 0.96645353\n",
      "Validation score: 0.500000\n",
      "Iteration 6, loss = 0.96656909\n",
      "Validation score: 0.500000\n",
      "Iteration 7, loss = 0.96600334\n",
      "Validation score: 0.500000\n",
      "Validation score did not improve more than tol=0.000100 for 5 consecutive epochs. Stopping.\n"
     ]
    },
    {
     "name": "stderr",
     "output_type": "stream",
     "text": [
      "/Applications/anaconda3/envs/cuarto/lib/python3.7/site-packages/ipykernel_launcher.py:14: FutureWarning: set_value is deprecated and will be removed in a future release. Please use .at[] or .iat[] accessors instead\n",
      "  \n",
      "/Applications/anaconda3/envs/cuarto/lib/python3.7/site-packages/ipykernel_launcher.py:14: FutureWarning: set_value is deprecated and will be removed in a future release. Please use .at[] or .iat[] accessors instead\n",
      "  \n"
     ]
    }
   ],
   "source": [
    "# Número de neuronas de la capa oculta\n",
    "n_hidden=range(4,20,3)\n",
    "\n",
    "for i in n_hidden:\n",
    "    \n",
    "    print('\\033[4;32m' + 'MLP clasiffier with',i,'neurons in the hidden layer' + '\\033[0m')\n",
    "\n",
    "    model=MLPClassifier(activation='relu', batch_size=50, hidden_layer_sizes=(i,), learning_rate='constant',\n",
    "        learning_rate_init=0.1, shuffle=True, solver='sgd', early_stopping=True, verbose=True, n_iter_no_change=5)\n",
    "\n",
    "    model.fit(X_train_bin, y_train_bin)\n",
    "    \n",
    "    loss=model.loss_  \n",
    "    comp_train = comp_train.set_value(i,('Loss','Score'),(loss,'Verbose'))"
   ]
  },
  {
   "cell_type": "markdown",
   "metadata": {},
   "source": [
    "Las medidas de prestación elegidas para la elección de una topología han sido el validation score y la pérdida. Ambas se pueden ver al aplicar el fit del modelo, gracias al parámetro verbose=True. La pérdida la hemos añadido a la siguiente tabla pero la accuracy de cada epoch para el conjunto de validación hay que verla en la celda anterior. Según estos resultados, la mejor topología de MLP sería la de **n_hidden con 4 neuronas** en la capa oculta, ya que el par (loss,val_score) es el mejor.\n",
    "En todos los casos el valor 'validation score' está entorno a 0.5, pero el número de neuronas de menor pérdida es 4."
   ]
  },
  {
   "cell_type": "code",
   "execution_count": 7,
   "metadata": {},
   "outputs": [
    {
     "data": {
      "text/html": [
       "<div>\n",
       "<style scoped>\n",
       "    .dataframe tbody tr th:only-of-type {\n",
       "        vertical-align: middle;\n",
       "    }\n",
       "\n",
       "    .dataframe tbody tr th {\n",
       "        vertical-align: top;\n",
       "    }\n",
       "\n",
       "    .dataframe thead th {\n",
       "        text-align: right;\n",
       "    }\n",
       "</style>\n",
       "<table border=\"1\" class=\"dataframe\">\n",
       "  <thead>\n",
       "    <tr style=\"text-align: right;\">\n",
       "      <th></th>\n",
       "      <th>Loss</th>\n",
       "      <th>Score</th>\n",
       "    </tr>\n",
       "  </thead>\n",
       "  <tbody>\n",
       "    <tr>\n",
       "      <th>4</th>\n",
       "      <td>0.701216</td>\n",
       "      <td>Verbose</td>\n",
       "    </tr>\n",
       "    <tr>\n",
       "      <th>7</th>\n",
       "      <td>0.752764</td>\n",
       "      <td>Verbose</td>\n",
       "    </tr>\n",
       "    <tr>\n",
       "      <th>10</th>\n",
       "      <td>0.992343</td>\n",
       "      <td>Verbose</td>\n",
       "    </tr>\n",
       "    <tr>\n",
       "      <th>13</th>\n",
       "      <td>0.730532</td>\n",
       "      <td>Verbose</td>\n",
       "    </tr>\n",
       "    <tr>\n",
       "      <th>16</th>\n",
       "      <td>0.858328</td>\n",
       "      <td>Verbose</td>\n",
       "    </tr>\n",
       "    <tr>\n",
       "      <th>19</th>\n",
       "      <td>0.966003</td>\n",
       "      <td>Verbose</td>\n",
       "    </tr>\n",
       "  </tbody>\n",
       "</table>\n",
       "</div>"
      ],
      "text/plain": [
       "        Loss    Score\n",
       "4   0.701216  Verbose\n",
       "7   0.752764  Verbose\n",
       "10  0.992343  Verbose\n",
       "13  0.730532  Verbose\n",
       "16  0.858328  Verbose\n",
       "19  0.966003  Verbose"
      ]
     },
     "execution_count": 7,
     "metadata": {},
     "output_type": "execute_result"
    }
   ],
   "source": [
    "comp_train"
   ]
  },
  {
   "cell_type": "markdown",
   "metadata": {},
   "source": [
    "### 1.3 Evaluación del modelo"
   ]
  },
  {
   "cell_type": "markdown",
   "metadata": {},
   "source": [
    "Testeamos el modelo con el número de neuronas en la capa oculta que ofrece la menor pérdida (número neuronas = 4)"
   ]
  },
  {
   "cell_type": "code",
   "execution_count": 8,
   "metadata": {},
   "outputs": [
    {
     "name": "stdout",
     "output_type": "stream",
     "text": [
      "\u001b[4;32mMLP clasiffier with 4 neurons in the hidden layer\u001b[0m\n",
      "Iteration 1, loss = 0.87602640\n",
      "Validation score: 0.500000\n",
      "Iteration 2, loss = 0.69489922\n",
      "Validation score: 0.500000\n",
      "Iteration 3, loss = 0.69462198\n",
      "Validation score: 0.500000\n",
      "Iteration 4, loss = 0.69452605\n",
      "Validation score: 0.500000\n",
      "Iteration 5, loss = 0.69469553\n",
      "Validation score: 0.500000\n",
      "Iteration 6, loss = 0.69466399\n",
      "Validation score: 0.500000\n",
      "Iteration 7, loss = 0.69576447\n",
      "Validation score: 0.500000\n",
      "Validation score did not improve more than tol=0.000100 for 5 consecutive epochs. Stopping.\n"
     ]
    },
    {
     "name": "stderr",
     "output_type": "stream",
     "text": [
      "/Applications/anaconda3/envs/cuarto/lib/python3.7/site-packages/sklearn/metrics/classification.py:1437: UndefinedMetricWarning: Precision and F-score are ill-defined and being set to 0.0 in labels with no predicted samples.\n",
      "  'precision', 'predicted', average, warn_for)\n",
      "/Applications/anaconda3/envs/cuarto/lib/python3.7/site-packages/ipykernel_launcher.py:15: FutureWarning: set_value is deprecated and will be removed in a future release. Please use .at[] or .iat[] accessors instead\n",
      "  from ipykernel import kernelapp as app\n"
     ]
    }
   ],
   "source": [
    "columns  = ['Accuracy','Recall','F1-score']\n",
    "comp_test = pd.DataFrame(columns=columns)\n",
    "\n",
    "print('\\033[4;32m' + 'MLP clasiffier with 4 neurons in the hidden layer' + '\\033[0m')\n",
    "\n",
    "model=MLPClassifier(activation='relu', batch_size=50, hidden_layer_sizes=4, learning_rate='constant',\n",
    "        learning_rate_init=0.1, shuffle=True, solver='sgd', early_stopping=True, verbose=True, n_iter_no_change=5)\n",
    "\n",
    "model.fit(X_train_bin,y_train_bin)\n",
    "\n",
    "predictions = model.predict(X_test_bin)\n",
    "cr=classification_report(y_test_bin,predictions,output_dict=True)\n",
    "acc,rec,f1=cr['weighted avg']['precision'],cr['weighted avg']['recall'],cr['weighted avg']['f1-score']\n",
    "\n",
    "comp_test = comp_test.set_value('4', ('Accuracy','Recall','F1-score'),(acc,rec,f1))"
   ]
  },
  {
   "cell_type": "code",
   "execution_count": 9,
   "metadata": {},
   "outputs": [
    {
     "data": {
      "text/html": [
       "<div>\n",
       "<style scoped>\n",
       "    .dataframe tbody tr th:only-of-type {\n",
       "        vertical-align: middle;\n",
       "    }\n",
       "\n",
       "    .dataframe tbody tr th {\n",
       "        vertical-align: top;\n",
       "    }\n",
       "\n",
       "    .dataframe thead th {\n",
       "        text-align: right;\n",
       "    }\n",
       "</style>\n",
       "<table border=\"1\" class=\"dataframe\">\n",
       "  <thead>\n",
       "    <tr style=\"text-align: right;\">\n",
       "      <th></th>\n",
       "      <th>Accuracy</th>\n",
       "      <th>Recall</th>\n",
       "      <th>F1-score</th>\n",
       "    </tr>\n",
       "  </thead>\n",
       "  <tbody>\n",
       "    <tr>\n",
       "      <th>4</th>\n",
       "      <td>0.236017</td>\n",
       "      <td>0.485816</td>\n",
       "      <td>0.317693</td>\n",
       "    </tr>\n",
       "  </tbody>\n",
       "</table>\n",
       "</div>"
      ],
      "text/plain": [
       "   Accuracy    Recall  F1-score\n",
       "4  0.236017  0.485816  0.317693"
      ]
     },
     "execution_count": 9,
     "metadata": {},
     "output_type": "execute_result"
    }
   ],
   "source": [
    "comp_test"
   ]
  },
  {
   "cell_type": "code",
   "execution_count": 10,
   "metadata": {},
   "outputs": [
    {
     "name": "stdout",
     "output_type": "stream",
     "text": [
      "================Classification Report=================\n",
      "{'0.0': {'precision': 0.4858156028368794, 'recall': 1.0, 'f1-score': 0.6539379474940334, 'support': 137}, '1.0': {'precision': 0.0, 'recall': 0.0, 'f1-score': 0.0, 'support': 145}, 'accuracy': 0.4858156028368794, 'macro avg': {'precision': 0.2429078014184397, 'recall': 0.5, 'f1-score': 0.3269689737470167, 'support': 282}, 'weighted avg': {'precision': 0.23601679995976058, 'recall': 0.4858156028368794, 'f1-score': 0.3176932581797255, 'support': 282}}\n"
     ]
    }
   ],
   "source": [
    "print(\"================Classification Report=================\")\n",
    "print(cr)"
   ]
  },
  {
   "cell_type": "markdown",
   "metadata": {},
   "source": [
    "### 1.5 Visualización de resultados\n",
    "A continuación se muestra un ejemplo de las fases del sueño predichas frente a las reales. Para facilitar esta visualización, se muestran la mitad de la muestras del subconjunto de test. "
   ]
  },
  {
   "cell_type": "code",
   "execution_count": 11,
   "metadata": {},
   "outputs": [
    {
     "data": {
      "text/plain": [
       "<matplotlib.legend.Legend at 0x1a1a29bbd0>"
      ]
     },
     "execution_count": 11,
     "metadata": {},
     "output_type": "execute_result"
    },
    {
     "data": {
      "image/png": "[encoded data removed]",
      "text/plain": [
       "<Figure size 864x576 with 1 Axes>"
      ]
     },
     "metadata": {
      "needs_background": "light"
     },
     "output_type": "display_data"
    }
   ],
   "source": [
    "plt.figure(figsize=(12,8))\n",
    "plt.plot(y_test_bin[0:90],color='blue', marker='.',label='Real')\n",
    "plt.plot(predictions[0:90],color='green', marker='.',label='Predicha')\n",
    "\n",
    "plt.title('Fase del sueño real vs. predicha')\n",
    "plt.xlabel('Muestras')\n",
    "plt.ylabel('Fase del sueño')\n",
    "plt.legend()"
   ]
  },
  {
   "cell_type": "markdown",
   "metadata": {},
   "source": [
    "**Residuos**"
   ]
  },
  {
   "cell_type": "code",
   "execution_count": 12,
   "metadata": {},
   "outputs": [
    {
     "data": {
      "text/plain": [
       "<matplotlib.legend.Legend at 0x1a19863850>"
      ]
     },
     "execution_count": 12,
     "metadata": {},
     "output_type": "execute_result"
    },
    {
     "data": {
      "image/png": "[encoded data removed]",
      "text/plain": [
       "<Figure size 864x576 with 1 Axes>"
      ]
     },
     "metadata": {
      "needs_background": "light"
     },
     "output_type": "display_data"
    }
   ],
   "source": [
    "residuos= y_test_bin - predictions\n",
    "plt.figure(figsize=(12,8))\n",
    "plt.plot(residuos[0:90],color='purple', marker='.',label='Residuos')\n",
    "\n",
    "plt.title('RESIDUOS')\n",
    "plt.xlabel('Muestras')\n",
    "plt.ylabel('Fase del sueño')\n",
    "plt.legend()"
   ]
  },
  {
   "cell_type": "code",
   "execution_count": null,
   "metadata": {},
   "outputs": [],
   "source": []
  }
 ],
 "metadata": {
  "kernelspec": {
   "display_name": "Python 3",
   "language": "python",
   "name": "python3"
  },
  "language_info": {
   "codemirror_mode": {
    "name": "ipython",
    "version": 3
   },
   "file_extension": ".py",
   "mimetype": "text/x-python",
   "name": "python",
   "nbconvert_exporter": "python",
   "pygments_lexer": "ipython3",
   "version": "3.7.4"
  }
 },
 "nbformat": 4,
 "nbformat_minor": 2
}
