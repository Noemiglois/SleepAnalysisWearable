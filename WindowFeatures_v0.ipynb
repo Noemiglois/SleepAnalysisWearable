{
 "cells": [
  {
   "cell_type": "markdown",
   "metadata": {},
   "source": [
    "<center> <h1>PRIMERA PREDICIÓN DEL SUEÑO DE UN PACIENTE</h1> </center>\n",
    "<center> <h4>Noemi González, Roberto Holgado y Carmen Plaza seco</h4> </center>\n",
    "\n",
    "[URL PHYSIONET](https://physionet.org/content/sleep-accel/1.0.0/)"
   ]
  },
  {
   "cell_type": "code",
   "execution_count": 1,
   "metadata": {},
   "outputs": [],
   "source": [
    "import numpy as np\n",
    "import pandas as pd\n",
    "import os\n",
    "import matplotlib.pyplot as plt\n",
    "from sklearn.svm import SVC\n",
    "from sklearn.model_selection import train_test_split\n",
    "import statistics as stats"
   ]
  },
  {
   "cell_type": "code",
   "execution_count": 2,
   "metadata": {},
   "outputs": [],
   "source": [
    "pacientes_sueño=[]\n",
    "for file in (os.listdir(\"labels\")):\n",
    "    pacientes_sueño.append(os.path.join(\"labels\",file))\n",
    "    pacientes_sueño=sorted(pacientes_sueño)\n",
    "    \n",
    "pacientes_frec_card=[]\n",
    "for file in os.listdir(\"heart_rate\"):\n",
    "    pacientes_frec_card.append(os.path.join(\"heart_rate\",file))\n",
    "\n",
    "pacientes_pasos=[]\n",
    "for file in os.listdir(\"steps\"):\n",
    "    pacientes_pasos.append(os.path.join(\"steps\",file))\n",
    "\n",
    "pacientes_movimiento=[]\n",
    "for file in os.listdir(\"motion\"):\n",
    "    pacientes_movimiento.append(os.path.join(\"motion\",file))"
   ]
  },
  {
   "cell_type": "code",
   "execution_count": 3,
   "metadata": {},
   "outputs": [],
   "source": [
    "n=3"
   ]
  },
  {
   "cell_type": "code",
   "execution_count": 4,
   "metadata": {},
   "outputs": [
    {
     "name": "stdout",
     "output_type": "stream",
     "text": [
      "Hay un total de 31 pacientes\n"
     ]
    }
   ],
   "source": [
    "n_pac=len(pacientes_frec_card) # Número de pacientes\n",
    "\n",
    "print('Hay un total de',n_pac,'pacientes')"
   ]
  },
  {
   "cell_type": "code",
   "execution_count": 5,
   "metadata": {},
   "outputs": [],
   "source": [
    "#SUEÑO\n",
    "sueño=pd.read_csv(pacientes_sueño[n], delimiter=' ')\n",
    "sueño.columns=[\"Tiempo\",\"Etiqueta\"]\n",
    "\n",
    "#FRECUENCIA CARDIACA\n",
    "frec_card=pd.read_csv(pacientes_frec_card[n])\n",
    "frec_card.columns=[\"Tiempo\",\"Frec card\"]"
   ]
  },
  {
   "cell_type": "code",
   "execution_count": 6,
   "metadata": {},
   "outputs": [
    {
     "name": "stdout",
     "output_type": "stream",
     "text": [
      "El paciente 3 tiene 5857 muestras de frecuencia cardiaca recogidas durante la duración de la PSG y 989 etiquetas del sueño\n"
     ]
    }
   ],
   "source": [
    "n_frec_card=len(frec_card[frec_card[\"Tiempo\"]>0]) # muestras en frecuencia cardiaca\n",
    "n_sueño=len(sueño) # muestras en etiquetas del sueño\n",
    "\n",
    "print('El paciente',n, 'tiene', n_frec_card, 'muestras de frecuencia cardiaca recogidas durante la duración de la PSG y',n_sueño,'etiquetas del sueño')"
   ]
  },
  {
   "cell_type": "markdown",
   "metadata": {},
   "source": [
    "La siguiente celda de código se corresponde con la ventana deslizante que recorrerá la señal fisiológica deseada. La función toma como datos de entrada el tamaño de la ventana en segundos y la señal sobre la que se quiere trabajar."
   ]
  },
  {
   "cell_type": "code",
   "execution_count": 7,
   "metadata": {},
   "outputs": [],
   "source": [
    "def get_window(w_size,signal):\n",
    "    time = signal[\"Tiempo\"]\n",
    "    f_list=[]\n",
    "    \n",
    "    for i in range(n_sueño):\n",
    "        a = w_size*(1+i)\n",
    "        b = w_size*(2+i)\n",
    "\n",
    "        idx=[]\n",
    "        for t in time:\n",
    "            if t>a and t<b:\n",
    "                idx.append(True)\n",
    "            else:\n",
    "                idx.append(False)\n",
    "        \n",
    "        f=signal[idx]\n",
    "        f_list.append(f)\n",
    "        \n",
    "    return f_list"
   ]
  },
  {
   "cell_type": "markdown",
   "metadata": {},
   "source": [
    "En todos los casos, se seleccionará una w_size de 30 segundos para tener una característica cada 30s y así coincidir la cantidad de los datos adquiridos por medio del Apple Watch con los datos recogidos por la PSG.\n",
    "\n",
    "Con la señal de frecuencia cardíaca se han decidido sacar 3 vectores de características: mínimo, máximo y media."
   ]
  },
  {
   "cell_type": "code",
   "execution_count": 8,
   "metadata": {},
   "outputs": [],
   "source": [
    "w_size=30\n",
    "signal=frec_card\n",
    "\n",
    "f_list= get_window(w_size,signal)\n",
    "\n",
    "mean_list=[]\n",
    "min_list=[]\n",
    "max_list=[]\n",
    "\n",
    "for f in f_list:\n",
    "    mean_list.append(round(f['Frec card'].mean(),2))\n",
    "    min_list.append(round(f['Frec card'].min(),2))\n",
    "    max_list.append(round(f['Frec card'].max(),2))"
   ]
  },
  {
   "cell_type": "code",
   "execution_count": 9,
   "metadata": {},
   "outputs": [
    {
     "name": "stdout",
     "output_type": "stream",
     "text": [
      "Frecuencias mínimas: [59, 59, 57, 59, 57, 57, 57, 61, 59, 60, 59, 60, 55, 54, 56, 52, 51, 54, 52, 52, 53, 52, 51, 51, 51, 52, 50, 51, 50, 52, 52, 51, 52, 63, 84, 53, 51, 50, 50, 50, 50, 50, 50, 49, 49, 49, 49, 48, 48, 48, 48, 48, 49, 48, 49, 49, 50, 49, 49, 49, 50, 50, 50, 50, 50, 50, 50, 48, 48, 50, 50, 50, 51, 51, 51, 51, 51, 50, 50, 51, 52, 52, 51, 52, 52, 52, 50, 52, 52, 52, 52, 52, 53, 52, 52, 51, 51, 51, 52, 51, 52, 52, 53, 53, 53, 51, 52, 53, 51, 51, 52, 50, 50, 50, 50, 53, 53, 53, 53, 54, 54, 54, 53, 53, 53, 53, 54, 51, 51, 53, 54, 53, 54, 54, 54, 51, 50, 50, 51, 90, 97, 100, 50, 50, 51, 50, 50, 52, 52, 52, 50, 50, 51, 52, 51, 52, 53, 54, 54, 54, 55, 56, 56, 55, 56, 56, 56, 56, 57, 56, 57, 55, 55, 56, 56, 59, 57, 57, 57, 54, 61, 56, 59, 57, 59, 56, 55, 58, 59, 55, 56, 57, 57, 58, 61, 72, 73, 103, 52, 51, 53, 53, 53, 52, 50, 51, 56, 51, 50, 50, 50, 50, 50, 50, 50, 51, 51, 51, 51, 50, 51, 52, 52, 53, 51, 51, 52, 52, 53, 53, 52, 53, 54, 51, 52, 51, 52, 50, 51, 50, 50, 51, 51, 52, 58, 54, 54, 57, 77, 50]\n",
      "\n",
      "Frecuencias máximas: [78, 60, 59, 61, 62, 57, 58, 68, 62, 61, 61, 67, 61, 64, 63, 55, 53, 59, 56, 54, 54, 53, 52, 52, 56, 53, 51, 54, 55, 55, 55, 53, 53, 71, 88, 85, 52, 51, 50, 50, 50, 50, 50, 50, 50, 50, 49, 49, 49, 49, 50, 49, 50, 49, 49, 50, 50, 50, 50, 50, 50, 50, 50, 50, 50, 50, 50, 50, 50, 50, 51, 51, 51, 51, 51, 51, 52, 52, 51, 51, 52, 52, 53, 52, 52, 54, 51, 53, 54, 53, 53, 53, 53, 53, 52, 52, 52, 52, 52, 55, 53, 53, 53, 53, 53, 52, 53, 54, 54, 51, 53, 53, 51, 52, 53, 53, 54, 55, 55, 54, 55, 55, 54, 54, 53, 54, 54, 54, 54, 53, 55, 54, 55, 55, 55, 53, 50, 51, 95, 94, 100, 101, 51, 50, 52, 51, 51, 53, 53, 52, 50, 50, 52, 52, 52, 54, 54, 59, 55, 56, 56, 61, 56, 56, 57, 60, 56, 56, 58, 59, 59, 60, 57, 57, 60, 60, 58, 58, 58, 56, 65, 58, 61, 59, 62, 63, 59, 64, 65, 64, 58, 61, 59, 61, 78, 76, 111, 111, 103, 52, 54, 55, 55, 56, 52, 57, 58, 52, 53, 51, 52, 50, 53, 54, 51, 52, 52, 53, 52, 52, 53, 53, 56, 54, 53, 52, 52, 53, 54, 56, 53, 55, 57, 55, 54, 55, 54, 53, 55, 55, 53, 52, 55, 54, 67, 56, 57, 76, 84, 54]\n",
      "\n",
      "Frecuencias medias: [65.5, 59.5, 58.0, 59.6, 58.86, 57.0, 57.33, 62.6, 60.57, 60.5, 60.0, 64.17, 57.8, 56.17, 60.5, 54.17, 51.67, 55.2, 53.43, 53.17, 53.83, 52.4, 51.83, 51.5, 54.0, 52.83, 50.33, 53.0, 52.83, 54.0, 53.5, 51.6, 52.6, 66.17, 85.33, 60.83, 51.2, 50.33, 50.0, 50.0, 50.0, 50.0, 50.0, 49.2, 49.17, 49.67, 49.0, 48.6, 48.5, 48.2, 49.0, 48.5, 49.5, 48.17, 49.0, 49.5, 50.0, 49.67, 49.5, 49.8, 50.0, 50.0, 50.0, 50.0, 50.0, 50.0, 50.0, 49.5, 48.83, 50.0, 50.4, 50.5, 51.0, 51.0, 51.0, 51.0, 51.4, 51.14, 50.83, 51.0, 52.0, 52.0, 52.33, 52.0, 52.0, 52.29, 50.17, 52.8, 52.71, 52.4, 52.71, 52.2, 53.0, 52.17, 52.0, 51.6, 51.83, 51.83, 52.0, 52.17, 52.17, 52.6, 53.0, 53.0, 53.0, 51.57, 52.83, 53.4, 52.83, 51.0, 52.67, 52.0, 50.33, 50.67, 51.67, 53.0, 53.6, 54.33, 54.17, 54.0, 54.33, 54.4, 53.57, 53.67, 53.0, 53.14, 54.0, 53.4, 52.29, 53.0, 54.33, 53.67, 54.17, 54.5, 54.4, 51.83, 50.0, 50.17, 80.2, 91.83, 98.86, 100.67, 50.33, 50.0, 51.14, 50.6, 50.17, 52.33, 52.33, 52.0, 50.0, 50.0, 51.43, 52.0, 51.83, 53.0, 53.8, 56.17, 54.5, 55.5, 55.6, 58.17, 56.0, 55.83, 56.6, 57.67, 56.0, 56.0, 57.4, 57.5, 58.33, 57.33, 55.67, 56.6, 57.17, 59.6, 57.43, 57.4, 57.8, 55.0, 63.5, 57.17, 59.33, 57.8, 60.33, 58.67, 56.83, 60.0, 63.17, 58.33, 57.4, 58.83, 58.0, 59.71, 68.4, 73.57, 88.2, 106.57, 85.67, 51.83, 53.83, 54.4, 54.0, 53.83, 51.2, 53.17, 56.83, 51.6, 50.86, 50.5, 51.5, 50.0, 50.83, 51.67, 50.2, 51.33, 51.17, 51.5, 51.5, 50.33, 52.17, 52.33, 54.0, 53.71, 51.83, 51.2, 52.0, 52.6, 53.17, 53.83, 52.83, 53.83, 55.2, 53.5, 52.67, 52.5, 52.8, 51.71, 53.4, 53.33, 52.0, 51.67, 52.33, 53.0, 62.33, 54.6, 55.8, 63.71, 81.6, 52.17]\n",
      "\n",
      "La longitud de las listas de frecuencias es: 989 , 989 y 989\n"
     ]
    }
   ],
   "source": [
    "print('Frecuencias mínimas:',min_list[:250])\n",
    "print('\\nFrecuencias máximas:',max_list[:250])\n",
    "print('\\nFrecuencias medias:',mean_list[:250])\n",
    "\n",
    "print('\\nLa longitud de las listas de frecuencias es:',len(min_list),',',len(max_list),'y',len(mean_list))"
   ]
  },
  {
   "cell_type": "code",
   "execution_count": 10,
   "metadata": {},
   "outputs": [],
   "source": [
    "feat1=min_list\n",
    "feat2=max_list\n",
    "feat3=mean_list"
   ]
  },
  {
   "cell_type": "markdown",
   "metadata": {},
   "source": [
    "## FEATURES\n",
    "\n",
    "* **feat1: min_list**. La primera característica que se extrae es la lista de frecuencias mínimas.\n",
    "* **feat2: max_list**. La segunda característica que se extrae es la lista de frecuencias máximas.\n",
    "* **feat3: mean_list**. La tercera característica que se extrae es la lista de frecuencias medias."
   ]
  }
 ],
 "metadata": {
  "kernelspec": {
   "display_name": "Python 3",
   "language": "python",
   "name": "python3"
  },
  "language_info": {
   "codemirror_mode": {
    "name": "ipython",
    "version": 3
   },
   "file_extension": ".py",
   "mimetype": "text/x-python",
   "name": "python",
   "nbconvert_exporter": "python",
   "pygments_lexer": "ipython3",
   "version": "3.7.4"
  }
 },
 "nbformat": 4,
 "nbformat_minor": 2
}
