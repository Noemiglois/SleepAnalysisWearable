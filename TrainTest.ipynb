{
 "cells": [
  {
   "cell_type": "markdown",
   "metadata": {},
   "source": [
    "<center> <h1>PREDICCIÓN DEL SUEÑO</h1> </center>\n",
    "<center> <h3>CREACIÓN SUBCONJUNTOS DE TRAIN Y TEST</h3> </center>\n",
    "<center> <h4>Noemi González, Roberto Holgado y Carmen Plaza</h4> </center>\n",
    "\n",
    "### Índice de contenidos de este Notebook\n",
    "\n",
    "En este Notebook se realiza la separación del dataframe en los subgrupos de Train y Test. Como primera aproximación se ha decidido trabajar con un total de 100 ventanas por sujeto y no con todas, por cuestiones de tiempo de ejecución.\n",
    "\n",
    "    1. Creación de los conjuntos Train y Test\n",
    "    2. Preparación datos de entrada y salida\n",
    "    3. Balanceo de los datos"
   ]
  },
  {
   "cell_type": "code",
   "execution_count": 1,
   "metadata": {},
   "outputs": [],
   "source": [
    "import os\n",
    "import numpy as np\n",
    "import pandas as pd\n",
    "from random import sample\n",
    "import statistics as stats\n",
    "from sklearn.svm import SVC\n",
    "import matplotlib.pyplot as plt\n",
    "from sklearn.metrics import confusion_matrix\n",
    "from sklearn.model_selection import GridSearchCV\n",
    "from sklearn.metrics import classification_report\n",
    "from sklearn.model_selection import train_test_split\n",
    "from sklearn.model_selection import RandomizedSearchCV\n",
    "from sklearn import preprocessing"
   ]
  },
  {
   "cell_type": "markdown",
   "metadata": {},
   "source": [
    "Se carga el dataframe creado con las características extraídas de todos los sujetos:"
   ]
  },
  {
   "cell_type": "code",
   "execution_count": 2,
   "metadata": {},
   "outputs": [],
   "source": [
    "df= pd.read_csv('features.csv')"
   ]
  },
  {
   "cell_type": "code",
   "execution_count": 3,
   "metadata": {},
   "outputs": [
    {
     "data": {
      "text/html": [
       "<div>\n",
       "<style scoped>\n",
       "    .dataframe tbody tr th:only-of-type {\n",
       "        vertical-align: middle;\n",
       "    }\n",
       "\n",
       "    .dataframe tbody tr th {\n",
       "        vertical-align: top;\n",
       "    }\n",
       "\n",
       "    .dataframe thead th {\n",
       "        text-align: right;\n",
       "    }\n",
       "</style>\n",
       "<table border=\"1\" class=\"dataframe\">\n",
       "  <thead>\n",
       "    <tr style=\"text-align: right;\">\n",
       "      <th></th>\n",
       "      <th>Min_hr</th>\n",
       "      <th>Max_hr</th>\n",
       "      <th>Mean_hr</th>\n",
       "      <th>Men_acc_sqrt</th>\n",
       "      <th>Min_acc_x</th>\n",
       "      <th>Max_acc_x</th>\n",
       "      <th>Mean_acc_x</th>\n",
       "      <th>Min_acc_y</th>\n",
       "      <th>Max_acc_y</th>\n",
       "      <th>Mean_acc_y</th>\n",
       "      <th>Min_acc_z</th>\n",
       "      <th>Max_acc_z</th>\n",
       "      <th>Mean_acc_z</th>\n",
       "      <th>Etiquetas binarias</th>\n",
       "      <th>Etiquetas multiclase</th>\n",
       "      <th>ID</th>\n",
       "    </tr>\n",
       "  </thead>\n",
       "  <tbody>\n",
       "    <tr>\n",
       "      <td>17345</td>\n",
       "      <td>55.0</td>\n",
       "      <td>61.0</td>\n",
       "      <td>59.20</td>\n",
       "      <td>1.00</td>\n",
       "      <td>-0.58</td>\n",
       "      <td>-0.57</td>\n",
       "      <td>-0.57</td>\n",
       "      <td>-0.76</td>\n",
       "      <td>-0.74</td>\n",
       "      <td>-0.75</td>\n",
       "      <td>-0.33</td>\n",
       "      <td>-0.31</td>\n",
       "      <td>-0.32</td>\n",
       "      <td>1.0</td>\n",
       "      <td>1.0</td>\n",
       "      <td>21.0</td>\n",
       "    </tr>\n",
       "    <tr>\n",
       "      <td>25571</td>\n",
       "      <td>56.0</td>\n",
       "      <td>59.0</td>\n",
       "      <td>58.40</td>\n",
       "      <td>0.99</td>\n",
       "      <td>-0.28</td>\n",
       "      <td>-0.26</td>\n",
       "      <td>-0.27</td>\n",
       "      <td>-0.45</td>\n",
       "      <td>-0.43</td>\n",
       "      <td>-0.44</td>\n",
       "      <td>-0.85</td>\n",
       "      <td>-0.84</td>\n",
       "      <td>-0.85</td>\n",
       "      <td>1.0</td>\n",
       "      <td>2.0</td>\n",
       "      <td>30.0</td>\n",
       "    </tr>\n",
       "    <tr>\n",
       "      <td>2769</td>\n",
       "      <td>51.0</td>\n",
       "      <td>54.0</td>\n",
       "      <td>52.29</td>\n",
       "      <td>1.00</td>\n",
       "      <td>0.41</td>\n",
       "      <td>0.42</td>\n",
       "      <td>0.42</td>\n",
       "      <td>-0.36</td>\n",
       "      <td>-0.35</td>\n",
       "      <td>-0.36</td>\n",
       "      <td>-0.84</td>\n",
       "      <td>-0.84</td>\n",
       "      <td>-0.84</td>\n",
       "      <td>1.0</td>\n",
       "      <td>2.0</td>\n",
       "      <td>3.0</td>\n",
       "    </tr>\n",
       "    <tr>\n",
       "      <td>1410</td>\n",
       "      <td>77.0</td>\n",
       "      <td>83.0</td>\n",
       "      <td>80.20</td>\n",
       "      <td>1.00</td>\n",
       "      <td>-0.53</td>\n",
       "      <td>-0.52</td>\n",
       "      <td>-0.53</td>\n",
       "      <td>0.17</td>\n",
       "      <td>0.19</td>\n",
       "      <td>0.18</td>\n",
       "      <td>-0.84</td>\n",
       "      <td>-0.83</td>\n",
       "      <td>-0.83</td>\n",
       "      <td>0.0</td>\n",
       "      <td>5.0</td>\n",
       "      <td>1.0</td>\n",
       "    </tr>\n",
       "    <tr>\n",
       "      <td>5174</td>\n",
       "      <td>47.0</td>\n",
       "      <td>49.0</td>\n",
       "      <td>48.00</td>\n",
       "      <td>1.00</td>\n",
       "      <td>-0.14</td>\n",
       "      <td>-0.11</td>\n",
       "      <td>-0.13</td>\n",
       "      <td>-0.25</td>\n",
       "      <td>-0.22</td>\n",
       "      <td>-0.23</td>\n",
       "      <td>-0.97</td>\n",
       "      <td>-0.95</td>\n",
       "      <td>-0.96</td>\n",
       "      <td>1.0</td>\n",
       "      <td>2.0</td>\n",
       "      <td>5.0</td>\n",
       "    </tr>\n",
       "    <tr>\n",
       "      <td>15780</td>\n",
       "      <td>49.0</td>\n",
       "      <td>50.0</td>\n",
       "      <td>49.67</td>\n",
       "      <td>1.00</td>\n",
       "      <td>-0.45</td>\n",
       "      <td>-0.44</td>\n",
       "      <td>-0.44</td>\n",
       "      <td>0.20</td>\n",
       "      <td>0.21</td>\n",
       "      <td>0.20</td>\n",
       "      <td>-0.88</td>\n",
       "      <td>-0.87</td>\n",
       "      <td>-0.87</td>\n",
       "      <td>1.0</td>\n",
       "      <td>2.0</td>\n",
       "      <td>20.0</td>\n",
       "    </tr>\n",
       "    <tr>\n",
       "      <td>6368</td>\n",
       "      <td>54.0</td>\n",
       "      <td>56.0</td>\n",
       "      <td>55.33</td>\n",
       "      <td>0.99</td>\n",
       "      <td>-0.32</td>\n",
       "      <td>-0.32</td>\n",
       "      <td>-0.32</td>\n",
       "      <td>-0.93</td>\n",
       "      <td>-0.91</td>\n",
       "      <td>-0.93</td>\n",
       "      <td>0.14</td>\n",
       "      <td>0.14</td>\n",
       "      <td>0.14</td>\n",
       "      <td>1.0</td>\n",
       "      <td>2.0</td>\n",
       "      <td>6.0</td>\n",
       "    </tr>\n",
       "    <tr>\n",
       "      <td>22858</td>\n",
       "      <td>64.0</td>\n",
       "      <td>70.0</td>\n",
       "      <td>67.17</td>\n",
       "      <td>1.00</td>\n",
       "      <td>-0.07</td>\n",
       "      <td>-0.06</td>\n",
       "      <td>-0.06</td>\n",
       "      <td>-0.63</td>\n",
       "      <td>-0.63</td>\n",
       "      <td>-0.63</td>\n",
       "      <td>0.77</td>\n",
       "      <td>0.78</td>\n",
       "      <td>0.77</td>\n",
       "      <td>0.0</td>\n",
       "      <td>0.0</td>\n",
       "      <td>27.0</td>\n",
       "    </tr>\n",
       "    <tr>\n",
       "      <td>3477</td>\n",
       "      <td>48.0</td>\n",
       "      <td>50.0</td>\n",
       "      <td>49.00</td>\n",
       "      <td>1.00</td>\n",
       "      <td>-0.55</td>\n",
       "      <td>-0.55</td>\n",
       "      <td>-0.55</td>\n",
       "      <td>0.59</td>\n",
       "      <td>0.59</td>\n",
       "      <td>0.59</td>\n",
       "      <td>-0.59</td>\n",
       "      <td>-0.59</td>\n",
       "      <td>-0.59</td>\n",
       "      <td>0.0</td>\n",
       "      <td>5.0</td>\n",
       "      <td>3.0</td>\n",
       "    </tr>\n",
       "    <tr>\n",
       "      <td>7730</td>\n",
       "      <td>52.0</td>\n",
       "      <td>54.0</td>\n",
       "      <td>53.50</td>\n",
       "      <td>1.00</td>\n",
       "      <td>-0.05</td>\n",
       "      <td>-0.04</td>\n",
       "      <td>-0.04</td>\n",
       "      <td>-0.47</td>\n",
       "      <td>-0.46</td>\n",
       "      <td>-0.46</td>\n",
       "      <td>-0.89</td>\n",
       "      <td>-0.88</td>\n",
       "      <td>-0.89</td>\n",
       "      <td>1.0</td>\n",
       "      <td>2.0</td>\n",
       "      <td>8.0</td>\n",
       "    </tr>\n",
       "  </tbody>\n",
       "</table>\n",
       "</div>"
      ],
      "text/plain": [
       "       Min_hr  Max_hr  Mean_hr  Men_acc_sqrt  Min_acc_x  Max_acc_x  \\\n",
       "17345    55.0    61.0    59.20          1.00      -0.58      -0.57   \n",
       "25571    56.0    59.0    58.40          0.99      -0.28      -0.26   \n",
       "2769     51.0    54.0    52.29          1.00       0.41       0.42   \n",
       "1410     77.0    83.0    80.20          1.00      -0.53      -0.52   \n",
       "5174     47.0    49.0    48.00          1.00      -0.14      -0.11   \n",
       "15780    49.0    50.0    49.67          1.00      -0.45      -0.44   \n",
       "6368     54.0    56.0    55.33          0.99      -0.32      -0.32   \n",
       "22858    64.0    70.0    67.17          1.00      -0.07      -0.06   \n",
       "3477     48.0    50.0    49.00          1.00      -0.55      -0.55   \n",
       "7730     52.0    54.0    53.50          1.00      -0.05      -0.04   \n",
       "\n",
       "       Mean_acc_x  Min_acc_y  Max_acc_y  Mean_acc_y  Min_acc_z  Max_acc_z  \\\n",
       "17345       -0.57      -0.76      -0.74       -0.75      -0.33      -0.31   \n",
       "25571       -0.27      -0.45      -0.43       -0.44      -0.85      -0.84   \n",
       "2769         0.42      -0.36      -0.35       -0.36      -0.84      -0.84   \n",
       "1410        -0.53       0.17       0.19        0.18      -0.84      -0.83   \n",
       "5174        -0.13      -0.25      -0.22       -0.23      -0.97      -0.95   \n",
       "15780       -0.44       0.20       0.21        0.20      -0.88      -0.87   \n",
       "6368        -0.32      -0.93      -0.91       -0.93       0.14       0.14   \n",
       "22858       -0.06      -0.63      -0.63       -0.63       0.77       0.78   \n",
       "3477        -0.55       0.59       0.59        0.59      -0.59      -0.59   \n",
       "7730        -0.04      -0.47      -0.46       -0.46      -0.89      -0.88   \n",
       "\n",
       "       Mean_acc_z  Etiquetas binarias  Etiquetas multiclase    ID  \n",
       "17345       -0.32                 1.0                   1.0  21.0  \n",
       "25571       -0.85                 1.0                   2.0  30.0  \n",
       "2769        -0.84                 1.0                   2.0   3.0  \n",
       "1410        -0.83                 0.0                   5.0   1.0  \n",
       "5174        -0.96                 1.0                   2.0   5.0  \n",
       "15780       -0.87                 1.0                   2.0  20.0  \n",
       "6368         0.14                 1.0                   2.0   6.0  \n",
       "22858        0.77                 0.0                   0.0  27.0  \n",
       "3477        -0.59                 0.0                   5.0   3.0  \n",
       "7730        -0.89                 1.0                   2.0   8.0  "
      ]
     },
     "execution_count": 3,
     "metadata": {},
     "output_type": "execute_result"
    }
   ],
   "source": [
    "df.sample(10)"
   ]
  },
  {
   "cell_type": "markdown",
   "metadata": {},
   "source": [
    "## 1. Creación de los conjuntos Train y Test"
   ]
  },
  {
   "cell_type": "markdown",
   "metadata": {},
   "source": [
    "Se crean 2 listas aleatorias con una **proporción de 3:1** para Train y Test."
   ]
  },
  {
   "cell_type": "code",
   "execution_count": 4,
   "metadata": {},
   "outputs": [
    {
     "name": "stdout",
     "output_type": "stream",
     "text": [
      "24 sujetos de train: [23, 6, 10, 22, 18, 25, 26, 1, 17, 5, 11, 8, 29, 14, 20, 3, 27, 12, 19, 24, 4, 30, 21, 0]\n",
      "7 sujetos de test: [2, 7, 9, 13, 15, 16, 28]\n"
     ]
    }
   ],
   "source": [
    "lista = list(range(31)) # Lista de 31 números\n",
    "suj_train = sample(lista,k=24) # 21 sujetos de train\n",
    "suj_test = [el for el in lista if el not in suj_train] #Los que no están en train van a test (7)\n",
    "\n",
    "print(len(suj_train),'sujetos de train:',suj_train)\n",
    "print(len(suj_test),'sujetos de test:',suj_test)"
   ]
  },
  {
   "cell_type": "markdown",
   "metadata": {},
   "source": [
    "Con cada una de las listas de sujetos anteriores, se crean los conjuntos de Train y Test de manera que no se mezclen los sujetos entre cada uno de los dos subconjuntos:"
   ]
  },
  {
   "cell_type": "code",
   "execution_count": 5,
   "metadata": {},
   "outputs": [],
   "source": [
    "train_matr = []\n",
    "test_matr = []\n",
    "id = df['ID']\n",
    "\n",
    "for i in suj_train:    \n",
    "    idx = []\n",
    "    for s in id:\n",
    "        if s==i:\n",
    "            idx.append(True)\n",
    "        else:\n",
    "            idx.append(False)\n",
    "    m = df[idx]\n",
    "    train_matr.append(m)\n",
    "\n",
    "for i in suj_test:    \n",
    "    idx = []\n",
    "    for s in id:\n",
    "        if s==i:\n",
    "            idx.append(True)\n",
    "        else:\n",
    "            idx.append(False)\n",
    "    m = df[idx]\n",
    "    test_matr.append(m)"
   ]
  },
  {
   "cell_type": "markdown",
   "metadata": {},
   "source": [
    "En este caso, los conjuntos de Train y Test se han creado con **100 ventanas** deslizantes y no con todas."
   ]
  },
  {
   "cell_type": "code",
   "execution_count": 7,
   "metadata": {},
   "outputs": [],
   "source": [
    "lista_ventanas=list(np.linspace(0,0.99,100))\n",
    "\n",
    "Train = pd.DataFrame()  \n",
    "for i in range(len(train_matr)):\n",
    "    lista_multi=[int(element * len(train_matr[i])) for element in lista_ventanas]\n",
    "    ven1=train_matr[i].iloc[lista_multi]\n",
    "    Train=Train.append(ven1)\n",
    "\n",
    "Test = pd.DataFrame()  \n",
    "for i in range(len(test_matr)):\n",
    "    lista_multi=[int(element * len(test_matr[i])) for element in lista_ventanas]\n",
    "    ven2=test_matr[i].iloc[lista_multi]\n",
    "    Test=Test.append(ven2)"
   ]
  },
  {
   "cell_type": "code",
   "execution_count": 8,
   "metadata": {},
   "outputs": [],
   "source": [
    "labels=Train['Etiquetas multiclase']\n",
    "\n",
    "lab_0 = []\n",
    "idx_0 = []\n",
    "list_idx_0 = []\n",
    "\n",
    "for l in labels:\n",
    "    if l==0:\n",
    "        idx_0.append(True)\n",
    "    else:\n",
    "        idx_0.append(False)\n",
    "list_idx_0.append(Train[idx_0])\n",
    "\n",
    "lab_1 = []\n",
    "idx_1 = []\n",
    "list_idx_1 = []\n",
    "\n",
    "for l in labels:\n",
    "    if l==1:\n",
    "        idx_1.append(True)\n",
    "    else:\n",
    "        idx_1.append(False)\n",
    "list_idx_1.append(Train[idx_1])\n",
    "\n",
    "lab_2 = []\n",
    "idx_2 = []\n",
    "list_idx_2 = []\n",
    "\n",
    "for l in labels:\n",
    "    if l==2:\n",
    "        idx_2.append(True)\n",
    "    else:\n",
    "        idx_2.append(False)\n",
    "list_idx_2.append(Train[idx_2])\n",
    "\n",
    "lab_3 = []\n",
    "idx_3 = []\n",
    "list_idx_3 = []\n",
    "\n",
    "for l in labels:\n",
    "    if l==3:\n",
    "        idx_3.append(True)\n",
    "    else:\n",
    "        idx_3.append(False)\n",
    "list_idx_3.append(Train[idx_3])\n",
    "\n",
    "lab_5 = []\n",
    "idx_5 = []\n",
    "list_idx_5 = []\n",
    "\n",
    "for l in labels:\n",
    "    if l==5:\n",
    "        idx_5.append(True)\n",
    "    else:\n",
    "        idx_5.append(False)\n",
    "list_idx_5.append(Train[idx_5])\n",
    "\n",
    "Train0 = pd.DataFrame()  \n",
    "for i in range(len(list_idx_0)):\n",
    "    Train0=Train0.append(list_idx_0[i])\n",
    "Train1 = pd.DataFrame()  \n",
    "for i in range(len(list_idx_1)):\n",
    "    Train1=Train1.append(list_idx_1[i])\n",
    "Train2 = pd.DataFrame()  \n",
    "for i in range(len(list_idx_2)):\n",
    "    Train2=Train2.append(list_idx_2[i])\n",
    "Train3 = pd.DataFrame()  \n",
    "for i in range(len(list_idx_3)):\n",
    "    Train3=Train3.append(list_idx_3[i])\n",
    "Train5 = pd.DataFrame()  \n",
    "for i in range(len(list_idx_5)):\n",
    "    Train5=Train5.append(list_idx_5[i])"
   ]
  },
  {
   "cell_type": "code",
   "execution_count": 9,
   "metadata": {},
   "outputs": [],
   "source": [
    "labels=Test['Etiquetas multiclase']\n",
    "\n",
    "lab_0 = []\n",
    "idx_0 = []\n",
    "list_idx_0 = []\n",
    "\n",
    "for l in labels:\n",
    "    if l==0:\n",
    "        idx_0.append(True)\n",
    "    else:\n",
    "        idx_0.append(False)\n",
    "list_idx_0.append(Test[idx_0])\n",
    "\n",
    "lab_1 = []\n",
    "idx_1 = []\n",
    "list_idx_1 = []\n",
    "\n",
    "for l in labels:\n",
    "    if l==1:\n",
    "        idx_1.append(True)\n",
    "    else:\n",
    "        idx_1.append(False)\n",
    "list_idx_1.append(Test[idx_1])\n",
    "\n",
    "lab_2 = []\n",
    "idx_2 = []\n",
    "list_idx_2 = []\n",
    "\n",
    "for l in labels:\n",
    "    if l==2:\n",
    "        idx_2.append(True)\n",
    "    else:\n",
    "        idx_2.append(False)\n",
    "list_idx_2.append(Test[idx_2])\n",
    "\n",
    "lab_3 = []\n",
    "idx_3 = []\n",
    "list_idx_3 = []\n",
    "\n",
    "for l in labels:\n",
    "    if l==3:\n",
    "        idx_3.append(True)\n",
    "    else:\n",
    "        idx_3.append(False)\n",
    "list_idx_3.append(Test[idx_3])\n",
    "\n",
    "lab_5 = []\n",
    "idx_5 = []\n",
    "list_idx_5 = []\n",
    "\n",
    "for l in labels:\n",
    "    if l==5:\n",
    "        idx_5.append(True)\n",
    "    else:\n",
    "        idx_5.append(False)\n",
    "list_idx_5.append(Test[idx_5])\n",
    "\n",
    "Test0 = pd.DataFrame()  \n",
    "for i in range(len(list_idx_0)):\n",
    "    Test0=Test0.append(list_idx_0[i])\n",
    "Test1 = pd.DataFrame()  \n",
    "for i in range(len(list_idx_1)):\n",
    "    Test1=Test1.append(list_idx_1[i])\n",
    "Test2 = pd.DataFrame()  \n",
    "for i in range(len(list_idx_2)):\n",
    "    Test2=Test2.append(list_idx_2[i])\n",
    "Test3 = pd.DataFrame()  \n",
    "for i in range(len(list_idx_3)):\n",
    "    Test3=Test3.append(list_idx_3[i])\n",
    "Test5 = pd.DataFrame()  \n",
    "for i in range(len(list_idx_5)):\n",
    "    Test5=Test5.append(list_idx_5[i])"
   ]
  },
  {
   "cell_type": "code",
   "execution_count": 10,
   "metadata": {},
   "outputs": [
    {
     "data": {
      "text/plain": [
       "149"
      ]
     },
     "execution_count": 10,
     "metadata": {},
     "output_type": "execute_result"
    }
   ],
   "source": [
    "n_lab=min([Train0['Etiquetas multiclase'].value_counts()[0],Train1['Etiquetas multiclase'].value_counts()[1],\n",
    "      Train2['Etiquetas multiclase'].value_counts()[2],Train3['Etiquetas multiclase'].value_counts()[3],\n",
    "      Train5['Etiquetas multiclase'].value_counts()[5]])\n",
    "n_lab"
   ]
  },
  {
   "cell_type": "code",
   "execution_count": 11,
   "metadata": {},
   "outputs": [],
   "source": [
    "Train_balanced = pd.DataFrame()  \n",
    "Train_balanced=Train_balanced.append(Train0.sample(n_lab)).append(Train1.sample(n_lab)).append(Train2.sample(n_lab)).append(Train3.sample(n_lab)).append(Train5.sample(n_lab))"
   ]
  },
  {
   "cell_type": "markdown",
   "metadata": {},
   "source": [
    "### 2.Normalización de los datos"
   ]
  },
  {
   "cell_type": "code",
   "execution_count": 12,
   "metadata": {},
   "outputs": [],
   "source": [
    "Train_tt=Train.copy()\n",
    "Test_tt=Test.copy()"
   ]
  },
  {
   "cell_type": "code",
   "execution_count": 13,
   "metadata": {},
   "outputs": [],
   "source": [
    "Etiquetas = Train[['Etiquetas binarias','Etiquetas multiclase','ID']]"
   ]
  },
  {
   "cell_type": "code",
   "execution_count": 14,
   "metadata": {},
   "outputs": [],
   "source": [
    "X_train=Train_tt.drop(['Etiquetas binarias','Etiquetas multiclase','ID'], axis = 1) \n",
    "columns_name=list(X_train.columns)\n",
    "scaler = preprocessing.StandardScaler().fit(X_train)\n",
    "X_train_transformed = scaler.transform(X_train)\n",
    "Train_transformed=pd.DataFrame(X_train_transformed, columns=columns_name)\n",
    "Train_transformed['Etiquetas multiclase'], Train_transformed['Etiquetas binarias'], Train_transformed['ID'] = [Train['Etiquetas multiclase'].values, Train['Etiquetas binarias'].values, Train['ID'].values]\n",
    "\n",
    "X_test=Test_tt.drop(['Etiquetas binarias','Etiquetas multiclase','ID'], axis = 1) \n",
    "scaler = preprocessing.StandardScaler().fit(X_train)\n",
    "X_test_transformed = scaler.transform(X_test)\n",
    "Test_transformed=pd.DataFrame(X_test_transformed, columns=columns_name)\n",
    "Test_transformed['Etiquetas multiclase'], Test_transformed['Etiquetas binarias'], Test_transformed['ID'] = [Test['Etiquetas multiclase'].values, Test['Etiquetas binarias'].values, Test['ID'].values]"
   ]
  },
  {
   "cell_type": "code",
   "execution_count": 15,
   "metadata": {},
   "outputs": [],
   "source": [
    "Train.to_csv('Train.csv', header=True, index=False)\n",
    "Train_balanced.to_csv('Train_balanced.csv', header=True, index=False)\n",
    "Test.to_csv('Test.csv', header=True, index=False)\n",
    "Train_transformed.to_csv('Train_transformed.csv', header=True, index=False)\n",
    "Test_transformed.to_csv('Test_transformed.csv', header=True, index=False)"
   ]
  },
  {
   "cell_type": "markdown",
   "metadata": {},
   "source": [
    "### 3. Balanceo de los datos"
   ]
  },
  {
   "cell_type": "markdown",
   "metadata": {},
   "source": [
    "SUBCONJUNTO DE TRAIN BALANCEADO"
   ]
  },
  {
   "cell_type": "code",
   "execution_count": 16,
   "metadata": {},
   "outputs": [
    {
     "name": "stdout",
     "output_type": "stream",
     "text": [
      "Número de valores diferentes que hay para etiquetas multiclase: 5 \n",
      "\n",
      "Número de veces que se toma cada valor de etiquetas multiclase:\n",
      "5.0    149\n",
      "3.0    149\n",
      "2.0    149\n",
      "1.0    149\n",
      "0.0    149\n",
      "Name: Etiquetas multiclase, dtype: int64 \n",
      "\n"
     ]
    }
   ],
   "source": [
    "print('Número de valores diferentes que hay para etiquetas multiclase:',Train_balanced['Etiquetas multiclase'].nunique(),'\\n')\n",
    "\n",
    "print('Número de veces que se toma cada valor de etiquetas multiclase:')\n",
    "print(Train_balanced['Etiquetas multiclase'].value_counts(),'\\n')"
   ]
  },
  {
   "cell_type": "code",
   "execution_count": 17,
   "metadata": {},
   "outputs": [
    {
     "data": {
      "image/png": "[encoded data removed]",
      "text/plain": [
       "<Figure size 216x216 with 1 Axes>"
      ]
     },
     "metadata": {
      "needs_background": "light"
     },
     "output_type": "display_data"
    },
    {
     "data": {
      "image/png": "[encoded data removed]",
      "text/plain": [
       "<Figure size 216x216 with 1 Axes>"
      ]
     },
     "metadata": {
      "needs_background": "light"
     },
     "output_type": "display_data"
    }
   ],
   "source": [
    "plt.figure(figsize=(3, 3))\n",
    "plt.title('Distribución balanceada de las etiquetas multiclase')\n",
    "plt.xlabel(\"Etiqueta del sueño\")\n",
    "plt.xlabel(\"Número\")\n",
    "plt.hist(Train_balanced['Etiquetas multiclase'])\n",
    "plt.show()\n",
    "\n",
    "plt.figure(figsize=(3, 3))\n",
    "plt.title('Distribución NO balanceada de las etiquetas multiclase')\n",
    "plt.xlabel(\"Etiqueta del sueño\")\n",
    "plt.xlabel(\"Número\")\n",
    "plt.hist(Train['Etiquetas multiclase'])\n",
    "plt.show()"
   ]
  },
  {
   "cell_type": "code",
   "execution_count": 18,
   "metadata": {},
   "outputs": [
    {
     "name": "stdout",
     "output_type": "stream",
     "text": [
      "1.0    1590\n",
      "0.0     810\n",
      "Name: Etiquetas binarias, dtype: int64\n",
      "1.0    536\n",
      "0.0    164\n",
      "Name: Etiquetas binarias, dtype: int64\n"
     ]
    },
    {
     "data": {
      "image/png": "[encoded data removed]",
      "text/plain": [
       "<Figure size 432x288 with 1 Axes>"
      ]
     },
     "metadata": {
      "needs_background": "light"
     },
     "output_type": "display_data"
    },
    {
     "data": {
      "text/plain": [
       "<Figure size 432x288 with 0 Axes>"
      ]
     },
     "metadata": {},
     "output_type": "display_data"
    },
    {
     "data": {
      "image/png": "[encoded data removed]",
      "text/plain": [
       "<Figure size 432x288 with 1 Axes>"
      ]
     },
     "metadata": {
      "needs_background": "light"
     },
     "output_type": "display_data"
    }
   ],
   "source": [
    "Train['Etiquetas binarias'].value_counts().plot.bar(title=\"BALANCEO DE CLASES BINARIAS TRAIN\")\n",
    "plt.figure()\n",
    "print(Train[\"Etiquetas binarias\"].value_counts() )\n",
    "\n",
    "#Test['Etiquetas binarias'].value_counts().plot.bar(title=\"BALANCEO DE CLASES BINARIAS TEST\")\n",
    "plt.figure()\n",
    "Test['Etiquetas binarias'].value_counts().plot.bar(title=\"BALANCEO DE CLASES BINARIAS TEST\")\n",
    "print(Test[\"Etiquetas binarias\"].value_counts() )"
   ]
  },
  {
   "cell_type": "code",
   "execution_count": 19,
   "metadata": {},
   "outputs": [
    {
     "name": "stdout",
     "output_type": "stream",
     "text": [
      "2.0    1130\n",
      "5.0     551\n",
      "3.0     311\n",
      "0.0     259\n",
      "1.0     149\n",
      "Name: Etiquetas multiclase, dtype: int64\n",
      "2.0    356\n",
      "3.0    140\n",
      "0.0     86\n",
      "5.0     78\n",
      "1.0     40\n",
      "Name: Etiquetas multiclase, dtype: int64\n"
     ]
    },
    {
     "data": {
      "image/png": "[encoded data removed]",
      "text/plain": [
       "<Figure size 432x288 with 1 Axes>"
      ]
     },
     "metadata": {
      "needs_background": "light"
     },
     "output_type": "display_data"
    },
    {
     "data": {
      "image/png": "[encoded data removed]",
      "text/plain": [
       "<Figure size 432x288 with 1 Axes>"
      ]
     },
     "metadata": {
      "needs_background": "light"
     },
     "output_type": "display_data"
    },
    {
     "data": {
      "text/plain": [
       "<Figure size 432x288 with 0 Axes>"
      ]
     },
     "metadata": {},
     "output_type": "display_data"
    }
   ],
   "source": [
    "Train['Etiquetas multiclase'].value_counts().plot.bar(title=\"BALANCEO DE CLASES MULTICLASE TRAIN\")\n",
    "plt.figure()\n",
    "print(Train[\"Etiquetas multiclase\"].value_counts() )\n",
    "\n",
    "Test['Etiquetas multiclase'].value_counts().plot.bar(title=\"BALANCEO DE CLASES MULTICLASE TEST\")\n",
    "plt.figure()\n",
    "print(Test[\"Etiquetas multiclase\"].value_counts() )"
   ]
  },
  {
   "cell_type": "code",
   "execution_count": null,
   "metadata": {},
   "outputs": [],
   "source": []
  }
 ],
 "metadata": {
  "kernelspec": {
   "display_name": "Python 3",
   "language": "python",
   "name": "python3"
  },
  "language_info": {
   "codemirror_mode": {
    "name": "ipython",
    "version": 3
   },
   "file_extension": ".py",
   "mimetype": "text/x-python",
   "name": "python",
   "nbconvert_exporter": "python",
   "pygments_lexer": "ipython3",
   "version": "3.7.4"
  }
 },
 "nbformat": 4,
 "nbformat_minor": 2
}
