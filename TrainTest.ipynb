{
 "cells": [
  {
   "cell_type": "markdown",
   "metadata": {},
   "source": [
    "<center> <h1>PREDICCIÓN DEL SUEÑO</h1> </center>\n",
    "<center> <h3>CREACIÓN SUBCONJUNTOS DE TRAIN Y TEST</h3> </center>\n",
    "<center> <h4>Noemi González, Roberto Holgado y Carmen Plaza</h4> </center>\n",
    "\n",
    "### Índice de contenidos de este Notebook\n",
    "\n",
    "En este Notebook se realiza la separación del dataframe en los subgrupos de Train y Test.\n",
    "\n",
    "    1. Balanceo de las etiquetas\n",
    "    2. Subconjuntos Train y Test\n",
    "    3. Normalización de los datos\n",
    "    Visualización"
   ]
  },
  {
   "cell_type": "code",
   "execution_count": 1,
   "metadata": {},
   "outputs": [],
   "source": [
    "import os\n",
    "import numpy as np\n",
    "import pandas as pd\n",
    "from random import sample\n",
    "import statistics as stats\n",
    "from sklearn.svm import SVC\n",
    "import matplotlib.pyplot as plt\n",
    "from sklearn import preprocessing\n",
    "from sklearn.metrics import confusion_matrix\n",
    "from sklearn.model_selection import GridSearchCV\n",
    "from sklearn.metrics import classification_report\n",
    "from sklearn.model_selection import train_test_split\n",
    "from sklearn.model_selection import RandomizedSearchCV"
   ]
  },
  {
   "cell_type": "markdown",
   "metadata": {},
   "source": [
    "Se carga el dataframe creado con las características extraídas de todos los sujetos:"
   ]
  },
  {
   "cell_type": "code",
   "execution_count": 2,
   "metadata": {},
   "outputs": [
    {
     "name": "stdout",
     "output_type": "stream",
     "text": [
      "Las dimensiones del df de características de todos los pacientes es: (22165, 16)\n"
     ]
    }
   ],
   "source": [
    "df= pd.read_csv('features.csv')\n",
    "print('Las dimensiones del df de características de todos los pacientes es:',df.shape)"
   ]
  },
  {
   "cell_type": "code",
   "execution_count": 3,
   "metadata": {},
   "outputs": [
    {
     "data": {
      "text/html": [
       "<div>\n",
       "<style scoped>\n",
       "    .dataframe tbody tr th:only-of-type {\n",
       "        vertical-align: middle;\n",
       "    }\n",
       "\n",
       "    .dataframe tbody tr th {\n",
       "        vertical-align: top;\n",
       "    }\n",
       "\n",
       "    .dataframe thead th {\n",
       "        text-align: right;\n",
       "    }\n",
       "</style>\n",
       "<table border=\"1\" class=\"dataframe\">\n",
       "  <thead>\n",
       "    <tr style=\"text-align: right;\">\n",
       "      <th></th>\n",
       "      <th>Min_hr</th>\n",
       "      <th>Max_hr</th>\n",
       "      <th>Mean_hr</th>\n",
       "      <th>Men_acc_sqrt</th>\n",
       "      <th>Min_acc_x</th>\n",
       "      <th>Max_acc_x</th>\n",
       "      <th>Mean_acc_x</th>\n",
       "      <th>Min_acc_y</th>\n",
       "      <th>Max_acc_y</th>\n",
       "      <th>Mean_acc_y</th>\n",
       "      <th>Min_acc_z</th>\n",
       "      <th>Max_acc_z</th>\n",
       "      <th>Mean_acc_z</th>\n",
       "      <th>Etiquetas binarias</th>\n",
       "      <th>Etiquetas multiclase</th>\n",
       "      <th>ID</th>\n",
       "    </tr>\n",
       "  </thead>\n",
       "  <tbody>\n",
       "    <tr>\n",
       "      <th>2674</th>\n",
       "      <td>68.0</td>\n",
       "      <td>72.0</td>\n",
       "      <td>70.00</td>\n",
       "      <td>1.00</td>\n",
       "      <td>-0.25</td>\n",
       "      <td>-0.23</td>\n",
       "      <td>-0.24</td>\n",
       "      <td>0.10</td>\n",
       "      <td>0.14</td>\n",
       "      <td>0.11</td>\n",
       "      <td>-0.97</td>\n",
       "      <td>-0.95</td>\n",
       "      <td>-0.97</td>\n",
       "      <td>1.0</td>\n",
       "      <td>2.0</td>\n",
       "      <td>2.0</td>\n",
       "    </tr>\n",
       "    <tr>\n",
       "      <th>5341</th>\n",
       "      <td>54.0</td>\n",
       "      <td>55.0</td>\n",
       "      <td>54.67</td>\n",
       "      <td>1.01</td>\n",
       "      <td>-0.14</td>\n",
       "      <td>-0.12</td>\n",
       "      <td>-0.13</td>\n",
       "      <td>0.95</td>\n",
       "      <td>0.98</td>\n",
       "      <td>0.97</td>\n",
       "      <td>-0.26</td>\n",
       "      <td>-0.22</td>\n",
       "      <td>-0.23</td>\n",
       "      <td>0.0</td>\n",
       "      <td>0.0</td>\n",
       "      <td>6.0</td>\n",
       "    </tr>\n",
       "    <tr>\n",
       "      <th>19050</th>\n",
       "      <td>59.0</td>\n",
       "      <td>60.0</td>\n",
       "      <td>59.83</td>\n",
       "      <td>1.00</td>\n",
       "      <td>0.59</td>\n",
       "      <td>0.60</td>\n",
       "      <td>0.60</td>\n",
       "      <td>-0.51</td>\n",
       "      <td>-0.49</td>\n",
       "      <td>-0.50</td>\n",
       "      <td>-0.63</td>\n",
       "      <td>-0.61</td>\n",
       "      <td>-0.62</td>\n",
       "      <td>1.0</td>\n",
       "      <td>2.0</td>\n",
       "      <td>27.0</td>\n",
       "    </tr>\n",
       "    <tr>\n",
       "      <th>421</th>\n",
       "      <td>66.0</td>\n",
       "      <td>76.0</td>\n",
       "      <td>70.33</td>\n",
       "      <td>1.00</td>\n",
       "      <td>0.15</td>\n",
       "      <td>0.64</td>\n",
       "      <td>0.39</td>\n",
       "      <td>-0.55</td>\n",
       "      <td>0.64</td>\n",
       "      <td>-0.06</td>\n",
       "      <td>-1.22</td>\n",
       "      <td>-0.44</td>\n",
       "      <td>-0.90</td>\n",
       "      <td>0.0</td>\n",
       "      <td>5.0</td>\n",
       "      <td>0.0</td>\n",
       "    </tr>\n",
       "    <tr>\n",
       "      <th>2763</th>\n",
       "      <td>70.0</td>\n",
       "      <td>71.0</td>\n",
       "      <td>70.17</td>\n",
       "      <td>1.00</td>\n",
       "      <td>-0.32</td>\n",
       "      <td>-0.31</td>\n",
       "      <td>-0.31</td>\n",
       "      <td>0.91</td>\n",
       "      <td>0.91</td>\n",
       "      <td>0.91</td>\n",
       "      <td>0.26</td>\n",
       "      <td>0.27</td>\n",
       "      <td>0.26</td>\n",
       "      <td>1.0</td>\n",
       "      <td>2.0</td>\n",
       "      <td>2.0</td>\n",
       "    </tr>\n",
       "  </tbody>\n",
       "</table>\n",
       "</div>"
      ],
      "text/plain": [
       "       Min_hr  Max_hr  Mean_hr  Men_acc_sqrt  Min_acc_x  Max_acc_x  \\\n",
       "2674     68.0    72.0    70.00          1.00      -0.25      -0.23   \n",
       "5341     54.0    55.0    54.67          1.01      -0.14      -0.12   \n",
       "19050    59.0    60.0    59.83          1.00       0.59       0.60   \n",
       "421      66.0    76.0    70.33          1.00       0.15       0.64   \n",
       "2763     70.0    71.0    70.17          1.00      -0.32      -0.31   \n",
       "\n",
       "       Mean_acc_x  Min_acc_y  Max_acc_y  Mean_acc_y  Min_acc_z  Max_acc_z  \\\n",
       "2674        -0.24       0.10       0.14        0.11      -0.97      -0.95   \n",
       "5341        -0.13       0.95       0.98        0.97      -0.26      -0.22   \n",
       "19050        0.60      -0.51      -0.49       -0.50      -0.63      -0.61   \n",
       "421          0.39      -0.55       0.64       -0.06      -1.22      -0.44   \n",
       "2763        -0.31       0.91       0.91        0.91       0.26       0.27   \n",
       "\n",
       "       Mean_acc_z  Etiquetas binarias  Etiquetas multiclase    ID  \n",
       "2674        -0.97                 1.0                   2.0   2.0  \n",
       "5341        -0.23                 0.0                   0.0   6.0  \n",
       "19050       -0.62                 1.0                   2.0  27.0  \n",
       "421         -0.90                 0.0                   5.0   0.0  \n",
       "2763         0.26                 1.0                   2.0   2.0  "
      ]
     },
     "execution_count": 3,
     "metadata": {},
     "output_type": "execute_result"
    }
   ],
   "source": [
    "df.sample(5)"
   ]
  },
  {
   "cell_type": "markdown",
   "metadata": {},
   "source": [
    "## 1. Balanceo de las etiquetas"
   ]
  },
  {
   "cell_type": "markdown",
   "metadata": {},
   "source": [
    "#### ETIQUETAS BINARIAS"
   ]
  },
  {
   "cell_type": "code",
   "execution_count": 4,
   "metadata": {},
   "outputs": [
    {
     "data": {
      "image/png": "[encoded data removed]",
      "text/plain": [
       "<Figure size 216x216 with 1 Axes>"
      ]
     },
     "metadata": {
      "needs_background": "light"
     },
     "output_type": "display_data"
    }
   ],
   "source": [
    "# DF NO BALANCEADO\n",
    "plt.figure(figsize=(3, 3))\n",
    "plt.title('Distribución etiquetas binarias (NO balanceada)')\n",
    "plt.xlabel(\"Etiqueta del sueño\")\n",
    "plt.xticks([0,1])\n",
    "plt.ylabel(\"Número\")\n",
    "plt.hist(df['Etiquetas binarias'])\n",
    "plt.show()"
   ]
  },
  {
   "cell_type": "code",
   "execution_count": 5,
   "metadata": {},
   "outputs": [],
   "source": [
    "labels_bin=df['Etiquetas binarias'] # 0 (0,-1,5) y 1 (1,2,3,4)\n",
    "\n",
    "lab_0_bin = []\n",
    "idx_0_bin = []\n",
    "list_idx_0_bin = []\n",
    "\n",
    "for l in labels_bin:\n",
    "    if l==0:\n",
    "        idx_0_bin.append(True)\n",
    "    else:\n",
    "        idx_0_bin.append(False)\n",
    "list_idx_0_bin.append(df[idx_0_bin])\n",
    "\n",
    "lab_1_bin = []\n",
    "idx_1_bin = []\n",
    "list_idx_1_bin = []\n",
    "\n",
    "for l in labels_bin:\n",
    "    if l==1:\n",
    "        idx_1_bin.append(True)\n",
    "    else:\n",
    "        idx_1_bin.append(False)\n",
    "list_idx_1_bin.append(df[idx_1_bin])\n",
    "\n",
    "df0_bin = pd.DataFrame()  \n",
    "for i in range(len(list_idx_0_bin)):\n",
    "    df0_bin=df0_bin.append(list_idx_0_bin[i])\n",
    "df1_bin = pd.DataFrame()  \n",
    "for i in range(len(list_idx_1_bin)):\n",
    "    df1_bin=df1_bin.append(list_idx_1_bin[i])"
   ]
  },
  {
   "cell_type": "markdown",
   "metadata": {},
   "source": [
    "#### ETIQUETAS MULTICLASE"
   ]
  },
  {
   "cell_type": "code",
   "execution_count": 6,
   "metadata": {},
   "outputs": [
    {
     "data": {
      "image/png": "[encoded data removed]",
      "text/plain": [
       "<Figure size 216x216 with 1 Axes>"
      ]
     },
     "metadata": {
      "needs_background": "light"
     },
     "output_type": "display_data"
    }
   ],
   "source": [
    "# DF NO BALANCEADO\n",
    "plt.figure(figsize=(3, 3))\n",
    "plt.title('Distribución etiquetas multiclase (NO balanceada)')\n",
    "plt.xlabel(\"Etiqueta del sueño\")\n",
    "plt.xticks([0,1,2,3,5])\n",
    "plt.ylabel(\"Número\")\n",
    "plt.hist(df['Etiquetas multiclase'])\n",
    "plt.show()"
   ]
  },
  {
   "cell_type": "code",
   "execution_count": 7,
   "metadata": {},
   "outputs": [],
   "source": [
    "labels_multi=df['Etiquetas multiclase'] #0 (-1,0), 1, 2, 3 (3,4), 5\n",
    "\n",
    "lab_0_multi = []\n",
    "idx_0_multi = []\n",
    "list_idx_0_multi = []\n",
    "\n",
    "for l in labels_multi:\n",
    "    if l==0:\n",
    "        idx_0_multi.append(True)\n",
    "    else:\n",
    "        idx_0_multi.append(False)\n",
    "list_idx_0_multi.append(df[idx_0_multi])\n",
    "\n",
    "lab_1_multi = []\n",
    "idx_1_multi = []\n",
    "list_idx_1_multi = []\n",
    "\n",
    "for l in labels_multi:\n",
    "    if l==1:\n",
    "        idx_1_multi.append(True)\n",
    "    else:\n",
    "        idx_1_multi.append(False)\n",
    "list_idx_1_multi.append(df[idx_1_multi])\n",
    "\n",
    "lab_2_multi = []\n",
    "idx_2_multi = []\n",
    "list_idx_2_multi = []\n",
    "\n",
    "for l in labels_multi:\n",
    "    if l==2:\n",
    "        idx_2_multi.append(True)\n",
    "    else:\n",
    "        idx_2_multi.append(False)\n",
    "list_idx_2_multi.append(df[idx_2_multi])\n",
    "\n",
    "lab_3_multi = []\n",
    "idx_3_multi = []\n",
    "list_idx_3_multi = []\n",
    "\n",
    "for l in labels_multi:\n",
    "    if l==3:\n",
    "        idx_3_multi.append(True)\n",
    "    else:\n",
    "        idx_3_multi.append(False)\n",
    "list_idx_3_multi.append(df[idx_3_multi])\n",
    "\n",
    "lab_5_multi = []\n",
    "idx_5_multi = []\n",
    "list_idx_5_multi = []\n",
    "\n",
    "for l in labels_multi:\n",
    "    if l==5:\n",
    "        idx_5_multi.append(True)\n",
    "    else:\n",
    "        idx_5_multi.append(False)\n",
    "list_idx_5_multi.append(df[idx_5_multi])\n",
    "\n",
    "\n",
    "df0_multi = pd.DataFrame()  \n",
    "for i in range(len(list_idx_0_multi)):\n",
    "    df0_multi=df0_multi.append(list_idx_0_multi[i])\n",
    "df1_multi = pd.DataFrame()  \n",
    "for i in range(len(list_idx_1_multi)):\n",
    "    df1_multi=df1_multi.append(list_idx_1_multi[i])\n",
    "df2_multi = pd.DataFrame()  \n",
    "for i in range(len(list_idx_2_multi)):\n",
    "    df2_multi=df2_multi.append(list_idx_2_multi[i])\n",
    "df3_multi = pd.DataFrame()  \n",
    "for i in range(len(list_idx_3_multi)):\n",
    "    df3_multi=df3_multi.append(list_idx_3_multi[i])\n",
    "df5_multi = pd.DataFrame()  \n",
    "for i in range(len(list_idx_5_multi)):\n",
    "    df5_multi=df5_multi.append(list_idx_5_multi[i])"
   ]
  },
  {
   "cell_type": "markdown",
   "metadata": {},
   "source": [
    "##### BALANCEO"
   ]
  },
  {
   "cell_type": "code",
   "execution_count": 8,
   "metadata": {},
   "outputs": [],
   "source": [
    "n_lab_binarias=[df0_bin['Etiquetas binarias'].value_counts()[0],df1_bin['Etiquetas binarias'].value_counts()[1]]\n",
    "\n",
    "n_lab_multiclase=[df0_multi['Etiquetas multiclase'].value_counts()[0],df1_multi['Etiquetas multiclase'].value_counts()[1],\n",
    "      df2_multi['Etiquetas multiclase'].value_counts()[2],df3_multi['Etiquetas multiclase'].value_counts()[3],\n",
    "      df5_multi['Etiquetas multiclase'].value_counts()[5]]"
   ]
  },
  {
   "cell_type": "code",
   "execution_count": 9,
   "metadata": {},
   "outputs": [
    {
     "name": "stdout",
     "output_type": "stream",
     "text": [
      "\n",
      " Binarias: [7100, 15065] \n",
      " Multiclase: [2572, 1411, 10436, 3218, 4528] \n",
      " Mínimo: 1411 \n",
      "\n"
     ]
    }
   ],
   "source": [
    "n_lab=min([min(n_lab_binarias),min(n_lab_multiclase)])\n",
    "\n",
    "print('\\n','Binarias:',n_lab_binarias,'\\n','Multiclase:',n_lab_multiclase,'\\n','Mínimo:',n_lab,'\\n')"
   ]
  },
  {
   "cell_type": "markdown",
   "metadata": {},
   "source": [
    "Nos creamos dos dataframes distintos: uno con los datos de las etiquetas multiclase balanceados (*df_multi_balanced*) y el otro con los datos de las etiquetas binarias balanceados (*df_bin_balanced*). Se han valanceado todas las clases (tanto binarias como multiclase) al número mínimo de etiquetas de los dos tipos."
   ]
  },
  {
   "cell_type": "code",
   "execution_count": 10,
   "metadata": {},
   "outputs": [
    {
     "name": "stdout",
     "output_type": "stream",
     "text": [
      "Las dimensiones del df de características con etiquetas binarias balanceadas es: (1200, 16)\n",
      "Las dimensiones del df de características con etiquetas multiclase balanceadas es: (1000, 16)\n"
     ]
    }
   ],
   "source": [
    "n_lab_bin=600 # Restringimos el número de muestras de cada clase debido a la capacidad de computación\n",
    "df_bin_balanced = pd.DataFrame()\n",
    "df_bin_balanced=df_bin_balanced.append(df0_bin.sample(n_lab_bin)).append(df1_bin.sample(n_lab_bin))\n",
    "print('Las dimensiones del df de características con etiquetas binarias balanceadas es:',df_bin_balanced.shape)\n",
    "\n",
    "n_lab_multi=200 # Restringimos el número de muestras de cada clase debido a la capacidad de computación\n",
    "df_multi_balanced = pd.DataFrame()\n",
    "df_multi_balanced=df_multi_balanced.append(df0_multi.sample(n_lab_multi)).append(df1_multi.sample(n_lab_multi)).append(df2_multi.sample(n_lab_multi)).append(df3_multi.sample(n_lab_multi)).append(df5_multi.sample(n_lab_multi))\n",
    "print('Las dimensiones del df de características con etiquetas multiclase balanceadas es:',df_multi_balanced.shape)"
   ]
  },
  {
   "cell_type": "code",
   "execution_count": 11,
   "metadata": {},
   "outputs": [
    {
     "name": "stdout",
     "output_type": "stream",
     "text": [
      "\u001b[1;30mETIQUETAS BINARIAS\u001b[0m\n",
      "Número de valores diferentes que hay para etiquetas binarias: 2 \n",
      "\n",
      "Número de veces que se toma cada valor de etiquetas binarias:\n",
      "1.0    600\n",
      "0.0    600\n",
      "Name: Etiquetas binarias, dtype: int64 \n",
      "\n"
     ]
    },
    {
     "data": {
      "image/png": "[encoded data removed]",
      "text/plain": [
       "<Figure size 216x216 with 1 Axes>"
      ]
     },
     "metadata": {
      "needs_background": "light"
     },
     "output_type": "display_data"
    },
    {
     "name": "stdout",
     "output_type": "stream",
     "text": [
      "\u001b[1;30mETIQUETAS MULTICLASE\u001b[0m\n",
      "Número de valores diferentes que hay para etiquetas multiclase: 5 \n",
      "\n",
      "Número de veces que se toma cada valor de etiquetas multiclase:\n",
      "5.0    200\n",
      "3.0    200\n",
      "2.0    200\n",
      "1.0    200\n",
      "0.0    200\n",
      "Name: Etiquetas multiclase, dtype: int64 \n",
      "\n"
     ]
    },
    {
     "data": {
      "image/png": "[encoded data removed]",
      "text/plain": [
       "<Figure size 216x216 with 1 Axes>"
      ]
     },
     "metadata": {
      "needs_background": "light"
     },
     "output_type": "display_data"
    }
   ],
   "source": [
    "print('\\x1b[1;30m'+'ETIQUETAS BINARIAS'+'\\x1b[0m')\n",
    "print('Número de valores diferentes que hay para etiquetas binarias:',df_bin_balanced['Etiquetas binarias'].nunique(),'\\n')\n",
    "print('Número de veces que se toma cada valor de etiquetas binarias:')\n",
    "print(df_bin_balanced['Etiquetas binarias'].value_counts(),'\\n')\n",
    "plt.figure(figsize=(3, 3))\n",
    "plt.title('Distribución balanceada de las etiquetas binarias')\n",
    "plt.xlabel(\"Etiqueta del sueño\")\n",
    "plt.ylabel(\"Número\")\n",
    "plt.xticks([0,1])\n",
    "plt.hist(df_bin_balanced['Etiquetas binarias'])\n",
    "plt.show()\n",
    "\n",
    "print('\\x1b[1;30m'+'ETIQUETAS MULTICLASE'+'\\x1b[0m')\n",
    "print('Número de valores diferentes que hay para etiquetas multiclase:',df_multi_balanced['Etiquetas multiclase'].nunique(),'\\n')\n",
    "print('Número de veces que se toma cada valor de etiquetas multiclase:')\n",
    "print(df_multi_balanced['Etiquetas multiclase'].value_counts(),'\\n')\n",
    "plt.figure(figsize=(3, 3))\n",
    "plt.title('Distribución balanceada de las etiquetas multiclase')\n",
    "plt.xlabel(\"Etiqueta del sueño\")\n",
    "plt.ylabel(\"Número\")\n",
    "plt.xticks([-1,0,1,2,3,5])\n",
    "plt.hist(df_multi_balanced['Etiquetas multiclase'])\n",
    "plt.show()"
   ]
  },
  {
   "cell_type": "code",
   "execution_count": 12,
   "metadata": {},
   "outputs": [
    {
     "name": "stdout",
     "output_type": "stream",
     "text": [
      "El porcentaje de datos del que se dispone tras balancear las etiquetas binarias es: 5.41 %\n",
      "El porcentaje de datos del que se dispone tras balancear las etiquetas multiclase es: 4.51 %\n"
     ]
    }
   ],
   "source": [
    "print('El porcentaje de datos del que se dispone tras balancear las etiquetas binarias es:',\"{0:.2f}\".format((df_bin_balanced.shape[0]*100)/df.shape[0]),'%')\n",
    "print('El porcentaje de datos del que se dispone tras balancear las etiquetas multiclase es:',\"{0:.2f}\".format((df_multi_balanced.shape[0]*100)/df.shape[0]),'%')"
   ]
  },
  {
   "cell_type": "markdown",
   "metadata": {},
   "source": [
    "## 2. Subconjuntos Train y Test"
   ]
  },
  {
   "cell_type": "markdown",
   "metadata": {},
   "source": [
    "Se crean 2 listas aleatorias con una **proporción de 3:1** para Train y Test."
   ]
  },
  {
   "cell_type": "code",
   "execution_count": 13,
   "metadata": {},
   "outputs": [
    {
     "name": "stdout",
     "output_type": "stream",
     "text": [
      "24 sujetos de train: [1, 6, 13, 2, 26, 0, 7, 21, 16, 24, 15, 8, 30, 9, 27, 23, 5, 10, 20, 29, 14, 11, 17, 4]\n",
      "7 sujetos de test: [3, 12, 18, 19, 22, 25, 28]\n"
     ]
    }
   ],
   "source": [
    "lista = list(range(31)) # Lista de 31 números\n",
    "suj_train = sample(lista,k=24) # 24 sujetos de train\n",
    "suj_test = [el for el in lista if el not in suj_train] #Los que no están en train van a test (7)\n",
    "\n",
    "print(len(suj_train),'sujetos de train:',suj_train)\n",
    "print(len(suj_test),'sujetos de test:',suj_test)"
   ]
  },
  {
   "cell_type": "markdown",
   "metadata": {},
   "source": [
    "Con cada una de las listas de sujetos anteriores, se crean los conjuntos de Train y Test de manera que no se mezclen los sujetos entre cada uno de los dos subconjuntos. Se distinguen diferentes conjuntos en función de si están balanceadas las etiquetas binarias o las multiclase."
   ]
  },
  {
   "cell_type": "markdown",
   "metadata": {},
   "source": [
    "#### ETIQUETAS BINARIAS"
   ]
  },
  {
   "cell_type": "code",
   "execution_count": 14,
   "metadata": {},
   "outputs": [],
   "source": [
    "train_matr = []\n",
    "test_matr = []\n",
    "id = df_bin_balanced['ID']\n",
    "\n",
    "for i in suj_train:    \n",
    "    idx = []\n",
    "    for s in id:\n",
    "        if s==i:\n",
    "            idx.append(True)\n",
    "        else:\n",
    "            idx.append(False)\n",
    "    train_matr.append(df_bin_balanced[idx])\n",
    "\n",
    "for i in suj_test:    \n",
    "    idx = []\n",
    "    for s in id:\n",
    "        if s==i:\n",
    "            idx.append(True)\n",
    "        else:\n",
    "            idx.append(False)\n",
    "    test_matr.append(df_bin_balanced[idx])"
   ]
  },
  {
   "cell_type": "code",
   "execution_count": 15,
   "metadata": {},
   "outputs": [],
   "source": [
    "Train_bin_balanced = pd.DataFrame()\n",
    "for i in range(len(train_matr)):\n",
    "    Train_bin_balanced=Train_bin_balanced.append(train_matr[i])\n",
    "\n",
    "Test_bin_balanced = pd.DataFrame()  \n",
    "for i in range(len(test_matr)):\n",
    "    Test_bin_balanced=Test_bin_balanced.append(test_matr[i])"
   ]
  },
  {
   "cell_type": "code",
   "execution_count": 16,
   "metadata": {},
   "outputs": [],
   "source": [
    "Train_bin_balanced.to_csv('Train_binary.csv', header=True, index=False)\n",
    "Test_bin_balanced.to_csv('Test_binary.csv', header=True, index=False)"
   ]
  },
  {
   "cell_type": "markdown",
   "metadata": {},
   "source": [
    "#### ETIQUETAS MULTICLASE"
   ]
  },
  {
   "cell_type": "code",
   "execution_count": 17,
   "metadata": {},
   "outputs": [],
   "source": [
    "train_matr = []\n",
    "test_matr = []\n",
    "id = df_multi_balanced['ID']\n",
    "\n",
    "for i in suj_train:    \n",
    "    idx = []\n",
    "    for s in id:\n",
    "        if s==i:\n",
    "            idx.append(True)\n",
    "        else:\n",
    "            idx.append(False)\n",
    "    train_matr.append(df_multi_balanced[idx])\n",
    "\n",
    "for i in suj_test:    \n",
    "    idx = []\n",
    "    for s in id:\n",
    "        if s==i:\n",
    "            idx.append(True)\n",
    "        else:\n",
    "            idx.append(False)\n",
    "    test_matr.append(df_multi_balanced[idx])"
   ]
  },
  {
   "cell_type": "code",
   "execution_count": 18,
   "metadata": {},
   "outputs": [],
   "source": [
    "Train_multi_balanced = pd.DataFrame()\n",
    "for i in range(len(train_matr)):\n",
    "    Train_multi_balanced=Train_multi_balanced.append(train_matr[i])\n",
    "\n",
    "Test_multi_balanced = pd.DataFrame()  \n",
    "for i in range(len(test_matr)):\n",
    "    Test_multi_balanced=Test_multi_balanced.append(test_matr[i])"
   ]
  },
  {
   "cell_type": "code",
   "execution_count": 19,
   "metadata": {},
   "outputs": [],
   "source": [
    "Train_multi_balanced.to_csv('Train_multiclass.csv', header=True, index=False)\n",
    "Test_multi_balanced.to_csv('Test_multiclass.csv', header=True, index=False)"
   ]
  },
  {
   "cell_type": "markdown",
   "metadata": {},
   "source": [
    "### 3. Normalización de los datos"
   ]
  },
  {
   "cell_type": "markdown",
   "metadata": {},
   "source": [
    "#### ETIQUETAS BINARIAS"
   ]
  },
  {
   "cell_type": "code",
   "execution_count": 20,
   "metadata": {},
   "outputs": [],
   "source": [
    "Train_tt_bin_balanced=Train_bin_balanced.copy()\n",
    "Test_tt_bin_balanced=Test_bin_balanced.copy()"
   ]
  },
  {
   "cell_type": "code",
   "execution_count": 21,
   "metadata": {},
   "outputs": [],
   "source": [
    "X_train=Train_tt_bin_balanced.drop(['Etiquetas binarias','Etiquetas multiclase','ID'], axis = 1) \n",
    "columns_name=list(X_train.columns)\n",
    "scaler = preprocessing.StandardScaler().fit(X_train)\n",
    "X_train_transformed = scaler.transform(X_train)\n",
    "Train_bin_transformed=pd.DataFrame(X_train_transformed, columns=columns_name)\n",
    "Train_bin_transformed['Etiquetas multiclase'], Train_bin_transformed['Etiquetas binarias'], Train_bin_transformed['ID'] = [Train_bin_balanced['Etiquetas multiclase'].values, Train_bin_balanced['Etiquetas binarias'].values, Train_bin_balanced['ID'].values]\n",
    "\n",
    "X_test=Test_tt_bin_balanced.drop(['Etiquetas binarias','Etiquetas multiclase','ID'], axis = 1) \n",
    "scaler = preprocessing.StandardScaler().fit(X_train)\n",
    "X_test_transformed = scaler.transform(X_test)\n",
    "Test_bin_transformed=pd.DataFrame(X_test_transformed, columns=columns_name)\n",
    "Test_bin_transformed['Etiquetas multiclase'], Test_bin_transformed['Etiquetas binarias'], Test_bin_transformed['ID'] = [Test_bin_balanced['Etiquetas multiclase'].values, Test_bin_balanced['Etiquetas binarias'].values, Test_bin_balanced['ID'].values]"
   ]
  },
  {
   "cell_type": "code",
   "execution_count": 22,
   "metadata": {},
   "outputs": [],
   "source": [
    "Train_bin_transformed.to_csv('Train_binary_transformed.csv', header=True, index=False)\n",
    "Test_bin_transformed.to_csv('Test_binary_transformed.csv', header=True, index=False)"
   ]
  },
  {
   "cell_type": "markdown",
   "metadata": {},
   "source": [
    "#### ETIQUETAS MULTICLASE"
   ]
  },
  {
   "cell_type": "code",
   "execution_count": 23,
   "metadata": {},
   "outputs": [],
   "source": [
    "Train_tt_multi_balanced=Train_multi_balanced.copy()\n",
    "Test_tt_multi_balanced=Test_multi_balanced.copy()"
   ]
  },
  {
   "cell_type": "code",
   "execution_count": 24,
   "metadata": {},
   "outputs": [],
   "source": [
    "X_train=Train_tt_multi_balanced.drop(['Etiquetas binarias','Etiquetas multiclase','ID'], axis = 1) \n",
    "columns_name=list(X_train.columns)\n",
    "scaler = preprocessing.StandardScaler().fit(X_train)\n",
    "X_train_transformed = scaler.transform(X_train)\n",
    "Train_multi_transformed=pd.DataFrame(X_train_transformed, columns=columns_name)\n",
    "Train_multi_transformed['Etiquetas multiclase'], Train_multi_transformed['Etiquetas binarias'], Train_multi_transformed['ID'] = [Train_multi_balanced['Etiquetas multiclase'].values, Train_multi_balanced['Etiquetas binarias'].values, Train_multi_balanced['ID'].values]\n",
    "\n",
    "X_test=Test_tt_multi_balanced.drop(['Etiquetas binarias','Etiquetas multiclase','ID'], axis = 1) \n",
    "scaler = preprocessing.StandardScaler().fit(X_train)\n",
    "X_test_transformed = scaler.transform(X_test)\n",
    "Test_multi_transformed=pd.DataFrame(X_test_transformed, columns=columns_name)\n",
    "Test_multi_transformed['Etiquetas multiclase'], Test_multi_transformed['Etiquetas binarias'], Test_multi_transformed['ID'] = [Test_multi_balanced['Etiquetas multiclase'].values, Test_multi_balanced['Etiquetas binarias'].values, Test_multi_balanced['ID'].values]"
   ]
  },
  {
   "cell_type": "code",
   "execution_count": 25,
   "metadata": {},
   "outputs": [],
   "source": [
    "Train_multi_transformed.to_csv('Train_multiclass_transformed.csv', header=True, index=False)\n",
    "Test_multi_transformed.to_csv('Test_multiclass_transformed.csv', header=True, index=False)"
   ]
  },
  {
   "cell_type": "markdown",
   "metadata": {},
   "source": [
    "### VISUALIZACIÓN"
   ]
  },
  {
   "cell_type": "markdown",
   "metadata": {},
   "source": [
    "#### ETIQUETAS BINARIAS"
   ]
  },
  {
   "cell_type": "markdown",
   "metadata": {},
   "source": [
    "SUBCONJUNTOS TRAIN Y TEST"
   ]
  },
  {
   "cell_type": "code",
   "execution_count": 26,
   "metadata": {},
   "outputs": [
    {
     "name": "stdout",
     "output_type": "stream",
     "text": [
      "Las dimensiones de la matriz con etiquetas binarias es: (1200, 16)\n",
      "Las dimensiones de la matriz de TRAIN con etiquetas binarias es: (908, 16)\n",
      "Las dimensiones de la matriz de TEST con etiquetas binarias es: (292, 16)\n"
     ]
    }
   ],
   "source": [
    "print('Las dimensiones de la matriz con etiquetas binarias es:',df_bin_balanced.shape)\n",
    "print('Las dimensiones de la matriz de TRAIN con etiquetas binarias es:',Train_bin_balanced.shape)\n",
    "print('Las dimensiones de la matriz de TEST con etiquetas binarias es:',Test_bin_balanced.shape)"
   ]
  },
  {
   "cell_type": "code",
   "execution_count": 27,
   "metadata": {},
   "outputs": [
    {
     "name": "stdout",
     "output_type": "stream",
     "text": [
      "\u001b[1;30mTRAIN\u001b[0m\n",
      "Número de valores diferentes que hay para etiquetas binarias en TRAIN: 2 \n",
      "\n",
      "Número de veces que se toma cada valor de etiquetas binarias en TRAIN:\n",
      "1.0    457\n",
      "0.0    451\n",
      "Name: Etiquetas binarias, dtype: int64 \n",
      "\n"
     ]
    },
    {
     "data": {
      "image/png": "[encoded data removed]",
      "text/plain": [
       "<Figure size 216x216 with 1 Axes>"
      ]
     },
     "metadata": {
      "needs_background": "light"
     },
     "output_type": "display_data"
    },
    {
     "name": "stdout",
     "output_type": "stream",
     "text": [
      "\u001b[1;30mTEST\u001b[0m\n",
      "Número de valores diferentes que hay para etiquetas binarias en TEST: 2 \n",
      "\n",
      "Número de veces que se toma cada valor de etiquetas binarias en TEST:\n",
      "0.0    149\n",
      "1.0    143\n",
      "Name: Etiquetas binarias, dtype: int64 \n",
      "\n"
     ]
    },
    {
     "data": {
      "image/png": "[encoded data removed]",
      "text/plain": [
       "<Figure size 216x216 with 1 Axes>"
      ]
     },
     "metadata": {
      "needs_background": "light"
     },
     "output_type": "display_data"
    }
   ],
   "source": [
    "print('\\x1b[1;30m'+'TRAIN'+'\\x1b[0m')\n",
    "print('Número de valores diferentes que hay para etiquetas binarias en TRAIN:',Train_bin_balanced['Etiquetas binarias'].nunique(),'\\n')\n",
    "print('Número de veces que se toma cada valor de etiquetas binarias en TRAIN:')\n",
    "print(Train_bin_balanced['Etiquetas binarias'].value_counts(),'\\n')\n",
    "plt.figure(figsize=(3, 3))\n",
    "plt.title('Distribución etiquetas binarias en TRAIN')\n",
    "plt.xlabel(\"Etiqueta del sueño\")\n",
    "plt.ylabel(\"Número\")\n",
    "plt.xticks([0,1])\n",
    "plt.hist(Train_bin_balanced['Etiquetas binarias'])\n",
    "plt.show()\n",
    "\n",
    "print('\\x1b[1;30m'+'TEST'+'\\x1b[0m')\n",
    "print('Número de valores diferentes que hay para etiquetas binarias en TEST:',Test_bin_balanced['Etiquetas binarias'].nunique(),'\\n')\n",
    "print('Número de veces que se toma cada valor de etiquetas binarias en TEST:')\n",
    "print(Test_bin_balanced['Etiquetas binarias'].value_counts(),'\\n')\n",
    "plt.figure(figsize=(3, 3))\n",
    "plt.title('Distribución etiquetas binarias en TEST')\n",
    "plt.xlabel(\"Etiqueta del sueño\")\n",
    "plt.ylabel(\"Número\")\n",
    "plt.xticks([0,1])\n",
    "plt.hist(Test_bin_balanced['Etiquetas binarias'])\n",
    "plt.show()"
   ]
  },
  {
   "cell_type": "markdown",
   "metadata": {},
   "source": [
    "SUBCONJUNTOS TRAIN Y TEST NORMALIZADOS"
   ]
  },
  {
   "cell_type": "code",
   "execution_count": 28,
   "metadata": {},
   "outputs": [
    {
     "name": "stdout",
     "output_type": "stream",
     "text": [
      "Las dimensiones de la matriz de TRAIN sin normalizar es: (908, 16)\n",
      "Las dimensiones de la matriz de TEST sin normalizar es: (292, 16)\n",
      "\n",
      "\n",
      "Las dimensiones de la matriz de TRAIN con etiquetas binarias normalizadas es: (908, 16)\n",
      "Las dimensiones de la matriz de TEST con etiquetas binarias normalizadas es: (292, 16)\n"
     ]
    }
   ],
   "source": [
    "print('Las dimensiones de la matriz de TRAIN sin normalizar es:',Train_tt_bin_balanced.shape)\n",
    "print('Las dimensiones de la matriz de TEST sin normalizar es:',Test_tt_bin_balanced.shape)\n",
    "print('\\n')\n",
    "print('Las dimensiones de la matriz de TRAIN con etiquetas binarias normalizadas es:',Train_bin_transformed.shape)\n",
    "print('Las dimensiones de la matriz de TEST con etiquetas binarias normalizadas es:',Test_bin_transformed.shape)"
   ]
  },
  {
   "cell_type": "code",
   "execution_count": 29,
   "metadata": {},
   "outputs": [
    {
     "name": "stdout",
     "output_type": "stream",
     "text": [
      "\u001b[1;30mTRAIN\u001b[0m\n",
      "Número de valores diferentes que hay para etiquetas binarias en TRAIN: 2 \n",
      "\n",
      "Número de veces que se toma cada valor de etiquetas binarias en TRAIN:\n",
      "1.0    457\n",
      "0.0    451\n",
      "Name: Etiquetas binarias, dtype: int64 \n",
      "\n"
     ]
    },
    {
     "data": {
      "image/png": "[encoded data removed]",
      "text/plain": [
       "<Figure size 216x216 with 1 Axes>"
      ]
     },
     "metadata": {
      "needs_background": "light"
     },
     "output_type": "display_data"
    },
    {
     "name": "stdout",
     "output_type": "stream",
     "text": [
      "\u001b[1;30mTEST\u001b[0m\n",
      "Número de valores diferentes que hay para etiquetas binarias en TEST: 2 \n",
      "\n",
      "Número de veces que se toma cada valor de etiquetas binarias en TEST:\n",
      "0.0    149\n",
      "1.0    143\n",
      "Name: Etiquetas binarias, dtype: int64 \n",
      "\n"
     ]
    },
    {
     "data": {
      "image/png": "[encoded data removed]",
      "text/plain": [
       "<Figure size 216x216 with 1 Axes>"
      ]
     },
     "metadata": {
      "needs_background": "light"
     },
     "output_type": "display_data"
    }
   ],
   "source": [
    "print('\\x1b[1;30m'+'TRAIN'+'\\x1b[0m')\n",
    "print('Número de valores diferentes que hay para etiquetas binarias en TRAIN:',Train_bin_transformed['Etiquetas binarias'].nunique(),'\\n')\n",
    "print('Número de veces que se toma cada valor de etiquetas binarias en TRAIN:')\n",
    "print(Train_bin_transformed['Etiquetas binarias'].value_counts(),'\\n')\n",
    "plt.figure(figsize=(3, 3))\n",
    "plt.title('Distribución normalizada de las etiquetas binarias en TRAIN')\n",
    "plt.xlabel(\"Etiqueta del sueño\")\n",
    "plt.ylabel(\"Número\")\n",
    "plt.xticks([0,1])\n",
    "plt.hist(Train_bin_transformed['Etiquetas binarias'])\n",
    "plt.show()\n",
    "\n",
    "print('\\x1b[1;30m'+'TEST'+'\\x1b[0m')\n",
    "print('Número de valores diferentes que hay para etiquetas binarias en TEST:',Test_bin_transformed['Etiquetas binarias'].nunique(),'\\n')\n",
    "print('Número de veces que se toma cada valor de etiquetas binarias en TEST:')\n",
    "print(Test_bin_transformed['Etiquetas binarias'].value_counts(),'\\n')\n",
    "plt.figure(figsize=(3, 3))\n",
    "plt.title('Distribución normalizada de las etiquetas binarias en TEST')\n",
    "plt.xlabel(\"Etiqueta del sueño\")\n",
    "plt.ylabel(\"Número\")\n",
    "plt.xticks([0,1])\n",
    "plt.hist(Test_bin_transformed['Etiquetas binarias'])\n",
    "plt.show()"
   ]
  },
  {
   "cell_type": "markdown",
   "metadata": {},
   "source": [
    "#### ETIQUETAS MULTICLASE"
   ]
  },
  {
   "cell_type": "markdown",
   "metadata": {},
   "source": [
    "SUBCONJUNTOS TRAIN Y TEST"
   ]
  },
  {
   "cell_type": "code",
   "execution_count": 30,
   "metadata": {},
   "outputs": [
    {
     "name": "stdout",
     "output_type": "stream",
     "text": [
      "Las dimensiones de la matriz con etiquetas multiclase es: (1000, 16)\n",
      "Las dimensiones de la matriz de TRAIN con etiquetas multiclase es: (773, 16)\n",
      "Las dimensiones de la matriz de TEST con etiquetas multiclase es: (227, 16)\n"
     ]
    }
   ],
   "source": [
    "print('Las dimensiones de la matriz con etiquetas multiclase es:',df_multi_balanced.shape)\n",
    "print('Las dimensiones de la matriz de TRAIN con etiquetas multiclase es:',Train_multi_balanced.shape)\n",
    "print('Las dimensiones de la matriz de TEST con etiquetas multiclase es:',Test_multi_balanced.shape)"
   ]
  },
  {
   "cell_type": "code",
   "execution_count": 31,
   "metadata": {},
   "outputs": [
    {
     "name": "stdout",
     "output_type": "stream",
     "text": [
      "\u001b[1;30mTRAIN\u001b[0m\n",
      "Número de valores diferentes que hay para etiquetas multiclase en TRAIN: 5 \n",
      "\n",
      "Número de veces que se toma cada valor de etiquetas multiclase en TRAIN:\n",
      "1.0    166\n",
      "5.0    155\n",
      "2.0    152\n",
      "3.0    150\n",
      "0.0    150\n",
      "Name: Etiquetas multiclase, dtype: int64 \n",
      "\n"
     ]
    },
    {
     "data": {
      "image/png": "[encoded data removed]",
      "text/plain": [
       "<Figure size 216x216 with 1 Axes>"
      ]
     },
     "metadata": {
      "needs_background": "light"
     },
     "output_type": "display_data"
    },
    {
     "name": "stdout",
     "output_type": "stream",
     "text": [
      "\u001b[1;30mTEST\u001b[0m\n",
      "Número de valores diferentes que hay para etiquetas multiclase en TEST: 5 \n",
      "\n",
      "Número de veces que se toma cada valor de etiquetas multiclase en TEST:\n",
      "3.0    50\n",
      "0.0    50\n",
      "2.0    48\n",
      "5.0    45\n",
      "1.0    34\n",
      "Name: Etiquetas multiclase, dtype: int64 \n",
      "\n"
     ]
    },
    {
     "data": {
      "image/png": "[encoded data removed]",
      "text/plain": [
       "<Figure size 216x216 with 1 Axes>"
      ]
     },
     "metadata": {
      "needs_background": "light"
     },
     "output_type": "display_data"
    }
   ],
   "source": [
    "print('\\x1b[1;30m'+'TRAIN'+'\\x1b[0m')\n",
    "print('Número de valores diferentes que hay para etiquetas multiclase en TRAIN:',Train_multi_balanced['Etiquetas multiclase'].nunique(),'\\n')\n",
    "print('Número de veces que se toma cada valor de etiquetas multiclase en TRAIN:')\n",
    "print(Train_multi_balanced['Etiquetas multiclase'].value_counts(),'\\n')\n",
    "plt.figure(figsize=(3, 3))\n",
    "plt.title('Distribución de las etiquetas multiclase en TRAIN')\n",
    "plt.xlabel(\"Etiqueta del sueño\")\n",
    "plt.ylabel(\"Número\")\n",
    "plt.xticks([0,1,2,3,5])\n",
    "plt.hist(Train_multi_balanced['Etiquetas multiclase'])\n",
    "plt.show()\n",
    "\n",
    "print('\\x1b[1;30m'+'TEST'+'\\x1b[0m')\n",
    "print('Número de valores diferentes que hay para etiquetas multiclase en TEST:',Test_multi_balanced['Etiquetas multiclase'].nunique(),'\\n')\n",
    "print('Número de veces que se toma cada valor de etiquetas multiclase en TEST:')\n",
    "print(Test_multi_balanced['Etiquetas multiclase'].value_counts(),'\\n')\n",
    "plt.figure(figsize=(3, 3))\n",
    "plt.title('Distribución de las etiquetas multiclase en TEST')\n",
    "plt.xlabel(\"Etiqueta del sueño\")\n",
    "plt.ylabel(\"Número\")\n",
    "plt.xticks([0,1,2,3,5])\n",
    "plt.hist(Test_multi_balanced['Etiquetas multiclase'])\n",
    "plt.show()"
   ]
  },
  {
   "cell_type": "markdown",
   "metadata": {},
   "source": [
    "SUBCONJUNTOS TRAIN Y TEST NORMALIZADOS"
   ]
  },
  {
   "cell_type": "code",
   "execution_count": 32,
   "metadata": {},
   "outputs": [
    {
     "name": "stdout",
     "output_type": "stream",
     "text": [
      "Las dimensiones de la matriz de TRAIN sin normalizar es: (773, 16)\n",
      "Las dimensiones de la matriz de TEST sin normalizar es: (227, 16)\n",
      "\n",
      "\n",
      "Las dimensiones de la matriz de TRAIN con etiquetas multiclase normalizadas es: (773, 16)\n",
      "Las dimensiones de la matriz de TEST con etiquetas multiclase normalizadas es: (227, 16)\n"
     ]
    }
   ],
   "source": [
    "print('Las dimensiones de la matriz de TRAIN sin normalizar es:',Train_tt_multi_balanced.shape)\n",
    "print('Las dimensiones de la matriz de TEST sin normalizar es:',Test_tt_multi_balanced.shape)\n",
    "print('\\n')\n",
    "print('Las dimensiones de la matriz de TRAIN con etiquetas multiclase normalizadas es:',Train_multi_transformed.shape)\n",
    "print('Las dimensiones de la matriz de TEST con etiquetas multiclase normalizadas es:',Test_multi_transformed.shape)"
   ]
  },
  {
   "cell_type": "code",
   "execution_count": 33,
   "metadata": {},
   "outputs": [
    {
     "name": "stdout",
     "output_type": "stream",
     "text": [
      "\u001b[1;30mTRAIN\u001b[0m\n",
      "Número de valores diferentes que hay para etiquetas multiclase en TRAIN: 5 \n",
      "\n",
      "Número de veces que se toma cada valor de etiquetas multiclase en TRAIN:\n",
      "1.0    166\n",
      "5.0    155\n",
      "2.0    152\n",
      "3.0    150\n",
      "0.0    150\n",
      "Name: Etiquetas multiclase, dtype: int64 \n",
      "\n"
     ]
    },
    {
     "data": {
      "image/png": "[encoded data removed]",
      "text/plain": [
       "<Figure size 216x216 with 1 Axes>"
      ]
     },
     "metadata": {
      "needs_background": "light"
     },
     "output_type": "display_data"
    },
    {
     "name": "stdout",
     "output_type": "stream",
     "text": [
      "\u001b[1;30mTEST\u001b[0m\n",
      "Número de valores diferentes que hay para etiquetas multiclase en TEST: 5 \n",
      "\n",
      "Número de veces que se toma cada valor de etiquetas multiclase en TEST:\n",
      "3.0    50\n",
      "0.0    50\n",
      "2.0    48\n",
      "5.0    45\n",
      "1.0    34\n",
      "Name: Etiquetas multiclase, dtype: int64 \n",
      "\n"
     ]
    },
    {
     "data": {
      "image/png": "[encoded data removed]",
      "text/plain": [
       "<Figure size 216x216 with 1 Axes>"
      ]
     },
     "metadata": {
      "needs_background": "light"
     },
     "output_type": "display_data"
    }
   ],
   "source": [
    "print('\\x1b[1;30m'+'TRAIN'+'\\x1b[0m')\n",
    "print('Número de valores diferentes que hay para etiquetas multiclase en TRAIN:',Train_multi_transformed['Etiquetas multiclase'].nunique(),'\\n')\n",
    "print('Número de veces que se toma cada valor de etiquetas multiclase en TRAIN:')\n",
    "print(Train_multi_transformed['Etiquetas multiclase'].value_counts(),'\\n')\n",
    "plt.figure(figsize=(3, 3))\n",
    "plt.title('Distribución normalizada de las etiquetas multiclase en TRAIN')\n",
    "plt.xlabel(\"Etiqueta del sueño\")\n",
    "plt.ylabel(\"Número\")\n",
    "plt.xticks([-1,0,1,2,3,4,5])\n",
    "plt.hist(Train_multi_transformed['Etiquetas multiclase'])\n",
    "plt.show()\n",
    "\n",
    "print('\\x1b[1;30m'+'TEST'+'\\x1b[0m')\n",
    "print('Número de valores diferentes que hay para etiquetas multiclase en TEST:',Test_multi_transformed['Etiquetas multiclase'].nunique(),'\\n')\n",
    "print('Número de veces que se toma cada valor de etiquetas multiclase en TEST:')\n",
    "print(Test_multi_transformed['Etiquetas multiclase'].value_counts(),'\\n')\n",
    "plt.figure(figsize=(3, 3))\n",
    "plt.title('Distribución normalizada de las etiquetas multiclase en TEST')\n",
    "plt.xlabel(\"Etiqueta del sueño\")\n",
    "plt.ylabel(\"Número\")\n",
    "plt.xticks([-1,0,1,2,3,4,5])\n",
    "plt.hist(Test_multi_transformed['Etiquetas multiclase'])\n",
    "plt.show()"
   ]
  },
  {
   "cell_type": "code",
   "execution_count": null,
   "metadata": {},
   "outputs": [],
   "source": []
  }
 ],
 "metadata": {
  "kernelspec": {
   "display_name": "Python 3",
   "language": "python",
   "name": "python3"
  },
  "language_info": {
   "codemirror_mode": {
    "name": "ipython",
    "version": 3
   },
   "file_extension": ".py",
   "mimetype": "text/x-python",
   "name": "python",
   "nbconvert_exporter": "python",
   "pygments_lexer": "ipython3",
   "version": "3.7.4"
  }
 },
 "nbformat": 4,
 "nbformat_minor": 2
}
