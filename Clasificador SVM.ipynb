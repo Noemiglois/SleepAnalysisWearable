{
 "cells": [
  {
   "cell_type": "markdown",
   "metadata": {},
   "source": [
    "<center> <h1>PREDICIÓN DEL SUEÑO CON SVM</h1> </center>\n",
    "<center> <h4>Noemi González, Roberto Holgado y Carmen Plaza seco</h4> </center>\n",
    "\n",
    "\n",
    "###### Índice de contenidos\n",
    "\n",
    "En este jupyter notebook se lleva a cabo la construcción de un clasificador SVM tanto de salida binaria como multiclase para predecir tanto el estado de vigilia de los sujetos como el estado de sueño y sus distintas fases.\n",
    "    \n",
    "    1. Clasificador SVM Binario\n",
    "        1.1 Preparación datos de entrada y salida\n",
    "        1.2 Creación del modelo y selección parámetros libres\n",
    "        1.3 Búsqueda de parámetros con validación cruzada\n",
    "        1.4 Evaluación del modelo\n",
    "        1.5 Visualización de resultados\n",
    "    2. Clasficador SVM Multiclase\n",
    "        2.1 Preparación datos de entrada y salida\n",
    "        2.2 Creación del modelo y selección parámetros libres\n",
    "        2.3 Búsqueda de parámetros con validación cruzada\n",
    "        2.4 Evaluación del modelo\n",
    "        2.5 Visualización de resultados"
   ]
  },
  {
   "cell_type": "code",
   "execution_count": 1,
   "metadata": {},
   "outputs": [],
   "source": [
    "import os\n",
    "import numpy as np\n",
    "import pandas as pd\n",
    "from random import sample\n",
    "import statistics as stats\n",
    "from sklearn.svm import SVC\n",
    "import matplotlib.pyplot as plt\n",
    "from sklearn.metrics import confusion_matrix\n",
    "from sklearn.model_selection import GridSearchCV\n",
    "from sklearn.metrics import classification_report\n",
    "from sklearn.model_selection import cross_val_score\n",
    "from sklearn.model_selection import train_test_split\n",
    "from sklearn.model_selection import validation_curve\n",
    "from sklearn.model_selection import RandomizedSearchCV"
   ]
  },
  {
   "cell_type": "markdown",
   "metadata": {},
   "source": [
    "## 1. SVM BINARIO"
   ]
  },
  {
   "cell_type": "markdown",
   "metadata": {},
   "source": [
    "En este primer clasificador, se ha utilizado el método SVM para clasificar la vigilia o sueño ligero del sueño profundo. Es decir, se ha construido un clasificador SVM con salida binaria: 0 y 1."
   ]
  },
  {
   "cell_type": "markdown",
   "metadata": {},
   "source": [
    "### 1.1 Preparación datos de entrada y salida"
   ]
  },
  {
   "cell_type": "code",
   "execution_count": 2,
   "metadata": {},
   "outputs": [],
   "source": [
    "Train_bin= pd.read_csv('Train_binary.csv')\n",
    "Test_bin= pd.read_csv('Test_binary.csv')"
   ]
  },
  {
   "cell_type": "code",
   "execution_count": 3,
   "metadata": {},
   "outputs": [],
   "source": [
    "X_train_bin=Train_bin.drop(['Etiquetas multiclase', 'Etiquetas binarias','ID'], axis = 1) \n",
    "y_train_bin=Train_bin['Etiquetas binarias']\n",
    "\n",
    "X_test_bin=Test_bin.drop(['Etiquetas multiclase', 'Etiquetas binarias','ID'], axis = 1)\n",
    "y_test_bin=Test_bin['Etiquetas binarias']"
   ]
  },
  {
   "cell_type": "markdown",
   "metadata": {},
   "source": [
    "### 1.2  Creación del modelo y selección parámetros libres"
   ]
  },
  {
   "cell_type": "code",
   "execution_count": 4,
   "metadata": {},
   "outputs": [],
   "source": [
    "clf = SVC(kernel='linear', gamma=1,decision_function_shape='ovr' ) # gamma=[0.1,10] o C=[0.1,1,10], depende del que queramos fijar\n",
    "modelo_base=clf.fit(X_train_bin,y_train_bin)"
   ]
  },
  {
   "cell_type": "code",
   "execution_count": 5,
   "metadata": {},
   "outputs": [
    {
     "data": {
      "text/plain": [
       "SVC(C=1.0, cache_size=200, class_weight=None, coef0=0.0,\n",
       "    decision_function_shape='ovr', degree=3, gamma=1, kernel='linear',\n",
       "    max_iter=-1, probability=False, random_state=None, shrinking=True,\n",
       "    tol=0.001, verbose=False)"
      ]
     },
     "execution_count": 5,
     "metadata": {},
     "output_type": "execute_result"
    }
   ],
   "source": [
    "clf"
   ]
  },
  {
   "cell_type": "markdown",
   "metadata": {},
   "source": [
    "### 1.3  Búsqueda de parámetros con validación cruzada"
   ]
  },
  {
   "cell_type": "markdown",
   "metadata": {},
   "source": [
    "A continuación, se realiza la búsqueda de parámetros. El parámetro gamma o C se fija y se hace un 'barrido' de los posibles valores del parámetro no fijado para elegir aquel que maximice la exactitud (accuracy).\n",
    "\n",
    "Tras varias iteraciones se ha visto que los mejores parámetros son gamma=1 y C=10 para el clasificadro binario."
   ]
  },
  {
   "cell_type": "code",
   "execution_count": 6,
   "metadata": {},
   "outputs": [],
   "source": [
    "Cs =[0.001,0.01,0.1,1,10,100] # gamma = range(1,10,1) si se quisiese estimar gamma\n",
    "param_grid = { 'C': Cs  } #'gamma': gamma\n",
    "svc_grid = GridSearchCV(clf, param_grid, scoring='accuracy',cv=5,n_jobs=-1)\n",
    "svc_grid.fit(X_train_bin, y_train_bin)\n",
    "best_param=svc_grid.best_params_"
   ]
  },
  {
   "cell_type": "code",
   "execution_count": 7,
   "metadata": {},
   "outputs": [],
   "source": [
    "# Clasificador con los mejores parámetros\n",
    "svc_clf=svc_grid.best_estimator_"
   ]
  },
  {
   "cell_type": "code",
   "execution_count": 8,
   "metadata": {},
   "outputs": [
    {
     "data": {
      "image/png": "[encoded data removed]",
      "text/plain": [
       "<Figure size 432x288 with 1 Axes>"
      ]
     },
     "metadata": {
      "needs_background": "light"
     },
     "output_type": "display_data"
    }
   ],
   "source": [
    "train_scores, test_scores = validation_curve(svc_clf, X_train_bin, y_train_bin, param_name=\"C\", param_range=Cs,cv=5)\n",
    "train_scores_mean = np.mean(train_scores, axis=1)\n",
    "test_scores_mean = np.mean(test_scores, axis=1)\n",
    "plt.title(\"Validation Curve with SVM \")\n",
    "plt.xlabel('C')\n",
    "plt.ylabel(\"Accuracy\")\n",
    "\n",
    "plt.plot(Cs, train_scores_mean, label=\"Training score\",color=\"navy\",marker='.')\n",
    "plt.plot(Cs, test_scores_mean, label=\"Cross-validation score\",color=\"darkorange\",marker='.')\n",
    "plt.grid()\n",
    "plt.legend(loc=\"best\")\n",
    "plt.show()"
   ]
  },
  {
   "cell_type": "code",
   "execution_count": 9,
   "metadata": {},
   "outputs": [
    {
     "name": "stdout",
     "output_type": "stream",
     "text": [
      "El valor más óptimo para el parámetro a estimar es: {'C': 100}\n"
     ]
    }
   ],
   "source": [
    "print(\"El valor más óptimo para el parámetro a estimar es:\",best_param)"
   ]
  },
  {
   "cell_type": "code",
   "execution_count": 10,
   "metadata": {},
   "outputs": [
    {
     "name": "stdout",
     "output_type": "stream",
     "text": [
      "Tasa de acierto del modelo base: 0.6280701754385964\n",
      "Tasa de acierto del modelo con la búsqueda de parámetros: 0.6070175438596491\n",
      "Mejora  del -3.35%.\n"
     ]
    }
   ],
   "source": [
    "print(\"Tasa de acierto del modelo base:\",modelo_base.score(X_test_bin,y_test_bin))\n",
    "print(\"Tasa de acierto del modelo con la búsqueda de parámetros:\",svc_clf.score(X_test_bin,y_test_bin))\n",
    "print('Mejora  del {:0.2f}%.'.format( 100 * (svc_clf.score(X_test_bin,y_test_bin) - modelo_base.score(X_test_bin,y_test_bin)) / modelo_base.score(X_test_bin,y_test_bin)))"
   ]
  },
  {
   "cell_type": "markdown",
   "metadata": {},
   "source": [
    "### 1.4 Evaluación del modelo"
   ]
  },
  {
   "cell_type": "code",
   "execution_count": 11,
   "metadata": {},
   "outputs": [
    {
     "name": "stdout",
     "output_type": "stream",
     "text": [
      "La exactitud para el modelo de SVM en el conjunto de TEST es: 0.607 %\n",
      "\n",
      "La exactitud para el modelo de SVM en el conjunto de TRAIN es: 0.623 %\n",
      "\n",
      "=============== Classification Report ================\n",
      "              precision    recall  f1-score   support\n",
      "\n",
      "         0.0       0.63      0.41      0.50       135\n",
      "         1.0       0.60      0.79      0.68       150\n",
      "\n",
      "    accuracy                           0.61       285\n",
      "   macro avg       0.61      0.60      0.59       285\n",
      "weighted avg       0.61      0.61      0.59       285\n",
      "\n"
     ]
    }
   ],
   "source": [
    "predict = svc_clf.predict(X_test_bin)\n",
    "\n",
    "acc_test= svc_clf.score(X_test_bin, y_test_bin).round(4)\n",
    "acc_train= svc_clf.score(X_train_bin, y_train_bin).round(4)\n",
    "print('La exactitud para el modelo de SVM en el conjunto de TEST es:',acc_test,'%\\n')\n",
    "print('La exactitud para el modelo de SVM en el conjunto de TRAIN es:',acc_train,'%\\n')\n",
    "\n",
    "print(\"=============== Classification Report ================\")\n",
    "print(classification_report(y_test_bin, predict))"
   ]
  },
  {
   "cell_type": "code",
   "execution_count": 12,
   "metadata": {},
   "outputs": [
    {
     "data": {
      "text/html": [
       "<div>\n",
       "<style scoped>\n",
       "    .dataframe tbody tr th:only-of-type {\n",
       "        vertical-align: middle;\n",
       "    }\n",
       "\n",
       "    .dataframe tbody tr th {\n",
       "        vertical-align: top;\n",
       "    }\n",
       "\n",
       "    .dataframe thead th {\n",
       "        text-align: right;\n",
       "    }\n",
       "</style>\n",
       "<table border=\"1\" class=\"dataframe\">\n",
       "  <thead>\n",
       "    <tr style=\"text-align: right;\">\n",
       "      <th>Resultado del clasificador</th>\n",
       "      <th>0.0</th>\n",
       "      <th>1.0</th>\n",
       "    </tr>\n",
       "    <tr>\n",
       "      <th>Clase predicha</th>\n",
       "      <th></th>\n",
       "      <th></th>\n",
       "    </tr>\n",
       "  </thead>\n",
       "  <tbody>\n",
       "    <tr>\n",
       "      <th>0.0</th>\n",
       "      <td>55</td>\n",
       "      <td>80</td>\n",
       "    </tr>\n",
       "    <tr>\n",
       "      <th>1.0</th>\n",
       "      <td>32</td>\n",
       "      <td>118</td>\n",
       "    </tr>\n",
       "  </tbody>\n",
       "</table>\n",
       "</div>"
      ],
      "text/plain": [
       "Resultado del clasificador  0.0  1.0\n",
       "Clase predicha                      \n",
       "0.0                          55   80\n",
       "1.0                          32  118"
      ]
     },
     "execution_count": 12,
     "metadata": {},
     "output_type": "execute_result"
    }
   ],
   "source": [
    "matriz_confusion=pd.crosstab (y_test_bin,predict, rownames=['Clase predicha'], colnames=['Resultado del clasificador'])\n",
    "matriz_confusion"
   ]
  },
  {
   "cell_type": "markdown",
   "metadata": {},
   "source": [
    "### 1.5 Visualización de resultados\n",
    "A continuación se muestra un ejemplo de predicción con las 30 primeras muestras:"
   ]
  },
  {
   "cell_type": "code",
   "execution_count": 13,
   "metadata": {},
   "outputs": [
    {
     "data": {
      "text/plain": [
       "<matplotlib.legend.Legend at 0x1a3f821c4c8>"
      ]
     },
     "execution_count": 13,
     "metadata": {},
     "output_type": "execute_result"
    },
    {
     "data": {
      "image/png": "[encoded data removed]",
      "text/plain": [
       "<Figure size 1080x648 with 1 Axes>"
      ]
     },
     "metadata": {
      "needs_background": "light"
     },
     "output_type": "display_data"
    }
   ],
   "source": [
    "sujetos = len(y_test_bin[0:30])\n",
    "t = np.arange(0,sujetos)\n",
    "plt.figure(figsize=(15,9))\n",
    "plt.plot(t,y_test_bin[0:30],color='blue', marker='.',label='Real')\n",
    "plt.plot(t,predict[0:30],color='green', marker='.',label='Predicha')\n",
    "\n",
    "plt.title('Fase del sueño real vs. predicha en las primeras 30 muestras')\n",
    "plt.xlabel('Muestras')\n",
    "plt.ylabel('Fase del sueño')\n",
    "plt.legend()"
   ]
  },
  {
   "cell_type": "code",
   "execution_count": 14,
   "metadata": {},
   "outputs": [
    {
     "data": {
      "text/plain": [
       "<matplotlib.legend.Legend at 0x1a3f8225388>"
      ]
     },
     "execution_count": 14,
     "metadata": {},
     "output_type": "execute_result"
    },
    {
     "data": {
      "image/png": "[encoded data removed]",
      "text/plain": [
       "<Figure size 1080x648 with 1 Axes>"
      ]
     },
     "metadata": {
      "needs_background": "light"
     },
     "output_type": "display_data"
    }
   ],
   "source": [
    "sujetos = len(y_test_bin[0:30])\n",
    "t = np.arange(0,sujetos)\n",
    "plt.figure(figsize=(15,9))\n",
    "plt.plot(t,y_test_bin[0:30]-predict[0:30],color='purple', marker='.',label='Residuos')\n",
    "\n",
    "plt.title('RESIDUOS')\n",
    "plt.xlabel('Muestras')\n",
    "plt.ylabel('Fase del sueño')\n",
    "plt.legend()"
   ]
  },
  {
   "cell_type": "markdown",
   "metadata": {},
   "source": [
    "## 2. SVM MULTICLASE"
   ]
  },
  {
   "cell_type": "markdown",
   "metadata": {},
   "source": [
    "Este segundo clasificador SVM tiene una salida multiclase y clasifica tanto el estado de vigilia como las distintas etapas de sueño ligero y profundo: 0,1,2,3,5."
   ]
  },
  {
   "cell_type": "markdown",
   "metadata": {},
   "source": [
    "### 2.1 Preparación datos de entrada y salida"
   ]
  },
  {
   "cell_type": "code",
   "execution_count": 15,
   "metadata": {},
   "outputs": [],
   "source": [
    "Train_multi= pd.read_csv('Train_multiclass.csv')\n",
    "Test_multi= pd.read_csv('Test_multiclass.csv')"
   ]
  },
  {
   "cell_type": "code",
   "execution_count": 16,
   "metadata": {},
   "outputs": [],
   "source": [
    "X_train_multi=Train_multi.drop(['Etiquetas multiclase', 'Etiquetas binarias','ID'], axis = 1) \n",
    "y_train_multi=Train_multi['Etiquetas multiclase']\n",
    "\n",
    "X_test_multi=Test_multi.drop(['Etiquetas multiclase', 'Etiquetas binarias','ID'], axis = 1)\n",
    "y_test_multi=Test_multi['Etiquetas multiclase']"
   ]
  },
  {
   "cell_type": "markdown",
   "metadata": {},
   "source": [
    "### 2.2 Creación del modelo y selección parámetros libres"
   ]
  },
  {
   "cell_type": "code",
   "execution_count": 17,
   "metadata": {
    "scrolled": true
   },
   "outputs": [],
   "source": [
    "clf = SVC(kernel='linear',gamma=0.1,decision_function_shape='ovr')\n",
    "modelo_base=clf.fit(X_train_multi,y_train_multi)"
   ]
  },
  {
   "cell_type": "markdown",
   "metadata": {},
   "source": [
    "### 2.3 Búsqueda de parámetros con validación cruzada"
   ]
  },
  {
   "cell_type": "markdown",
   "metadata": {},
   "source": [
    "En primer lugar, se fija el valor de gamma y se deja el valor de C por defecto."
   ]
  },
  {
   "cell_type": "code",
   "execution_count": null,
   "metadata": {},
   "outputs": [],
   "source": [
    "Cs =[0.1,1,10,100,1000]\n",
    "param_grid = {'C': Cs}\n",
    "svc_grid = GridSearchCV(clf, param_grid, scoring='accuracy',cv=5,n_jobs=-1)\n",
    "svc_grid.fit(X_train_multi, y_train_multi)\n",
    "C=svc_grid.best_params_"
   ]
  },
  {
   "cell_type": "code",
   "execution_count": null,
   "metadata": {},
   "outputs": [],
   "source": [
    "svc_clf=svc_grid.best_estimator_"
   ]
  },
  {
   "cell_type": "code",
   "execution_count": null,
   "metadata": {},
   "outputs": [],
   "source": [
    "train_scores, test_scores = validation_curve(svc_clf, X_train_multi, y_train_multi, param_name=\"C\", param_range=Cs,cv=5)\n",
    "train_scores_mean = np.mean(train_scores, axis=1)\n",
    "test_scores_mean = np.mean(test_scores, axis=1)\n",
    "plt.title(\"Validation Curve with SVM \")\n",
    "plt.xlabel('C')\n",
    "plt.ylabel(\"Accuracy\")\n",
    "\n",
    "plt.plot(Cs, train_scores_mean, label=\"Training score\",color=\"navy\",marker='.')\n",
    "plt.plot(Cs, test_scores_mean, label=\"Cross-validation score\",color=\"darkorange\",marker='.')\n",
    "plt.grid()\n",
    "plt.legend(loc=\"best\")\n",
    "plt.show()"
   ]
  },
  {
   "cell_type": "code",
   "execution_count": null,
   "metadata": {},
   "outputs": [],
   "source": [
    "print(\"C que maximiza la accuracy:\",C)"
   ]
  },
  {
   "cell_type": "code",
   "execution_count": null,
   "metadata": {},
   "outputs": [],
   "source": [
    "print(\"Tasa de acierto del modelo base:\",modelo_base.score(X_test_multi,y_test_multi))\n",
    "print(\"Tasa de acierto con la busqueda de parámetros:\",svc_clf.score(X_test_multi,y_test_multi))\n",
    "print('Mejora  del {:0.2f}%.'.format( 100 * (svc_clf.score(X_test_multi,y_test_multi) - modelo_base.score(X_test_multi,y_test_multi)) / modelo_base.score(X_test_multi,y_test_multi)))"
   ]
  },
  {
   "cell_type": "markdown",
   "metadata": {},
   "source": [
    "### 2.4 Evaluación del modelo"
   ]
  },
  {
   "cell_type": "code",
   "execution_count": null,
   "metadata": {},
   "outputs": [],
   "source": [
    "predict = svc_clf.predict(X_test_multi)\n",
    "\n",
    "acc_test= svc_clf.score(X_test_multi, y_test_multi).round(4)\n",
    "acc_train= svc_clf.score(X_train_multi, y_train_multi).round(4)\n",
    "\n",
    "print('La exactitud para el modelo de SVM en el conjunto de TEST es:',acc_test,'\\n')\n",
    "print('La exactitud para el modelo de SVM en el conjunto de TRAIN es:',acc_train,'\\n')\n",
    "\n",
    "print(\"=============== Classification Report ================\")\n",
    "print(classification_report(y_test_multi, predict))"
   ]
  },
  {
   "cell_type": "code",
   "execution_count": null,
   "metadata": {},
   "outputs": [],
   "source": [
    "matriz_confusion=pd.crosstab(y_test_multi,predict, rownames=['Clase predicha'], colnames=['Resultado del clasificador'])\n",
    "matriz_confusion"
   ]
  },
  {
   "cell_type": "markdown",
   "metadata": {},
   "source": [
    "### 2.5 Visualización de resultados"
   ]
  },
  {
   "cell_type": "code",
   "execution_count": null,
   "metadata": {},
   "outputs": [],
   "source": [
    "sujetos = len(y_test_multi)\n",
    "t = np.arange(0,sujetos)\n",
    "plt.figure(figsize=(15,9))\n",
    "plt.plot(t,y_test_multi,color='blue', marker='.',label='Real')\n",
    "plt.plot(t,predict,color='green', marker='.',label='Predicha')\n",
    "\n",
    "plt.title('Fase del sueño real vs. predicha en los primeros 30s')\n",
    "plt.xlabel('Muestras')\n",
    "plt.ylabel('Fase del sueño')\n",
    "plt.legend()"
   ]
  },
  {
   "cell_type": "markdown",
   "metadata": {},
   "source": [
    "**Residuos**"
   ]
  },
  {
   "cell_type": "code",
   "execution_count": null,
   "metadata": {},
   "outputs": [],
   "source": [
    "sujetos = len(y_test_multi)\n",
    "t = np.arange(0,sujetos)\n",
    "plt.figure(figsize=(15,9))\n",
    "plt.plot(t,y_test_multi-predict,color='purple', marker='.',label='Residuos')\n",
    "\n",
    "plt.title('RESIDUOS')\n",
    "plt.xlabel('Muestras')\n",
    "plt.ylabel('Fase del sueño')\n",
    "plt.legend()"
   ]
  },
  {
   "cell_type": "markdown",
   "metadata": {},
   "source": [
    "* Estimamos parámetro por parámetro porque hacer los dos a la vez tarda mucho\n",
    "* No se por qué pero al poner kernel='rbf' se hace todo rapidisimo pero solo reconoce una clase (no lo hace nada bien pero va rapido).\n",
    "* No se detectan todas las clases en el multiclase --> necesitamos entrenar con mas datos y luego probar a estimar un parámetro y el otro como en el binario\n",
    "* Baja accuracy en multiclase"
   ]
  },
  {
   "cell_type": "code",
   "execution_count": null,
   "metadata": {},
   "outputs": [],
   "source": []
  }
 ],
 "metadata": {
  "kernelspec": {
   "display_name": "Python 3",
   "language": "python",
   "name": "python3"
  },
  "language_info": {
   "codemirror_mode": {
    "name": "ipython",
    "version": 3
   },
   "file_extension": ".py",
   "mimetype": "text/x-python",
   "name": "python",
   "nbconvert_exporter": "python",
   "pygments_lexer": "ipython3",
   "version": "3.7.4"
  }
 },
 "nbformat": 4,
 "nbformat_minor": 2
}
