{
 "cells": [
  {
   "cell_type": "markdown",
   "metadata": {},
   "source": [
    "<center> <h1>PREDICIÓN DEL SUEÑO CON RANDOM FOREST</h1> </center>\n",
    "<center> <h4>Noemi González, Roberto Holgado y Carmen Plaza seco</h4> </center>\n",
    "\n",
    "\n",
    "###### Indice\n",
    "\n",
    "En este jupyter notebook se lleva a cabo la construcción de un clasificador Random Forest tanto de salida binaria como multiclase para predecir tanto el estado de vigilia de los pacientes como el estado de sueño y sus distintas fases.\n",
    "\n",
    "* **1. Cargar datos Train-Test**\n",
    "  * **1.1 Preparación datos de entrada y salida**\n",
    "* **2. Clasificador Random Forest Binario**\n",
    "   * **2.1 Creación del modelo y selección parámetros libres**\n",
    "   * **2.2 Búsqueda de parámetros con validación cruzada**\n",
    "   * **2.3 Evaluación del modelo**\n",
    "* **3. Clasficador Random Forest Multiclase**\n",
    "   * **3.1 Creación del modelo y selección parámetros libres**\n",
    "   * **3.2 Búsqueda de parámetros con validación cruzada**\n",
    "   * **3.3 Evaluación del modelo**\n",
    "   * **3.4 Visualización de residuos** "
   ]
  },
  {
   "cell_type": "markdown",
   "metadata": {},
   "source": [
    "IMPORTAR MÓDULOS"
   ]
  },
  {
   "cell_type": "code",
   "execution_count": 1,
   "metadata": {},
   "outputs": [],
   "source": [
    "import numpy as np\n",
    "import pandas as pd\n",
    "import os\n",
    "import matplotlib.pyplot as plt\n",
    "from sklearn import tree\n",
    "from sklearn.model_selection import train_test_split\n",
    "from sklearn.metrics import confusion_matrix\n",
    "import statistics as stats\n",
    "from sklearn.model_selection import GridSearchCV\n",
    "from random import sample\n",
    "from sklearn.metrics import classification_report\n",
    "from sklearn.model_selection import RandomizedSearchCV\n",
    "from sklearn.model_selection import cross_val_score\n",
    "from sklearn.model_selection import validation_curve\n",
    "from sklearn.metrics import explained_variance_score,r2_score,mean_squared_error"
   ]
  },
  {
   "cell_type": "markdown",
   "metadata": {},
   "source": [
    "## 1. CARGAR DATOS TRAIN-TEST"
   ]
  },
  {
   "cell_type": "markdown",
   "metadata": {},
   "source": [
    "Se cargan los datos de train y test generados en los jupyter notebooks 'Nombre de los jupyter', en los que procesan los datos y se obtienen las características que se utilizan para entrenar los clasificadores. \n",
    "\n",
    "En el siguiente apartado se preparan los datos para seleccionar una salida binaria o multiclase según el clasificador que se vaya a utilizar."
   ]
  },
  {
   "cell_type": "markdown",
   "metadata": {},
   "source": [
    "### 2.1 Preparación datos de entrada y salida"
   ]
  },
  {
   "cell_type": "code",
   "execution_count": 2,
   "metadata": {},
   "outputs": [],
   "source": [
    "#Train\n",
    "Train= pd.read_csv('Train.csv')\n",
    "#.drop(['Unnamed: 0'], axis = 1)\n",
    "Test= pd.read_csv('Test.csv')\n",
    "#.drop(['Unnamed: 0'], axis = 1)"
   ]
  },
  {
   "cell_type": "code",
   "execution_count": 3,
   "metadata": {},
   "outputs": [
    {
     "data": {
      "text/html": [
       "<div>\n",
       "<style scoped>\n",
       "    .dataframe tbody tr th:only-of-type {\n",
       "        vertical-align: middle;\n",
       "    }\n",
       "\n",
       "    .dataframe tbody tr th {\n",
       "        vertical-align: top;\n",
       "    }\n",
       "\n",
       "    .dataframe thead th {\n",
       "        text-align: right;\n",
       "    }\n",
       "</style>\n",
       "<table border=\"1\" class=\"dataframe\">\n",
       "  <thead>\n",
       "    <tr style=\"text-align: right;\">\n",
       "      <th></th>\n",
       "      <th>Min_hr</th>\n",
       "      <th>Max_hr</th>\n",
       "      <th>Mean_hr</th>\n",
       "      <th>Men_acc_sqrt</th>\n",
       "      <th>Min_acc_x</th>\n",
       "      <th>Max_acc_x</th>\n",
       "      <th>Mean_acc_x</th>\n",
       "      <th>Min_acc_y</th>\n",
       "      <th>Max_acc_y</th>\n",
       "      <th>Mean_acc_y</th>\n",
       "      <th>Min_acc_z</th>\n",
       "      <th>Max_acc_z</th>\n",
       "      <th>Mean_acc_z</th>\n",
       "      <th>Etiquetas</th>\n",
       "      <th>Etiquetas binarias</th>\n",
       "      <th>ID</th>\n",
       "    </tr>\n",
       "  </thead>\n",
       "  <tbody>\n",
       "    <tr>\n",
       "      <td>0</td>\n",
       "      <td>49.0</td>\n",
       "      <td>54.0</td>\n",
       "      <td>50.83</td>\n",
       "      <td>1.00</td>\n",
       "      <td>0.40</td>\n",
       "      <td>0.41</td>\n",
       "      <td>0.40</td>\n",
       "      <td>0.45</td>\n",
       "      <td>0.46</td>\n",
       "      <td>0.46</td>\n",
       "      <td>-0.80</td>\n",
       "      <td>-0.79</td>\n",
       "      <td>-0.79</td>\n",
       "      <td>0.0</td>\n",
       "      <td>0.0</td>\n",
       "      <td>0.0</td>\n",
       "    </tr>\n",
       "    <tr>\n",
       "      <td>1</td>\n",
       "      <td>59.0</td>\n",
       "      <td>59.0</td>\n",
       "      <td>59.00</td>\n",
       "      <td>0.99</td>\n",
       "      <td>-0.04</td>\n",
       "      <td>-0.03</td>\n",
       "      <td>-0.03</td>\n",
       "      <td>0.51</td>\n",
       "      <td>0.52</td>\n",
       "      <td>0.51</td>\n",
       "      <td>-0.86</td>\n",
       "      <td>-0.84</td>\n",
       "      <td>-0.85</td>\n",
       "      <td>0.0</td>\n",
       "      <td>0.0</td>\n",
       "      <td>0.0</td>\n",
       "    </tr>\n",
       "    <tr>\n",
       "      <td>2</td>\n",
       "      <td>52.0</td>\n",
       "      <td>53.0</td>\n",
       "      <td>52.83</td>\n",
       "      <td>0.99</td>\n",
       "      <td>-0.04</td>\n",
       "      <td>-0.03</td>\n",
       "      <td>-0.04</td>\n",
       "      <td>0.44</td>\n",
       "      <td>0.46</td>\n",
       "      <td>0.45</td>\n",
       "      <td>-0.90</td>\n",
       "      <td>-0.88</td>\n",
       "      <td>-0.88</td>\n",
       "      <td>1.0</td>\n",
       "      <td>1.0</td>\n",
       "      <td>0.0</td>\n",
       "    </tr>\n",
       "    <tr>\n",
       "      <td>3</td>\n",
       "      <td>56.0</td>\n",
       "      <td>59.0</td>\n",
       "      <td>58.00</td>\n",
       "      <td>0.99</td>\n",
       "      <td>-0.04</td>\n",
       "      <td>-0.04</td>\n",
       "      <td>-0.04</td>\n",
       "      <td>0.45</td>\n",
       "      <td>0.45</td>\n",
       "      <td>0.45</td>\n",
       "      <td>-0.89</td>\n",
       "      <td>-0.88</td>\n",
       "      <td>-0.88</td>\n",
       "      <td>2.0</td>\n",
       "      <td>1.0</td>\n",
       "      <td>0.0</td>\n",
       "    </tr>\n",
       "    <tr>\n",
       "      <td>4</td>\n",
       "      <td>61.0</td>\n",
       "      <td>61.0</td>\n",
       "      <td>61.00</td>\n",
       "      <td>0.99</td>\n",
       "      <td>-0.05</td>\n",
       "      <td>-0.04</td>\n",
       "      <td>-0.05</td>\n",
       "      <td>0.45</td>\n",
       "      <td>0.46</td>\n",
       "      <td>0.46</td>\n",
       "      <td>-0.88</td>\n",
       "      <td>-0.88</td>\n",
       "      <td>-0.88</td>\n",
       "      <td>3.0</td>\n",
       "      <td>1.0</td>\n",
       "      <td>0.0</td>\n",
       "    </tr>\n",
       "    <tr>\n",
       "      <td>...</td>\n",
       "      <td>...</td>\n",
       "      <td>...</td>\n",
       "      <td>...</td>\n",
       "      <td>...</td>\n",
       "      <td>...</td>\n",
       "      <td>...</td>\n",
       "      <td>...</td>\n",
       "      <td>...</td>\n",
       "      <td>...</td>\n",
       "      <td>...</td>\n",
       "      <td>...</td>\n",
       "      <td>...</td>\n",
       "      <td>...</td>\n",
       "      <td>...</td>\n",
       "      <td>...</td>\n",
       "      <td>...</td>\n",
       "    </tr>\n",
       "    <tr>\n",
       "      <td>715</td>\n",
       "      <td>52.0</td>\n",
       "      <td>59.0</td>\n",
       "      <td>55.67</td>\n",
       "      <td>1.00</td>\n",
       "      <td>-0.30</td>\n",
       "      <td>-0.29</td>\n",
       "      <td>-0.30</td>\n",
       "      <td>0.05</td>\n",
       "      <td>0.06</td>\n",
       "      <td>0.06</td>\n",
       "      <td>0.95</td>\n",
       "      <td>0.96</td>\n",
       "      <td>0.96</td>\n",
       "      <td>2.0</td>\n",
       "      <td>1.0</td>\n",
       "      <td>16.0</td>\n",
       "    </tr>\n",
       "    <tr>\n",
       "      <td>716</td>\n",
       "      <td>58.0</td>\n",
       "      <td>62.0</td>\n",
       "      <td>59.00</td>\n",
       "      <td>1.00</td>\n",
       "      <td>-0.30</td>\n",
       "      <td>-0.30</td>\n",
       "      <td>-0.30</td>\n",
       "      <td>0.05</td>\n",
       "      <td>0.06</td>\n",
       "      <td>0.06</td>\n",
       "      <td>0.95</td>\n",
       "      <td>0.96</td>\n",
       "      <td>0.96</td>\n",
       "      <td>2.0</td>\n",
       "      <td>1.0</td>\n",
       "      <td>16.0</td>\n",
       "    </tr>\n",
       "    <tr>\n",
       "      <td>717</td>\n",
       "      <td>53.0</td>\n",
       "      <td>65.0</td>\n",
       "      <td>57.40</td>\n",
       "      <td>1.00</td>\n",
       "      <td>-0.25</td>\n",
       "      <td>-0.24</td>\n",
       "      <td>-0.24</td>\n",
       "      <td>0.13</td>\n",
       "      <td>0.13</td>\n",
       "      <td>0.13</td>\n",
       "      <td>0.96</td>\n",
       "      <td>0.97</td>\n",
       "      <td>0.97</td>\n",
       "      <td>5.0</td>\n",
       "      <td>0.0</td>\n",
       "      <td>16.0</td>\n",
       "    </tr>\n",
       "    <tr>\n",
       "      <td>718</td>\n",
       "      <td>80.0</td>\n",
       "      <td>91.0</td>\n",
       "      <td>82.50</td>\n",
       "      <td>1.00</td>\n",
       "      <td>-0.54</td>\n",
       "      <td>-0.53</td>\n",
       "      <td>-0.54</td>\n",
       "      <td>-0.03</td>\n",
       "      <td>0.04</td>\n",
       "      <td>-0.01</td>\n",
       "      <td>0.84</td>\n",
       "      <td>0.85</td>\n",
       "      <td>0.85</td>\n",
       "      <td>1.0</td>\n",
       "      <td>1.0</td>\n",
       "      <td>16.0</td>\n",
       "    </tr>\n",
       "    <tr>\n",
       "      <td>719</td>\n",
       "      <td>54.0</td>\n",
       "      <td>55.0</td>\n",
       "      <td>54.20</td>\n",
       "      <td>1.00</td>\n",
       "      <td>-0.51</td>\n",
       "      <td>-0.50</td>\n",
       "      <td>-0.51</td>\n",
       "      <td>-0.19</td>\n",
       "      <td>-0.18</td>\n",
       "      <td>-0.19</td>\n",
       "      <td>0.84</td>\n",
       "      <td>0.85</td>\n",
       "      <td>0.85</td>\n",
       "      <td>2.0</td>\n",
       "      <td>1.0</td>\n",
       "      <td>16.0</td>\n",
       "    </tr>\n",
       "  </tbody>\n",
       "</table>\n",
       "<p>720 rows × 16 columns</p>\n",
       "</div>"
      ],
      "text/plain": [
       "     Min_hr  Max_hr  Mean_hr  Men_acc_sqrt  Min_acc_x  Max_acc_x  Mean_acc_x  \\\n",
       "0      49.0    54.0    50.83          1.00       0.40       0.41        0.40   \n",
       "1      59.0    59.0    59.00          0.99      -0.04      -0.03       -0.03   \n",
       "2      52.0    53.0    52.83          0.99      -0.04      -0.03       -0.04   \n",
       "3      56.0    59.0    58.00          0.99      -0.04      -0.04       -0.04   \n",
       "4      61.0    61.0    61.00          0.99      -0.05      -0.04       -0.05   \n",
       "..      ...     ...      ...           ...        ...        ...         ...   \n",
       "715    52.0    59.0    55.67          1.00      -0.30      -0.29       -0.30   \n",
       "716    58.0    62.0    59.00          1.00      -0.30      -0.30       -0.30   \n",
       "717    53.0    65.0    57.40          1.00      -0.25      -0.24       -0.24   \n",
       "718    80.0    91.0    82.50          1.00      -0.54      -0.53       -0.54   \n",
       "719    54.0    55.0    54.20          1.00      -0.51      -0.50       -0.51   \n",
       "\n",
       "     Min_acc_y  Max_acc_y  Mean_acc_y  Min_acc_z  Max_acc_z  Mean_acc_z  \\\n",
       "0         0.45       0.46        0.46      -0.80      -0.79       -0.79   \n",
       "1         0.51       0.52        0.51      -0.86      -0.84       -0.85   \n",
       "2         0.44       0.46        0.45      -0.90      -0.88       -0.88   \n",
       "3         0.45       0.45        0.45      -0.89      -0.88       -0.88   \n",
       "4         0.45       0.46        0.46      -0.88      -0.88       -0.88   \n",
       "..         ...        ...         ...        ...        ...         ...   \n",
       "715       0.05       0.06        0.06       0.95       0.96        0.96   \n",
       "716       0.05       0.06        0.06       0.95       0.96        0.96   \n",
       "717       0.13       0.13        0.13       0.96       0.97        0.97   \n",
       "718      -0.03       0.04       -0.01       0.84       0.85        0.85   \n",
       "719      -0.19      -0.18       -0.19       0.84       0.85        0.85   \n",
       "\n",
       "     Etiquetas  Etiquetas binarias    ID  \n",
       "0          0.0                 0.0   0.0  \n",
       "1          0.0                 0.0   0.0  \n",
       "2          1.0                 1.0   0.0  \n",
       "3          2.0                 1.0   0.0  \n",
       "4          3.0                 1.0   0.0  \n",
       "..         ...                 ...   ...  \n",
       "715        2.0                 1.0  16.0  \n",
       "716        2.0                 1.0  16.0  \n",
       "717        5.0                 0.0  16.0  \n",
       "718        1.0                 1.0  16.0  \n",
       "719        2.0                 1.0  16.0  \n",
       "\n",
       "[720 rows x 16 columns]"
      ]
     },
     "execution_count": 3,
     "metadata": {},
     "output_type": "execute_result"
    }
   ],
   "source": [
    "Train"
   ]
  },
  {
   "cell_type": "code",
   "execution_count": 4,
   "metadata": {},
   "outputs": [],
   "source": [
    "X_train=Train.drop(['Etiquetas', 'Etiquetas binarias','ID'], axis = 1) \n",
    "y_train_bin=Train['Etiquetas binarias']\n",
    "y_train_multi=Train['Etiquetas']\n",
    "\n",
    "X_test=Test.drop(['Etiquetas', 'Etiquetas binarias','ID'], axis = 1)\n",
    "y_test_bin=Test['Etiquetas binarias']\n",
    "y_test_multi=Test['Etiquetas']"
   ]
  },
  {
   "cell_type": "markdown",
   "metadata": {},
   "source": [
    "## 2. CLASIFICADOR RANDOM FOREST BINARIO"
   ]
  },
  {
   "cell_type": "markdown",
   "metadata": {},
   "source": [
    "En este primer clasificador, se ha utilizado el método Random Forest para clasificar la vigilia o sueño ligero del sueño profundo. Es decir, se ha construido un clasificador Random Forest con salida binaria."
   ]
  },
  {
   "cell_type": "markdown",
   "metadata": {},
   "source": [
    "### 2.1  Creación del modelo y selección parámetros libres"
   ]
  },
  {
   "cell_type": "markdown",
   "metadata": {},
   "source": [
    "En primer lugar, se construye un clasificador Random Forest de salida binaria sin búsqueda de parámetros para compararlo con uno con búsqueda de parámetros y ver si realmente es eficiente esta búsqueda."
   ]
  },
  {
   "cell_type": "code",
   "execution_count": 5,
   "metadata": {},
   "outputs": [],
   "source": [
    "clf= tree.DecisionTreeClassifier()\n",
    "modelo_base=clf.fit(X_train,y_train_bin)"
   ]
  },
  {
   "cell_type": "code",
   "execution_count": 6,
   "metadata": {},
   "outputs": [
    {
     "data": {
      "text/plain": [
       "DecisionTreeClassifier(class_weight=None, criterion='gini', max_depth=None,\n",
       "                       max_features=None, max_leaf_nodes=None,\n",
       "                       min_impurity_decrease=0.0, min_impurity_split=None,\n",
       "                       min_samples_leaf=1, min_samples_split=2,\n",
       "                       min_weight_fraction_leaf=0.0, presort=False,\n",
       "                       random_state=None, splitter='best')"
      ]
     },
     "execution_count": 6,
     "metadata": {},
     "output_type": "execute_result"
    }
   ],
   "source": [
    "clf"
   ]
  },
  {
   "cell_type": "markdown",
   "metadata": {},
   "source": [
    "### 2.2 Búsqueda de parámetros con validación cruzada."
   ]
  },
  {
   "cell_type": "markdown",
   "metadata": {},
   "source": [
    "A conitnuación, se realiza la búsqueda de los mejores parámetros: máxima profundidad y minimo número de casos en cada nodo. Con ello, se busca maximizar la exactitud del modelo (accuracy)."
   ]
  },
  {
   "cell_type": "code",
   "execution_count": 7,
   "metadata": {},
   "outputs": [],
   "source": [
    "max_depth=range(1,20)\n",
    "min_samples_leaf=range(10,100)\n",
    "\n",
    "param = {'max_depth': max_depth, 'min_samples_leaf': min_samples_leaf}\n",
    "tree_grid = GridSearchCV(clf, param_grid=param, scoring= 'accuracy', iid=True,cv=5, n_jobs=-1)\n",
    "tree_grid.fit(X_train,y_train_bin)\n",
    "best_parameters = tree_grid.best_params_"
   ]
  },
  {
   "cell_type": "code",
   "execution_count": 8,
   "metadata": {},
   "outputs": [],
   "source": [
    "# Clasificador con los mejores parámetros\n",
    "tree_clf=tree_grid.best_estimator_"
   ]
  },
  {
   "cell_type": "code",
   "execution_count": 9,
   "metadata": {},
   "outputs": [
    {
     "data": {
      "image/png": "[encoded data removed]",
      "text/plain": [
       "<Figure size 432x288 with 1 Axes>"
      ]
     },
     "metadata": {
      "needs_background": "light"
     },
     "output_type": "display_data"
    },
    {
     "data": {
      "image/png": "[encoded data removed]",
      "text/plain": [
       "<Figure size 432x288 with 1 Axes>"
      ]
     },
     "metadata": {
      "needs_background": "light"
     },
     "output_type": "display_data"
    }
   ],
   "source": [
    "#max depth\n",
    "train_scores, test_scores = validation_curve(clf, X_train, y_train_bin, param_name=\"max_depth\", param_range=max_depth, cv=5, scoring=\"accuracy\")\n",
    "train_scores_mean = np.mean(train_scores, axis=1)\n",
    "test_scores_mean = np.mean(test_scores, axis=1)\n",
    "plt.title(\"Validation Curve with decision tree \")\n",
    "plt.xlabel('max depth')\n",
    "plt.ylabel(\"Score\")\n",
    "\n",
    "plt.plot(max_depth, train_scores_mean, label=\"Training score\",color=\"navy\",marker='.')\n",
    "plt.plot(max_depth, test_scores_mean, label=\"Cross-validation score\",color=\"darkorange\",marker='.')\n",
    "plt.grid()\n",
    "plt.legend(loc=\"best\")\n",
    "plt.show()\n",
    "\n",
    "#min samples leaf\n",
    "train_scores, test_scores = validation_curve(clf, X_train, y_train_bin, param_name=\"min_samples_leaf\", param_range=min_samples_leaf,cv=5, scoring=\"accuracy\")\n",
    "train_scores_mean = np.mean(train_scores, axis=1)\n",
    "test_scores_mean = np.mean(test_scores, axis=1)\n",
    "\n",
    "plt.title(\"Validation Curve with decision tree\")\n",
    "plt.xlabel('min samples leaf')\n",
    "plt.ylabel(\"Score\")\n",
    "\n",
    "plt.plot(min_samples_leaf, train_scores_mean, label=\"Training score\",color=\"navy\",marker='.')\n",
    "plt.plot(min_samples_leaf, test_scores_mean, label=\"Cross-validation score\",color=\"darkorange\",marker='.')\n",
    "plt.grid()\n",
    "plt.legend(loc=\"best\")\n",
    "plt.show()"
   ]
  },
  {
   "cell_type": "code",
   "execution_count": 10,
   "metadata": {},
   "outputs": [
    {
     "name": "stdout",
     "output_type": "stream",
     "text": [
      "Los parámetros seleccionados por la función GridSearch son: {'max_depth': 3, 'min_samples_leaf': 19}\n"
     ]
    }
   ],
   "source": [
    "print('Los parámetros seleccionados por la función GridSearch son:',best_parameters)"
   ]
  },
  {
   "cell_type": "code",
   "execution_count": 11,
   "metadata": {},
   "outputs": [
    {
     "name": "stdout",
     "output_type": "stream",
     "text": [
      "Tasa de acierto del modelo base: 0.6047619047619047\n",
      "Tasa de acierto con la busqueda de parámetros: 0.7285714285714285\n",
      "Mejora  del 20.47%.\n"
     ]
    }
   ],
   "source": [
    "print(\"Tasa de acierto del modelo base:\",modelo_base.score(X_test,y_test_bin))\n",
    "print(\"Tasa de acierto con la busqueda de parámetros:\",tree_clf.score(X_test,y_test_bin))\n",
    "\n",
    "#Mejora\n",
    "print('Mejora  del {:0.2f}%.'.format( 100 * (tree_clf.score(X_test,y_test_bin) - modelo_base.score(X_test,y_test_bin)) / modelo_base.score(X_test,y_test_bin)))"
   ]
  },
  {
   "cell_type": "markdown",
   "metadata": {},
   "source": [
    "### 2.3 Evaluación del modelo"
   ]
  },
  {
   "cell_type": "code",
   "execution_count": 12,
   "metadata": {},
   "outputs": [
    {
     "name": "stdout",
     "output_type": "stream",
     "text": [
      "La exactitud para el modelo de árboles de decisión en el conjunto de TEST es: 0.7286 \n",
      "\n",
      "La exactitud para el modelo de árboles de decisión en el conjunto de TRAIN es: 0.7458 \n",
      "\n",
      "Confusion Matrix\n",
      "[[ 12  42]\n",
      " [ 15 141]] \n",
      "\n",
      "================Classification Report=================\n",
      "              precision    recall  f1-score   support\n",
      "\n",
      "         0.0       0.44      0.22      0.30        54\n",
      "         1.0       0.77      0.90      0.83       156\n",
      "\n",
      "    accuracy                           0.73       210\n",
      "   macro avg       0.61      0.56      0.56       210\n",
      "weighted avg       0.69      0.73      0.69       210\n",
      "\n"
     ]
    }
   ],
   "source": [
    "predict = tree_clf.predict(X_test)\n",
    "\n",
    "acc_test= tree_clf.score(X_test, y_test_bin).round(4)\n",
    "acc_train= tree_clf.score(X_train, y_train_bin).round(4)\n",
    "print('La exactitud para el modelo de árboles de decisión en el conjunto de TEST es:', acc_test,'\\n')\n",
    "print('La exactitud para el modelo de árboles de decisión en el conjunto de TRAIN es:', acc_train,'\\n')\n",
    "\n",
    "print(\"Confusion Matrix\")\n",
    "print(confusion_matrix(y_test_bin, predict),'\\n')\n",
    "print(\"================Classification Report=================\")\n",
    "print(classification_report(y_test_bin, predict))"
   ]
  },
  {
   "cell_type": "code",
   "execution_count": 13,
   "metadata": {},
   "outputs": [],
   "source": [
    "matriz_confusion=pd.crosstab(y_test_bin,predict, rownames=['Clase predicha'], colnames=['Resultado del clasificador'])"
   ]
  },
  {
   "cell_type": "code",
   "execution_count": 14,
   "metadata": {},
   "outputs": [
    {
     "data": {
      "text/html": [
       "<div>\n",
       "<style scoped>\n",
       "    .dataframe tbody tr th:only-of-type {\n",
       "        vertical-align: middle;\n",
       "    }\n",
       "\n",
       "    .dataframe tbody tr th {\n",
       "        vertical-align: top;\n",
       "    }\n",
       "\n",
       "    .dataframe thead th {\n",
       "        text-align: right;\n",
       "    }\n",
       "</style>\n",
       "<table border=\"1\" class=\"dataframe\">\n",
       "  <thead>\n",
       "    <tr style=\"text-align: right;\">\n",
       "      <th>Resultado del clasificador</th>\n",
       "      <th>0.0</th>\n",
       "      <th>1.0</th>\n",
       "    </tr>\n",
       "    <tr>\n",
       "      <th>Clase predicha</th>\n",
       "      <th></th>\n",
       "      <th></th>\n",
       "    </tr>\n",
       "  </thead>\n",
       "  <tbody>\n",
       "    <tr>\n",
       "      <td>0.0</td>\n",
       "      <td>12</td>\n",
       "      <td>42</td>\n",
       "    </tr>\n",
       "    <tr>\n",
       "      <td>1.0</td>\n",
       "      <td>15</td>\n",
       "      <td>141</td>\n",
       "    </tr>\n",
       "  </tbody>\n",
       "</table>\n",
       "</div>"
      ],
      "text/plain": [
       "Resultado del clasificador  0.0  1.0\n",
       "Clase predicha                      \n",
       "0.0                          12   42\n",
       "1.0                          15  141"
      ]
     },
     "execution_count": 14,
     "metadata": {},
     "output_type": "execute_result"
    }
   ],
   "source": [
    "matriz_confusion"
   ]
  },
  {
   "cell_type": "markdown",
   "metadata": {},
   "source": [
    "## 3. CLASIFICADOR RANDOM FOREST MULTICLASE"
   ]
  },
  {
   "cell_type": "markdown",
   "metadata": {},
   "source": [
    "Este segundo clasificador Random Forest tiene una salida multiclase y clasifica tanto el estado de vigilia como las distintas etapas de sueño ligero y profundo."
   ]
  },
  {
   "cell_type": "markdown",
   "metadata": {},
   "source": [
    "### 3.1  Creación del modelo y selección parámetros libres"
   ]
  },
  {
   "cell_type": "markdown",
   "metadata": {},
   "source": [
    "En primer lugar, se construye un clasificador Random Forest de salida multiclase sin búsqueda de parámetros para compararlo con uno con búsqueda de parámetros y ver si realmente es eficiente esta búsqueda."
   ]
  },
  {
   "cell_type": "code",
   "execution_count": 15,
   "metadata": {},
   "outputs": [],
   "source": [
    "clf= tree.DecisionTreeClassifier()\n",
    "modelo_base=clf.fit(X_train,y_train_multi)"
   ]
  },
  {
   "cell_type": "code",
   "execution_count": 16,
   "metadata": {},
   "outputs": [
    {
     "data": {
      "text/plain": [
       "DecisionTreeClassifier(class_weight=None, criterion='gini', max_depth=None,\n",
       "                       max_features=None, max_leaf_nodes=None,\n",
       "                       min_impurity_decrease=0.0, min_impurity_split=None,\n",
       "                       min_samples_leaf=1, min_samples_split=2,\n",
       "                       min_weight_fraction_leaf=0.0, presort=False,\n",
       "                       random_state=None, splitter='best')"
      ]
     },
     "execution_count": 16,
     "metadata": {},
     "output_type": "execute_result"
    }
   ],
   "source": [
    "clf"
   ]
  },
  {
   "cell_type": "markdown",
   "metadata": {},
   "source": [
    "### 3.2  Búsqueda de parámetros con validación cruzada."
   ]
  },
  {
   "cell_type": "markdown",
   "metadata": {},
   "source": [
    "A conitnuación, se realiza la búsqueda de los mejores parámetros: máxima profundidad y minimo número de casos en cada nodo. Con ello, se busca maximizar la exactitud del modelo (accuracy)."
   ]
  },
  {
   "cell_type": "code",
   "execution_count": 17,
   "metadata": {},
   "outputs": [],
   "source": [
    "max_depth=range(1,20)\n",
    "min_samples_leaf=range(10,100)\n",
    "\n",
    "param = {'max_depth': max_depth, 'min_samples_leaf': min_samples_leaf}\n",
    "tree_grid = GridSearchCV(clf, param_grid=param, scoring= 'accuracy', iid=True,cv=5, n_jobs=-1)\n",
    "tree_grid.fit(X_train,y_train_multi)\n",
    "best_parameters = tree_grid.best_params_"
   ]
  },
  {
   "cell_type": "code",
   "execution_count": 18,
   "metadata": {},
   "outputs": [],
   "source": [
    "# Clasificador con los mejores parámetros\n",
    "tree_clf=tree_grid.best_estimator_"
   ]
  },
  {
   "cell_type": "code",
   "execution_count": 19,
   "metadata": {},
   "outputs": [
    {
     "data": {
      "image/png": "[encoded data removed]",
      "text/plain": [
       "<Figure size 432x288 with 1 Axes>"
      ]
     },
     "metadata": {
      "needs_background": "light"
     },
     "output_type": "display_data"
    },
    {
     "data": {
      "image/png": "[encoded data removed]",
      "text/plain": [
       "<Figure size 432x288 with 1 Axes>"
      ]
     },
     "metadata": {
      "needs_background": "light"
     },
     "output_type": "display_data"
    }
   ],
   "source": [
    "#max depth\n",
    "train_scores, test_scores = validation_curve(clf, X_train, y_train_multi, param_name=\"max_depth\", param_range=max_depth, cv=5, scoring=\"accuracy\")\n",
    "train_scores_mean = np.mean(train_scores, axis=1)\n",
    "test_scores_mean = np.mean(test_scores, axis=1)\n",
    "plt.title(\"Validation Curve with decision tree \")\n",
    "plt.xlabel('max depth')\n",
    "plt.ylabel(\"Score\")\n",
    "\n",
    "plt.plot(max_depth, train_scores_mean, label=\"Training score\",color=\"navy\",marker='.')\n",
    "plt.plot(max_depth, test_scores_mean, label=\"Cross-validation score\",color=\"darkorange\",marker='.')\n",
    "plt.grid()\n",
    "plt.legend(loc=\"best\")\n",
    "plt.show()\n",
    "\n",
    "#min samples leaf\n",
    "train_scores, test_scores = validation_curve(clf, X_train, y_train_multi, param_name=\"min_samples_leaf\", param_range=min_samples_leaf,cv=5, scoring=\"accuracy\")\n",
    "train_scores_mean = np.mean(train_scores, axis=1)\n",
    "test_scores_mean = np.mean(test_scores, axis=1)\n",
    "\n",
    "plt.title(\"Validation Curve with decision tree\")\n",
    "plt.xlabel('min samples leaf')\n",
    "plt.ylabel(\"Score\")\n",
    "\n",
    "plt.plot(min_samples_leaf, train_scores_mean, label=\"Training score\",color=\"navy\",marker='.')\n",
    "plt.plot(min_samples_leaf, test_scores_mean, label=\"Cross-validation score\",color=\"darkorange\",marker='.')\n",
    "plt.grid()\n",
    "plt.legend(loc=\"best\")\n",
    "plt.show()"
   ]
  },
  {
   "cell_type": "code",
   "execution_count": 20,
   "metadata": {},
   "outputs": [
    {
     "name": "stdout",
     "output_type": "stream",
     "text": [
      "El par de parámetros estimados por GridSearch que máximiza la accuracy es: {'max_depth': 3, 'min_samples_leaf': 11}\n"
     ]
    }
   ],
   "source": [
    "print('El par de parámetros estimados por GridSearch que máximiza la accuracy es:',best_parameters)"
   ]
  },
  {
   "cell_type": "code",
   "execution_count": 21,
   "metadata": {},
   "outputs": [
    {
     "name": "stdout",
     "output_type": "stream",
     "text": [
      "Tasa de acierto del modelo base: 0.36666666666666664\n",
      "Tasa de acierto con la busqueda de parámetros: 0.44761904761904764\n",
      "Mejora  del 22.08%.\n"
     ]
    }
   ],
   "source": [
    "print(\"Tasa de acierto del modelo base:\",modelo_base.score(X_test,y_test_multi))\n",
    "print(\"Tasa de acierto con la busqueda de parámetros:\",tree_clf.score(X_test,y_test_multi))\n",
    "\n",
    "#Mejora\n",
    "print('Mejora  del {:0.2f}%.'.format( 100 * (tree_clf.score(X_test,y_test_multi) - modelo_base.score(X_test,y_test_multi)) / modelo_base.score(X_test,y_test_multi)))"
   ]
  },
  {
   "cell_type": "markdown",
   "metadata": {},
   "source": [
    "### 3.3 Evaluación del modelo"
   ]
  },
  {
   "cell_type": "code",
   "execution_count": 22,
   "metadata": {},
   "outputs": [
    {
     "name": "stdout",
     "output_type": "stream",
     "text": [
      "La exactitud para el modelo de árboles de decisión en el conjunto de TEST es: 0.4476 \n",
      "\n",
      "La exactitud para el modelo de árboles de decisión en el conjunto de TRAIN es: 0.5 \n",
      "\n",
      "Confusion Matrix\n",
      "[[ 0  0  1  4  0  0  1]\n",
      " [ 0  5  0 11  0  0  1]\n",
      " [ 0  3  0 17  0  0  1]\n",
      " [ 0  2  0 88  0  0  9]\n",
      " [ 0  0  0 24  0  0  9]\n",
      " [ 0  0  0  3  0  0  0]\n",
      " [ 0  0  1 29  0  0  1]] \n",
      "\n",
      "================Classification Report=================\n",
      "              precision    recall  f1-score   support\n",
      "\n",
      "        -1.0       0.00      0.00      0.00         6\n",
      "         0.0       0.50      0.29      0.37        17\n",
      "         1.0       0.00      0.00      0.00        21\n",
      "         2.0       0.50      0.89      0.64        99\n",
      "         3.0       0.00      0.00      0.00        33\n",
      "         4.0       0.00      0.00      0.00         3\n",
      "         5.0       0.05      0.03      0.04        31\n",
      "\n",
      "    accuracy                           0.45       210\n",
      "   macro avg       0.15      0.17      0.15       210\n",
      "weighted avg       0.28      0.45      0.34       210\n",
      "\n"
     ]
    },
    {
     "name": "stderr",
     "output_type": "stream",
     "text": [
      "C:\\Users\\rober\\Anaconda3\\lib\\site-packages\\sklearn\\metrics\\classification.py:1437: UndefinedMetricWarning: Precision and F-score are ill-defined and being set to 0.0 in labels with no predicted samples.\n",
      "  'precision', 'predicted', average, warn_for)\n"
     ]
    }
   ],
   "source": [
    "predict = tree_clf.predict(X_test)\n",
    "\n",
    "acc_test= tree_clf.score(X_test, y_test_multi).round(4)\n",
    "acc_train= tree_clf.score(X_train, y_train_multi).round(4)\n",
    "print('La exactitud para el modelo de árboles de decisión en el conjunto de TEST es:', acc_test,'\\n')\n",
    "print('La exactitud para el modelo de árboles de decisión en el conjunto de TRAIN es:', acc_train,'\\n')\n",
    "\n",
    "print(\"Confusion Matrix\")\n",
    "print(confusion_matrix(y_test_multi, predict),'\\n')\n",
    "print(\"================Classification Report=================\")\n",
    "print(classification_report(y_test_multi, predict))"
   ]
  },
  {
   "cell_type": "code",
   "execution_count": 23,
   "metadata": {},
   "outputs": [],
   "source": [
    "matriz_confusion=pd.crosstab(y_test_multi,predict, rownames=['Clase predicha'], colnames=['Resultado del clasificador'])"
   ]
  },
  {
   "cell_type": "code",
   "execution_count": 24,
   "metadata": {},
   "outputs": [
    {
     "data": {
      "text/html": [
       "<div>\n",
       "<style scoped>\n",
       "    .dataframe tbody tr th:only-of-type {\n",
       "        vertical-align: middle;\n",
       "    }\n",
       "\n",
       "    .dataframe tbody tr th {\n",
       "        vertical-align: top;\n",
       "    }\n",
       "\n",
       "    .dataframe thead th {\n",
       "        text-align: right;\n",
       "    }\n",
       "</style>\n",
       "<table border=\"1\" class=\"dataframe\">\n",
       "  <thead>\n",
       "    <tr style=\"text-align: right;\">\n",
       "      <th>Resultado del clasificador</th>\n",
       "      <th>0.0</th>\n",
       "      <th>1.0</th>\n",
       "      <th>2.0</th>\n",
       "      <th>5.0</th>\n",
       "    </tr>\n",
       "    <tr>\n",
       "      <th>Clase predicha</th>\n",
       "      <th></th>\n",
       "      <th></th>\n",
       "      <th></th>\n",
       "      <th></th>\n",
       "    </tr>\n",
       "  </thead>\n",
       "  <tbody>\n",
       "    <tr>\n",
       "      <td>-1.0</td>\n",
       "      <td>0</td>\n",
       "      <td>1</td>\n",
       "      <td>4</td>\n",
       "      <td>1</td>\n",
       "    </tr>\n",
       "    <tr>\n",
       "      <td>0.0</td>\n",
       "      <td>5</td>\n",
       "      <td>0</td>\n",
       "      <td>11</td>\n",
       "      <td>1</td>\n",
       "    </tr>\n",
       "    <tr>\n",
       "      <td>1.0</td>\n",
       "      <td>3</td>\n",
       "      <td>0</td>\n",
       "      <td>17</td>\n",
       "      <td>1</td>\n",
       "    </tr>\n",
       "    <tr>\n",
       "      <td>2.0</td>\n",
       "      <td>2</td>\n",
       "      <td>0</td>\n",
       "      <td>88</td>\n",
       "      <td>9</td>\n",
       "    </tr>\n",
       "    <tr>\n",
       "      <td>3.0</td>\n",
       "      <td>0</td>\n",
       "      <td>0</td>\n",
       "      <td>24</td>\n",
       "      <td>9</td>\n",
       "    </tr>\n",
       "    <tr>\n",
       "      <td>4.0</td>\n",
       "      <td>0</td>\n",
       "      <td>0</td>\n",
       "      <td>3</td>\n",
       "      <td>0</td>\n",
       "    </tr>\n",
       "    <tr>\n",
       "      <td>5.0</td>\n",
       "      <td>0</td>\n",
       "      <td>1</td>\n",
       "      <td>29</td>\n",
       "      <td>1</td>\n",
       "    </tr>\n",
       "  </tbody>\n",
       "</table>\n",
       "</div>"
      ],
      "text/plain": [
       "Resultado del clasificador  0.0  1.0  2.0  5.0\n",
       "Clase predicha                                \n",
       "-1.0                          0    1    4    1\n",
       " 0.0                          5    0   11    1\n",
       " 1.0                          3    0   17    1\n",
       " 2.0                          2    0   88    9\n",
       " 3.0                          0    0   24    9\n",
       " 4.0                          0    0    3    0\n",
       " 5.0                          0    1   29    1"
      ]
     },
     "execution_count": 24,
     "metadata": {},
     "output_type": "execute_result"
    }
   ],
   "source": [
    "matriz_confusion"
   ]
  },
  {
   "cell_type": "markdown",
   "metadata": {},
   "source": [
    "### 3.4 Visualización de residuos"
   ]
  },
  {
   "cell_type": "code",
   "execution_count": 25,
   "metadata": {},
   "outputs": [
    {
     "data": {
      "text/plain": [
       "<matplotlib.legend.Legend at 0x18462638d08>"
      ]
     },
     "execution_count": 25,
     "metadata": {},
     "output_type": "execute_result"
    },
    {
     "data": {
      "image/png": "[encoded data removed]",
      "text/plain": [
       "<Figure size 1080x648 with 1 Axes>"
      ]
     },
     "metadata": {
      "needs_background": "light"
     },
     "output_type": "display_data"
    }
   ],
   "source": [
    "pacientes = len(y_test_multi)\n",
    "t = np.arange(0,pacientes)\n",
    "plt.figure(figsize=(15,9))\n",
    "plt.plot(t,y_test_multi,color='blue', marker='.',label='Real')\n",
    "plt.plot(t,predict,color='green', marker='.',label='Predicha')\n",
    "\n",
    "plt.title('Fase del sueño real vs. predicha en los primeros 30s')\n",
    "plt.xlabel('Muestras de pacientes')\n",
    "plt.ylabel('Fase del sueño')\n",
    "#plt.yticks([-1,0])\n",
    "#plt.xlim([0,10])\n",
    "plt.legend()"
   ]
  },
  {
   "cell_type": "markdown",
   "metadata": {},
   "source": [
    "* Hemos estimado ambos parámetros porque va más rápido que svm\n",
    "* Peores prestaciones que SVM\n",
    "* No se detectan todas las clases --> necesitamos entrenar con mas datos \n",
    "* Baja accuracy en multiclase"
   ]
  }
 ],
 "metadata": {
  "kernelspec": {
   "display_name": "Python 3",
   "language": "python",
   "name": "python3"
  },
  "language_info": {
   "codemirror_mode": {
    "name": "ipython",
    "version": 3
   },
   "file_extension": ".py",
   "mimetype": "text/x-python",
   "name": "python",
   "nbconvert_exporter": "python",
   "pygments_lexer": "ipython3",
   "version": "3.7.4"
  }
 },
 "nbformat": 4,
 "nbformat_minor": 2
}
