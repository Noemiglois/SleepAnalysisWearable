{
 "cells": [
  {
   "cell_type": "markdown",
   "metadata": {},
   "source": [
    "<center> <h1>PREDICIÓN DEL SUEÑO CON MLP</h1> </center>\n",
    "<center> <h4>Noemi González, Roberto Holgado y Carmen Plaza seco</h4> </center>\n",
    "\n",
    "\n",
    "###### Indice\n",
    "\n",
    "En este jupyter notebook se lleva a cabo la construcción de un clasificador MLP de salida binaria para predecir el el estado de vigilia o sueño ligero y  el de sueño profundo.\n",
    "\n",
    "* **1. Cargar datos Train-Test**\n",
    "  * **1.1 Preparación datos de entrada y salida**\n",
    "* **2. Clasificador MLP binario**\n",
    "   * **2.1 Creación del modelo y selección parámetros libres**\n",
    "   * **2.3 Evaluación del modelo**"
   ]
  },
  {
   "cell_type": "markdown",
   "metadata": {},
   "source": [
    "IMPORTAR MÓDULOS"
   ]
  },
  {
   "cell_type": "code",
   "execution_count": 1,
   "metadata": {},
   "outputs": [],
   "source": [
    "from sklearn.metrics import classification_report,confusion_matrix\n",
    "from sklearn.model_selection import train_test_split\n",
    "from sklearn.neural_network import MLPClassifier\n",
    "from sklearn.preprocessing import MinMaxScaler\n",
    "import matplotlib.pyplot as plt\n",
    "import pandas as pd\n",
    "import numpy as np\n",
    "from sklearn import svm\n",
    "import sklearn"
   ]
  },
  {
   "cell_type": "markdown",
   "metadata": {},
   "source": [
    "## 1. CARGAR DATOS TRAIN-TEST"
   ]
  },
  {
   "cell_type": "markdown",
   "metadata": {},
   "source": [
    "Se cargan los datos de train y test generados en los jupyter notebooks 'Nombre de los jupyter', en los que procesan los datos y se obtienen las características que se utilizan para entrenar los clasificadores. \n",
    "\n",
    "En el siguiente apartado se preparan los datos para seleccionar una salida binaria o multiclase según el clasificador que se vaya a utilizar."
   ]
  },
  {
   "cell_type": "markdown",
   "metadata": {},
   "source": [
    "### 2.1 Preparación datos de entrada y salida"
   ]
  },
  {
   "cell_type": "code",
   "execution_count": 2,
   "metadata": {},
   "outputs": [],
   "source": [
    "#Train\n",
    "Train= pd.read_csv('Train.csv').drop(['Unnamed: 0'], axis = 1)\n",
    "Test= pd.read_csv('Test.csv').drop(['Unnamed: 0'], axis = 1)"
   ]
  },
  {
   "cell_type": "code",
   "execution_count": 3,
   "metadata": {},
   "outputs": [],
   "source": [
    "X_train=Train.drop(['Etiquetas', 'Etiquetas binarias','ID_P'], axis = 1) \n",
    "y_train_bin=Train['Etiquetas binarias']\n",
    "y_train_multi=Train['Etiquetas']\n",
    "\n",
    "X_test=Test.drop(['Etiquetas', 'Etiquetas binarias','ID_P'], axis = 1)\n",
    "y_test_bin=Test['Etiquetas binarias']\n",
    "y_test_multi=Test['Etiquetas']"
   ]
  },
  {
   "cell_type": "markdown",
   "metadata": {},
   "source": [
    "## 2. CLASIFICADOR MLP BINARIO"
   ]
  },
  {
   "cell_type": "markdown",
   "metadata": {},
   "source": [
    "Se ha utilizado un perceptrón multicapa para clasificar la vigilia o sueño ligero del sueño profundo. Es decir, se ha construido un clasificador con salida binaria."
   ]
  },
  {
   "cell_type": "markdown",
   "metadata": {},
   "source": [
    "### 2.1  Creación del modelo y selección parámetros libres"
   ]
  },
  {
   "cell_type": "markdown",
   "metadata": {},
   "source": [
    "Se proponen posibles valores de neuronas en la capa oculta para ver con cuál de ellos se obtienen las mejores prestaciones para el modelo. Se crea una tabla que recoge la pérdidas para cada valor del número de neuronas y aquel que tenga menos pérdida es el que se utilizará para el conjunto de test."
   ]
  },
  {
   "cell_type": "code",
   "execution_count": 4,
   "metadata": {},
   "outputs": [],
   "source": [
    "# Número de neuronas de la capa oculta\n",
    "n_hidden_1=5\n",
    "n_hidden_2=50\n",
    "n_hidden_3=500\n",
    "n_hidden_4=5000\n",
    "\n",
    "n_hidden=[n_hidden_1, n_hidden_2, n_hidden_3, n_hidden_4]"
   ]
  },
  {
   "cell_type": "code",
   "execution_count": 5,
   "metadata": {},
   "outputs": [
    {
     "name": "stdout",
     "output_type": "stream",
     "text": [
      "\u001b[4;32mMLP clasiffier with 5 neurons in the hidden layer\u001b[0m\n",
      "Iteration 1, loss = inf\n",
      "Validation score: 0.333333\n",
      "Iteration 2, loss = 0.75514127\n",
      "Validation score: 0.666667\n",
      "Iteration 3, loss = 0.78321472\n",
      "Validation score: 0.666667\n",
      "Iteration 4, loss = 0.83302077\n",
      "Validation score: 0.666667\n",
      "Iteration 5, loss = 0.87608329\n",
      "Validation score: 0.666667\n",
      "Iteration 6, loss = 0.90725725\n",
      "Validation score: 0.666667\n",
      "Iteration 7, loss = 0.92595957\n",
      "Validation score: 0.666667\n",
      "Iteration 8, loss = 0.93824195\n",
      "Validation score: 0.666667\n",
      "Validation score did not improve more than tol=0.010000 for 5 consecutive epochs. Stopping.\n",
      "\u001b[4;32mMLP clasiffier with 50 neurons in the hidden layer\u001b[0m\n",
      "Iteration 1, loss = inf\n",
      "Validation score: 0.333333\n",
      "Iteration 2, loss = 0.71268525\n",
      "Validation score: 0.666667\n",
      "Iteration 3, loss = inf\n",
      "Validation score: 0.666667\n",
      "Iteration 4, loss = 0.70763062\n",
      "Validation score: 0.666667\n",
      "Iteration 5, loss = 0.72175194\n",
      "Validation score: 0.666667\n",
      "Iteration 6, loss = 0.73293946\n",
      "Validation score: 0.666667\n",
      "Iteration 7, loss = 0.74000297\n",
      "Validation score: 0.666667\n",
      "Iteration 8, loss = 0.74402259\n",
      "Validation score: 0.666667\n",
      "Validation score did not improve more than tol=0.010000 for 5 consecutive epochs. Stopping.\n",
      "\u001b[4;32mMLP clasiffier with 500 neurons in the hidden layer\u001b[0m\n",
      "Iteration 1, loss = inf\n",
      "Validation score: 0.666667\n",
      "Iteration 2, loss = 0.96255873\n",
      "Validation score: 0.666667\n",
      "Iteration 3, loss = 1.38327153\n",
      "Validation score: 0.666667\n",
      "Iteration 4, loss = 1.76688706\n",
      "Validation score: 0.666667\n",
      "Iteration 5, loss = 2.06718756\n",
      "Validation score: 0.666667\n",
      "Iteration 6, loss = 2.28241378\n",
      "Validation score: 0.666667\n",
      "Iteration 7, loss = 2.43057115\n",
      "Validation score: 0.666667\n",
      "Validation score did not improve more than tol=0.010000 for 5 consecutive epochs. Stopping.\n",
      "\u001b[4;32mMLP clasiffier with 5000 neurons in the hidden layer\u001b[0m\n",
      "Iteration 1, loss = inf\n",
      "Validation score: 0.666667\n",
      "Iteration 2, loss = 0.97107024\n",
      "Validation score: 0.333333\n",
      "Iteration 3, loss = 0.75806691\n",
      "Validation score: 0.666667\n"
     ]
    },
    {
     "name": "stderr",
     "output_type": "stream",
     "text": [
      "/Applications/anaconda3/envs/cuarto/lib/python3.7/site-packages/ipykernel_launcher.py:16: FutureWarning: set_value is deprecated and will be removed in a future release. Please use .at[] or .iat[] accessors instead\n",
      "  app.launch_new_instance()\n",
      "/Applications/anaconda3/envs/cuarto/lib/python3.7/site-packages/ipykernel_launcher.py:16: FutureWarning: set_value is deprecated and will be removed in a future release. Please use .at[] or .iat[] accessors instead\n",
      "  app.launch_new_instance()\n",
      "/Applications/anaconda3/envs/cuarto/lib/python3.7/site-packages/ipykernel_launcher.py:16: FutureWarning: set_value is deprecated and will be removed in a future release. Please use .at[] or .iat[] accessors instead\n",
      "  app.launch_new_instance()\n"
     ]
    },
    {
     "name": "stdout",
     "output_type": "stream",
     "text": [
      "Iteration 4, loss = 0.65944692\n",
      "Validation score: 0.666667\n",
      "Iteration 5, loss = 0.65336522\n",
      "Validation score: 0.666667\n",
      "Iteration 6, loss = 0.65616590\n",
      "Validation score: 0.666667\n",
      "Iteration 7, loss = 0.67067354\n",
      "Validation score: 0.666667\n",
      "Validation score did not improve more than tol=0.010000 for 5 consecutive epochs. Stopping.\n"
     ]
    },
    {
     "name": "stderr",
     "output_type": "stream",
     "text": [
      "/Applications/anaconda3/envs/cuarto/lib/python3.7/site-packages/ipykernel_launcher.py:16: FutureWarning: set_value is deprecated and will be removed in a future release. Please use .at[] or .iat[] accessors instead\n",
      "  app.launch_new_instance()\n"
     ]
    }
   ],
   "source": [
    "# Tabla para recoger las prestaciones en train \n",
    "columns  = ['Loss','Score']\n",
    "comp_train = pd.DataFrame(columns=columns)\n",
    "\n",
    "for i in n_hidden:\n",
    "    \n",
    "    print('\\033[4;32m' + 'MLP clasiffier with',i,'neurons in the hidden layer' + '\\033[0m')\n",
    "\n",
    "    model=MLPClassifier(activation='relu', batch_size=50, hidden_layer_sizes=(i,), learning_rate='constant',\n",
    "        learning_rate_init=0.1, max_iter=30, shuffle=True, solver='sgd', tol=0.01, early_stopping=True,\n",
    "        validation_fraction=0.2, verbose=True, n_iter_no_change=5)\n",
    "    \n",
    "    model.fit(X_train, y_train_bin)\n",
    "    \n",
    "    loss=model.loss_  \n",
    "    comp_train = comp_train.set_value(i,('Loss','Score'),(loss,'Verbose'))"
   ]
  },
  {
   "cell_type": "code",
   "execution_count": 6,
   "metadata": {},
   "outputs": [
    {
     "data": {
      "text/html": [
       "<div>\n",
       "<style scoped>\n",
       "    .dataframe tbody tr th:only-of-type {\n",
       "        vertical-align: middle;\n",
       "    }\n",
       "\n",
       "    .dataframe tbody tr th {\n",
       "        vertical-align: top;\n",
       "    }\n",
       "\n",
       "    .dataframe thead th {\n",
       "        text-align: right;\n",
       "    }\n",
       "</style>\n",
       "<table border=\"1\" class=\"dataframe\">\n",
       "  <thead>\n",
       "    <tr style=\"text-align: right;\">\n",
       "      <th></th>\n",
       "      <th>Loss</th>\n",
       "      <th>Score</th>\n",
       "    </tr>\n",
       "  </thead>\n",
       "  <tbody>\n",
       "    <tr>\n",
       "      <th>5</th>\n",
       "      <td>0.938242</td>\n",
       "      <td>Verbose</td>\n",
       "    </tr>\n",
       "    <tr>\n",
       "      <th>50</th>\n",
       "      <td>0.744023</td>\n",
       "      <td>Verbose</td>\n",
       "    </tr>\n",
       "    <tr>\n",
       "      <th>500</th>\n",
       "      <td>2.43057</td>\n",
       "      <td>Verbose</td>\n",
       "    </tr>\n",
       "    <tr>\n",
       "      <th>5000</th>\n",
       "      <td>0.670674</td>\n",
       "      <td>Verbose</td>\n",
       "    </tr>\n",
       "  </tbody>\n",
       "</table>\n",
       "</div>"
      ],
      "text/plain": [
       "          Loss    Score\n",
       "5     0.938242  Verbose\n",
       "50    0.744023  Verbose\n",
       "500    2.43057  Verbose\n",
       "5000  0.670674  Verbose"
      ]
     },
     "execution_count": 6,
     "metadata": {},
     "output_type": "execute_result"
    }
   ],
   "source": [
    "comp_train"
   ]
  },
  {
   "cell_type": "markdown",
   "metadata": {},
   "source": [
    "Las medidas de prestación elegidas para la elección de una topología han sido el validation score y la pérdida. Ambas se pueden ver al aplicar el fit del modelo, gracias al parámetro verbose=True. La pérdida la hemos añadido a la siguiente tabla pero la accuracy de cada epoch para el conjunto de validación hay que verla en la celda anterior. Según estos resultados, la mejor topología de MLP sería la de **n_hidden_1 con 5 neuronas** en la capa oculta, ya que el par (loss,val_score) es el mejor de los 4.\n",
    "En todos los casos el valor 'validation score' está entorno a 0.66, pero el número de neuronas de menor pérdida es 5.\n",
    "\n",
    "¿Cómo sabíamos si estaba memorizando o no?"
   ]
  },
  {
   "cell_type": "markdown",
   "metadata": {},
   "source": [
    "### 2.2 Evaluación del modelo"
   ]
  },
  {
   "cell_type": "markdown",
   "metadata": {},
   "source": [
    "Testeamos el modelo con el valor de número de neuronas en la capa ocula que ofrece la menor pérdida (número neuronas = 5)"
   ]
  },
  {
   "cell_type": "code",
   "execution_count": 7,
   "metadata": {},
   "outputs": [
    {
     "name": "stdout",
     "output_type": "stream",
     "text": [
      "\u001b[4;32mMLP clasiffier with 5 neurons in the hidden layer\u001b[0m\n",
      "Iteration 1, loss = inf\n",
      "Validation score: 0.333333\n",
      "Iteration 2, loss = 0.74452626\n",
      "Validation score: 0.666667\n",
      "Iteration 3, loss = 0.68019090\n",
      "Validation score: 0.666667\n",
      "Iteration 4, loss = 0.67571490\n",
      "Validation score: 0.666667\n",
      "Iteration 5, loss = 0.68773839\n",
      "Validation score: 0.666667\n",
      "Iteration 6, loss = 0.69694474\n",
      "Validation score: 0.666667\n",
      "Iteration 7, loss = 0.70092913\n",
      "Validation score: 0.666667\n",
      "Iteration 8, loss = 0.69969468\n",
      "Validation score: 0.666667\n",
      "Validation score did not improve more than tol=0.010000 for 5 consecutive epochs. Stopping.\n"
     ]
    },
    {
     "name": "stderr",
     "output_type": "stream",
     "text": [
      "/Applications/anaconda3/envs/cuarto/lib/python3.7/site-packages/sklearn/metrics/classification.py:1437: UndefinedMetricWarning: Precision and F-score are ill-defined and being set to 0.0 in labels with no predicted samples.\n",
      "  'precision', 'predicted', average, warn_for)\n",
      "/Applications/anaconda3/envs/cuarto/lib/python3.7/site-packages/ipykernel_launcher.py:16: FutureWarning: set_value is deprecated and will be removed in a future release. Please use .at[] or .iat[] accessors instead\n",
      "  app.launch_new_instance()\n"
     ]
    }
   ],
   "source": [
    "columns  = ['Accuracy','Recall','F1-score']\n",
    "comp_test = pd.DataFrame(columns=columns)\n",
    "\n",
    "print('\\033[4;32m' + 'MLP clasiffier with',n_hidden_1,'neurons in the hidden layer' + '\\033[0m')\n",
    "\n",
    "model=MLPClassifier(activation='relu', batch_size=50, hidden_layer_sizes=(n_hidden_1), learning_rate='constant',\n",
    "    learning_rate_init=0.1, max_iter=30, shuffle=True, solver='sgd', tol=0.01, early_stopping=True,\n",
    "    validation_fraction=0.2, verbose=True, n_iter_no_change=5)\n",
    "\n",
    "model.fit(X_train,y_train_bin)\n",
    "\n",
    "predictions = model.predict(X_test)\n",
    "cr=classification_report(y_test_bin,predictions,output_dict=True)\n",
    "acc,rec,f1=cr['weighted avg']['precision'],cr['weighted avg']['recall'],cr['weighted avg']['f1-score']\n",
    "\n",
    "comp_test = comp_test.set_value(n_hidden_1, ('Accuracy','Recall','F1-score'),(acc,rec,f1))"
   ]
  },
  {
   "cell_type": "code",
   "execution_count": 8,
   "metadata": {},
   "outputs": [
    {
     "data": {
      "text/html": [
       "<div>\n",
       "<style scoped>\n",
       "    .dataframe tbody tr th:only-of-type {\n",
       "        vertical-align: middle;\n",
       "    }\n",
       "\n",
       "    .dataframe tbody tr th {\n",
       "        vertical-align: top;\n",
       "    }\n",
       "\n",
       "    .dataframe thead th {\n",
       "        text-align: right;\n",
       "    }\n",
       "</style>\n",
       "<table border=\"1\" class=\"dataframe\">\n",
       "  <thead>\n",
       "    <tr style=\"text-align: right;\">\n",
       "      <th></th>\n",
       "      <th>Accuracy</th>\n",
       "      <th>Recall</th>\n",
       "      <th>F1-score</th>\n",
       "    </tr>\n",
       "  </thead>\n",
       "  <tbody>\n",
       "    <tr>\n",
       "      <th>5</th>\n",
       "      <td>0.4489</td>\n",
       "      <td>0.67</td>\n",
       "      <td>0.537605</td>\n",
       "    </tr>\n",
       "  </tbody>\n",
       "</table>\n",
       "</div>"
      ],
      "text/plain": [
       "  Accuracy Recall  F1-score\n",
       "5   0.4489   0.67  0.537605"
      ]
     },
     "execution_count": 8,
     "metadata": {},
     "output_type": "execute_result"
    }
   ],
   "source": [
    "comp_test"
   ]
  },
  {
   "cell_type": "code",
   "execution_count": 9,
   "metadata": {},
   "outputs": [
    {
     "name": "stdout",
     "output_type": "stream",
     "text": [
      "================Classification Report=================\n",
      "{'0.0': {'precision': 0.0, 'recall': 0.0, 'f1-score': 0.0, 'support': 33}, '1.0': {'precision': 0.67, 'recall': 1.0, 'f1-score': 0.8023952095808384, 'support': 67}, 'accuracy': 0.67, 'macro avg': {'precision': 0.335, 'recall': 0.5, 'f1-score': 0.4011976047904192, 'support': 100}, 'weighted avg': {'precision': 0.4489, 'recall': 0.67, 'f1-score': 0.5376047904191618, 'support': 100}}\n"
     ]
    }
   ],
   "source": [
    "print(\"================Classification Report=================\")\n",
    "print(cr)"
   ]
  }
 ],
 "metadata": {
  "kernelspec": {
   "display_name": "Python 3",
   "language": "python",
   "name": "python3"
  },
  "language_info": {
   "codemirror_mode": {
    "name": "ipython",
    "version": 3
   },
   "file_extension": ".py",
   "mimetype": "text/x-python",
   "name": "python",
   "nbconvert_exporter": "python",
   "pygments_lexer": "ipython3",
   "version": "3.7.4"
  }
 },
 "nbformat": 4,
 "nbformat_minor": 2
}
