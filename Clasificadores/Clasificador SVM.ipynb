{
 "cells": [
  {
   "cell_type": "markdown",
   "metadata": {},
   "source": [
    "<center> <h1>PREDICIÓN DEL SUEÑO CON SVM</h1> </center>\n",
    "<center> <h4>Noemi González, Roberto Holgado y Carmen Plaza seco</h4> </center>\n",
    "\n",
    "\n",
    "###### Indice\n",
    "\n",
    "En este jupyter notebook se lleva a cabo la construcción de un clasificador SVM tanto de salida binaria como multiclase para predecir tanto el estado de vigilia de los pacientes como el estado de sueño y sus distintas fases.\n",
    "\n",
    "* **1. Cargar datos Train-Test**\n",
    "  * **1.1 Preparación datos de entrada y salida**\n",
    "* **2. Clasificador SVM Binario**\n",
    "   * **2.1 Creación del modelo y selección parámetros libres**\n",
    "   * **2.2 Búsqueda de parámetros con validación cruzada.**\n",
    "   * **2.3 Evaluación del modelo**\n",
    "* **3. Clasficador SVM Multiclase**\n",
    "   * **3.1 Creación del modelo y selección parámetros libres**\n",
    "   * **3.2 Búsqueda de parámetros con validación cruzada.**\n",
    "   * **3.3 Evaluación del modelo**\n",
    "   * **3.4 Visualización de residuos** "
   ]
  },
  {
   "cell_type": "markdown",
   "metadata": {},
   "source": [
    "IMPORTAR MÓDULOS"
   ]
  },
  {
   "cell_type": "code",
   "execution_count": 1,
   "metadata": {},
   "outputs": [],
   "source": [
    "import numpy as np\n",
    "import pandas as pd\n",
    "import os\n",
    "import matplotlib.pyplot as plt\n",
    "from sklearn.svm import SVC\n",
    "from sklearn.model_selection import train_test_split\n",
    "from sklearn.metrics import confusion_matrix\n",
    "import statistics as stats\n",
    "from sklearn.model_selection import GridSearchCV\n",
    "from random import sample\n",
    "from sklearn.metrics import classification_report\n",
    "from sklearn.model_selection import RandomizedSearchCV\n",
    "from sklearn.model_selection import cross_val_score\n",
    "from sklearn.model_selection import validation_curve"
   ]
  },
  {
   "cell_type": "markdown",
   "metadata": {},
   "source": [
    "## 1. CARGAR DATOS TRAIN-TEST"
   ]
  },
  {
   "cell_type": "markdown",
   "metadata": {},
   "source": [
    "Se cargan los datos de train y test generados en los jupyter notebooks 'Nombre de los jupyter', en los que procesan los datos y se obtienen las características que se utilizan para entrenar los clasificadores. \n",
    "\n",
    "En el siguiente apartado se preparan los datos para seleccionar una salida binaria o multiclase según el clasificador que se vaya a utilizar."
   ]
  },
  {
   "cell_type": "markdown",
   "metadata": {},
   "source": [
    "### 2.1 Preparación datos de entrada y salida"
   ]
  },
  {
   "cell_type": "code",
   "execution_count": 2,
   "metadata": {},
   "outputs": [],
   "source": [
    "#Train\n",
    "Train= pd.read_csv('Train_balanced.csv')\n",
    "#.drop(['Unnamed: 0'], axis = 1)\n",
    "Test= pd.read_csv('Test.csv')\n",
    "#.drop(['Unnamed: 0'], axis = 1)"
   ]
  },
  {
   "cell_type": "code",
   "execution_count": 3,
   "metadata": {},
   "outputs": [],
   "source": [
    "X_train=Train.drop(['Etiquetas multiclase', 'Etiquetas binarias','ID'], axis = 1) \n",
    "y_train_bin=Train['Etiquetas binarias']\n",
    "y_train_multi=Train['Etiquetas multiclase']\n",
    "\n",
    "X_test=Test.drop(['Etiquetas multiclase', 'Etiquetas binarias','ID'], axis = 1)\n",
    "y_test_bin=Test['Etiquetas binarias']\n",
    "y_test_multi=Test['Etiquetas multiclase']"
   ]
  },
  {
   "cell_type": "code",
   "execution_count": 4,
   "metadata": {},
   "outputs": [
    {
     "data": {
      "text/plain": [
       "count    700.00\n",
       "mean       0.66\n",
       "std        0.47\n",
       "min        0.00\n",
       "25%        0.00\n",
       "50%        1.00\n",
       "75%        1.00\n",
       "max        1.00\n",
       "Name: Etiquetas binarias, dtype: float64"
      ]
     },
     "execution_count": 4,
     "metadata": {},
     "output_type": "execute_result"
    }
   ],
   "source": [
    "round(y_test_bin.describe(),2)"
   ]
  },
  {
   "cell_type": "code",
   "execution_count": 5,
   "metadata": {},
   "outputs": [
    {
     "data": {
      "text/html": [
       "<div>\n",
       "<style scoped>\n",
       "    .dataframe tbody tr th:only-of-type {\n",
       "        vertical-align: middle;\n",
       "    }\n",
       "\n",
       "    .dataframe tbody tr th {\n",
       "        vertical-align: top;\n",
       "    }\n",
       "\n",
       "    .dataframe thead th {\n",
       "        text-align: right;\n",
       "    }\n",
       "</style>\n",
       "<table border=\"1\" class=\"dataframe\">\n",
       "  <thead>\n",
       "    <tr style=\"text-align: right;\">\n",
       "      <th></th>\n",
       "      <th>Min_hr</th>\n",
       "      <th>Max_hr</th>\n",
       "      <th>Mean_hr</th>\n",
       "      <th>Men_acc_sqrt</th>\n",
       "      <th>Min_acc_x</th>\n",
       "      <th>Max_acc_x</th>\n",
       "      <th>Mean_acc_x</th>\n",
       "      <th>Min_acc_y</th>\n",
       "      <th>Max_acc_y</th>\n",
       "      <th>Mean_acc_y</th>\n",
       "      <th>Min_acc_z</th>\n",
       "      <th>Max_acc_z</th>\n",
       "      <th>Mean_acc_z</th>\n",
       "    </tr>\n",
       "  </thead>\n",
       "  <tbody>\n",
       "    <tr>\n",
       "      <th>count</th>\n",
       "      <td>770.000000</td>\n",
       "      <td>770.000000</td>\n",
       "      <td>770.000000</td>\n",
       "      <td>770.000000</td>\n",
       "      <td>770.000000</td>\n",
       "      <td>770.000000</td>\n",
       "      <td>770.000000</td>\n",
       "      <td>770.000000</td>\n",
       "      <td>770.000000</td>\n",
       "      <td>770.000000</td>\n",
       "      <td>770.000000</td>\n",
       "      <td>770.00000</td>\n",
       "      <td>770.000000</td>\n",
       "    </tr>\n",
       "    <tr>\n",
       "      <th>mean</th>\n",
       "      <td>64.748052</td>\n",
       "      <td>69.123377</td>\n",
       "      <td>66.792714</td>\n",
       "      <td>0.997948</td>\n",
       "      <td>-0.163273</td>\n",
       "      <td>-0.073143</td>\n",
       "      <td>-0.118091</td>\n",
       "      <td>-0.132013</td>\n",
       "      <td>0.005532</td>\n",
       "      <td>-0.066065</td>\n",
       "      <td>-0.499403</td>\n",
       "      <td>-0.38526</td>\n",
       "      <td>-0.448584</td>\n",
       "    </tr>\n",
       "    <tr>\n",
       "      <th>std</th>\n",
       "      <td>10.603942</td>\n",
       "      <td>12.151690</td>\n",
       "      <td>10.988692</td>\n",
       "      <td>0.005295</td>\n",
       "      <td>0.386774</td>\n",
       "      <td>0.406839</td>\n",
       "      <td>0.369559</td>\n",
       "      <td>0.513189</td>\n",
       "      <td>0.558538</td>\n",
       "      <td>0.498915</td>\n",
       "      <td>0.625732</td>\n",
       "      <td>0.63801</td>\n",
       "      <td>0.614425</td>\n",
       "    </tr>\n",
       "    <tr>\n",
       "      <th>min</th>\n",
       "      <td>43.000000</td>\n",
       "      <td>43.000000</td>\n",
       "      <td>43.000000</td>\n",
       "      <td>0.990000</td>\n",
       "      <td>-1.180000</td>\n",
       "      <td>-0.940000</td>\n",
       "      <td>-0.950000</td>\n",
       "      <td>-1.500000</td>\n",
       "      <td>-0.990000</td>\n",
       "      <td>-0.990000</td>\n",
       "      <td>-2.800000</td>\n",
       "      <td>-1.00000</td>\n",
       "      <td>-1.000000</td>\n",
       "    </tr>\n",
       "    <tr>\n",
       "      <th>25%</th>\n",
       "      <td>58.000000</td>\n",
       "      <td>60.250000</td>\n",
       "      <td>59.000000</td>\n",
       "      <td>0.990000</td>\n",
       "      <td>-0.430000</td>\n",
       "      <td>-0.360000</td>\n",
       "      <td>-0.390000</td>\n",
       "      <td>-0.540000</td>\n",
       "      <td>-0.430000</td>\n",
       "      <td>-0.450000</td>\n",
       "      <td>-0.930000</td>\n",
       "      <td>-0.88000</td>\n",
       "      <td>-0.890000</td>\n",
       "    </tr>\n",
       "    <tr>\n",
       "      <th>50%</th>\n",
       "      <td>65.000000</td>\n",
       "      <td>68.000000</td>\n",
       "      <td>66.500000</td>\n",
       "      <td>1.000000</td>\n",
       "      <td>-0.250000</td>\n",
       "      <td>-0.190000</td>\n",
       "      <td>-0.230000</td>\n",
       "      <td>-0.130000</td>\n",
       "      <td>0.005000</td>\n",
       "      <td>-0.035000</td>\n",
       "      <td>-0.815000</td>\n",
       "      <td>-0.74000</td>\n",
       "      <td>-0.770000</td>\n",
       "    </tr>\n",
       "    <tr>\n",
       "      <th>75%</th>\n",
       "      <td>71.750000</td>\n",
       "      <td>77.000000</td>\n",
       "      <td>73.777500</td>\n",
       "      <td>1.000000</td>\n",
       "      <td>0.080000</td>\n",
       "      <td>0.220000</td>\n",
       "      <td>0.140000</td>\n",
       "      <td>0.217500</td>\n",
       "      <td>0.330000</td>\n",
       "      <td>0.267500</td>\n",
       "      <td>-0.190000</td>\n",
       "      <td>0.10750</td>\n",
       "      <td>-0.052500</td>\n",
       "    </tr>\n",
       "    <tr>\n",
       "      <th>max</th>\n",
       "      <td>103.000000</td>\n",
       "      <td>111.000000</td>\n",
       "      <td>106.570000</td>\n",
       "      <td>1.030000</td>\n",
       "      <td>0.830000</td>\n",
       "      <td>1.450000</td>\n",
       "      <td>0.830000</td>\n",
       "      <td>0.980000</td>\n",
       "      <td>3.620000</td>\n",
       "      <td>0.990000</td>\n",
       "      <td>0.990000</td>\n",
       "      <td>1.61000</td>\n",
       "      <td>1.000000</td>\n",
       "    </tr>\n",
       "  </tbody>\n",
       "</table>\n",
       "</div>"
      ],
      "text/plain": [
       "           Min_hr      Max_hr     Mean_hr  Men_acc_sqrt   Min_acc_x  \\\n",
       "count  770.000000  770.000000  770.000000    770.000000  770.000000   \n",
       "mean    64.748052   69.123377   66.792714      0.997948   -0.163273   \n",
       "std     10.603942   12.151690   10.988692      0.005295    0.386774   \n",
       "min     43.000000   43.000000   43.000000      0.990000   -1.180000   \n",
       "25%     58.000000   60.250000   59.000000      0.990000   -0.430000   \n",
       "50%     65.000000   68.000000   66.500000      1.000000   -0.250000   \n",
       "75%     71.750000   77.000000   73.777500      1.000000    0.080000   \n",
       "max    103.000000  111.000000  106.570000      1.030000    0.830000   \n",
       "\n",
       "        Max_acc_x  Mean_acc_x   Min_acc_y   Max_acc_y  Mean_acc_y   Min_acc_z  \\\n",
       "count  770.000000  770.000000  770.000000  770.000000  770.000000  770.000000   \n",
       "mean    -0.073143   -0.118091   -0.132013    0.005532   -0.066065   -0.499403   \n",
       "std      0.406839    0.369559    0.513189    0.558538    0.498915    0.625732   \n",
       "min     -0.940000   -0.950000   -1.500000   -0.990000   -0.990000   -2.800000   \n",
       "25%     -0.360000   -0.390000   -0.540000   -0.430000   -0.450000   -0.930000   \n",
       "50%     -0.190000   -0.230000   -0.130000    0.005000   -0.035000   -0.815000   \n",
       "75%      0.220000    0.140000    0.217500    0.330000    0.267500   -0.190000   \n",
       "max      1.450000    0.830000    0.980000    3.620000    0.990000    0.990000   \n",
       "\n",
       "       Max_acc_z  Mean_acc_z  \n",
       "count  770.00000  770.000000  \n",
       "mean    -0.38526   -0.448584  \n",
       "std      0.63801    0.614425  \n",
       "min     -1.00000   -1.000000  \n",
       "25%     -0.88000   -0.890000  \n",
       "50%     -0.74000   -0.770000  \n",
       "75%      0.10750   -0.052500  \n",
       "max      1.61000    1.000000  "
      ]
     },
     "execution_count": 5,
     "metadata": {},
     "output_type": "execute_result"
    }
   ],
   "source": [
    "X_train.describe()"
   ]
  },
  {
   "cell_type": "markdown",
   "metadata": {},
   "source": [
    "## 2. CLASIFICADOR SVM BINARIO"
   ]
  },
  {
   "cell_type": "markdown",
   "metadata": {},
   "source": [
    "En este primer clasificador, se ha utilizado el método SVM para clasificar la vigilia o sueño ligero del sueño profundo. Es decir, se ha construido un clasificador SVM con salida binaria."
   ]
  },
  {
   "cell_type": "markdown",
   "metadata": {},
   "source": [
    "### 2.1  Creación del modelo y selección parámetros libres"
   ]
  },
  {
   "cell_type": "markdown",
   "metadata": {},
   "source": [
    "En primer lugar, se construye un clasificador SVM de salida binaria sin búsqueda de parámetros. Se fija el valor de gamma o el valor de C y el otro se estima mediante la búsqueda del parámetro óptimo.\n",
    "\n",
    "En el siguiente código se muestra como fijar un parámetro y barrer los posibles valores del otro."
   ]
  },
  {
   "cell_type": "code",
   "execution_count": 6,
   "metadata": {},
   "outputs": [],
   "source": [
    "clf = SVC(kernel='linear', gamma=1,decision_function_shape='ovr' ) # gamma=1 o C=10, depende del que queramos fijar\n",
    "modelo_base=clf.fit(X_train,y_train_bin)"
   ]
  },
  {
   "cell_type": "code",
   "execution_count": 7,
   "metadata": {},
   "outputs": [
    {
     "data": {
      "text/plain": [
       "SVC(C=1.0, cache_size=200, class_weight=None, coef0=0.0,\n",
       "    decision_function_shape='ovr', degree=3, gamma=1, kernel='linear',\n",
       "    max_iter=-1, probability=False, random_state=None, shrinking=True,\n",
       "    tol=0.001, verbose=False)"
      ]
     },
     "execution_count": 7,
     "metadata": {},
     "output_type": "execute_result"
    }
   ],
   "source": [
    "clf"
   ]
  },
  {
   "cell_type": "markdown",
   "metadata": {},
   "source": [
    "### 2.2  Búsqueda de parámetros con validación cruzada"
   ]
  },
  {
   "cell_type": "markdown",
   "metadata": {},
   "source": [
    "A continuación, se realiza la búsqueda de parámetros. El parámetro gamma o C se fija y se hace un 'barrido' de los posibles valores del parámetro no fijado para elegir aquel que maximice la exactitud (accuracy).\n",
    "\n",
    "Tras varias iteraciones se ha visto que los mejores parámetros son gamma=1 y C=10 para el clasificadro binario.\n"
   ]
  },
  {
   "cell_type": "code",
   "execution_count": null,
   "metadata": {},
   "outputs": [],
   "source": [
    "Cs =[0.1,1,10,100,1000]\n",
    "# gamma = range(1,10,1) #si se quisiese estimar gamma\n",
    "param_grid = { 'C': Cs  } #'gamma': gamma\n",
    "svc_grid = GridSearchCV(clf, param_grid, scoring='accuracy',cv=5,n_jobs=-1)\n",
    "svc_grid.fit(X_train, y_train_bin)\n",
    "best_param=svc_grid.best_params_"
   ]
  },
  {
   "cell_type": "code",
   "execution_count": null,
   "metadata": {},
   "outputs": [],
   "source": [
    "# Clasificador con los mejores parámetros\n",
    "svc_clf=svc_grid.best_estimator_"
   ]
  },
  {
   "cell_type": "code",
   "execution_count": null,
   "metadata": {},
   "outputs": [],
   "source": [
    "#parametro que queremos estimar\n",
    "\"\"\"\n",
    "train_scores, test_scores = validation_curve(svc_clf, X_train, y_train_bin, param_name=\"C\", param_range=Cs,cv=5)\n",
    "train_scores_mean = np.mean(train_scores, axis=1)\n",
    "test_scores_mean = np.mean(test_scores, axis=1)\n",
    "plt.title(\"Validation Curve with SVM \")\n",
    "plt.xlabel('C')\n",
    "plt.ylabel(\"Accuracy\")\n",
    "\n",
    "plt.plot(Cs, train_scores_mean, label=\"Training score\",color=\"navy\",marker='.')\n",
    "plt.plot(Cs, test_scores_mean, label=\"Cross-validation score\",color=\"darkorange\",marker='.')\n",
    "plt.grid()\n",
    "plt.legend(loc=\"best\")\n",
    "plt.show()\n",
    "\"\"\""
   ]
  },
  {
   "cell_type": "code",
   "execution_count": null,
   "metadata": {},
   "outputs": [],
   "source": [
    "print(\"El valor más óptimo para el parámetro a estimar es:\",best_param)"
   ]
  },
  {
   "cell_type": "code",
   "execution_count": null,
   "metadata": {},
   "outputs": [],
   "source": [
    "print(\"Tasa de acierto del modelo base:\",modelo_base.score(X_test,y_test_bin))\n",
    "print(\"Tasa de acierto con la busqueda de parámetros:\",svc_clf.score(X_test,y_test_bin))\n",
    "\n",
    "#Mejora\n",
    "print('Mejora  del {:0.2f}%.'.format( 100 * (svc_clf.score(X_test,y_test_bin) - modelo_base.score(X_test,y_test_bin)) / modelo_base.score(X_test,y_test_bin)))"
   ]
  },
  {
   "cell_type": "markdown",
   "metadata": {},
   "source": [
    "### 2.3 Evaluación del modelo"
   ]
  },
  {
   "cell_type": "code",
   "execution_count": null,
   "metadata": {},
   "outputs": [],
   "source": [
    "predict = svc_clf.predict(X_test)\n",
    "\n",
    "#EVALUACION\n",
    "acc_test= svc_clf.score(X_test, y_test_bin).round(4)\n",
    "acc_train= svc_clf.score(X_train, y_train_bin).round(4)\n",
    "print('La exactitud para el modelo de SVM en el conjunto de TEST es:',acc_test,'\\n')\n",
    "print('La exactitud para el modelo de SVM en el conjunto de TRAIN es:',acc_train,'\\n')\n",
    "\n",
    "print('Confusion Matrix')\n",
    "print(confusion_matrix(y_test_bin, predict),'\\n')\n",
    "\n",
    "print(\"=============== Classification Report ================\")\n",
    "print(classification_report(y_test_bin, predict))\n",
    "#matriz_confusion=pd.crosstab(Y_test,predict, rownames=['Clase predicha'], colnames=['Resultado del clasificador'])"
   ]
  },
  {
   "cell_type": "code",
   "execution_count": null,
   "metadata": {},
   "outputs": [],
   "source": [
    "matriz_confusion=pd.crosstab(y_test_bin,predict, rownames=['Clase predicha'], colnames=['Resultado del clasificador'])"
   ]
  },
  {
   "cell_type": "code",
   "execution_count": null,
   "metadata": {},
   "outputs": [],
   "source": [
    "matriz_confusion"
   ]
  },
  {
   "cell_type": "markdown",
   "metadata": {},
   "source": [
    "### 2.4 Visualización de resultados"
   ]
  },
  {
   "cell_type": "code",
   "execution_count": null,
   "metadata": {},
   "outputs": [],
   "source": [
    "#EJEMPLO LOS 10 PRIMEROS\n",
    "pacientes = len(y_test_bin[0:30])\n",
    "t = np.arange(0,pacientes)\n",
    "plt.figure(figsize=(15,9))\n",
    "plt.plot(t,y_test_bin[0:30],color='blue', marker='.',label='Real')\n",
    "plt.plot(t,predict[0:30],color='green', marker='.',label='Predicha')\n",
    "\n",
    "plt.title('Fase del sueño real vs. predicha en los primeros 30s')\n",
    "plt.xlabel('Muestras de pacientes')\n",
    "plt.ylabel('Fase del sueño')\n",
    "plt.yticks([0,1])\n",
    "#plt.xlim([0,10])\n",
    "plt.legend()"
   ]
  },
  {
   "cell_type": "markdown",
   "metadata": {},
   "source": [
    "## 3. CLASIFICADOR SVM MULTICLASE"
   ]
  },
  {
   "cell_type": "markdown",
   "metadata": {},
   "source": [
    "Este segundo clasificador SVM tiene una salida multiclase y clasifica tanto el estado de vigilia como las distintas etapas de sueño ligero y profundo."
   ]
  },
  {
   "cell_type": "markdown",
   "metadata": {},
   "source": [
    "### 3.1 Creación del modelo y selección parámetros libres"
   ]
  },
  {
   "cell_type": "markdown",
   "metadata": {},
   "source": [
    "En primer lugar, se construye un clasificador SVM de salida multiclase sin búsqueda de parámetros. Se fija el valor de gamma y se deja el valor de C por defecto."
   ]
  },
  {
   "cell_type": "code",
   "execution_count": null,
   "metadata": {
    "scrolled": true
   },
   "outputs": [],
   "source": [
    "clf = SVC(kernel='linear',gamma=0.1,decision_function_shape='ovr')\n",
    "modelo_base=clf.fit(X_train,y_train_multi)"
   ]
  },
  {
   "cell_type": "markdown",
   "metadata": {},
   "source": [
    "### 3.2 Búsqueda de parámetros con validación cruzada"
   ]
  },
  {
   "cell_type": "code",
   "execution_count": null,
   "metadata": {},
   "outputs": [],
   "source": [
    "Cs =[0.1,1,10,100,1000]\n",
    "param_grid = {'C': Cs}\n",
    "svc_grid = GridSearchCV(clf, param_grid, scoring='accuracy',cv=5,n_jobs=-1)\n",
    "svc_grid.fit(X_train, y_train_multi)\n",
    "C=svc_grid.best_params_"
   ]
  },
  {
   "cell_type": "code",
   "execution_count": null,
   "metadata": {},
   "outputs": [],
   "source": [
    "# Clasificador con los mejores parámetros\n",
    "svc_clf=svc_grid.best_estimator_"
   ]
  },
  {
   "cell_type": "code",
   "execution_count": null,
   "metadata": {},
   "outputs": [],
   "source": [
    "#parametro C\n",
    "\"\"\"\n",
    "train_scores, test_scores = validation_curve(svc_clf, X_train, y_train_multi, param_name=\"C\", param_range=Cs,cv=5)\n",
    "train_scores_mean = np.mean(train_scores, axis=1)\n",
    "test_scores_mean = np.mean(test_scores, axis=1)\n",
    "plt.title(\"Validation Curve with SVM \")\n",
    "plt.xlabel('C')\n",
    "plt.ylabel(\"Accuracy\")\n",
    "\n",
    "plt.plot(Cs, train_scores_mean, label=\"Training score\",color=\"navy\",marker='.')\n",
    "plt.plot(Cs, test_scores_mean, label=\"Cross-validation score\",color=\"darkorange\",marker='.')\n",
    "plt.grid()\n",
    "plt.legend(loc=\"best\")\n",
    "plt.show()\n",
    "\"\"\""
   ]
  },
  {
   "cell_type": "code",
   "execution_count": null,
   "metadata": {},
   "outputs": [],
   "source": [
    "print(\"C que maximiza la accuracy:\",C)"
   ]
  },
  {
   "cell_type": "code",
   "execution_count": null,
   "metadata": {},
   "outputs": [],
   "source": [
    "print(\"Tasa de acierto del modelo base:\",modelo_base.score(X_test,y_test_multi))\n",
    "print(\"Tasa de acierto con la busqueda de parámetros:\",svc_clf.score(X_test,y_test_multi))\n",
    "\n",
    "#Mejora\n",
    "print('Mejora  del {:0.2f}%.'.format( 100 * (svc_clf.score(X_test,y_test_multi) - modelo_base.score(X_test,y_test_multi)) / modelo_base.score(X_test,y_test_multi)))"
   ]
  },
  {
   "cell_type": "markdown",
   "metadata": {},
   "source": [
    "### 3.3 Evaluación del modelo"
   ]
  },
  {
   "cell_type": "code",
   "execution_count": null,
   "metadata": {},
   "outputs": [],
   "source": [
    "predict = svc_clf.predict(X_test)\n",
    "\n",
    "#EVALUACION\n",
    "acc_test= svc_clf.score(X_test, y_test_multi).round(4)\n",
    "acc_train= svc_clf.score(X_train, y_train_multi).round(4)\n",
    "print('La exactitud para el modelo de SVM en el conjunto de TEST es:',acc_test,'\\n')\n",
    "print('La exactitud para el modelo de SVM en el conjunto de TRAIN es:',acc_train,'\\n')\n",
    "\n",
    "print('Confusion Matrix')\n",
    "print(confusion_matrix(y_test_multi, predict),'\\n')\n",
    "\n",
    "print(\"=============== Classification Report ================\")\n",
    "print(classification_report(y_test_multi, predict))"
   ]
  },
  {
   "cell_type": "code",
   "execution_count": null,
   "metadata": {},
   "outputs": [],
   "source": [
    "matriz_confusion=pd.crosstab(y_test_multi,predict, rownames=['Clase predicha'], colnames=['Resultado del clasificador'])"
   ]
  },
  {
   "cell_type": "code",
   "execution_count": null,
   "metadata": {},
   "outputs": [],
   "source": [
    "matriz_confusion"
   ]
  },
  {
   "cell_type": "markdown",
   "metadata": {},
   "source": [
    "### 3.4 Visualización predicción del sueño"
   ]
  },
  {
   "cell_type": "code",
   "execution_count": null,
   "metadata": {},
   "outputs": [],
   "source": [
    "pacientes = len(y_test_multi)\n",
    "t = np.arange(0,pacientes)\n",
    "plt.figure(figsize=(15,9))\n",
    "plt.plot(t,y_test_multi,color='blue', marker='.',label='Real')\n",
    "plt.plot(t,predict,color='green', marker='.',label='Predicha')\n",
    "\n",
    "plt.title('Fase del sueño real vs. predicha en los primeros 30s')\n",
    "plt.xlabel('Muestras de pacientes')\n",
    "plt.ylabel('Fase del sueño')\n",
    "plt.legend()"
   ]
  },
  {
   "cell_type": "markdown",
   "metadata": {},
   "source": [
    "* Estimamos parámetro por parámetro porque hacer los dos a la vez tarda mucho\n",
    "* No se por qué pero al poner kernel='rbf' se hace todo rapidisimo pero solo reconoce una clase (no lo hace nada bien pero va rapido).\n",
    "* No se detectan todas las clases en el multiclase --> necesitamos entrenar con mas datos y luego probar a estimar un parámetro y el otro como en el binario\n",
    "* Baja accuracy en multiclase"
   ]
  }
 ],
 "metadata": {
  "kernelspec": {
   "display_name": "Python 3",
   "language": "python",
   "name": "python3"
  },
  "language_info": {
   "codemirror_mode": {
    "name": "ipython",
    "version": 3
   },
   "file_extension": ".py",
   "mimetype": "text/x-python",
   "name": "python",
   "nbconvert_exporter": "python",
   "pygments_lexer": "ipython3",
   "version": "3.7.4"
  }
 },
 "nbformat": 4,
 "nbformat_minor": 2
}
