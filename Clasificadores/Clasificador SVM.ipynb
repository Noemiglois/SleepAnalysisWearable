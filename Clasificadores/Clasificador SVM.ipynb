{
 "cells": [
  {
   "cell_type": "markdown",
   "metadata": {},
   "source": [
    "<center> <h1>PREDICIÓN DEL SUEÑO CON SVM</h1> </center>\n",
    "<center> <h4>Noemi González, Roberto Holgado y Carmen Plaza seco</h4> </center>\n",
    "\n",
    "\n",
    "###### Indice\n",
    "\n",
    "En este jupyter notebook se lleva a cabo la construcción de un clasificador SVM tanto de salida binaria como multiclase para predecir tanto el estado de vigilia de los pacientes como el estado de sueño y sus distintas fases.\n",
    "\n",
    "* **1. Cargar datos Train-Test**\n",
    "  * **1.1 Preparación datos de entrada y salida**\n",
    "* **2. Clasificador SVM Binario**\n",
    "   * **2.1 Creación del modelo y selección parámetros libres**\n",
    "   * **2.2 Búsqueda de parámetros con validación cruzada.**\n",
    "   * **2.3 Evaluación del modelo**\n",
    "* **3. Clasficador SVM Multiclase**\n",
    "   * **3.1 Creación del modelo y selección parámetros libres**\n",
    "   * **3.2 Búsqueda de parámetros con validación cruzada.**\n",
    "   * **3.3 Evaluación del modelo**\n",
    "   * **3.4 Visualización de residuos** "
   ]
  },
  {
   "cell_type": "markdown",
   "metadata": {},
   "source": [
    "IMPORTAR MÓDULOS"
   ]
  },
  {
   "cell_type": "code",
   "execution_count": 1,
   "metadata": {},
   "outputs": [],
   "source": [
    "import numpy as np\n",
    "import pandas as pd\n",
    "import os\n",
    "import matplotlib.pyplot as plt\n",
    "from sklearn.svm import SVC\n",
    "from sklearn.model_selection import train_test_split\n",
    "from sklearn.metrics import confusion_matrix\n",
    "import statistics as stats\n",
    "from sklearn.model_selection import GridSearchCV\n",
    "from random import sample\n",
    "from sklearn.metrics import classification_report\n",
    "from sklearn.model_selection import RandomizedSearchCV\n",
    "from sklearn.model_selection import cross_val_score\n",
    "from sklearn.model_selection import validation_curve"
   ]
  },
  {
   "cell_type": "markdown",
   "metadata": {},
   "source": [
    "## 1. CARGAR DATOS TRAIN-TEST"
   ]
  },
  {
   "cell_type": "markdown",
   "metadata": {},
   "source": [
    "Se cargan los datos de train y test generados en los jupyter notebooks 'Nombre de los jupyter', en los que procesan los datos y se obtienen las características que se utilizan para entrenar los clasificadores. \n",
    "\n",
    "En el siguiente apartado se preparan los datos para seleccionar una salida binaria o multiclase según el clasificador que se vaya a utilizar."
   ]
  },
  {
   "cell_type": "markdown",
   "metadata": {},
   "source": [
    "### 2.1 Preparación datos de entrada y salida"
   ]
  },
  {
   "cell_type": "code",
   "execution_count": 2,
   "metadata": {},
   "outputs": [],
   "source": [
    "#Train\n",
    "Train= pd.read_csv('Train.csv')\n",
    "#.drop(['Unnamed: 0'], axis = 1)\n",
    "Test= pd.read_csv('Test.csv')\n",
    "#.drop(['Unnamed: 0'], axis = 1)"
   ]
  },
  {
   "cell_type": "code",
   "execution_count": 3,
   "metadata": {},
   "outputs": [],
   "source": [
    "X_train=Train.drop(['Etiquetas', 'Etiquetas binarias','ID'], axis = 1) \n",
    "y_train_bin=Train['Etiquetas binarias']\n",
    "y_train_multi=Train['Etiquetas']\n",
    "\n",
    "X_test=Test.drop(['Etiquetas', 'Etiquetas binarias','ID'], axis = 1)\n",
    "y_test_bin=Test['Etiquetas binarias']\n",
    "y_test_multi=Test['Etiquetas']"
   ]
  },
  {
   "cell_type": "code",
   "execution_count": 4,
   "metadata": {},
   "outputs": [],
   "source": [
    "#X_train"
   ]
  },
  {
   "cell_type": "code",
   "execution_count": 5,
   "metadata": {},
   "outputs": [],
   "source": [
    "#X_test"
   ]
  },
  {
   "cell_type": "markdown",
   "metadata": {},
   "source": [
    "## 2. CLASIFICADOR SVM BINARIO"
   ]
  },
  {
   "cell_type": "markdown",
   "metadata": {},
   "source": [
    "En este primer clasificador, se ha utilizado el método SVM para clasificar la vigilia o sueño ligero del sueño profundo. Es decir, se ha construido un clasificador SVM con salida binaria."
   ]
  },
  {
   "cell_type": "markdown",
   "metadata": {},
   "source": [
    "### 2.1  Creación del modelo y selección parámetros libres"
   ]
  },
  {
   "cell_type": "markdown",
   "metadata": {},
   "source": [
    "En primer lugar, se construye un clasificador SVM de salida binaria sin búsqueda de parámetros. Se fija el valor de gamma o el valor de C y el otro se estima mediante la búsqueda del parámetro óptimo.\n",
    "\n",
    "En el siguiente código se muestra como fijar un parámetro y barrer los posibles valores del otro."
   ]
  },
  {
   "cell_type": "code",
   "execution_count": 6,
   "metadata": {},
   "outputs": [],
   "source": [
    "clf = SVC(kernel='linear', gamma=1) # gamma=1 o C=10, depende del que queramos fijar\n",
    "modelo_base=clf.fit(X_train,y_train_bin)"
   ]
  },
  {
   "cell_type": "code",
   "execution_count": 7,
   "metadata": {},
   "outputs": [
    {
     "data": {
      "text/plain": [
       "SVC(C=1.0, cache_size=200, class_weight=None, coef0=0.0,\n",
       "    decision_function_shape='ovr', degree=3, gamma=1, kernel='linear',\n",
       "    max_iter=-1, probability=False, random_state=None, shrinking=True,\n",
       "    tol=0.001, verbose=False)"
      ]
     },
     "execution_count": 7,
     "metadata": {},
     "output_type": "execute_result"
    }
   ],
   "source": [
    "clf"
   ]
  },
  {
   "cell_type": "markdown",
   "metadata": {},
   "source": [
    "### 2.2  Búsqueda de parámetros con validación cruzada"
   ]
  },
  {
   "cell_type": "markdown",
   "metadata": {},
   "source": [
    "A continuación, se realiza la búsqueda de parámetros. El parámetro gamma o C se fija y se hace un 'barrido' de los posibles valores del parámetro no fijado para elegir aquel que maximice la exactitud (accuracy).\n",
    "\n",
    "Tras varias iteraciones se ha visto que los mejores parámetros son gamma=1 y C=10 para el clasificadro binario.\n"
   ]
  },
  {
   "cell_type": "code",
   "execution_count": 8,
   "metadata": {},
   "outputs": [],
   "source": [
    "Cs =[0.1,1,10,100,1000]\n",
    "# gamma = range(1,10,1) #si se quisiese estimar gamma\n",
    "param_grid = { 'C': Cs  } #'gamma': gamma\n",
    "svc_grid = GridSearchCV(clf, param_grid, scoring='accuracy',cv=5,n_jobs=-1)\n",
    "svc_grid.fit(X_train, y_train_bin)\n",
    "best_param=svc_grid.best_params_"
   ]
  },
  {
   "cell_type": "code",
   "execution_count": 9,
   "metadata": {},
   "outputs": [],
   "source": [
    "# Clasificador con los mejores parámetros\n",
    "svc_clf=svc_grid.best_estimator_"
   ]
  },
  {
   "cell_type": "code",
   "execution_count": 10,
   "metadata": {},
   "outputs": [
    {
     "data": {
      "image/png": "[encoded data removed]",
      "text/plain": [
       "<Figure size 432x288 with 1 Axes>"
      ]
     },
     "metadata": {
      "needs_background": "light"
     },
     "output_type": "display_data"
    }
   ],
   "source": [
    "#parametro que queremos estimar\n",
    "train_scores, test_scores = validation_curve(svc_clf, X_train, y_train_bin, param_name=\"C\", param_range=Cs,cv=5)\n",
    "train_scores_mean = np.mean(train_scores, axis=1)\n",
    "test_scores_mean = np.mean(test_scores, axis=1)\n",
    "plt.title(\"Validation Curve with SVM \")\n",
    "plt.xlabel('C')\n",
    "plt.ylabel(\"Accuracy\")\n",
    "\n",
    "plt.plot(Cs, train_scores_mean, label=\"Training score\",color=\"navy\",marker='.')\n",
    "plt.plot(Cs, test_scores_mean, label=\"Cross-validation score\",color=\"darkorange\",marker='.')\n",
    "plt.grid()\n",
    "plt.legend(loc=\"best\")\n",
    "plt.show()\n"
   ]
  },
  {
   "cell_type": "code",
   "execution_count": 11,
   "metadata": {},
   "outputs": [
    {
     "name": "stdout",
     "output_type": "stream",
     "text": [
      "El valor más óptimo para el parámetro a estimar es: {'C': 1000}\n"
     ]
    }
   ],
   "source": [
    "print(\"El valor más óptimo para el parámetro a estimar es:\",best_param)"
   ]
  },
  {
   "cell_type": "code",
   "execution_count": 12,
   "metadata": {},
   "outputs": [
    {
     "name": "stdout",
     "output_type": "stream",
     "text": [
      "Tasa de acierto del modelo base: 0.7571428571428571\n",
      "Tasa de acierto con la busqueda de parámetros: 0.7619047619047619\n",
      "Mejora  del 0.63%.\n"
     ]
    }
   ],
   "source": [
    "print(\"Tasa de acierto del modelo base:\",modelo_base.score(X_test,y_test_bin))\n",
    "print(\"Tasa de acierto con la busqueda de parámetros:\",svc_clf.score(X_test,y_test_bin))\n",
    "\n",
    "#Mejora\n",
    "print('Mejora  del {:0.2f}%.'.format( 100 * (svc_clf.score(X_test,y_test_bin) - modelo_base.score(X_test,y_test_bin)) / modelo_base.score(X_test,y_test_bin)))"
   ]
  },
  {
   "cell_type": "markdown",
   "metadata": {},
   "source": [
    "### 2.3 Evaluación del modelo"
   ]
  },
  {
   "cell_type": "code",
   "execution_count": 13,
   "metadata": {},
   "outputs": [
    {
     "name": "stdout",
     "output_type": "stream",
     "text": [
      "La exactitud para el modelo de SVM en el conjunto de TEST es: 0.7619 \n",
      "\n",
      "La exactitud para el modelo de SVM en el conjunto de TRAIN es: 0.7264 \n",
      "\n",
      "Confusion Matrix\n",
      "[[ 10  44]\n",
      " [  6 150]] \n",
      "\n",
      "=============== Classification Report ================\n",
      "              precision    recall  f1-score   support\n",
      "\n",
      "         0.0       0.62      0.19      0.29        54\n",
      "         1.0       0.77      0.96      0.86       156\n",
      "\n",
      "    accuracy                           0.76       210\n",
      "   macro avg       0.70      0.57      0.57       210\n",
      "weighted avg       0.74      0.76      0.71       210\n",
      "\n"
     ]
    }
   ],
   "source": [
    "predict = svc_clf.predict(X_test)\n",
    "\n",
    "#EVALUACION\n",
    "acc_test= svc_clf.score(X_test, y_test_bin).round(4)\n",
    "acc_train= svc_clf.score(X_train, y_train_bin).round(4)\n",
    "print('La exactitud para el modelo de SVM en el conjunto de TEST es:',acc_test,'\\n')\n",
    "print('La exactitud para el modelo de SVM en el conjunto de TRAIN es:',acc_train,'\\n')\n",
    "\n",
    "print('Confusion Matrix')\n",
    "print(confusion_matrix(y_test_bin, predict),'\\n')\n",
    "\n",
    "print(\"=============== Classification Report ================\")\n",
    "print(classification_report(y_test_bin, predict))\n",
    "#matriz_confusion=pd.crosstab(Y_test,predict, rownames=['Clase predicha'], colnames=['Resultado del clasificador'])"
   ]
  },
  {
   "cell_type": "code",
   "execution_count": 14,
   "metadata": {},
   "outputs": [],
   "source": [
    "matriz_confusion=pd.crosstab(y_test_bin,predict, rownames=['Clase predicha'], colnames=['Resultado del clasificador'])"
   ]
  },
  {
   "cell_type": "code",
   "execution_count": 15,
   "metadata": {},
   "outputs": [
    {
     "data": {
      "text/html": [
       "<div>\n",
       "<style scoped>\n",
       "    .dataframe tbody tr th:only-of-type {\n",
       "        vertical-align: middle;\n",
       "    }\n",
       "\n",
       "    .dataframe tbody tr th {\n",
       "        vertical-align: top;\n",
       "    }\n",
       "\n",
       "    .dataframe thead th {\n",
       "        text-align: right;\n",
       "    }\n",
       "</style>\n",
       "<table border=\"1\" class=\"dataframe\">\n",
       "  <thead>\n",
       "    <tr style=\"text-align: right;\">\n",
       "      <th>Resultado del clasificador</th>\n",
       "      <th>0.0</th>\n",
       "      <th>1.0</th>\n",
       "    </tr>\n",
       "    <tr>\n",
       "      <th>Clase predicha</th>\n",
       "      <th></th>\n",
       "      <th></th>\n",
       "    </tr>\n",
       "  </thead>\n",
       "  <tbody>\n",
       "    <tr>\n",
       "      <td>0.0</td>\n",
       "      <td>10</td>\n",
       "      <td>44</td>\n",
       "    </tr>\n",
       "    <tr>\n",
       "      <td>1.0</td>\n",
       "      <td>6</td>\n",
       "      <td>150</td>\n",
       "    </tr>\n",
       "  </tbody>\n",
       "</table>\n",
       "</div>"
      ],
      "text/plain": [
       "Resultado del clasificador  0.0  1.0\n",
       "Clase predicha                      \n",
       "0.0                          10   44\n",
       "1.0                           6  150"
      ]
     },
     "execution_count": 15,
     "metadata": {},
     "output_type": "execute_result"
    }
   ],
   "source": [
    "matriz_confusion"
   ]
  },
  {
   "cell_type": "markdown",
   "metadata": {},
   "source": [
    "## 3. CLASIFICADOR SVM MULTICLASE"
   ]
  },
  {
   "cell_type": "markdown",
   "metadata": {},
   "source": [
    "Este segundo clasificador SVM tiene una salida multiclase y clasifica tanto el estado de vigilia como las distintas etapas de sueño ligero y profundo."
   ]
  },
  {
   "cell_type": "markdown",
   "metadata": {},
   "source": [
    "### 3.1 Creación del modelo y selección parámetros libres"
   ]
  },
  {
   "cell_type": "markdown",
   "metadata": {},
   "source": [
    "En primer lugar, se construye un clasificador SVM de salida multiclase sin búsqueda de parámetros. Se fija el valor de gamma y se deja el valor de C por defecto."
   ]
  },
  {
   "cell_type": "code",
   "execution_count": 16,
   "metadata": {
    "scrolled": true
   },
   "outputs": [],
   "source": [
    "clf = SVC(kernel='linear',gamma=0.1)\n",
    "modelo_base=clf.fit(X_train,y_train_multi)"
   ]
  },
  {
   "cell_type": "markdown",
   "metadata": {},
   "source": [
    "### 3.2 Búsqueda de parámetros con validación cruzada"
   ]
  },
  {
   "cell_type": "code",
   "execution_count": 17,
   "metadata": {},
   "outputs": [
    {
     "name": "stderr",
     "output_type": "stream",
     "text": [
      "C:\\Users\\rober\\Anaconda3\\lib\\site-packages\\sklearn\\model_selection\\_search.py:814: DeprecationWarning: The default of the `iid` parameter will change from True to False in version 0.22 and will be removed in 0.24. This will change numeric results when test-set sizes are unequal.\n",
      "  DeprecationWarning)\n"
     ]
    }
   ],
   "source": [
    "Cs =[0.1,1,10,100,1000]\n",
    "param_grid = {'C': Cs}\n",
    "svc_grid = GridSearchCV(clf, param_grid, scoring='accuracy',cv=5,n_jobs=-1)\n",
    "svc_grid.fit(X_train, y_train_multi)\n",
    "C=svc_grid.best_params_"
   ]
  },
  {
   "cell_type": "code",
   "execution_count": 18,
   "metadata": {},
   "outputs": [],
   "source": [
    "# Clasificador con los mejores parámetros\n",
    "svc_clf=svc_grid.best_estimator_"
   ]
  },
  {
   "cell_type": "code",
   "execution_count": 19,
   "metadata": {},
   "outputs": [
    {
     "data": {
      "image/png": "[encoded data removed]",
      "text/plain": [
       "<Figure size 432x288 with 1 Axes>"
      ]
     },
     "metadata": {
      "needs_background": "light"
     },
     "output_type": "display_data"
    }
   ],
   "source": [
    "#parametro C\n",
    "\n",
    "train_scores, test_scores = validation_curve(svc_clf, X_train, y_train_multi, param_name=\"C\", param_range=Cs,cv=5)\n",
    "train_scores_mean = np.mean(train_scores, axis=1)\n",
    "test_scores_mean = np.mean(test_scores, axis=1)\n",
    "plt.title(\"Validation Curve with SVM \")\n",
    "plt.xlabel('C')\n",
    "plt.ylabel(\"Accuracy\")\n",
    "\n",
    "plt.plot(Cs, train_scores_mean, label=\"Training score\",color=\"navy\",marker='.')\n",
    "plt.plot(Cs, test_scores_mean, label=\"Cross-validation score\",color=\"darkorange\",marker='.')\n",
    "plt.grid()\n",
    "plt.legend(loc=\"best\")\n",
    "plt.show()"
   ]
  },
  {
   "cell_type": "code",
   "execution_count": 20,
   "metadata": {},
   "outputs": [
    {
     "name": "stdout",
     "output_type": "stream",
     "text": [
      "C que maximiza la accuracy: {'C': 100}\n"
     ]
    }
   ],
   "source": [
    "print(\"C que maximiza la accuracy:\",C)"
   ]
  },
  {
   "cell_type": "code",
   "execution_count": 21,
   "metadata": {},
   "outputs": [
    {
     "name": "stdout",
     "output_type": "stream",
     "text": [
      "Tasa de acierto del modelo base: 0.49523809523809526\n",
      "Tasa de acierto con la busqueda de parámetros: 0.47619047619047616\n",
      "Mejora  del -3.85%.\n"
     ]
    }
   ],
   "source": [
    "print(\"Tasa de acierto del modelo base:\",modelo_base.score(X_test,y_test_multi))\n",
    "print(\"Tasa de acierto con la busqueda de parámetros:\",svc_clf.score(X_test,y_test_multi))\n",
    "\n",
    "#Mejora\n",
    "print('Mejora  del {:0.2f}%.'.format( 100 * (svc_clf.score(X_test,y_test_multi) - modelo_base.score(X_test,y_test_multi)) / modelo_base.score(X_test,y_test_multi)))"
   ]
  },
  {
   "cell_type": "markdown",
   "metadata": {},
   "source": [
    "### 3.3 Evaluación del modelo"
   ]
  },
  {
   "cell_type": "code",
   "execution_count": 22,
   "metadata": {},
   "outputs": [
    {
     "name": "stdout",
     "output_type": "stream",
     "text": [
      "La exactitud para el modelo de SVM en el conjunto de TEST es: 0.4762 \n",
      "\n",
      "La exactitud para el modelo de SVM en el conjunto de TRAIN es: 0.5153 \n",
      "\n",
      "Confusion Matrix\n",
      "[[ 1  0  1  3  0  0  1]\n",
      " [ 4  2  1 10  0  0  0]\n",
      " [ 0  3  0 17  0  0  1]\n",
      " [ 0  2  0 96  0  0  1]\n",
      " [ 0  0  0 33  0  0  0]\n",
      " [ 0  0  0  3  0  0  0]\n",
      " [ 0  0  0 30  0  0  1]] \n",
      "\n",
      "=============== Classification Report ================\n",
      "              precision    recall  f1-score   support\n",
      "\n",
      "        -1.0       0.20      0.17      0.18         6\n",
      "         0.0       0.29      0.12      0.17        17\n",
      "         1.0       0.00      0.00      0.00        21\n",
      "         2.0       0.50      0.97      0.66        99\n",
      "         3.0       0.00      0.00      0.00        33\n",
      "         4.0       0.00      0.00      0.00         3\n",
      "         5.0       0.25      0.03      0.06        31\n",
      "\n",
      "    accuracy                           0.48       210\n",
      "   macro avg       0.18      0.18      0.15       210\n",
      "weighted avg       0.30      0.48      0.34       210\n",
      "\n"
     ]
    },
    {
     "name": "stderr",
     "output_type": "stream",
     "text": [
      "C:\\Users\\rober\\Anaconda3\\lib\\site-packages\\sklearn\\metrics\\classification.py:1437: UndefinedMetricWarning: Precision and F-score are ill-defined and being set to 0.0 in labels with no predicted samples.\n",
      "  'precision', 'predicted', average, warn_for)\n"
     ]
    }
   ],
   "source": [
    "predict = svc_clf.predict(X_test)\n",
    "\n",
    "#EVALUACION\n",
    "acc_test= svc_clf.score(X_test, y_test_multi).round(4)\n",
    "acc_train= svc_clf.score(X_train, y_train_multi).round(4)\n",
    "print('La exactitud para el modelo de SVM en el conjunto de TEST es:',acc_test,'\\n')\n",
    "print('La exactitud para el modelo de SVM en el conjunto de TRAIN es:',acc_train,'\\n')\n",
    "\n",
    "print('Confusion Matrix')\n",
    "print(confusion_matrix(y_test_multi, predict),'\\n')\n",
    "\n",
    "print(\"=============== Classification Report ================\")\n",
    "print(classification_report(y_test_multi, predict))"
   ]
  },
  {
   "cell_type": "code",
   "execution_count": 23,
   "metadata": {},
   "outputs": [],
   "source": [
    "matriz_confusion=pd.crosstab(y_test_multi,predict, rownames=['Clase predicha'], colnames=['Resultado del clasificador'])"
   ]
  },
  {
   "cell_type": "code",
   "execution_count": 24,
   "metadata": {},
   "outputs": [
    {
     "data": {
      "text/html": [
       "<div>\n",
       "<style scoped>\n",
       "    .dataframe tbody tr th:only-of-type {\n",
       "        vertical-align: middle;\n",
       "    }\n",
       "\n",
       "    .dataframe tbody tr th {\n",
       "        vertical-align: top;\n",
       "    }\n",
       "\n",
       "    .dataframe thead th {\n",
       "        text-align: right;\n",
       "    }\n",
       "</style>\n",
       "<table border=\"1\" class=\"dataframe\">\n",
       "  <thead>\n",
       "    <tr style=\"text-align: right;\">\n",
       "      <th>Resultado del clasificador</th>\n",
       "      <th>-1.0</th>\n",
       "      <th>0.0</th>\n",
       "      <th>1.0</th>\n",
       "      <th>2.0</th>\n",
       "      <th>5.0</th>\n",
       "    </tr>\n",
       "    <tr>\n",
       "      <th>Clase predicha</th>\n",
       "      <th></th>\n",
       "      <th></th>\n",
       "      <th></th>\n",
       "      <th></th>\n",
       "      <th></th>\n",
       "    </tr>\n",
       "  </thead>\n",
       "  <tbody>\n",
       "    <tr>\n",
       "      <td>-1.0</td>\n",
       "      <td>1</td>\n",
       "      <td>0</td>\n",
       "      <td>1</td>\n",
       "      <td>3</td>\n",
       "      <td>1</td>\n",
       "    </tr>\n",
       "    <tr>\n",
       "      <td>0.0</td>\n",
       "      <td>4</td>\n",
       "      <td>2</td>\n",
       "      <td>1</td>\n",
       "      <td>10</td>\n",
       "      <td>0</td>\n",
       "    </tr>\n",
       "    <tr>\n",
       "      <td>1.0</td>\n",
       "      <td>0</td>\n",
       "      <td>3</td>\n",
       "      <td>0</td>\n",
       "      <td>17</td>\n",
       "      <td>1</td>\n",
       "    </tr>\n",
       "    <tr>\n",
       "      <td>2.0</td>\n",
       "      <td>0</td>\n",
       "      <td>2</td>\n",
       "      <td>0</td>\n",
       "      <td>96</td>\n",
       "      <td>1</td>\n",
       "    </tr>\n",
       "    <tr>\n",
       "      <td>3.0</td>\n",
       "      <td>0</td>\n",
       "      <td>0</td>\n",
       "      <td>0</td>\n",
       "      <td>33</td>\n",
       "      <td>0</td>\n",
       "    </tr>\n",
       "    <tr>\n",
       "      <td>4.0</td>\n",
       "      <td>0</td>\n",
       "      <td>0</td>\n",
       "      <td>0</td>\n",
       "      <td>3</td>\n",
       "      <td>0</td>\n",
       "    </tr>\n",
       "    <tr>\n",
       "      <td>5.0</td>\n",
       "      <td>0</td>\n",
       "      <td>0</td>\n",
       "      <td>0</td>\n",
       "      <td>30</td>\n",
       "      <td>1</td>\n",
       "    </tr>\n",
       "  </tbody>\n",
       "</table>\n",
       "</div>"
      ],
      "text/plain": [
       "Resultado del clasificador  -1.0   0.0   1.0   2.0   5.0\n",
       "Clase predicha                                          \n",
       "-1.0                           1     0     1     3     1\n",
       " 0.0                           4     2     1    10     0\n",
       " 1.0                           0     3     0    17     1\n",
       " 2.0                           0     2     0    96     1\n",
       " 3.0                           0     0     0    33     0\n",
       " 4.0                           0     0     0     3     0\n",
       " 5.0                           0     0     0    30     1"
      ]
     },
     "execution_count": 24,
     "metadata": {},
     "output_type": "execute_result"
    }
   ],
   "source": [
    "matriz_confusion"
   ]
  },
  {
   "cell_type": "markdown",
   "metadata": {},
   "source": [
    "### 3.4 Visualización de residuos"
   ]
  },
  {
   "cell_type": "code",
   "execution_count": 25,
   "metadata": {},
   "outputs": [
    {
     "data": {
      "text/plain": [
       "<matplotlib.legend.Legend at 0x297a1ce8ec8>"
      ]
     },
     "execution_count": 25,
     "metadata": {},
     "output_type": "execute_result"
    },
    {
     "data": {
      "image/png": "[encoded data removed]",
      "text/plain": [
       "<Figure size 1080x648 with 1 Axes>"
      ]
     },
     "metadata": {
      "needs_background": "light"
     },
     "output_type": "display_data"
    }
   ],
   "source": [
    "pacientes = len(y_test_multi)\n",
    "t = np.arange(0,pacientes)\n",
    "plt.figure(figsize=(15,9))\n",
    "plt.plot(t,y_test_multi,color='blue', marker='.',label='Real')\n",
    "plt.plot(t,predict,color='green', marker='.',label='Predicha')\n",
    "\n",
    "plt.title('Fase del sueño real vs. predicha en los primeros 30s')\n",
    "plt.xlabel('Muestras de pacientes')\n",
    "plt.ylabel('Fase del sueño')\n",
    "#plt.yticks([-1,0])\n",
    "#plt.xlim([0,10])\n",
    "plt.legend()"
   ]
  },
  {
   "cell_type": "markdown",
   "metadata": {},
   "source": [
    "* Estimamos parámetro por parámetro porque hacer los dos a la vez tarda mucho\n",
    "* No se por qué pero al poner kernel='rbf' se hace todo rapidisimo pero solo reconoce una clase (no lo hace nada bien pero va rapido).\n",
    "* No se detectan todas las clases en el multiclase --> necesitamos entrenar con mas datos y luego probar a estimar un parámetro y el otro como en el binario\n",
    "* Baja accuracy en multiclase"
   ]
  }
 ],
 "metadata": {
  "kernelspec": {
   "display_name": "Python 3",
   "language": "python",
   "name": "python3"
  },
  "language_info": {
   "codemirror_mode": {
    "name": "ipython",
    "version": 3
   },
   "file_extension": ".py",
   "mimetype": "text/x-python",
   "name": "python",
   "nbconvert_exporter": "python",
   "pygments_lexer": "ipython3",
   "version": "3.7.4"
  }
 },
 "nbformat": 4,
 "nbformat_minor": 2
}
