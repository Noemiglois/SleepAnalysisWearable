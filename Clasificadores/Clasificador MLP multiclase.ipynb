{
 "cells": [
  {
   "cell_type": "markdown",
   "metadata": {},
   "source": [
    "<center> <h1>PREDICIÓN DEL SUEÑO CON MLP MULTICLASE</h1> </center>\n",
    "<center> <h4>Noemi González, Roberto Holgado y Carmen Plaza seco</h4> </center>\n",
    "\n",
    "\n",
    "###### Indice\n",
    "\n",
    "En este jupyter notebook se lleva a cabo la construcción de un clasificador MLP de salida multiclase para predecir el el estado de vigilia o sueño ligero y  el de sueño profundo.\n",
    "\n",
    "    1. Clasficador MLP multiclase\n",
    "        1.1 Preparación datos de entrada y salida\n",
    "        1.2 Creación del modelo y selección parámetros libres\n",
    "        1.3 Evaluación del modelo\n",
    "        1.4 Visualización de resultados"
   ]
  },
  {
   "cell_type": "markdown",
   "metadata": {},
   "source": [
    "IMPORTAR MÓDULOS"
   ]
  },
  {
   "cell_type": "code",
   "execution_count": 1,
   "metadata": {},
   "outputs": [],
   "source": [
    "from sklearn.metrics import classification_report,confusion_matrix\n",
    "from sklearn.model_selection import train_test_split\n",
    "from sklearn.neural_network import MLPClassifier\n",
    "from sklearn.preprocessing import MinMaxScaler\n",
    "import matplotlib.pyplot as plt\n",
    "import pandas as pd\n",
    "import numpy as np\n",
    "from sklearn import svm\n",
    "import sklearn"
   ]
  },
  {
   "cell_type": "markdown",
   "metadata": {},
   "source": [
    "## 1. CLASIFICADOR MLP MULTICLASE"
   ]
  },
  {
   "cell_type": "markdown",
   "metadata": {},
   "source": [
    "Se ha utilizado un perceptrón multicapa para clasificar las distintas fases del sueño. Es decir, se ha construido un clasificador con salida multiclase."
   ]
  },
  {
   "cell_type": "markdown",
   "metadata": {},
   "source": [
    "### 1.1 Preparación datos de entrada y salida"
   ]
  },
  {
   "cell_type": "code",
   "execution_count": 2,
   "metadata": {},
   "outputs": [],
   "source": [
    "Train_multi= pd.read_csv('Train_multiclass.csv')\n",
    "Test_multi= pd.read_csv('Test_multiclass.csv')"
   ]
  },
  {
   "cell_type": "code",
   "execution_count": 3,
   "metadata": {
    "scrolled": true
   },
   "outputs": [],
   "source": [
    "X_train_multi=Train_multi.drop(['Etiquetas multiclase', 'Etiquetas binarias','ID'], axis = 1) \n",
    "y_train_multi=Train_multi['Etiquetas multiclase']\n",
    "\n",
    "X_test_multi=Test_multi.drop(['Etiquetas multiclase', 'Etiquetas binarias','ID'], axis = 1)\n",
    "y_test_multi=Test_multi['Etiquetas multiclase']"
   ]
  },
  {
   "cell_type": "markdown",
   "metadata": {},
   "source": [
    "### 1.2  Creación del modelo y selección parámetros libres"
   ]
  },
  {
   "cell_type": "markdown",
   "metadata": {},
   "source": [
    "Se proponen posibles valores de neuronas en la capa oculta para ver con cuál de ellos se obtienen las mejores prestaciones para el modelo. Se crea una tabla que recoge la pérdidas para cada valor del número de neuronas y aquel que tenga menos pérdida es el que se utilizará para el conjunto de test.\n",
    "\n",
    "Se estudia el número de neuronas para un rango de 4 a 20 cogiendo los valores con saltos de 3."
   ]
  },
  {
   "cell_type": "code",
   "execution_count": 4,
   "metadata": {},
   "outputs": [],
   "source": [
    "# Tabla para recoger las prestaciones en train \n",
    "columns  = ['Loss','Score']\n",
    "comp_train = pd.DataFrame(columns=columns)\n"
   ]
  },
  {
   "cell_type": "code",
   "execution_count": 5,
   "metadata": {},
   "outputs": [
    {
     "name": "stdout",
     "output_type": "stream",
     "text": [
      "\u001b[4;32mMLP clasiffier with 4 neurons in the hidden layer\u001b[0m\n",
      "Iteration 1, loss = 4.90124145\n",
      "Validation score: 0.174194\n",
      "Iteration 2, loss = 1.62705733\n",
      "Validation score: 0.174194\n",
      "Iteration 3, loss = 1.62419034\n",
      "Validation score: 0.174194\n",
      "Iteration 4, loss = 1.62382126\n",
      "Validation score: 0.174194\n",
      "Iteration 5, loss = 1.62516527\n",
      "Validation score: 0.174194\n",
      "Iteration 6, loss = 1.62314476\n",
      "Validation score: 0.174194\n",
      "Iteration 7, loss = 1.62227433\n",
      "Validation score: 0.174194\n",
      "Validation score did not improve more than tol=0.010000 for 5 consecutive epochs. Stopping.\n",
      "\u001b[4;32mMLP clasiffier with 7 neurons in the hidden layer\u001b[0m\n",
      "Iteration 1, loss = 3.17328272\n",
      "Validation score: 0.187097\n",
      "Iteration 2, loss = 1.62070986\n",
      "Validation score: 0.245161\n",
      "Iteration 3, loss = 1.62174178\n",
      "Validation score: 0.187097\n",
      "Iteration 4, loss = 1.62237219\n",
      "Validation score: 0.193548\n",
      "Iteration 5, loss = 1.62128208\n",
      "Validation score: 0.167742\n",
      "Iteration 6, loss = 1.62153551\n",
      "Validation score: 0.187097\n",
      "Iteration 7, loss = 1.62165856\n",
      "Validation score: 0.245161\n",
      "Iteration 8, loss = 1.62187133\n",
      "Validation score: 0.187097\n",
      "Validation score did not improve more than tol=0.010000 for 5 consecutive epochs. Stopping.\n",
      "\u001b[4;32mMLP clasiffier with 10 neurons in the hidden layer\u001b[0m\n",
      "Iteration 1, loss = 3.63858710\n",
      "Validation score: 0.193548\n",
      "Iteration 2, loss = 1.62194564\n",
      "Validation score: 0.167742\n",
      "Iteration 3, loss = 1.61792293\n",
      "Validation score: 0.180645\n",
      "Iteration 4, loss = 1.61677328\n",
      "Validation score: 0.193548\n",
      "Iteration 5, loss = 1.61755764\n",
      "Validation score: 0.193548\n",
      "Iteration 6, loss = 1.61605636\n",
      "Validation score: 0.193548\n",
      "Iteration 7, loss = 1.61811363\n",
      "Validation score: 0.193548\n",
      "Validation score did not improve more than tol=0.010000 for 5 consecutive epochs. Stopping.\n",
      "\u001b[4;32mMLP clasiffier with 13 neurons in the hidden layer\u001b[0m\n",
      "Iteration 1, loss = 4.52945161\n",
      "Validation score: 0.258065\n",
      "Iteration 2, loss = 1.64057218\n",
      "Validation score: 0.148387\n",
      "Iteration 3, loss = 1.62437699\n"
     ]
    },
    {
     "name": "stderr",
     "output_type": "stream",
     "text": [
      "/Applications/anaconda3/envs/cuarto/lib/python3.7/site-packages/ipykernel_launcher.py:15: FutureWarning: set_value is deprecated and will be removed in a future release. Please use .at[] or .iat[] accessors instead\n",
      "  from ipykernel import kernelapp as app\n",
      "/Applications/anaconda3/envs/cuarto/lib/python3.7/site-packages/ipykernel_launcher.py:15: FutureWarning: set_value is deprecated and will be removed in a future release. Please use .at[] or .iat[] accessors instead\n",
      "  from ipykernel import kernelapp as app\n",
      "/Applications/anaconda3/envs/cuarto/lib/python3.7/site-packages/ipykernel_launcher.py:15: FutureWarning: set_value is deprecated and will be removed in a future release. Please use .at[] or .iat[] accessors instead\n",
      "  from ipykernel import kernelapp as app\n",
      "/Applications/anaconda3/envs/cuarto/lib/python3.7/site-packages/ipykernel_launcher.py:15: FutureWarning: set_value is deprecated and will be removed in a future release. Please use .at[] or .iat[] accessors instead\n",
      "  from ipykernel import kernelapp as app\n"
     ]
    },
    {
     "name": "stdout",
     "output_type": "stream",
     "text": [
      "Validation score: 0.187097\n",
      "Iteration 4, loss = 1.62490117\n",
      "Validation score: 0.180645\n",
      "Iteration 5, loss = 1.62215499\n",
      "Validation score: 0.258065\n",
      "Iteration 6, loss = 1.62343188\n",
      "Validation score: 0.258065\n",
      "Iteration 7, loss = 1.62487824\n",
      "Validation score: 0.258065\n",
      "Validation score did not improve more than tol=0.010000 for 5 consecutive epochs. Stopping.\n",
      "\u001b[4;32mMLP clasiffier with 16 neurons in the hidden layer\u001b[0m\n",
      "Iteration 1, loss = inf\n",
      "Validation score: 0.258065\n",
      "Iteration 2, loss = 3.85017163\n",
      "Validation score: 0.167742\n",
      "Iteration 3, loss = 4.51715804\n",
      "Validation score: 0.174194\n",
      "Iteration 4, loss = 4.70302695\n",
      "Validation score: 0.174194\n",
      "Iteration 5, loss = 4.75193633\n",
      "Validation score: 0.258065\n",
      "Iteration 6, loss = 4.76719666\n",
      "Validation score: 0.258065\n",
      "Iteration 7, loss = 4.76800763\n",
      "Validation score: 0.174194\n",
      "Validation score did not improve more than tol=0.010000 for 5 consecutive epochs. Stopping.\n",
      "\u001b[4;32mMLP clasiffier with 19 neurons in the hidden layer\u001b[0m\n",
      "Iteration 1, loss = inf\n",
      "Validation score: 0.148387\n",
      "Iteration 2, loss = 1.72996467\n",
      "Validation score: 0.167742\n",
      "Iteration 3, loss = 1.76633148\n",
      "Validation score: 0.238710\n",
      "Iteration 4, loss = 1.77078176\n",
      "Validation score: 0.148387\n",
      "Iteration 5, loss = 1.77602585\n",
      "Validation score: 0.148387\n",
      "Iteration 6, loss = 1.77183009\n",
      "Validation score: 0.238710\n",
      "Iteration 7, loss = 1.77420368\n",
      "Validation score: 0.238710\n",
      "Iteration 8, loss = 1.77343143\n",
      "Validation score: 0.148387\n",
      "Iteration 9, loss = 1.77278294\n",
      "Validation score: 0.148387\n",
      "Validation score did not improve more than tol=0.010000 for 5 consecutive epochs. Stopping.\n"
     ]
    },
    {
     "name": "stderr",
     "output_type": "stream",
     "text": [
      "/Applications/anaconda3/envs/cuarto/lib/python3.7/site-packages/ipykernel_launcher.py:15: FutureWarning: set_value is deprecated and will be removed in a future release. Please use .at[] or .iat[] accessors instead\n",
      "  from ipykernel import kernelapp as app\n",
      "/Applications/anaconda3/envs/cuarto/lib/python3.7/site-packages/ipykernel_launcher.py:15: FutureWarning: set_value is deprecated and will be removed in a future release. Please use .at[] or .iat[] accessors instead\n",
      "  from ipykernel import kernelapp as app\n"
     ]
    }
   ],
   "source": [
    "# Número de neuronas de la capa oculta\n",
    "n_hidden=range(4,20,3)\n",
    "\n",
    "for i in n_hidden:\n",
    "    \n",
    "    print('\\033[4;32m' + 'MLP clasiffier with',i,'neurons in the hidden layer' + '\\033[0m')\n",
    "\n",
    "    model=MLPClassifier(activation='relu', batch_size=50, hidden_layer_sizes=(i,), learning_rate='constant',\n",
    "        learning_rate_init=0.1, max_iter=30, shuffle=True, solver='sgd', tol=0.01, early_stopping=True,\n",
    "        validation_fraction=0.2, verbose=True, n_iter_no_change=5)\n",
    "\n",
    "    model.fit(X_train_multi, y_train_multi)\n",
    "    \n",
    "    loss=model.loss_  \n",
    "    comp_train = comp_train.set_value(i,('Loss','Score'),(loss,'Verbose'))"
   ]
  },
  {
   "cell_type": "markdown",
   "metadata": {},
   "source": [
    "Las medidas de prestación elegidas para la elección de una topología han sido el validation score y la pérdida. Ambas se pueden ver al aplicar el fit del modelo, gracias al parámetro verbose=True. La pérdida la hemos añadido a la siguiente tabla pero la accuracy de cada epoch para el conjunto de validación hay que verla en la celda anterior. Según estos resultados, la mejor topología de MLP sería la de **n_hidden_1 con X neuronas** en la capa oculta, ya que el par (loss,val_score) es el mejor.\n",
    "En todos los casos el valor 'validation score' está entorno a 0.66, pero el número de neuronas de menor pérdida es X."
   ]
  },
  {
   "cell_type": "code",
   "execution_count": 6,
   "metadata": {},
   "outputs": [
    {
     "data": {
      "text/html": [
       "<div>\n",
       "<style scoped>\n",
       "    .dataframe tbody tr th:only-of-type {\n",
       "        vertical-align: middle;\n",
       "    }\n",
       "\n",
       "    .dataframe tbody tr th {\n",
       "        vertical-align: top;\n",
       "    }\n",
       "\n",
       "    .dataframe thead th {\n",
       "        text-align: right;\n",
       "    }\n",
       "</style>\n",
       "<table border=\"1\" class=\"dataframe\">\n",
       "  <thead>\n",
       "    <tr style=\"text-align: right;\">\n",
       "      <th></th>\n",
       "      <th>Loss</th>\n",
       "      <th>Score</th>\n",
       "    </tr>\n",
       "  </thead>\n",
       "  <tbody>\n",
       "    <tr>\n",
       "      <th>4</th>\n",
       "      <td>1.62227</td>\n",
       "      <td>Verbose</td>\n",
       "    </tr>\n",
       "    <tr>\n",
       "      <th>7</th>\n",
       "      <td>1.62187</td>\n",
       "      <td>Verbose</td>\n",
       "    </tr>\n",
       "    <tr>\n",
       "      <th>10</th>\n",
       "      <td>1.61811</td>\n",
       "      <td>Verbose</td>\n",
       "    </tr>\n",
       "    <tr>\n",
       "      <th>13</th>\n",
       "      <td>1.62488</td>\n",
       "      <td>Verbose</td>\n",
       "    </tr>\n",
       "    <tr>\n",
       "      <th>16</th>\n",
       "      <td>4.76801</td>\n",
       "      <td>Verbose</td>\n",
       "    </tr>\n",
       "    <tr>\n",
       "      <th>19</th>\n",
       "      <td>1.77278</td>\n",
       "      <td>Verbose</td>\n",
       "    </tr>\n",
       "  </tbody>\n",
       "</table>\n",
       "</div>"
      ],
      "text/plain": [
       "       Loss    Score\n",
       "4   1.62227  Verbose\n",
       "7   1.62187  Verbose\n",
       "10  1.61811  Verbose\n",
       "13  1.62488  Verbose\n",
       "16  4.76801  Verbose\n",
       "19  1.77278  Verbose"
      ]
     },
     "execution_count": 6,
     "metadata": {},
     "output_type": "execute_result"
    }
   ],
   "source": [
    "comp_train"
   ]
  },
  {
   "cell_type": "markdown",
   "metadata": {},
   "source": [
    "### 1.3 Evaluación del modelo"
   ]
  },
  {
   "cell_type": "markdown",
   "metadata": {},
   "source": [
    "Testeamos el modelo con el número de neuronas en la capa oculta que ofrece la menor pérdida (número neuronas = X)"
   ]
  },
  {
   "cell_type": "code",
   "execution_count": 7,
   "metadata": {},
   "outputs": [
    {
     "name": "stdout",
     "output_type": "stream",
     "text": [
      "\u001b[4;32mMLP clasiffier with 4 neurons in the hidden layer\u001b[0m\n",
      "Iteration 1, loss = 5.24943964\n",
      "Validation score: 0.212903\n",
      "Iteration 2, loss = 1.63525914\n",
      "Validation score: 0.187097\n",
      "Iteration 3, loss = 1.63133611\n",
      "Validation score: 0.212903\n",
      "Iteration 4, loss = 1.62515441\n",
      "Validation score: 0.212903\n",
      "Iteration 5, loss = 1.62675030\n",
      "Validation score: 0.212903\n",
      "Iteration 6, loss = 1.62477264\n",
      "Validation score: 0.187097\n",
      "Iteration 7, loss = 1.62752178\n",
      "Validation score: 0.212903\n",
      "Validation score did not improve more than tol=0.010000 for 5 consecutive epochs. Stopping.\n"
     ]
    },
    {
     "name": "stderr",
     "output_type": "stream",
     "text": [
      "/Applications/anaconda3/envs/cuarto/lib/python3.7/site-packages/sklearn/metrics/classification.py:1437: UndefinedMetricWarning: Precision and F-score are ill-defined and being set to 0.0 in labels with no predicted samples.\n",
      "  'precision', 'predicted', average, warn_for)\n",
      "/Applications/anaconda3/envs/cuarto/lib/python3.7/site-packages/ipykernel_launcher.py:16: FutureWarning: set_value is deprecated and will be removed in a future release. Please use .at[] or .iat[] accessors instead\n",
      "  app.launch_new_instance()\n"
     ]
    }
   ],
   "source": [
    "columns  = ['Accuracy','Recall','F1-score']\n",
    "comp_test = pd.DataFrame(columns=columns)\n",
    "\n",
    "print('\\033[4;32m' + 'MLP clasiffier with 4 neurons in the hidden layer' + '\\033[0m')\n",
    "\n",
    "model=MLPClassifier(activation='relu', batch_size=50, hidden_layer_sizes=4, learning_rate='constant',\n",
    "    learning_rate_init=0.1, max_iter=30, shuffle=True, solver='sgd', tol=0.01, early_stopping=True,\n",
    "    validation_fraction=0.2, verbose=True, n_iter_no_change=5)\n",
    "\n",
    "model.fit(X_train_multi,y_train_multi)\n",
    "\n",
    "predictions = model.predict(X_test_multi)\n",
    "cr=classification_report(y_test_multi,predictions,output_dict=True)\n",
    "acc,rec,f1=cr['weighted avg']['precision'],cr['weighted avg']['recall'],cr['weighted avg']['f1-score']\n",
    "\n",
    "comp_test = comp_test.set_value('4', ('Accuracy','Recall','F1-score'),(acc,rec,f1))"
   ]
  },
  {
   "cell_type": "code",
   "execution_count": 8,
   "metadata": {},
   "outputs": [
    {
     "data": {
      "text/html": [
       "<div>\n",
       "<style scoped>\n",
       "    .dataframe tbody tr th:only-of-type {\n",
       "        vertical-align: middle;\n",
       "    }\n",
       "\n",
       "    .dataframe tbody tr th {\n",
       "        vertical-align: top;\n",
       "    }\n",
       "\n",
       "    .dataframe thead th {\n",
       "        text-align: right;\n",
       "    }\n",
       "</style>\n",
       "<table border=\"1\" class=\"dataframe\">\n",
       "  <thead>\n",
       "    <tr style=\"text-align: right;\">\n",
       "      <th></th>\n",
       "      <th>Accuracy</th>\n",
       "      <th>Recall</th>\n",
       "      <th>F1-score</th>\n",
       "    </tr>\n",
       "  </thead>\n",
       "  <tbody>\n",
       "    <tr>\n",
       "      <th>4</th>\n",
       "      <td>0.022434</td>\n",
       "      <td>0.14978</td>\n",
       "      <td>0.0390231</td>\n",
       "    </tr>\n",
       "  </tbody>\n",
       "</table>\n",
       "</div>"
      ],
      "text/plain": [
       "   Accuracy   Recall   F1-score\n",
       "4  0.022434  0.14978  0.0390231"
      ]
     },
     "execution_count": 8,
     "metadata": {},
     "output_type": "execute_result"
    }
   ],
   "source": [
    "comp_test"
   ]
  },
  {
   "cell_type": "code",
   "execution_count": 9,
   "metadata": {},
   "outputs": [
    {
     "name": "stdout",
     "output_type": "stream",
     "text": [
      "================Classification Report=================\n",
      "{'0.0': {'precision': 0.0, 'recall': 0.0, 'f1-score': 0.0, 'support': 50}, '1.0': {'precision': 0.14977973568281938, 'recall': 1.0, 'f1-score': 0.26053639846743293, 'support': 34}, '2.0': {'precision': 0.0, 'recall': 0.0, 'f1-score': 0.0, 'support': 48}, '3.0': {'precision': 0.0, 'recall': 0.0, 'f1-score': 0.0, 'support': 50}, '5.0': {'precision': 0.0, 'recall': 0.0, 'f1-score': 0.0, 'support': 45}, 'accuracy': 0.14977973568281938, 'macro avg': {'precision': 0.029955947136563875, 'recall': 0.2, 'f1-score': 0.05210727969348659, 'support': 227}, 'weighted avg': {'precision': 0.022433969221215235, 'recall': 0.14977973568281938, 'f1-score': 0.039023072898205814, 'support': 227}}\n"
     ]
    }
   ],
   "source": [
    "print(\"================Classification Report=================\")\n",
    "print(cr)"
   ]
  },
  {
   "cell_type": "markdown",
   "metadata": {},
   "source": [
    "### 1.5 Visualización de resultados\n",
    "A continuación se muestra un ejemplo de las fases del sueño predichas frente a las reales. Para facilitar esta visualización, se muestran la mitad de la muestras del subconjunto de test. "
   ]
  },
  {
   "cell_type": "code",
   "execution_count": 10,
   "metadata": {},
   "outputs": [
    {
     "data": {
      "text/plain": [
       "<matplotlib.legend.Legend at 0x1a17762490>"
      ]
     },
     "execution_count": 10,
     "metadata": {},
     "output_type": "execute_result"
    },
    {
     "data": {
      "image/png": "[encoded data removed]",
      "text/plain": [
       "<Figure size 864x576 with 1 Axes>"
      ]
     },
     "metadata": {
      "needs_background": "light"
     },
     "output_type": "display_data"
    }
   ],
   "source": [
    "plt.figure(figsize=(12,8))\n",
    "plt.plot(y_test_multi[0:90],color='blue', marker='.',label='Real')\n",
    "plt.plot(predictions[0:90],color='green', marker='.',label='Predicha')\n",
    "\n",
    "plt.title('Fase del sueño real vs. predicha')\n",
    "plt.xlabel('Muestras')\n",
    "plt.ylabel('Fase del sueño')\n",
    "plt.legend()"
   ]
  },
  {
   "cell_type": "markdown",
   "metadata": {},
   "source": [
    "**Residuos**"
   ]
  },
  {
   "cell_type": "code",
   "execution_count": 11,
   "metadata": {},
   "outputs": [
    {
     "data": {
      "text/plain": [
       "<matplotlib.legend.Legend at 0x1a1aaba990>"
      ]
     },
     "execution_count": 11,
     "metadata": {},
     "output_type": "execute_result"
    },
    {
     "data": {
      "image/png": "[encoded data removed]",
      "text/plain": [
       "<Figure size 864x576 with 1 Axes>"
      ]
     },
     "metadata": {
      "needs_background": "light"
     },
     "output_type": "display_data"
    }
   ],
   "source": [
    "residuos= y_test_multi - predictions\n",
    "plt.figure(figsize=(12,8))\n",
    "plt.plot(residuos[0:90],color='purple', marker='.',label='Residuos')\n",
    "\n",
    "plt.title('RESIDUOS')\n",
    "plt.xlabel('Muestras')\n",
    "plt.ylabel('Fase del sueño')\n",
    "plt.legend()"
   ]
  }
 ],
 "metadata": {
  "kernelspec": {
   "display_name": "Python 3",
   "language": "python",
   "name": "python3"
  },
  "language_info": {
   "codemirror_mode": {
    "name": "ipython",
    "version": 3
   },
   "file_extension": ".py",
   "mimetype": "text/x-python",
   "name": "python",
   "nbconvert_exporter": "python",
   "pygments_lexer": "ipython3",
   "version": "3.7.4"
  }
 },
 "nbformat": 4,
 "nbformat_minor": 2
}
