{
 "cells": [
  {
   "cell_type": "markdown",
   "metadata": {},
   "source": [
    "<center> <h1>PREDICIÓN DEL SUEÑO CON MLP MULTICLASE</h1> </center>\n",
    "<center> <h4>Noemi González, Roberto Holgado y Carmen Plaza seco</h4> </center>\n",
    "\n",
    "\n",
    "###### Indice\n",
    "\n",
    "En este jupyter notebook se lleva a cabo la construcción de un clasificador MLP de salida multiclase para predecir el el estado de vigilia o sueño ligero y  el de sueño profundo.\n",
    "\n",
    "    1. Clasficador MLP multiclase\n",
    "        1.1 Preparación datos de entrada y salida\n",
    "        1.2 Creación del modelo y selección parámetros libres\n",
    "        1.3 Evaluación del modelo\n",
    "        1.4 Visualización de resultados"
   ]
  },
  {
   "cell_type": "markdown",
   "metadata": {},
   "source": [
    "IMPORTAR MÓDULOS"
   ]
  },
  {
   "cell_type": "code",
   "execution_count": 1,
   "metadata": {},
   "outputs": [],
   "source": [
    "from sklearn.metrics import classification_report,confusion_matrix\n",
    "from sklearn.model_selection import train_test_split\n",
    "from sklearn.neural_network import MLPClassifier\n",
    "from sklearn.preprocessing import MinMaxScaler\n",
    "import matplotlib.pyplot as plt\n",
    "import pandas as pd\n",
    "import numpy as np\n",
    "from sklearn import svm\n",
    "import sklearn"
   ]
  },
  {
   "cell_type": "markdown",
   "metadata": {},
   "source": [
    "## 1. CLASIFICADOR MLP MULTICLASE"
   ]
  },
  {
   "cell_type": "markdown",
   "metadata": {},
   "source": [
    "Se ha utilizado un perceptrón multicapa para clasificar las distintas fases del sueño. Es decir, se ha construido un clasificador con salida multiclase."
   ]
  },
  {
   "cell_type": "markdown",
   "metadata": {},
   "source": [
    "### 1.1 Preparación datos de entrada y salida"
   ]
  },
  {
   "cell_type": "code",
   "execution_count": 2,
   "metadata": {},
   "outputs": [],
   "source": [
    "Train_multi= pd.read_csv('Train_multiclass.csv')\n",
    "Test_multi= pd.read_csv('Test_multiclass.csv')"
   ]
  },
  {
   "cell_type": "code",
   "execution_count": 3,
   "metadata": {
    "scrolled": true
   },
   "outputs": [],
   "source": [
    "X_train_multi=Train_multi.drop(['Etiquetas multiclase', 'Etiquetas binarias','ID'], axis = 1) \n",
    "y_train_multi=Train_multi['Etiquetas multiclase']\n",
    "\n",
    "X_test_multi=Test_multi.drop(['Etiquetas multiclase', 'Etiquetas binarias','ID'], axis = 1)\n",
    "y_test_multi=Test_multi['Etiquetas multiclase']"
   ]
  },
  {
   "cell_type": "markdown",
   "metadata": {},
   "source": [
    "### 1.2  Creación del modelo y selección parámetros libres"
   ]
  },
  {
   "cell_type": "markdown",
   "metadata": {},
   "source": [
    "Se proponen posibles valores de neuronas en la capa oculta para ver con cuál de ellos se obtienen las mejores prestaciones para el modelo. Se crea una tabla que recoge la pérdidas para cada valor del número de neuronas y aquel que tenga menos pérdida es el que se utilizará para el conjunto de test.\n",
    "\n",
    "Se estudia el número de neuronas para un rango de 4 a 20 cogiendo los valores con saltos de 3."
   ]
  },
  {
   "cell_type": "code",
   "execution_count": 4,
   "metadata": {},
   "outputs": [],
   "source": [
    "# Tabla para recoger las prestaciones en train \n",
    "columns  = ['Loss','Score']\n",
    "comp_train = pd.DataFrame(columns=columns)\n"
   ]
  },
  {
   "cell_type": "code",
   "execution_count": 5,
   "metadata": {},
   "outputs": [
    {
     "name": "stdout",
     "output_type": "stream",
     "text": [
      "\u001b[4;32mMLP clasiffier with 4 neurons in the hidden layer\u001b[0m\n",
      "Iteration 1, loss = 4.41414312\n",
      "Validation score: 0.209877\n",
      "Iteration 2, loss = 1.62074245\n",
      "Validation score: 0.234568\n",
      "Iteration 3, loss = 1.62384735\n",
      "Validation score: 0.209877\n",
      "Iteration 4, loss = 1.62392001\n",
      "Validation score: 0.172840\n",
      "Iteration 5, loss = 1.61936485\n",
      "Validation score: 0.234568\n",
      "Iteration 6, loss = 1.61934626\n",
      "Validation score: 0.234568\n",
      "Iteration 7, loss = 1.62109088\n",
      "Validation score: 0.234568\n",
      "Iteration 8, loss = 1.61985369\n",
      "Validation score: 0.209877\n",
      "Validation score did not improve more than tol=0.000100 for 5 consecutive epochs. Stopping.\n",
      "\u001b[4;32mMLP clasiffier with 7 neurons in the hidden layer\u001b[0m\n",
      "Iteration 1, loss = inf\n",
      "Validation score: 0.148148\n",
      "Iteration 2, loss = 2.10552582\n",
      "Validation score: 0.209877\n",
      "Iteration 3, loss = 2.20425551\n",
      "Validation score: 0.197531\n",
      "Iteration 4, loss = 2.22168230\n",
      "Validation score: 0.197531\n",
      "Iteration 5, loss = 2.22750583\n",
      "Validation score: 0.148148\n",
      "Iteration 6, loss = 2.22910397\n",
      "Validation score: 0.197531\n",
      "Iteration 7, loss = 2.22842054\n",
      "Validation score: 0.209877\n",
      "Iteration 8, loss = 2.23034919\n",
      "Validation score: 0.148148\n",
      "Validation score did not improve more than tol=0.000100 for 5 consecutive epochs. Stopping.\n",
      "\u001b[4;32mMLP clasiffier with 10 neurons in the hidden layer\u001b[0m\n",
      "Iteration 1, loss = 4.70128727\n",
      "Validation score: 0.185185\n",
      "Iteration 2, loss = 1.63206440\n",
      "Validation score: 0.222222\n",
      "Iteration 3, loss = 1.62673687\n",
      "Validation score: 0.135802\n",
      "Iteration 4, loss = 1.62735084\n",
      "Validation score: 0.185185\n",
      "Iteration 5, loss = 1.62592038\n",
      "Validation score: 0.135802\n",
      "Iteration 6, loss = 1.62691218\n",
      "Validation score: 0.185185\n",
      "Iteration 7, loss = 1.62772309\n",
      "Validation score: 0.259259\n",
      "Iteration 8, loss = 1.62653187\n",
      "Validation score: 0.185185\n",
      "Iteration 9, loss = 1.62666559\n",
      "Validation score: 0.185185\n",
      "Iteration 10, loss = 1.62592359\n",
      "Validation score: 0.185185\n",
      "Iteration 11, loss = 1.62482916\n",
      "Validation score: 0.185185\n",
      "Iteration 12, loss = 1.62554639\n",
      "Validation score: 0.185185\n",
      "Iteration 13, loss = 1.62611756\n",
      "Validation score: 0.259259\n",
      "Validation score did not improve more than tol=0.000100 for 5 consecutive epochs. Stopping.\n",
      "\u001b[4;32mMLP clasiffier with 13 neurons in the hidden layer\u001b[0m\n",
      "Iteration 1, loss = inf\n",
      "Validation score: 0.185185\n",
      "Iteration 2, loss = 8.64199094\n",
      "Validation score: 0.160494\n",
      "Iteration 3, loss = 10.22278130\n",
      "Validation score: 0.160494\n",
      "Iteration 4, loss = 10.57698883\n",
      "Validation score: 0.246914\n",
      "Iteration 5, loss = 10.64817761\n",
      "Validation score: 0.197531\n",
      "Iteration 6, loss = 10.66249219\n",
      "Validation score: 0.160494\n",
      "Iteration 7, loss = 10.66462497\n",
      "Validation score: 0.160494\n",
      "Iteration 8, loss = 10.66535688\n",
      "Validation score: 0.160494\n",
      "Iteration 9, loss = 10.66583931\n",
      "Validation score: 0.160494\n",
      "Iteration 10, loss = 10.66610726\n",
      "Validation score: 0.246914\n",
      "Validation score did not improve more than tol=0.000100 for 5 consecutive epochs. Stopping.\n",
      "\u001b[4;32mMLP clasiffier with 16 neurons in the hidden layer\u001b[0m\n",
      "Iteration 1, loss = inf\n",
      "Validation score: 0.197531\n",
      "Iteration 2, loss = 1.96694866\n",
      "Validation score: 0.197531\n",
      "Iteration 3, loss = 2.03798918\n",
      "Validation score: 0.197531\n",
      "Iteration 4, loss = 2.05384767\n",
      "Validation score: 0.209877\n",
      "Iteration 5, loss = 2.05435551\n",
      "Validation score: 0.197531\n",
      "Iteration 6, loss = 2.05390655\n",
      "Validation score: 0.197531\n",
      "Iteration 7, loss = 2.05707392\n",
      "Validation score: 0.197531\n"
     ]
    },
    {
     "name": "stderr",
     "output_type": "stream",
     "text": [
      "C:\\Users\\rober\\Anaconda3\\lib\\site-packages\\ipykernel_launcher.py:14: FutureWarning: set_value is deprecated and will be removed in a future release. Please use .at[] or .iat[] accessors instead\n",
      "  \n",
      "C:\\Users\\rober\\Anaconda3\\lib\\site-packages\\ipykernel_launcher.py:14: FutureWarning: set_value is deprecated and will be removed in a future release. Please use .at[] or .iat[] accessors instead\n",
      "  \n",
      "C:\\Users\\rober\\Anaconda3\\lib\\site-packages\\ipykernel_launcher.py:14: FutureWarning: set_value is deprecated and will be removed in a future release. Please use .at[] or .iat[] accessors instead\n",
      "  \n",
      "C:\\Users\\rober\\Anaconda3\\lib\\site-packages\\ipykernel_launcher.py:14: FutureWarning: set_value is deprecated and will be removed in a future release. Please use .at[] or .iat[] accessors instead\n",
      "  \n",
      "C:\\Users\\rober\\Anaconda3\\lib\\site-packages\\ipykernel_launcher.py:14: FutureWarning: set_value is deprecated and will be removed in a future release. Please use .at[] or .iat[] accessors instead\n",
      "  \n"
     ]
    },
    {
     "name": "stdout",
     "output_type": "stream",
     "text": [
      "Iteration 8, loss = 2.05313974\n",
      "Validation score: 0.209877\n",
      "Iteration 9, loss = 2.05504172\n",
      "Validation score: 0.197531\n",
      "Iteration 10, loss = 2.05711000\n",
      "Validation score: 0.197531\n",
      "Validation score did not improve more than tol=0.000100 for 5 consecutive epochs. Stopping.\n",
      "\u001b[4;32mMLP clasiffier with 19 neurons in the hidden layer\u001b[0m\n",
      "Iteration 1, loss = inf\n",
      "Validation score: 0.185185\n",
      "Iteration 2, loss = 1.73597888\n",
      "Validation score: 0.135802\n",
      "Iteration 3, loss = 1.75650353\n",
      "Validation score: 0.135802\n",
      "Iteration 4, loss = 1.76073076\n",
      "Validation score: 0.135802\n",
      "Iteration 5, loss = 1.76018907\n",
      "Validation score: 0.135802\n",
      "Iteration 6, loss = 1.76152568\n",
      "Validation score: 0.135802\n",
      "Iteration 7, loss = 1.76089183\n",
      "Validation score: 0.135802\n",
      "Validation score did not improve more than tol=0.000100 for 5 consecutive epochs. Stopping.\n"
     ]
    },
    {
     "name": "stderr",
     "output_type": "stream",
     "text": [
      "C:\\Users\\rober\\Anaconda3\\lib\\site-packages\\ipykernel_launcher.py:14: FutureWarning: set_value is deprecated and will be removed in a future release. Please use .at[] or .iat[] accessors instead\n",
      "  \n"
     ]
    }
   ],
   "source": [
    "# Número de neuronas de la capa oculta\n",
    "n_hidden=range(4,20,3)\n",
    "\n",
    "for i in n_hidden:\n",
    "    \n",
    "    print('\\033[4;32m' + 'MLP clasiffier with',i,'neurons in the hidden layer' + '\\033[0m')\n",
    "\n",
    "    model=MLPClassifier(activation='relu', batch_size=50, hidden_layer_sizes=(i,), learning_rate='constant',\n",
    "        learning_rate_init=0.1, shuffle=True, solver='sgd', early_stopping=True, verbose=True, n_iter_no_change=5)\n",
    "\n",
    "    model.fit(X_train_multi, y_train_multi)\n",
    "    \n",
    "    loss=model.loss_  \n",
    "    comp_train = comp_train.set_value(i,('Loss','Score'),(loss,'Verbose'))"
   ]
  },
  {
   "cell_type": "markdown",
   "metadata": {},
   "source": [
    "Las medidas de prestación elegidas para la elección de una topología han sido el validation score y la pérdida. Ambas se pueden ver al aplicar el fit del modelo, gracias al parámetro verbose=True. La pérdida la hemos añadido a la siguiente tabla pero la accuracy de cada epoch para el conjunto de validación hay que verla en la celda anterior. Según estos resultados, la mejor topología de MLP sería la de **n_hidden_1 con X neuronas** en la capa oculta, ya que el par (loss,val_score) es el mejor.\n",
    "En todos los casos el valor 'validation score' está entorno a 0.66, pero el número de neuronas de menor pérdida es X."
   ]
  },
  {
   "cell_type": "code",
   "execution_count": 6,
   "metadata": {},
   "outputs": [
    {
     "data": {
      "text/html": [
       "<div>\n",
       "<style scoped>\n",
       "    .dataframe tbody tr th:only-of-type {\n",
       "        vertical-align: middle;\n",
       "    }\n",
       "\n",
       "    .dataframe tbody tr th {\n",
       "        vertical-align: top;\n",
       "    }\n",
       "\n",
       "    .dataframe thead th {\n",
       "        text-align: right;\n",
       "    }\n",
       "</style>\n",
       "<table border=\"1\" class=\"dataframe\">\n",
       "  <thead>\n",
       "    <tr style=\"text-align: right;\">\n",
       "      <th></th>\n",
       "      <th>Loss</th>\n",
       "      <th>Score</th>\n",
       "    </tr>\n",
       "  </thead>\n",
       "  <tbody>\n",
       "    <tr>\n",
       "      <td>4</td>\n",
       "      <td>1.61985</td>\n",
       "      <td>Verbose</td>\n",
       "    </tr>\n",
       "    <tr>\n",
       "      <td>7</td>\n",
       "      <td>2.23035</td>\n",
       "      <td>Verbose</td>\n",
       "    </tr>\n",
       "    <tr>\n",
       "      <td>10</td>\n",
       "      <td>1.62612</td>\n",
       "      <td>Verbose</td>\n",
       "    </tr>\n",
       "    <tr>\n",
       "      <td>13</td>\n",
       "      <td>10.6661</td>\n",
       "      <td>Verbose</td>\n",
       "    </tr>\n",
       "    <tr>\n",
       "      <td>16</td>\n",
       "      <td>2.05711</td>\n",
       "      <td>Verbose</td>\n",
       "    </tr>\n",
       "    <tr>\n",
       "      <td>19</td>\n",
       "      <td>1.76089</td>\n",
       "      <td>Verbose</td>\n",
       "    </tr>\n",
       "  </tbody>\n",
       "</table>\n",
       "</div>"
      ],
      "text/plain": [
       "       Loss    Score\n",
       "4   1.61985  Verbose\n",
       "7   2.23035  Verbose\n",
       "10  1.62612  Verbose\n",
       "13  10.6661  Verbose\n",
       "16  2.05711  Verbose\n",
       "19  1.76089  Verbose"
      ]
     },
     "execution_count": 6,
     "metadata": {},
     "output_type": "execute_result"
    }
   ],
   "source": [
    "comp_train"
   ]
  },
  {
   "cell_type": "markdown",
   "metadata": {},
   "source": [
    "### 1.3 Evaluación del modelo"
   ]
  },
  {
   "cell_type": "markdown",
   "metadata": {},
   "source": [
    "Testeamos el modelo con el número de neuronas en la capa oculta que ofrece la menor pérdida (número neuronas = X)"
   ]
  },
  {
   "cell_type": "code",
   "execution_count": 7,
   "metadata": {},
   "outputs": [
    {
     "name": "stdout",
     "output_type": "stream",
     "text": [
      "\u001b[4;32mMLP clasiffier with 4 neurons in the hidden layer\u001b[0m\n",
      "Iteration 1, loss = 4.67408263\n",
      "Validation score: 0.172840\n",
      "Iteration 2, loss = 1.64101529\n",
      "Validation score: 0.185185\n",
      "Iteration 3, loss = 1.62909886\n",
      "Validation score: 0.185185\n",
      "Iteration 4, loss = 1.62445858\n",
      "Validation score: 0.185185\n",
      "Iteration 5, loss = 1.62620259\n",
      "Validation score: 0.185185\n",
      "Iteration 6, loss = 1.62520511\n",
      "Validation score: 0.185185\n",
      "Iteration 7, loss = 1.62531779\n",
      "Validation score: 0.172840\n",
      "Iteration 8, loss = 1.62447333\n",
      "Validation score: 0.185185\n",
      "Validation score did not improve more than tol=0.010000 for 5 consecutive epochs. Stopping.\n"
     ]
    },
    {
     "name": "stderr",
     "output_type": "stream",
     "text": [
      "C:\\Users\\rober\\Anaconda3\\lib\\site-packages\\sklearn\\metrics\\_classification.py:1272: UndefinedMetricWarning: Precision and F-score are ill-defined and being set to 0.0 in labels with no predicted samples. Use `zero_division` parameter to control this behavior.\n",
      "  _warn_prf(average, modifier, msg_start, len(result))\n",
      "C:\\Users\\rober\\Anaconda3\\lib\\site-packages\\ipykernel_launcher.py:16: FutureWarning: set_value is deprecated and will be removed in a future release. Please use .at[] or .iat[] accessors instead\n",
      "  app.launch_new_instance()\n"
     ]
    }
   ],
   "source": [
    "columns  = ['Accuracy','Recall','F1-score']\n",
    "comp_test = pd.DataFrame(columns=columns)\n",
    "\n",
    "print('\\033[4;32m' + 'MLP clasiffier with 4 neurons in the hidden layer' + '\\033[0m')\n",
    "\n",
    "model=MLPClassifier(activation='relu', batch_size=50, hidden_layer_sizes=4, learning_rate='constant',\n",
    "    learning_rate_init=0.1, max_iter=30, shuffle=True, solver='sgd', tol=0.01, early_stopping=True,\n",
    "    validation_fraction=0.2, verbose=True, n_iter_no_change=5)\n",
    "\n",
    "model.fit(X_train_multi,y_train_multi)\n",
    "\n",
    "predictions = model.predict(X_test_multi)\n",
    "cr=classification_report(y_test_multi,predictions,output_dict=True)\n",
    "acc,rec,f1=cr['weighted avg']['precision'],cr['weighted avg']['recall'],cr['weighted avg']['f1-score']\n",
    "\n",
    "comp_test = comp_test.set_value('4', ('Accuracy','Recall','F1-score'),(acc,rec,f1))"
   ]
  },
  {
   "cell_type": "code",
   "execution_count": 8,
   "metadata": {},
   "outputs": [
    {
     "data": {
      "text/html": [
       "<div>\n",
       "<style scoped>\n",
       "    .dataframe tbody tr th:only-of-type {\n",
       "        vertical-align: middle;\n",
       "    }\n",
       "\n",
       "    .dataframe tbody tr th {\n",
       "        vertical-align: top;\n",
       "    }\n",
       "\n",
       "    .dataframe thead th {\n",
       "        text-align: right;\n",
       "    }\n",
       "</style>\n",
       "<table border=\"1\" class=\"dataframe\">\n",
       "  <thead>\n",
       "    <tr style=\"text-align: right;\">\n",
       "      <th></th>\n",
       "      <th>Accuracy</th>\n",
       "      <th>Recall</th>\n",
       "      <th>F1-score</th>\n",
       "    </tr>\n",
       "  </thead>\n",
       "  <tbody>\n",
       "    <tr>\n",
       "      <td>4</td>\n",
       "      <td>0.0298512</td>\n",
       "      <td>0.172775</td>\n",
       "      <td>0.0509069</td>\n",
       "    </tr>\n",
       "  </tbody>\n",
       "</table>\n",
       "</div>"
      ],
      "text/plain": [
       "    Accuracy    Recall   F1-score\n",
       "4  0.0298512  0.172775  0.0509069"
      ]
     },
     "execution_count": 8,
     "metadata": {},
     "output_type": "execute_result"
    }
   ],
   "source": [
    "comp_test"
   ]
  },
  {
   "cell_type": "code",
   "execution_count": 9,
   "metadata": {},
   "outputs": [
    {
     "name": "stdout",
     "output_type": "stream",
     "text": [
      "================Classification Report=================\n",
      "{'0.0': {'precision': 0.0, 'recall': 0.0, 'f1-score': 0.0, 'support': 33}, '1.0': {'precision': 0.0, 'recall': 0.0, 'f1-score': 0.0, 'support': 43}, '2.0': {'precision': 0.0, 'recall': 0.0, 'f1-score': 0.0, 'support': 39}, '3.0': {'precision': 0.0, 'recall': 0.0, 'f1-score': 0.0, 'support': 43}, '5.0': {'precision': 0.17277486910994763, 'recall': 1.0, 'f1-score': 0.29464285714285715, 'support': 33}, 'accuracy': 0.17277486910994763, 'macro avg': {'precision': 0.03455497382198953, 'recall': 0.2, 'f1-score': 0.05892857142857143, 'support': 191}, 'weighted avg': {'precision': 0.02985115539595954, 'recall': 0.17277486910994763, 'f1-score': 0.05090688107703815, 'support': 191}}\n"
     ]
    }
   ],
   "source": [
    "print(\"================Classification Report=================\")\n",
    "print(cr)"
   ]
  },
  {
   "cell_type": "markdown",
   "metadata": {},
   "source": [
    "### 1.5 Visualización de resultados\n",
    "A continuación se muestra un ejemplo de las fases del sueño predichas frente a las reales. Para facilitar esta visualización, se muestran la mitad de la muestras del subconjunto de test. "
   ]
  },
  {
   "cell_type": "code",
   "execution_count": 10,
   "metadata": {},
   "outputs": [
    {
     "data": {
      "text/plain": [
       "<matplotlib.legend.Legend at 0x1d8c4c992c8>"
      ]
     },
     "execution_count": 10,
     "metadata": {},
     "output_type": "execute_result"
    },
    {
     "data": {
      "image/png": "[encoded data removed]",
      "text/plain": [
       "<Figure size 864x576 with 1 Axes>"
      ]
     },
     "metadata": {
      "needs_background": "light"
     },
     "output_type": "display_data"
    }
   ],
   "source": [
    "plt.figure(figsize=(12,8))\n",
    "plt.plot(y_test_multi[0:90],color='blue', marker='.',label='Real')\n",
    "plt.plot(predictions[0:90],color='green', marker='.',label='Predicha')\n",
    "\n",
    "plt.title('Fase del sueño real vs. predicha')\n",
    "plt.xlabel('Muestras')\n",
    "plt.ylabel('Fase del sueño')\n",
    "plt.legend()"
   ]
  },
  {
   "cell_type": "markdown",
   "metadata": {},
   "source": [
    "**Residuos**"
   ]
  },
  {
   "cell_type": "code",
   "execution_count": 11,
   "metadata": {},
   "outputs": [
    {
     "data": {
      "text/plain": [
       "<matplotlib.legend.Legend at 0x1d8c4d2da08>"
      ]
     },
     "execution_count": 11,
     "metadata": {},
     "output_type": "execute_result"
    },
    {
     "data": {
      "image/png": "[encoded data removed]",
      "text/plain": [
       "<Figure size 864x576 with 1 Axes>"
      ]
     },
     "metadata": {
      "needs_background": "light"
     },
     "output_type": "display_data"
    }
   ],
   "source": [
    "residuos= y_test_multi - predictions\n",
    "plt.figure(figsize=(12,8))\n",
    "plt.plot(residuos[0:90],color='purple', marker='.',label='Residuos')\n",
    "\n",
    "plt.title('RESIDUOS')\n",
    "plt.xlabel('Muestras')\n",
    "plt.ylabel('Fase del sueño')\n",
    "plt.legend()"
   ]
  }
 ],
 "metadata": {
  "kernelspec": {
   "display_name": "Python 3",
   "language": "python",
   "name": "python3"
  },
  "language_info": {
   "codemirror_mode": {
    "name": "ipython",
    "version": 3
   },
   "file_extension": ".py",
   "mimetype": "text/x-python",
   "name": "python",
   "nbconvert_exporter": "python",
   "pygments_lexer": "ipython3",
   "version": "3.7.4"
  }
 },
 "nbformat": 4,
 "nbformat_minor": 2
}
