{
 "cells": [
  {
   "cell_type": "markdown",
   "metadata": {},
   "source": [
    "<center> <h1>PREDICIÓN DEL SUEÑO CON MLP BINARIO</h1> </center>\n",
    "<center> <h4>Noemi González, Roberto Holgado y Carmen Plaza seco</h4> </center>\n",
    "\n",
    "\n",
    "###### Indice\n",
    "\n",
    "En este jupyter notebook se lleva a cabo la construcción de un clasificador MLP de salida binaria para predecir el el estado de vigilia o sueño ligero y  el de sueño profundo.\n",
    "\n",
    "    1. Clasficador MLP binario\n",
    "        1.1 Preparación datos de entrada y salida\n",
    "        1.2 Creación del modelo y selección parámetros libres\n",
    "        1.3 Evaluación del modelo\n",
    "        1.4 Visualización de resultados"
   ]
  },
  {
   "cell_type": "code",
   "execution_count": 1,
   "metadata": {},
   "outputs": [],
   "source": [
    "from sklearn.metrics import classification_report,confusion_matrix\n",
    "from sklearn.model_selection import train_test_split\n",
    "from sklearn.neural_network import MLPClassifier\n",
    "from sklearn.preprocessing import MinMaxScaler\n",
    "import matplotlib.pyplot as plt\n",
    "import pandas as pd\n",
    "import numpy as np\n",
    "from sklearn import svm\n",
    "import sklearn"
   ]
  },
  {
   "cell_type": "markdown",
   "metadata": {},
   "source": [
    "## 1. CLASIFICADOR MLP BINARIO"
   ]
  },
  {
   "cell_type": "markdown",
   "metadata": {},
   "source": [
    "Se ha utilizado un perceptrón multicapa para clasificar la vigilia o sueño ligero del sueño profundo. Es decir, se ha construido un clasificador con salida binaria."
   ]
  },
  {
   "cell_type": "markdown",
   "metadata": {},
   "source": [
    "### 1.1 Preparación datos de entrada y salida"
   ]
  },
  {
   "cell_type": "code",
   "execution_count": 2,
   "metadata": {},
   "outputs": [],
   "source": [
    "Train_bin= pd.read_csv('Train_binary.csv')\n",
    "Test_bin= pd.read_csv('Test_binary.csv')"
   ]
  },
  {
   "cell_type": "code",
   "execution_count": 3,
   "metadata": {
    "scrolled": true
   },
   "outputs": [],
   "source": [
    "X_train_bin=Train_bin.drop(['Etiquetas multiclase', 'Etiquetas binarias','ID'], axis = 1) \n",
    "y_train_bin=Train_bin['Etiquetas binarias']\n",
    "\n",
    "X_test_bin=Test_bin.drop(['Etiquetas multiclase', 'Etiquetas binarias','ID'], axis = 1)\n",
    "y_test_bin=Test_bin['Etiquetas binarias']"
   ]
  },
  {
   "cell_type": "markdown",
   "metadata": {},
   "source": [
    "### 1.2  Creación del modelo y selección parámetros libres"
   ]
  },
  {
   "cell_type": "markdown",
   "metadata": {},
   "source": [
    "Se proponen posibles valores de neuronas en la capa oculta para ver con cuál de ellos se obtienen las mejores prestaciones para el modelo. Se crea una tabla que recoge la pérdidas para cada valor del número de neuronas y aquel que tenga menos pérdida es el que se utilizará para el conjunto de test.\n",
    "\n",
    "Se estudia el número de neuronas para un rango de 4 a 20 cogiendo los valores con saltos de 3."
   ]
  },
  {
   "cell_type": "code",
   "execution_count": 4,
   "metadata": {},
   "outputs": [],
   "source": [
    "# Tabla para recoger las prestaciones en train \n",
    "columns  = ['Loss','Score']\n",
    "comp_train = pd.DataFrame(columns=columns)\n"
   ]
  },
  {
   "cell_type": "code",
   "execution_count": 5,
   "metadata": {},
   "outputs": [
    {
     "name": "stdout",
     "output_type": "stream",
     "text": [
      "\u001b[4;32mMLP clasiffier with 4 neurons in the hidden layer\u001b[0m\n",
      "Iteration 1, loss = 1.48312189\n",
      "Validation score: 0.494505\n",
      "Iteration 2, loss = 0.70077361\n",
      "Validation score: 0.505495\n",
      "Iteration 3, loss = 0.69813471\n",
      "Validation score: 0.505495\n",
      "Iteration 4, loss = 0.69970319\n",
      "Validation score: 0.505495\n",
      "Iteration 5, loss = 0.69893951\n",
      "Validation score: 0.494505\n",
      "Iteration 6, loss = 0.69851018\n",
      "Validation score: 0.505495\n",
      "Iteration 7, loss = 0.69813057\n",
      "Validation score: 0.505495\n",
      "Iteration 8, loss = 0.69797130\n",
      "Validation score: 0.494505\n",
      "Validation score did not improve more than tol=0.010000 for 5 consecutive epochs. Stopping.\n",
      "\u001b[4;32mMLP clasiffier with 7 neurons in the hidden layer\u001b[0m\n",
      "Iteration 1, loss = inf\n",
      "Validation score: 0.505495\n",
      "Iteration 2, loss = 0.83163421\n",
      "Validation score: 0.494505\n",
      "Iteration 3, loss = 0.85943932\n",
      "Validation score: 0.505495\n",
      "Iteration 4, loss = 0.86581530\n",
      "Validation score: 0.505495\n",
      "Iteration 5, loss = 0.86667004\n",
      "Validation score: 0.494505\n",
      "Iteration 6, loss = 0.86666340\n",
      "Validation score: 0.494505\n",
      "Iteration 7, loss = 0.86659494\n",
      "Validation score: 0.494505\n",
      "Validation score did not improve more than tol=0.010000 for 5 consecutive epochs. Stopping.\n",
      "\u001b[4;32mMLP clasiffier with 10 neurons in the hidden layer\u001b[0m\n"
     ]
    },
    {
     "name": "stderr",
     "output_type": "stream",
     "text": [
      "/Applications/anaconda3/envs/cuarto/lib/python3.7/site-packages/ipykernel_launcher.py:15: FutureWarning: set_value is deprecated and will be removed in a future release. Please use .at[] or .iat[] accessors instead\n",
      "  from ipykernel import kernelapp as app\n",
      "/Applications/anaconda3/envs/cuarto/lib/python3.7/site-packages/ipykernel_launcher.py:15: FutureWarning: set_value is deprecated and will be removed in a future release. Please use .at[] or .iat[] accessors instead\n",
      "  from ipykernel import kernelapp as app\n",
      "/Applications/anaconda3/envs/cuarto/lib/python3.7/site-packages/ipykernel_launcher.py:15: FutureWarning: set_value is deprecated and will be removed in a future release. Please use .at[] or .iat[] accessors instead\n",
      "  from ipykernel import kernelapp as app\n"
     ]
    },
    {
     "name": "stdout",
     "output_type": "stream",
     "text": [
      "Iteration 1, loss = inf\n",
      "Validation score: 0.505495\n",
      "Iteration 2, loss = 0.87931373\n",
      "Validation score: 0.494505\n",
      "Iteration 3, loss = 0.91666659\n",
      "Validation score: 0.505495\n",
      "Iteration 4, loss = 0.92376629\n",
      "Validation score: 0.494505\n",
      "Iteration 5, loss = 0.92675087\n",
      "Validation score: 0.505495\n",
      "Iteration 6, loss = 0.92674810\n",
      "Validation score: 0.505495\n",
      "Iteration 7, loss = 0.92646896\n",
      "Validation score: 0.494505\n",
      "Validation score did not improve more than tol=0.010000 for 5 consecutive epochs. Stopping.\n",
      "\u001b[4;32mMLP clasiffier with 13 neurons in the hidden layer\u001b[0m\n",
      "Iteration 1, loss = inf\n",
      "Validation score: 0.505495\n",
      "Iteration 2, loss = 0.72158120\n",
      "Validation score: 0.505495\n",
      "Iteration 3, loss = 0.72226014\n",
      "Validation score: 0.494505\n",
      "Iteration 4, loss = 0.72452356\n",
      "Validation score: 0.505495\n",
      "Iteration 5, loss = 0.72455894\n",
      "Validation score: 0.505495\n",
      "Iteration 6, loss = 0.72456260\n",
      "Validation score: 0.494505\n",
      "Iteration 7, loss = 0.72471418\n",
      "Validation score: 0.505495\n",
      "Validation score did not improve more than tol=0.010000 for 5 consecutive epochs. Stopping.\n",
      "\u001b[4;32mMLP clasiffier with 16 neurons in the hidden layer\u001b[0m\n",
      "Iteration 1, loss = inf\n",
      "Validation score: 0.494505\n"
     ]
    },
    {
     "name": "stderr",
     "output_type": "stream",
     "text": [
      "/Applications/anaconda3/envs/cuarto/lib/python3.7/site-packages/ipykernel_launcher.py:15: FutureWarning: set_value is deprecated and will be removed in a future release. Please use .at[] or .iat[] accessors instead\n",
      "  from ipykernel import kernelapp as app\n",
      "/Applications/anaconda3/envs/cuarto/lib/python3.7/site-packages/ipykernel_launcher.py:15: FutureWarning: set_value is deprecated and will be removed in a future release. Please use .at[] or .iat[] accessors instead\n",
      "  from ipykernel import kernelapp as app\n"
     ]
    },
    {
     "name": "stdout",
     "output_type": "stream",
     "text": [
      "Iteration 2, loss = 0.85796590\n",
      "Validation score: 0.505495\n",
      "Iteration 3, loss = 0.89374163\n",
      "Validation score: 0.505495\n",
      "Iteration 4, loss = 0.89912882\n",
      "Validation score: 0.494505\n",
      "Iteration 5, loss = 0.90044430\n",
      "Validation score: 0.505495\n",
      "Iteration 6, loss = 0.90128093\n",
      "Validation score: 0.505495\n",
      "Iteration 7, loss = 0.90064659\n",
      "Validation score: 0.494505\n",
      "Iteration 8, loss = 0.90108067\n",
      "Validation score: 0.505495\n",
      "Validation score did not improve more than tol=0.010000 for 5 consecutive epochs. Stopping.\n",
      "\u001b[4;32mMLP clasiffier with 19 neurons in the hidden layer\u001b[0m\n",
      "Iteration 1, loss = inf\n",
      "Validation score: 0.505495\n",
      "Iteration 2, loss = 6.33236223\n",
      "Validation score: 0.494505\n",
      "Iteration 3, loss = 7.60346619\n",
      "Validation score: 0.505495\n",
      "Iteration 4, loss = 7.88548923\n",
      "Validation score: 0.505495\n",
      "Iteration 5, loss = 7.94324304\n",
      "Validation score: 0.494505\n",
      "Iteration 6, loss = 7.95587532\n",
      "Validation score: 0.505495\n",
      "Iteration 7, loss = 7.96174498\n",
      "Validation score: 0.505495\n",
      "Validation score did not improve more than tol=0.010000 for 5 consecutive epochs. Stopping.\n"
     ]
    },
    {
     "name": "stderr",
     "output_type": "stream",
     "text": [
      "/Applications/anaconda3/envs/cuarto/lib/python3.7/site-packages/ipykernel_launcher.py:15: FutureWarning: set_value is deprecated and will be removed in a future release. Please use .at[] or .iat[] accessors instead\n",
      "  from ipykernel import kernelapp as app\n"
     ]
    }
   ],
   "source": [
    "# Número de neuronas de la capa oculta\n",
    "n_hidden=range(4,20,3)\n",
    "\n",
    "for i in n_hidden:\n",
    "    \n",
    "    print('\\033[4;32m' + 'MLP clasiffier with',i,'neurons in the hidden layer' + '\\033[0m')\n",
    "\n",
    "    model=MLPClassifier(activation='relu', batch_size=50, hidden_layer_sizes=(i,), learning_rate='constant',\n",
    "        learning_rate_init=0.1, max_iter=30, shuffle=True, solver='sgd', tol=0.01, early_stopping=True,\n",
    "        validation_fraction=0.2, verbose=True, n_iter_no_change=5)\n",
    "\n",
    "    model.fit(X_train_bin, y_train_bin)\n",
    "    \n",
    "    loss=model.loss_  \n",
    "    comp_train = comp_train.set_value(i,('Loss','Score'),(loss,'Verbose'))"
   ]
  },
  {
   "cell_type": "markdown",
   "metadata": {},
   "source": [
    "Las medidas de prestación elegidas para la elección de una topología han sido el validation score y la pérdida. Ambas se pueden ver al aplicar el fit del modelo, gracias al parámetro verbose=True. La pérdida la hemos añadido a la siguiente tabla pero la accuracy de cada epoch para el conjunto de validación hay que verla en la celda anterior. Según estos resultados, la mejor topología de MLP sería la de **n_hidden_1 con X neuronas** en la capa oculta, ya que el par (loss,val_score) es el mejor.\n",
    "En todos los casos el valor 'validation score' está entorno a 0.66, pero el número de neuronas de menor pérdida es X."
   ]
  },
  {
   "cell_type": "code",
   "execution_count": 6,
   "metadata": {},
   "outputs": [
    {
     "data": {
      "text/html": [
       "<div>\n",
       "<style scoped>\n",
       "    .dataframe tbody tr th:only-of-type {\n",
       "        vertical-align: middle;\n",
       "    }\n",
       "\n",
       "    .dataframe tbody tr th {\n",
       "        vertical-align: top;\n",
       "    }\n",
       "\n",
       "    .dataframe thead th {\n",
       "        text-align: right;\n",
       "    }\n",
       "</style>\n",
       "<table border=\"1\" class=\"dataframe\">\n",
       "  <thead>\n",
       "    <tr style=\"text-align: right;\">\n",
       "      <th></th>\n",
       "      <th>Loss</th>\n",
       "      <th>Score</th>\n",
       "    </tr>\n",
       "  </thead>\n",
       "  <tbody>\n",
       "    <tr>\n",
       "      <th>4</th>\n",
       "      <td>0.697971</td>\n",
       "      <td>Verbose</td>\n",
       "    </tr>\n",
       "    <tr>\n",
       "      <th>7</th>\n",
       "      <td>0.866595</td>\n",
       "      <td>Verbose</td>\n",
       "    </tr>\n",
       "    <tr>\n",
       "      <th>10</th>\n",
       "      <td>0.926469</td>\n",
       "      <td>Verbose</td>\n",
       "    </tr>\n",
       "    <tr>\n",
       "      <th>13</th>\n",
       "      <td>0.724714</td>\n",
       "      <td>Verbose</td>\n",
       "    </tr>\n",
       "    <tr>\n",
       "      <th>16</th>\n",
       "      <td>0.901081</td>\n",
       "      <td>Verbose</td>\n",
       "    </tr>\n",
       "    <tr>\n",
       "      <th>19</th>\n",
       "      <td>7.96174</td>\n",
       "      <td>Verbose</td>\n",
       "    </tr>\n",
       "  </tbody>\n",
       "</table>\n",
       "</div>"
      ],
      "text/plain": [
       "        Loss    Score\n",
       "4   0.697971  Verbose\n",
       "7   0.866595  Verbose\n",
       "10  0.926469  Verbose\n",
       "13  0.724714  Verbose\n",
       "16  0.901081  Verbose\n",
       "19   7.96174  Verbose"
      ]
     },
     "execution_count": 6,
     "metadata": {},
     "output_type": "execute_result"
    }
   ],
   "source": [
    "comp_train"
   ]
  },
  {
   "cell_type": "markdown",
   "metadata": {},
   "source": [
    "### 1.3 Evaluación del modelo"
   ]
  },
  {
   "cell_type": "markdown",
   "metadata": {},
   "source": [
    "Testeamos el modelo con el número de neuronas en la capa oculta que ofrece la menor pérdida (número neuronas = 4)"
   ]
  },
  {
   "cell_type": "code",
   "execution_count": 8,
   "metadata": {},
   "outputs": [
    {
     "name": "stdout",
     "output_type": "stream",
     "text": [
      "\u001b[4;32mMLP clasiffier with 4 neurons in the hidden layer\u001b[0m\n",
      "Iteration 1, loss = 1.49870360\n",
      "Validation score: 0.494505\n",
      "Iteration 2, loss = 0.69656765\n",
      "Validation score: 0.505495\n",
      "Iteration 3, loss = 0.69909920\n",
      "Validation score: 0.505495\n",
      "Iteration 4, loss = 0.69839726\n",
      "Validation score: 0.494505\n",
      "Iteration 5, loss = 0.69797790\n",
      "Validation score: 0.494505\n",
      "Iteration 6, loss = 0.69921254\n",
      "Validation score: 0.505495\n",
      "Iteration 7, loss = 0.69836679\n",
      "Validation score: 0.494505\n",
      "Iteration 8, loss = 0.69855424\n",
      "Validation score: 0.505495\n",
      "Validation score did not improve more than tol=0.010000 for 5 consecutive epochs. Stopping.\n"
     ]
    },
    {
     "name": "stderr",
     "output_type": "stream",
     "text": [
      "/Applications/anaconda3/envs/cuarto/lib/python3.7/site-packages/sklearn/metrics/classification.py:1437: UndefinedMetricWarning: Precision and F-score are ill-defined and being set to 0.0 in labels with no predicted samples.\n",
      "  'precision', 'predicted', average, warn_for)\n",
      "/Applications/anaconda3/envs/cuarto/lib/python3.7/site-packages/ipykernel_launcher.py:16: FutureWarning: set_value is deprecated and will be removed in a future release. Please use .at[] or .iat[] accessors instead\n",
      "  app.launch_new_instance()\n"
     ]
    }
   ],
   "source": [
    "columns  = ['Accuracy','Recall','F1-score']\n",
    "comp_test = pd.DataFrame(columns=columns)\n",
    "\n",
    "print('\\033[4;32m' + 'MLP clasiffier with 4 neurons in the hidden layer' + '\\033[0m')\n",
    "\n",
    "model=MLPClassifier(activation='relu', batch_size=50, hidden_layer_sizes=4, learning_rate='constant',\n",
    "    learning_rate_init=0.1, max_iter=30, shuffle=True, solver='sgd', tol=0.01, early_stopping=True,\n",
    "    validation_fraction=0.2, verbose=True, n_iter_no_change=5)\n",
    "\n",
    "model.fit(X_train_bin,y_train_bin)\n",
    "\n",
    "predictions = model.predict(X_test_bin)\n",
    "cr=classification_report(y_test_bin,predictions,output_dict=True)\n",
    "acc,rec,f1=cr['weighted avg']['precision'],cr['weighted avg']['recall'],cr['weighted avg']['f1-score']\n",
    "\n",
    "comp_test = comp_test.set_value('4', ('Accuracy','Recall','F1-score'),(acc,rec,f1))"
   ]
  },
  {
   "cell_type": "code",
   "execution_count": 9,
   "metadata": {},
   "outputs": [
    {
     "data": {
      "text/html": [
       "<div>\n",
       "<style scoped>\n",
       "    .dataframe tbody tr th:only-of-type {\n",
       "        vertical-align: middle;\n",
       "    }\n",
       "\n",
       "    .dataframe tbody tr th {\n",
       "        vertical-align: top;\n",
       "    }\n",
       "\n",
       "    .dataframe thead th {\n",
       "        text-align: right;\n",
       "    }\n",
       "</style>\n",
       "<table border=\"1\" class=\"dataframe\">\n",
       "  <thead>\n",
       "    <tr style=\"text-align: right;\">\n",
       "      <th></th>\n",
       "      <th>Accuracy</th>\n",
       "      <th>Recall</th>\n",
       "      <th>F1-score</th>\n",
       "    </tr>\n",
       "  </thead>\n",
       "  <tbody>\n",
       "    <tr>\n",
       "      <th>4</th>\n",
       "      <td>0.239832</td>\n",
       "      <td>0.489726</td>\n",
       "      <td>0.321981</td>\n",
       "    </tr>\n",
       "  </tbody>\n",
       "</table>\n",
       "</div>"
      ],
      "text/plain": [
       "   Accuracy    Recall  F1-score\n",
       "4  0.239832  0.489726  0.321981"
      ]
     },
     "execution_count": 9,
     "metadata": {},
     "output_type": "execute_result"
    }
   ],
   "source": [
    "comp_test"
   ]
  },
  {
   "cell_type": "code",
   "execution_count": 10,
   "metadata": {},
   "outputs": [
    {
     "name": "stdout",
     "output_type": "stream",
     "text": [
      "================Classification Report=================\n",
      "{'0.0': {'precision': 0.0, 'recall': 0.0, 'f1-score': 0.0, 'support': 149}, '1.0': {'precision': 0.4897260273972603, 'recall': 1.0, 'f1-score': 0.6574712643678161, 'support': 143}, 'accuracy': 0.4897260273972603, 'macro avg': {'precision': 0.24486301369863014, 'recall': 0.5, 'f1-score': 0.32873563218390806, 'support': 292}, 'weighted avg': {'precision': 0.23983158191030216, 'recall': 0.4897260273972603, 'f1-score': 0.32198079042670447, 'support': 292}}\n"
     ]
    }
   ],
   "source": [
    "print(\"================Classification Report=================\")\n",
    "print(cr)"
   ]
  },
  {
   "cell_type": "markdown",
   "metadata": {},
   "source": [
    "### 1.5 Visualización de resultados\n",
    "A continuación se muestra un ejemplo de las fases del sueño predichas frente a las reales. Para facilitar esta visualización, se muestran la mitad de la muestras del subconjunto de test. "
   ]
  },
  {
   "cell_type": "code",
   "execution_count": 13,
   "metadata": {},
   "outputs": [
    {
     "data": {
      "text/plain": [
       "<matplotlib.legend.Legend at 0x1a1d2bd650>"
      ]
     },
     "execution_count": 13,
     "metadata": {},
     "output_type": "execute_result"
    },
    {
     "data": {
      "image/png": "[encoded data removed]",
      "text/plain": [
       "<Figure size 864x576 with 1 Axes>"
      ]
     },
     "metadata": {
      "needs_background": "light"
     },
     "output_type": "display_data"
    }
   ],
   "source": [
    "plt.figure(figsize=(12,8))\n",
    "plt.plot(y_test_bin[0:90],color='blue', marker='.',label='Real')\n",
    "plt.plot(predictions[0:90],color='green', marker='.',label='Predicha')\n",
    "\n",
    "plt.title('Fase del sueño real vs. predicha')\n",
    "plt.xlabel('Muestras')\n",
    "plt.ylabel('Fase del sueño')\n",
    "plt.legend()"
   ]
  },
  {
   "cell_type": "markdown",
   "metadata": {},
   "source": [
    "**Residuos**"
   ]
  },
  {
   "cell_type": "code",
   "execution_count": 14,
   "metadata": {},
   "outputs": [
    {
     "data": {
      "text/plain": [
       "<matplotlib.legend.Legend at 0x107096050>"
      ]
     },
     "execution_count": 14,
     "metadata": {},
     "output_type": "execute_result"
    },
    {
     "data": {
      "image/png": "[encoded data removed]",
      "text/plain": [
       "<Figure size 864x576 with 1 Axes>"
      ]
     },
     "metadata": {
      "needs_background": "light"
     },
     "output_type": "display_data"
    }
   ],
   "source": [
    "residuos= y_test_bin - predictions\n",
    "plt.figure(figsize=(12,8))\n",
    "plt.plot(residuos[0:90],color='purple', marker='.',label='Residuos')\n",
    "\n",
    "plt.title('RESIDUOS')\n",
    "plt.xlabel('Muestras')\n",
    "plt.ylabel('Fase del sueño')\n",
    "plt.legend()"
   ]
  },
  {
   "cell_type": "code",
   "execution_count": null,
   "metadata": {},
   "outputs": [],
   "source": []
  }
 ],
 "metadata": {
  "kernelspec": {
   "display_name": "Python 3",
   "language": "python",
   "name": "python3"
  },
  "language_info": {
   "codemirror_mode": {
    "name": "ipython",
    "version": 3
   },
   "file_extension": ".py",
   "mimetype": "text/x-python",
   "name": "python",
   "nbconvert_exporter": "python",
   "pygments_lexer": "ipython3",
   "version": "3.7.4"
  }
 },
 "nbformat": 4,
 "nbformat_minor": 2
}
