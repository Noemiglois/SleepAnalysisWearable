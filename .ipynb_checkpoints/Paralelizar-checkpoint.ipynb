{
 "cells": [
  {
   "cell_type": "markdown",
   "metadata": {},
   "source": [
    "# HERRAMIENTAS PARA PARALELIZAR"
   ]
  },
  {
   "cell_type": "markdown",
   "metadata": {},
   "source": [
    "### ¿Cuántos núcleos tengo?"
   ]
  },
  {
   "cell_type": "code",
   "execution_count": 1,
   "metadata": {},
   "outputs": [
    {
     "name": "stdout",
     "output_type": "stream",
     "text": [
      "Number of processors:  8\n"
     ]
    }
   ],
   "source": [
    "import multiprocessing as mp\n",
    "print(\"Number of processors: \", mp.cpu_count())"
   ]
  },
  {
   "cell_type": "markdown",
   "metadata": {},
   "source": [
    "### HERRAMIENTAS"
   ]
  },
  {
   "cell_type": "markdown",
   "metadata": {},
   "source": [
    "**map (función,iterable)** La función map () devuelve un elemento iterable (lista, tupla, etc) de los resultados después de aplicar una función dada a cada posición de otro elemento iterable."
   ]
  },
  {
   "cell_type": "code",
   "execution_count": 2,
   "metadata": {},
   "outputs": [
    {
     "name": "stdout",
     "output_type": "stream",
     "text": [
      "[2, 4, 6, 8]\n"
     ]
    }
   ],
   "source": [
    "# Python program to demonstrate working of map. \n",
    "  \n",
    "# Return double of n \n",
    "def addition(n): # FUNCIÓN\n",
    "    return n + n \n",
    "  \n",
    "# We double all numbers using map() \n",
    "numbers = (1, 2, 3, 4) # ITERABLE\n",
    "result = map(addition, numbers) \n",
    "print(list(result)) "
   ]
  },
  {
   "cell_type": "markdown",
   "metadata": {},
   "source": [
    "**PAQUETE MULTIPROCESSING** \n",
    "\n",
    "Dento de este paquete tenemos dos opciones https://docs.python.org/2/library/multiprocessing.html :\n",
    "\n",
    "* Pool\n",
    "* Process (dentro de process hay funciones para extraer e intercambiar información entre procesos)\n",
    "\n",
    "Pool y Process ejecutan la tarea en paralelo, pero su forma de ejecutar la tarea en paralelo es diferente.\n",
    "\n",
    "**Pool** distribuye las tareas a los procesadores disponibles mediante una programación FIFO (Primero en entrar, primero en salir). Funciona como la arquitectura 'map reduce'. Asigna la entrada a los diferentes procesadores y recopila la salida de todos los procesadores. Después de la ejecución del código, devuelve el resultado en forma de una lista o matriz. Es decir, espera a que finalicen todas las tareas y luego devuelve la salida. Los procesos en ejecución se almacenan en la memoria y otros procesos que no se ejecutan se almacenan fuera de la memoria.\n",
    "\n",
    "**Process** coloca todos los procesos en la memoria y programa su ejecución utilizando la programación FIFO.\n",
    "\n",
    "Elegir el enfoque apropiado depende de la tarea en cuestión. **Pool** le permite realizar múltiples tareas por proceso, lo que puede facilitar la paralelización de su programa. Si tiene un millón de tareas para ejecutar en paralelo, puede crear un Pool con un número de procesos tantos como núcleos de CPU y luego pasar la lista de millones de tareas a pool.map. El pool distribuirá esas tareas y recopilará los valores de retorno en forma de lista. \n",
    "Por otro lado, si tiene una pequeña cantidad de tareas para ejecutar en paralelo, y solo necesita que cada tarea se realice una vez, es razonable usar **process**, ya que procesa por separado para cada tarea, en lugar de configurar un Pool.\n",
    "\n",
    "*Conclusión* : para tareas grandes Pool y para las pequeñas Process (hay que paralelizar con cuidado para no dañar el sistema operativo). **Yo diría de usar Pool que por lo que veo se usa más** "
   ]
  },
  {
   "cell_type": "markdown",
   "metadata": {},
   "source": [
    "POOL"
   ]
  },
  {
   "cell_type": "code",
   "execution_count": null,
   "metadata": {},
   "outputs": [],
   "source": [
    "from multiprocessing import Pool\n",
    "\n",
    "def f(x):\n",
    "    return x*x\n",
    "\n",
    "if __name__ == '__main__':\n",
    "    p = Pool(processes=8) \n",
    "    print(p.map(f, [1, 2, 3]))"
   ]
  },
  {
   "cell_type": "markdown",
   "metadata": {},
   "source": [
    "Dentro de Pool tenemos tres opciones:\n",
    "* **.map()**: map solo puede tomar un iterable (lista,tupla,etc) como argumento. Es más adecuado para operaciones iterables más simples pero hace el trabajo más rápido.\n",
    "* **.apply()**: toma un argumento que acepta los parámetros pasados a la función que queremos paralelizar como argumento\n",
    "* **.starmap()**: es como una versión de Pool.map () que acepta argumentos."
   ]
  },
  {
   "cell_type": "markdown",
   "metadata": {},
   "source": [
    "**PAQUETE NUMBA**\n",
    "\n",
    "Si el código está orientado numéricamente (hace muchos cálculos), usa mucho NumPy y/o tiene muchos bucles, entonces Numba suele ser una buena opción. JIT 'just in time' (@jit) es el compilador de Numba para funciones y código de python.\n",
    "\n",
    "Cosas a tener en cuenta al usar Numba:\n",
    "* A numba le gustan los bucles\n",
    "* A numba le gustan las funciones de NumPy\n",
    "* A numba le gusta la transmisión entre funciones de Numpy\n",
    "\n",
    "* **Numba no entiende Pandas**\n",
    "\n",
    "Tenga en cuenta que Pandas no es entendido por Numba y, como resultado, Numba simplemente ejecutaría este código a través del intérprete (mayor gasto de los recursos de Numba por lo que la función no se va a beneficiar de las ventajas de Numba). **Asi que creo que no se puede usar con Pandas y si se pudiera no merece la pena**"
   ]
  },
  {
   "cell_type": "markdown",
   "metadata": {},
   "source": [
    "Una de las formas de hacer más rápido el código es vectorizando o intentando quitar bucles.\n",
    "\n",
    "\n",
    "**CYTHON** (NO ES PARALELIZAR, ES OPTIMIZAR)\n",
    "\n",
    "Hay que instalarse la extension\n",
    "\n",
    "La forma más fácil de aumentar la velocidad de una función escrita en Python es volver a escribir esta en C y compilarla. Pero C no es tan fácil como el de Python. Para esto es lo que existe Cython, una librería que, con pequeñas modificaciones, permite traducir código Python a C y compilarlo. Cython sirve para optimizar un código de python que usa **Pandas**\n",
    "\n",
    "A continuación, un ejemplo de funciones de python aplicadas sobre un dataframe y aplicadas utilizando cython para optimizarlas."
   ]
  },
  {
   "cell_type": "markdown",
   "metadata": {},
   "source": [
    "Sin la extensión"
   ]
  },
  {
   "cell_type": "code",
   "execution_count": null,
   "metadata": {},
   "outputs": [],
   "source": [
    "import pandas as pd\n",
    "import numpy as np\n",
    "df = pd.DataFrame({'a': np.random.randn(1000),\n",
    "                    'b': np.random.randn(1000),\n",
    "                    'N': np.random.randint(100, 1000, (1000)),\n",
    "                    'x': 'x'})"
   ]
  },
  {
   "cell_type": "code",
   "execution_count": null,
   "metadata": {},
   "outputs": [],
   "source": [
    "df"
   ]
  },
  {
   "cell_type": "code",
   "execution_count": null,
   "metadata": {},
   "outputs": [],
   "source": [
    "def f(x):\n",
    "    return x * (x - 1)\n",
    "\n",
    "def integrate_f(a, b, N):\n",
    "    s = 0\n",
    "    dx = (b - a) / N\n",
    "    for i in range(N):\n",
    "        s += f(a + i * dx)\n",
    "    return s * dx"
   ]
  },
  {
   "cell_type": "markdown",
   "metadata": {},
   "source": [
    "Tiempo que tarda:"
   ]
  },
  {
   "cell_type": "code",
   "execution_count": null,
   "metadata": {},
   "outputs": [],
   "source": [
    "%timeit df.apply(lambda x: integrate_f(x['a'], x['b'], x['N']), axis=1)"
   ]
  },
  {
   "cell_type": "markdown",
   "metadata": {},
   "source": [
    "Con la extensión **Cython**"
   ]
  },
  {
   "cell_type": "code",
   "execution_count": null,
   "metadata": {},
   "outputs": [],
   "source": [
    "%load_ext Cython"
   ]
  },
  {
   "cell_type": "code",
   "execution_count": null,
   "metadata": {},
   "outputs": [],
   "source": [
    " %%cython\n",
    "def f_plain(x):\n",
    "    return x * (x - 1)\n",
    "def integrate_f_plain(a, b, N):\n",
    "    s = 0\n",
    "    dx = (b - a) / N\n",
    "    for i in range(N):\n",
    "        s += f_plain(a + i * dx)\n",
    "    return s * dx"
   ]
  },
  {
   "cell_type": "code",
   "execution_count": null,
   "metadata": {},
   "outputs": [],
   "source": [
    "%timeit df.apply(lambda x: integrate_f_plain(x['a'], x['b'], x['N']), axis=1)"
   ]
  },
  {
   "cell_type": "markdown",
   "metadata": {},
   "source": [
    "# EJEMPLO NUESTRO CÓDIGO \n",
    "\n",
    "Con Pool.map() no se como hacerlo porque es para listas iterables y operaciones sencillas y no es nuestro caso. \n",
    "\n",
    "Con Pool.apply() creo que **¡¡si funciona!!**"
   ]
  },
  {
   "cell_type": "code",
   "execution_count": null,
   "metadata": {},
   "outputs": [],
   "source": [
    "import numpy as np\n",
    "import pandas as pd\n",
    "import os\n",
    "import matplotlib.pyplot as plt\n",
    "from sklearn.svm import SVC\n",
    "from sklearn.model_selection import train_test_split\n",
    "from sklearn.metrics import confusion_matrix\n",
    "import statistics as stats\n",
    "from sklearn.model_selection import GridSearchCV\n",
    "from random import sample\n",
    "from sklearn.metrics import classification_report\n",
    "from multiprocessing import Pool\n",
    "import time"
   ]
  },
  {
   "cell_type": "code",
   "execution_count": null,
   "metadata": {},
   "outputs": [],
   "source": [
    "pacientes_sueño=[]\n",
    "for file in (os.listdir(\"labels\")):\n",
    "    pacientes_sueño.append(os.path.join(\"labels\",file))\n",
    "    pacientes_sueño=sorted(pacientes_sueño)\n",
    "    \n",
    "pacientes_frec_card=[]\n",
    "for file in os.listdir(\"heart_rate\"):\n",
    "    pacientes_frec_card.append(os.path.join(\"heart_rate\",file))\n",
    "\n",
    "pacientes_pasos=[]\n",
    "for file in os.listdir(\"steps\"):\n",
    "    pacientes_pasos.append(os.path.join(\"steps\",file))\n",
    "\n",
    "pacientes_movimiento=[]\n",
    "for file in os.listdir(\"motion\"):\n",
    "    pacientes_movimiento.append(os.path.join(\"motion\",file))"
   ]
  },
  {
   "cell_type": "code",
   "execution_count": null,
   "metadata": {},
   "outputs": [],
   "source": [
    "n=6\n",
    "#SUEÑO\n",
    "sueño=pd.read_csv(pacientes_sueño[n], delimiter=' ')\n",
    "sueño.columns=[\"Tiempo\",\"Etiqueta\"]\n",
    "n_sueño=len(sueño) # muestras en etiquetas del sueño\n",
    "\n",
    "#FRECUENCIA CARDIACA\n",
    "frec_card=pd.read_csv(pacientes_frec_card[n])\n",
    "frec_card.columns=[\"Tiempo\",\"Frec card\"]\n",
    "frec_card=frec_card[frec_card[\"Tiempo\"]>0] # frecuencia cardiaca una noche"
   ]
  },
  {
   "cell_type": "code",
   "execution_count": null,
   "metadata": {},
   "outputs": [],
   "source": [
    "def get_window(w_size,signal):\n",
    "    time = signal[\"Tiempo\"]\n",
    "    f_list=[]\n",
    "    \n",
    "    for i in range(n_sueño):\n",
    "        a = w_size*(1+i)\n",
    "        b = w_size*(2+i)\n",
    "\n",
    "        idx=[]\n",
    "        for t in time:\n",
    "            if t>a and t<b:\n",
    "                idx.append(True)\n",
    "            else:\n",
    "                idx.append(False)\n",
    "        \n",
    "        f = signal[idx]\n",
    "        f_list.append(f)\n",
    "        \n",
    "    return f_list"
   ]
  },
  {
   "cell_type": "markdown",
   "metadata": {},
   "source": [
    "**SIN PARALELIZAR**"
   ]
  },
  {
   "cell_type": "code",
   "execution_count": null,
   "metadata": {},
   "outputs": [],
   "source": [
    "w_size=30\n",
    "signal=frec_card\n",
    "\n",
    "start_time = time.time()\n",
    "\n",
    "f_list= get_window(w_size,signal)\n",
    "\n",
    "mean_list=[]\n",
    "min_list=[]\n",
    "max_list=[]\n",
    "\n",
    "for f in f_list:\n",
    "    mean_list.append(round(f['Frec card'].mean(),2))\n",
    "    min_list.append(round(f['Frec card'].min(),2))\n",
    "    max_list.append(round(f['Frec card'].max(),2))\n",
    "    \n",
    "feat1=min_list\n",
    "feat2=max_list\n",
    "feat3=mean_list\n",
    "\n",
    "datos = {'Min_hr': feat1, \"Max_hr\": feat2,\"Mean_hr\":feat3}\n",
    "datos_paciente = pd.DataFrame(data=datos)\n",
    "\n",
    "print (\"My program took\", time.time() - start_time, \"to run\")"
   ]
  },
  {
   "cell_type": "markdown",
   "metadata": {},
   "source": [
    "**PARALELIZANDO**"
   ]
  },
  {
   "cell_type": "code",
   "execution_count": null,
   "metadata": {},
   "outputs": [],
   "source": [
    "w_size=30\n",
    "signal=frec_card\n",
    "\n",
    "start_time = time.time()\n",
    "\n",
    "if __name__ == '__main__':\n",
    "    p = Pool(processes=4) \n",
    "    f_list=p.apply(get_window,(w_size,signal))\n",
    "    #print(f_list)\n",
    "\n",
    "mean_list=[]\n",
    "min_list=[]\n",
    "max_list=[]\n",
    "\n",
    "for f in f_list:\n",
    "    mean_list.append(round(f['Frec card'].mean(),2))\n",
    "    min_list.append(round(f['Frec card'].min(),2))\n",
    "    max_list.append(round(f['Frec card'].max(),2))\n",
    "\n",
    "feat1=min_list\n",
    "feat2=max_list\n",
    "feat3=mean_list\n",
    "\n",
    "datos = {'Min_hr': feat1, \"Max_hr\": feat2,\"Mean_hr\":feat3}\n",
    "datos_paciente = pd.DataFrame(data=datos)\n",
    "\n",
    "print (\"My program took\", time.time() - start_time, \"to run\")"
   ]
  },
  {
   "cell_type": "markdown",
   "metadata": {},
   "source": [
    "**Cosas que mejorar**\n",
    "\n",
    "* Revisar para optimizar dataframe https://towardsdatascience.com/make-your-own-super-pandas-using-multiproc-1c04f41944a1\n",
    "* Probar en una función mas grande que tarde más para ver si realmente paraleliza porque en el tiempo no podemos verlo tal y como esta ahora (parece que tarda mas pero no deberia)\n",
    "* Buscar otra forma de medir el tiempo\n",
    "* Probar con Cython "
   ]
  },
  {
   "cell_type": "code",
   "execution_count": null,
   "metadata": {},
   "outputs": [],
   "source": []
  }
 ],
 "metadata": {
  "kernelspec": {
   "display_name": "Python 3",
   "language": "python",
   "name": "python3"
  },
  "language_info": {
   "codemirror_mode": {
    "name": "ipython",
    "version": 3
   },
   "file_extension": ".py",
   "mimetype": "text/x-python",
   "name": "python",
   "nbconvert_exporter": "python",
   "pygments_lexer": "ipython3",
   "version": "3.7.4"
  }
 },
 "nbformat": 4,
 "nbformat_minor": 2
}
