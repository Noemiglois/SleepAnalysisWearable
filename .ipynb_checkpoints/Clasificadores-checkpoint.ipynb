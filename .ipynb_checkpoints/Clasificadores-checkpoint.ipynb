{
 "cells": [
  {
   "cell_type": "markdown",
   "metadata": {},
   "source": [
    "<center> <h1>PRIMERA PREDICIÓN DEL SUEÑO DE UN PACIENTE</h1> </center>\n",
    "<center> <h4>Noemi González, Roberto Holgado y Carmen Plaza seco</h4> </center>\n",
    "\n",
    "[URL PHYSIONET](https://physionet.org/content/sleep-accel/1.0.0/)\n",
    "\n",
    "###### Indice\n",
    "\n",
    "* **1. Preprocesado, extracción de características.**\n",
    "  *   **1.1 Extracción variables de frecuencia cardíaca**\n",
    "  *  **1.2 Extracción variables de movimiento**\n",
    "  *  **1.3 Obtención matrices**\n",
    "* **2. Conjuntos Train y Test**\n",
    "  * **2.1 Preparación datos de entreada y salida**\n",
    "* **3. Clasificador SVM Binario**\n",
    "   * **3.1 Creación del modelo y selección parámetros libres**\n",
    "   * **3.2 Evaluación del modelo**\n",
    "* **4. Clasficador SVM Multiclase**\n",
    "   * **4.1 Creación del modelo y selección parámetros libres**\n",
    "      *     **4.2.1**\n",
    "      *     **4.2.2**\n",
    "   * **4.3 Evaluación del modelo**\n",
    "* **5. Clasificador multiclase primera ventana**\n",
    "    * **5.1 Residuos**"
   ]
  },
  {
   "cell_type": "code",
   "execution_count": 1,
   "metadata": {},
   "outputs": [],
   "source": [
    "import numpy as np\n",
    "import pandas as pd\n",
    "import os\n",
    "import matplotlib.pyplot as plt\n",
    "from sklearn.svm import SVC\n",
    "from sklearn.model_selection import train_test_split\n",
    "from sklearn.metrics import confusion_matrix\n",
    "import statistics as stats\n",
    "from sklearn.model_selection import GridSearchCV\n",
    "from random import sample\n",
    "from sklearn.metrics import classification_report\n",
    "from sklearn.model_selection import RandomizedSearchCV"
   ]
  },
  {
   "cell_type": "markdown",
   "metadata": {},
   "source": [
    "## 1. CARGAR DATOS"
   ]
  },
  {
   "cell_type": "markdown",
   "metadata": {},
   "source": [
    "### 2.1 Preparación datos de entrada y salida"
   ]
  },
  {
   "cell_type": "code",
   "execution_count": 2,
   "metadata": {},
   "outputs": [],
   "source": [
    "#Train\n",
    "Train= pd.read_csv('Train.csv').drop(['Unnamed: 0'], axis = 1)\n",
    "Test= pd.read_csv('Test.csv').drop(['Unnamed: 0'], axis = 1)"
   ]
  },
  {
   "cell_type": "code",
   "execution_count": 3,
   "metadata": {},
   "outputs": [],
   "source": [
    "#Test"
   ]
  },
  {
   "cell_type": "code",
   "execution_count": 4,
   "metadata": {},
   "outputs": [],
   "source": [
    "X_train=Train.drop(['Etiquetas', 'Etiquetas binarias'], axis = 1) \n",
    "y_train_bin=Train['Etiquetas binarias']\n",
    "y_train_multi=Train['Etiquetas']\n",
    "\n",
    "X_test=Test.drop(['Etiquetas', 'Etiquetas binarias'], axis = 1)\n",
    "y_test_bin=Test['Etiquetas binarias']\n",
    "y_test_multi=Test['Etiquetas']"
   ]
  },
  {
   "cell_type": "markdown",
   "metadata": {},
   "source": [
    "## 3. Clasficador SVM Binario\n"
   ]
  },
  {
   "cell_type": "markdown",
   "metadata": {},
   "source": [
    "### 3.1  Creación del modelo y selección parámetros libres"
   ]
  },
  {
   "cell_type": "code",
   "execution_count": null,
   "metadata": {},
   "outputs": [
    {
     "name": "stderr",
     "output_type": "stream",
     "text": [
      "C:\\Users\\rober\\Anaconda3\\lib\\site-packages\\sklearn\\svm\\base.py:193: FutureWarning: The default value of gamma will change from 'auto' to 'scale' in version 0.22 to account better for unscaled features. Set gamma explicitly to 'auto' or 'scale' to avoid this warning.\n",
      "  \"avoid this warning.\", FutureWarning)\n"
     ]
    }
   ],
   "source": [
    "clf = SVC()\n",
    "modelo_base=clf.fit(X_train,y_train_bin)"
   ]
  },
  {
   "cell_type": "code",
   "execution_count": null,
   "metadata": {},
   "outputs": [],
   "source": [
    "clf"
   ]
  },
  {
   "cell_type": "code",
   "execution_count": null,
   "metadata": {},
   "outputs": [],
   "source": [
    "Cs =[1, 5]  #list(range(0.001,10)\n",
    "param_grid = {'kernel':('linear', 'rbf'),'C': Cs}\n",
    "svc_grid = GridSearchCV(clf, param_grid, scoring='accuracy',cv=3,n_jobs=-1)\n",
    "svc_grid.fit(X_train, y_train_bin)\n",
    "svc_grid.best_params_"
   ]
  },
  {
   "cell_type": "code",
   "execution_count": null,
   "metadata": {},
   "outputs": [],
   "source": [
    "svc_clf=svc_grid.best_estimator_"
   ]
  },
  {
   "cell_type": "code",
   "execution_count": null,
   "metadata": {},
   "outputs": [],
   "source": [
    "print(\"Tasa de acierto del modelo base:\",modelo_base.score(X_test,y_test_bin))\n",
    "print(\"Tasa de acierto con la busqueda de parámetros:\",svc_clf.score(X_test,y_test_bin))\n",
    "\n",
    "#Mejora\n",
    "print('Mejora  del {:0.2f}%.'.format( 100 * (svc_clf.score(X_test,y_test_bin) - modelo_base.score(X_test,y_test_bin)) / modelo_base.score(X_test,y_test_bin)))"
   ]
  },
  {
   "cell_type": "markdown",
   "metadata": {},
   "source": [
    "### 3.3 Evaluación del modelo"
   ]
  },
  {
   "cell_type": "code",
   "execution_count": null,
   "metadata": {},
   "outputs": [],
   "source": [
    "predict = svc_clf.predict(X_test)\n",
    "\n",
    "#EVALUACION\n",
    "acc_test= svc_clf.score(X_test, y_test_bin).round(4)\n",
    "acc_train= svc_clf.score(X_train, y_train_bin).round(4)\n",
    "print('La exactitud para el modelo de SVM en el conjunto de TEST es:',acc_test,'\\n')\n",
    "print('La exactitud para el modelo de SVM en el conjunto de TRAIN es:',acc_train,'\\n')\n",
    "\n",
    "print('Confusion Matrix')\n",
    "print(confusion_matrix(y_test_bin, predict),'\\n')\n",
    "\n",
    "print(\"=============== Classification Report ================\")\n",
    "print(classification_report(y_test_bin, predict))\n",
    "#matriz_confusion=pd.crosstab(Y_test,predict, rownames=['Clase predicha'], colnames=['Resultado del clasificador'])"
   ]
  },
  {
   "cell_type": "code",
   "execution_count": null,
   "metadata": {},
   "outputs": [],
   "source": [
    "matriz_confusion=pd.crosstab(y_test_bin,predict, rownames=['Clase predicha'], colnames=['Resultado del clasificador'])"
   ]
  },
  {
   "cell_type": "code",
   "execution_count": null,
   "metadata": {},
   "outputs": [],
   "source": [
    "matriz_confusion"
   ]
  },
  {
   "cell_type": "markdown",
   "metadata": {},
   "source": [
    "## 4. Clasficador SVM Multiclase\n",
    "### 4.1 Creación del modelo y selección parámetros libres"
   ]
  },
  {
   "cell_type": "code",
   "execution_count": null,
   "metadata": {
    "scrolled": true
   },
   "outputs": [],
   "source": [
    "clf = SVC()\n",
    "modelo_base=clf.fit(X_train,y_train_multi)"
   ]
  },
  {
   "cell_type": "markdown",
   "metadata": {},
   "source": [
    "#### 3.2.1 Grid Search con validación cruzada"
   ]
  },
  {
   "cell_type": "code",
   "execution_count": null,
   "metadata": {},
   "outputs": [],
   "source": [
    "Cs = [1, 5]  #list(range(0,10)\n",
    "param_grid = {'kernel':('linear', 'rbf'),'C': Cs}\n",
    "svc_grid = GridSearchCV(clf, param_grid, scoring='accuracy',cv=3,n_jobs=-1)\n",
    "svc_grid.fit(X_train, y_train_multi)\n",
    "svc_grid.best_params_"
   ]
  },
  {
   "cell_type": "code",
   "execution_count": null,
   "metadata": {},
   "outputs": [],
   "source": [
    "svc_clf=svc_grid"
   ]
  },
  {
   "cell_type": "code",
   "execution_count": null,
   "metadata": {},
   "outputs": [],
   "source": [
    "print(\"Tasa de acierto del modelo base:\",modelo_base.score(X_test,y_test_multi))\n",
    "print(\"Tasa de acierto con la busqueda de parámetros:\",svc_clf.score(X_test,y_test_multi))\n",
    "\n",
    "#Mejora\n",
    "print('Mejora  del {:0.2f}%.'.format( 100 * (svc_clf.score(X_test,y_test_multi) - modelo_base.score(X_test,y_test_multi)) / modelo_base.score(X_test,y_test_multi)))"
   ]
  },
  {
   "cell_type": "markdown",
   "metadata": {},
   "source": [
    "### 4.3 Evaluación del modelo"
   ]
  },
  {
   "cell_type": "code",
   "execution_count": null,
   "metadata": {},
   "outputs": [],
   "source": [
    "predict = svc_clf.predict(X_test)\n",
    "\n",
    "#EVALUACION\n",
    "acc_test= svc_clf.score(X_test, y_test_multi).round(4)\n",
    "acc_train= svc_clf.score(X_train, y_train_multi).round(4)\n",
    "print('La exactitud para el modelo de SVM en el conjunto de TEST es:',acc_test,'\\n')\n",
    "print('La exactitud para el modelo de SVM en el conjunto de TRAIN es:',acc_train,'\\n')\n",
    "\n",
    "print('Confusion Matrix')\n",
    "print(confusion_matrix(y_test_multi, predict),'\\n')\n",
    "\n",
    "print(\"=============== Classification Report ================\")\n",
    "print(classification_report(y_test_multi, predict))"
   ]
  },
  {
   "cell_type": "code",
   "execution_count": null,
   "metadata": {},
   "outputs": [],
   "source": [
    "matriz_confusion=pd.crosstab(y_test_multi,predict, rownames=['Clase predicha'], colnames=['Resultado del clasificador'])"
   ]
  },
  {
   "cell_type": "code",
   "execution_count": null,
   "metadata": {},
   "outputs": [],
   "source": [
    "matriz_confusion"
   ]
  },
  {
   "cell_type": "code",
   "execution_count": null,
   "metadata": {},
   "outputs": [],
   "source": [
    "pacientes = len(y_test_multi)\n",
    "t = np.arange(0,pacientes)\n",
    "plt.figure(figsize=(15,9))\n",
    "plt.plot(t,y_test_multi,color='blue', marker='.',label='Real')\n",
    "plt.plot(t,predict,color='green', marker='.',label='Predicha')\n",
    "\n",
    "plt.xlabel('Pacientes')\n",
    "plt.ylabel('Fase del sueño')\n",
    "plt.title('Fase del sueño real vs. predicha en los primeros 30s')\n",
    "plt.legend()\n",
    "\n",
    "plt.title('Fase del sueño real vs. predicha en los primeros 30s')\n",
    "plt.xlabel('Pacientes')\n",
    "plt.ylabel('Fase del sueño')\n",
    "plt.yticks([-1,0])\n",
    "plt.xlim([0,10])\n",
    "plt.legend()"
   ]
  },
  {
   "cell_type": "markdown",
   "metadata": {},
   "source": [
    "## 5. CLASIFICADOR MULTICLASE (primera ventana) = BINARIO"
   ]
  },
  {
   "cell_type": "code",
   "execution_count": null,
   "metadata": {},
   "outputs": [],
   "source": [
    "X_train = pd.DataFrame()    \n",
    "Y_train = pd.DataFrame()    \n",
    "for i in range(len(train_matr)):\n",
    "    x_train = train_matr[i].iloc[0,0:3]\n",
    "    y_train = train_matr[i].iloc[0,4:5]\n",
    "    \n",
    "    X_train = X_train.append(x_train)\n",
    "    Y_train = Y_train.append(y_train)\n",
    "\n",
    "X_test = pd.DataFrame()    \n",
    "Y_test = pd.DataFrame()    \n",
    "for i in range(len(test_matr)):\n",
    "    x_test= test_matr[i].iloc[0,0:3]\n",
    "    y_test= test_matr[i].iloc[0,4:5]\n",
    "    \n",
    "    X_test = X_test.append(x_test)\n",
    "    Y_test = Y_test.append(y_test)"
   ]
  },
  {
   "cell_type": "code",
   "execution_count": null,
   "metadata": {},
   "outputs": [],
   "source": [
    "svc_clf = SVC()\n",
    "svc_clf.fit(X_train, Y_train)"
   ]
  },
  {
   "cell_type": "code",
   "execution_count": null,
   "metadata": {},
   "outputs": [],
   "source": [
    "predict = svc_clf.predict(X_test)\n",
    "#EVALUACION\n",
    "\n",
    "acc_test = svc_clf.score(X_test, Y_test).round(4)\n",
    "acc_train = svc_clf.score(X_train, Y_train).round(4)\n",
    "print('La exactitud para el modelo de SVM en el conjunto de TEST es:',acc_test,'\\n')\n",
    "print('La exactitud para el modelo de SVM en el conjunto de TRAIN es:',acc_train,'\\n')\n",
    "\n",
    "print('Confusion Matrix')\n",
    "print(confusion_matrix(Y_test, predict),'\\n')\n",
    "#print(\"=============== Classification Report ================\")\n",
    "#print(classification_report(y_test, predict))"
   ]
  },
  {
   "cell_type": "markdown",
   "metadata": {},
   "source": [
    "### RESIDUOS "
   ]
  },
  {
   "cell_type": "code",
   "execution_count": null,
   "metadata": {},
   "outputs": [],
   "source": [
    "pacientes = len(Y_test)\n",
    "t = np.arange(0,pacientes)\n",
    "\n",
    "plt.figure(figsize = (12,5))\n",
    "\n",
    "plt.plot(t,Y_test,color='blue', marker='.',label='Real')\n",
    "plt.plot(t,predict,color='green', marker='.',label='Predicha')\n",
    "\n",
    "plt.title('Fase del sueño real vs. predicha en los primeros 30s')\n",
    "plt.xlabel('Pacientes')\n",
    "plt.ylabel('Fase del sueño')\n",
    "plt.yticks([-1,0])\n",
    "plt.xlim([0,10])\n",
    "plt.legend()"
   ]
  },
  {
   "cell_type": "code",
   "execution_count": null,
   "metadata": {},
   "outputs": [],
   "source": [
    "residuo=predict-Y_test.iloc[:,0]\n",
    "residuo"
   ]
  }
 ],
 "metadata": {
  "kernelspec": {
   "display_name": "Python 3",
   "language": "python",
   "name": "python3"
  },
  "language_info": {
   "codemirror_mode": {
    "name": "ipython",
    "version": 3
   },
   "file_extension": ".py",
   "mimetype": "text/x-python",
   "name": "python",
   "nbconvert_exporter": "python",
   "pygments_lexer": "ipython3",
   "version": "3.7.4"
  }
 },
 "nbformat": 4,
 "nbformat_minor": 2
}
