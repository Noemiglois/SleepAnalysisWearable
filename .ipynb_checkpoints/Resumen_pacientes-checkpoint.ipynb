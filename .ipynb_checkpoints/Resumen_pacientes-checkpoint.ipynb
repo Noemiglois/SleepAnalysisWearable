{
 "cells": [
  {
   "cell_type": "markdown",
   "metadata": {},
   "source": [
    "<center> <h1>MISMO TIEMPO DE EXPLORACION VARIABLES DE UN PACIENTE</h1> </center>\n",
    "<center> <h4>Noemi González, Roberto Holgado y Carmen Plaza seco</h4> </center>\n",
    "\n",
    "[URL PHYSIONET](https://physionet.org/content/sleep-accel/1.0.0/)"
   ]
  },
  {
   "cell_type": "code",
   "execution_count": 1,
   "metadata": {},
   "outputs": [],
   "source": [
    "import numpy as np\n",
    "import pandas as pd\n",
    "import os\n",
    "import matplotlib.pyplot as plt"
   ]
  },
  {
   "cell_type": "code",
   "execution_count": 2,
   "metadata": {},
   "outputs": [],
   "source": [
    "#print(os.listdir(\"labels\"))"
   ]
  },
  {
   "cell_type": "code",
   "execution_count": 3,
   "metadata": {},
   "outputs": [],
   "source": [
    "lista_pacientes_sueño=[]\n",
    "for file in (os.listdir(\"labels\")):\n",
    "    lista_pacientes_sueño.append(os.path.join(\"labels\",file))\n",
    "    lista_pacientes_sueño=sorted(lista_pacientes_sueño)\n",
    "    \n",
    "lista_pacientes_frecuencia_cardiaca=[]\n",
    "for file in os.listdir(\"heart_rate\"):\n",
    "    lista_pacientes_frecuencia_cardiaca.append(os.path.join(\"heart_rate\",file))\n",
    "\n",
    "lista_pacientes_pasos=[]\n",
    "for file in os.listdir(\"steps\"):\n",
    "    lista_pacientes_pasos.append(os.path.join(\"steps\",file))\n",
    "\n",
    "lista_pacientes_movimiento=[]\n",
    "for file in os.listdir(\"motion\"):\n",
    "    lista_pacientes_movimiento.append(os.path.join(\"motion\",file))"
   ]
  },
  {
   "cell_type": "code",
   "execution_count": 4,
   "metadata": {},
   "outputs": [],
   "source": [
    "#print(len(lista_pacientes_sueño),len(lista_pacientes_frecuencia_cardiaca),len(lista_pacientes_pasos),len(lista_pacientes_movimiento))"
   ]
  },
  {
   "cell_type": "code",
   "execution_count": 5,
   "metadata": {
    "scrolled": true
   },
   "outputs": [
    {
     "name": "stdout",
     "output_type": "stream",
     "text": [
      "Intervalo:( -14190.015909900001 , 12499.9723799 ).\n"
     ]
    }
   ],
   "source": [
    "tiempo_inicio=-4000000000\n",
    "tiempo_final = 4000000000\n",
    "for i in range(len(lista_pacientes_frecuencia_cardiaca)):\n",
    "    paciente_cardio=pd.read_csv(lista_pacientes_frecuencia_cardiaca[i])\n",
    "    paciente_cardio.columns=[\"Tiempo\",\"Frecuencia_cardio\"]\n",
    "    tiempo=paciente_cardio['Tiempo']\n",
    "    tiempo.tolist()\n",
    "    start_paciente=tiempo[0]\n",
    "    end_paciente=tiempo[len(tiempo)-1]\n",
    "    if start_paciente>tiempo_inicio:\n",
    "        tiempo_inicio=start_paciente\n",
    "    if end_paciente<tiempo_final:\n",
    "        tiempo_final=end_paciente\n",
    "print(\"Intervalo:(\",tiempo_inicio,\",\",tiempo_final,\").\")\n",
    "path=\"heart_rate_modificado\"\n",
    "\n",
    "for i in range(len(lista_pacientes_frecuencia_cardiaca)):\n",
    "    ind=lista_pacientes_frecuencia_cardiaca[i].split('\\\\')[1].split('_')[0]  \n",
    "    paciente_cardio=pd.read_csv(lista_pacientes_frecuencia_cardiaca[i])\n",
    "    paciente_cardio.columns=[\"Tiempo\",\"Frecuencia_cardio\"]\n",
    "    paciente_cardio_filtro=paciente_cardio[(paciente_cardio[\"Tiempo\"]>=tiempo_inicio) &  (paciente_cardio[\"Tiempo\"]<=tiempo_final)]\n",
    "    paciente_cardio_filtro.to_csv(os.path.join(path,str(ind)+'.csv'))"
   ]
  },
  {
   "cell_type": "code",
   "execution_count": 6,
   "metadata": {},
   "outputs": [
    {
     "name": "stdout",
     "output_type": "stream",
     "text": [
      "Intervalo:( -267485 , -127685 ).\n"
     ]
    }
   ],
   "source": [
    "tiempo_inicio=-400000000000\n",
    "tiempo_final = 400000000000\n",
    "for i in range(len(lista_pacientes_pasos)):\n",
    "    paciente_pasos=pd.read_csv(lista_pacientes_pasos[i])\n",
    "    paciente_pasos.columns=[\"Tiempo\",\"Pasos\"]\n",
    "    tiempo=paciente_pasos['Tiempo']\n",
    "    tiempo.tolist()\n",
    "    start_paciente=tiempo[0]\n",
    "    end_paciente=tiempo[len(tiempo)-1]\n",
    "    if start_paciente>tiempo_inicio:\n",
    "        tiempo_inicio=start_paciente\n",
    "    if end_paciente<tiempo_final:\n",
    "        tiempo_final=end_paciente\n",
    "print(\"Intervalo:(\",tiempo_inicio,\",\",tiempo_final,\").\")\n",
    "path=\"steps_modificado\"\n",
    "\n",
    "for i in range(len(lista_pacientes_pasos)):\n",
    "    ind=lista_pacientes_pasos[i].split('\\\\')[1].split('_')[0]  \n",
    "    paciente_pasos=pd.read_csv(lista_pacientes_pasos[i])\n",
    "    paciente_pasos.columns=[\"Tiempo\",\"Pasos\"]\n",
    "    paciente_pasos_filtro=paciente_pasos[(paciente_pasos[\"Tiempo\"]>=tiempo_inicio) &  (paciente_pasos[\"Tiempo\"]<=tiempo_final)]\n",
    "    paciente_pasos_filtro.to_csv(os.path.join(path,str(ind)+'.csv'))"
   ]
  },
  {
   "cell_type": "code",
   "execution_count": null,
   "metadata": {},
   "outputs": [
    {
     "name": "stdout",
     "output_type": "stream",
     "text": [
      "Intervalo:( -10.3404290676 , 15054.9274812 ).\n"
     ]
    }
   ],
   "source": [
    "tiempo_inicio=-400000000\n",
    "tiempo_final = 4000000000\n",
    "for i in range(len(lista_pacientes_movimiento)):\n",
    "    paciente_movimiento=pd.read_csv(lista_pacientes_movimiento[i], delimiter=' ')\n",
    "    paciente_movimiento.columns=[\"Tiempo\",\"Ac_x\",\"Ac_y\",\"Ac_z\"]\n",
    "    tiempo=paciente_movimiento['Tiempo']\n",
    "    tiempo.tolist()\n",
    "    start_paciente=tiempo[0]\n",
    "    end_paciente=tiempo[len(tiempo)-1]\n",
    "    if start_paciente>tiempo_inicio:\n",
    "        tiempo_inicio=start_paciente\n",
    "    if end_paciente<tiempo_final:\n",
    "        tiempo_final=end_paciente\n",
    "print(\"Intervalo:(\",tiempo_inicio,\",\",tiempo_final,\").\")\n",
    "path=\"motion_modificado\"\n",
    "\n",
    "for i in range(len(lista_pacientes_movimiento)):\n",
    "    ind=lista_pacientes_movimiento[i].split('\\\\')[1].split('_')[0]  \n",
    "    paciente_movimiento=pd.read_csv(lista_pacientes_movimiento[i], delimiter=' ')\n",
    "    paciente_movimiento.columns=[\"Tiempo\",\"Ac_x\",\"Ac_y\",\"Ac_z\"]\n",
    "    paciente_movimiento_filtro=paciente_movimiento[(paciente_movimiento[\"Tiempo\"]>=tiempo_inicio) &  (paciente_movimiento[\"Tiempo\"]<=tiempo_final)]\n",
    "    paciente_movimiento_filtro.to_csv(os.path.join(path,str(ind)+'.csv'))"
   ]
  }
 ],
 "metadata": {
  "kernelspec": {
   "display_name": "Python 3",
   "language": "python",
   "name": "python3"
  },
  "language_info": {
   "codemirror_mode": {
    "name": "ipython",
    "version": 3
   },
   "file_extension": ".py",
   "mimetype": "text/x-python",
   "name": "python",
   "nbconvert_exporter": "python",
   "pygments_lexer": "ipython3",
   "version": "3.7.4"
  }
 },
 "nbformat": 4,
 "nbformat_minor": 2
}
