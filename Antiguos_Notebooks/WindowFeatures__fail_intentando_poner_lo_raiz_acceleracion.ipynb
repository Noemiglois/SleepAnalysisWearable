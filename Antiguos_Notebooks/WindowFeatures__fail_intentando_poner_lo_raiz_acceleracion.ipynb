{
 "cells": [
  {
   "cell_type": "markdown",
   "metadata": {},
   "source": [
    "<center> <h1>PRIMERA PREDICIÓN DEL SUEÑO DE UN PACIENTE</h1> </center>\n",
    "<center> <h4>Noemi González, Roberto Holgado y Carmen Plaza seco</h4> </center>\n",
    "\n",
    "[URL PHYSIONET](https://physionet.org/content/sleep-accel/1.0.0/)"
   ]
  },
  {
   "cell_type": "code",
   "execution_count": 1,
   "metadata": {},
   "outputs": [],
   "source": [
    "import numpy as np\n",
    "import pandas as pd\n",
    "import os\n",
    "import matplotlib.pyplot as plt\n",
    "from sklearn.svm import SVC\n",
    "from sklearn.model_selection import train_test_split\n",
    "from sklearn.metrics import confusion_matrix\n",
    "import statistics as stats\n",
    "from sklearn.model_selection import GridSearchCV\n",
    "from random import sample"
   ]
  },
  {
   "cell_type": "code",
   "execution_count": 2,
   "metadata": {},
   "outputs": [],
   "source": [
    "pacientes_sueño=[]\n",
    "for file in (os.listdir(\"labels\")):\n",
    "    pacientes_sueño.append(os.path.join(\"labels\",file))\n",
    "    pacientes_sueño=sorted(pacientes_sueño)\n",
    "    \n",
    "pacientes_frec_card=[]\n",
    "for file in os.listdir(\"heart_rate\"):\n",
    "    pacientes_frec_card.append(os.path.join(\"heart_rate\",file))\n",
    "\n",
    "pacientes_pasos=[]\n",
    "for file in os.listdir(\"steps\"):\n",
    "    pacientes_pasos.append(os.path.join(\"steps\",file))\n",
    "\n",
    "pacientes_movimiento=[]\n",
    "for file in os.listdir(\"motion\"):\n",
    "    pacientes_movimiento.append(os.path.join(\"motion\",file))"
   ]
  },
  {
   "cell_type": "markdown",
   "metadata": {},
   "source": [
    "La siguiente celda de código se corresponde con la ventana deslizante que recorrerá la señal fisiológica deseada. La función toma como datos de entrada el tamaño de la ventana en segundos y la señal sobre la que se quiere trabajar."
   ]
  },
  {
   "cell_type": "code",
   "execution_count": 3,
   "metadata": {},
   "outputs": [],
   "source": [
    "def get_window(w_size,signal,n_sueño):\n",
    "    time = signal[\"Tiempo\"]\n",
    "    f_list=[]\n",
    "    \n",
    "    for i in range(n_sueño):\n",
    "        a = w_size*(1+i)\n",
    "        b = w_size*(2+i)\n",
    "\n",
    "        idx=[]\n",
    "        for t in time:\n",
    "            if t>a and t<b:\n",
    "                idx.append(True)\n",
    "            else:\n",
    "                idx.append(False)\n",
    "        \n",
    "        f=signal[idx]\n",
    "        f_list.append(f)\n",
    "        \n",
    "    return f_list"
   ]
  },
  {
   "cell_type": "markdown",
   "metadata": {},
   "source": [
    "En todos los casos, se seleccionará una w_size de 30 segundos para tener una característica cada 30s y así coincidir la cantidad de los datos adquiridos por medio del Apple Watch con los datos recogidos por la PSG.\n",
    "\n",
    "Con la señal de frecuencia cardíaca se han decidido sacar 3 vectores de características: mínimo, máximo y media."
   ]
  },
  {
   "cell_type": "markdown",
   "metadata": {},
   "source": [
    "### FEATURES\n",
    "\n",
    "* **feat1: min_list**. La primera característica que se extrae es la lista de frecuencias mínimas.\n",
    "* **feat2: max_list**. La segunda característica que se extrae es la lista de frecuencias máximas.\n",
    "* **feat3: mean_list**. La tercera característica que se extrae es la lista de frecuencias medias.\n",
    "\n",
    "### OUTCOME\n",
    "\n",
    "* **labels:**. Lista de etiquetas del sueño\n",
    "\n",
    "### IDENTIFICACION\n",
    "* **ID:**. Variable que identifica a cada paciente."
   ]
  },
  {
   "cell_type": "markdown",
   "metadata": {},
   "source": [
    "# MATRICES HIJAS"
   ]
  },
  {
   "cell_type": "markdown",
   "metadata": {},
   "source": [
    "Realizamos esta operación sobre todos los pacientes"
   ]
  },
  {
   "cell_type": "code",
   "execution_count": null,
   "metadata": {},
   "outputs": [],
   "source": [
    "matrices_hija=[]\n",
    "for a, (i,j,k,l) in  enumerate(zip(pacientes_sueño,pacientes_frec_card,pacientes_pasos,pacientes_movimiento)):\n",
    "    #SUEÑO\n",
    "    sueño=pd.read_csv(i, delimiter=' ')\n",
    "    sueño.columns=[\"Tiempo\",\"Etiqueta\"]\n",
    "    s=sueño.replace(to_replace =[-1,5],  value =0) \n",
    "    sueño=s.replace(to_replace =[2,3,4],  value =1)    #Etiquetas binarias\n",
    "    \n",
    "    #MOVIMIENTO\n",
    "    movimiento=pd.read_csv(l, delimiter=' ')\n",
    "    movimiento.columns=[\"Tiempo\",\"Ac_x\",\"Ac_y\",\"Ac_z\"]\n",
    "    raiz_movto= np.sqrt(movimiento.Ac_x**2 + movimiento.Ac_y**2 + movimiento.Ac_z**2)\n",
    "    movimiento['raiz_movto'] = raiz_movto\n",
    "    w_size=30\n",
    "    signal=movimiento\n",
    "    n_sueño=len(sueño)\n",
    "    move_list= get_window(w_size,signal,n_sueño)\n",
    "    \n",
    "    mean_mov=[]\n",
    "    min_mov=[]\n",
    "    max_mov=[]\n",
    "\n",
    "    for g in move_list:\n",
    "        mean_mov.append(round(g['raiz_movto'].mean(),2))\n",
    "        min_mov.append(round(g['raiz_movto'].min(),2))\n",
    "        max_mov.append(round(g['raiz_movto'].max(),2))\n",
    "    \n",
    "    #FRECUENCIA CARDIACA\n",
    "    frec_card=pd.read_csv(j)\n",
    "    frec_card.columns=[\"Tiempo\",\"Frec card\"]\n",
    "    \n",
    "    w_size=30\n",
    "    signal=frec_card\n",
    "    n_sueño=len(sueño)\n",
    "    f_list= get_window(w_size,signal,n_sueño)\n",
    "\n",
    "    mean_list=[]\n",
    "    min_list=[]\n",
    "    max_list=[]\n",
    "\n",
    "    for f in f_list:\n",
    "        mean_list.append(round(f['Frec card'].mean(),2))\n",
    "        min_list.append(round(f['Frec card'].min(),2))\n",
    "        max_list.append(round(f['Frec card'].max(),2))\n",
    "    \n",
    "    feat1=min_list\n",
    "    feat2=max_list\n",
    "    feat3=mean_list\n",
    "    feat4=min_mov\n",
    "    feat5=max_mov\n",
    "    feat6=mean_mov\n",
    "    labels=sueño[\"Etiqueta\"]\n",
    "    id_list=[a]*len(labels)\n",
    "    \n",
    "    datos = {'Min_hr': feat1, \"Max_hr\": feat2,\"Mean_hr\":feat3,'Min_mvto': feat4, \"Max_mvto\": feat5,\"Mean_mvto\":feat6,\"Etiquetas\":labels,\"ID_P\":id_list}\n",
    "    datos_paciente = pd.DataFrame(data=datos)\n",
    "    matrices_hija.append(datos_paciente) #matrices_hija=matriz_madre, están todas las hijas en esta variable"
   ]
  },
  {
   "cell_type": "code",
   "execution_count": null,
   "metadata": {},
   "outputs": [],
   "source": [
    "#matrices_hija[14].describe()"
   ]
  },
  {
   "cell_type": "markdown",
   "metadata": {},
   "source": [
    "En la variable matrices_hija tenemos las matrices de características de cada paciente. Es decir, matrices_hija es la matriz_madre."
   ]
  },
  {
   "cell_type": "markdown",
   "metadata": {},
   "source": [
    "Esto es una funcion para limpiar el dataframe de Nan y valores inf en caso de que fuera necesario."
   ]
  },
  {
   "cell_type": "code",
   "execution_count": null,
   "metadata": {},
   "outputs": [],
   "source": [
    "def clean_dataset(df):\n",
    "    assert isinstance(df, pd.DataFrame), \"df needs to be a pd.DataFrame\"\n",
    "    df.dropna(inplace=True)\n",
    "    indices_to_keep = ~df.isin([np.nan, np.inf, -np.inf]).any(1)\n",
    "    return df[indices_to_keep].astype(np.float64)"
   ]
  },
  {
   "cell_type": "markdown",
   "metadata": {},
   "source": [
    "#### PARTICIÓN TRAIN Y TEST"
   ]
  },
  {
   "cell_type": "code",
   "execution_count": null,
   "metadata": {},
   "outputs": [],
   "source": [
    "lista=list(range(31))\n",
    "train=sample(lista,k=20)      #aletoriedad y porcentaje de TRAIN y test\n",
    "test = [ele for ele in lista if ele not in train]\n",
    "\n",
    "#Vale aqui tengo los numero que quiero pero no se como ponerlo en matrices hija sin qeu coja [], solo quiero los valores\n",
    "\n",
    "#TRAIN\n",
    "Training=pd.concat(matrices_hija[0:22])   #cambiar esto\n",
    "Training= clean_dataset(Training) # Tratar los Nan porque da errores en el calsificador\n",
    "X_train=Training.drop('Etiquetas',axis=1) \n",
    "\n",
    "#X_train=Train.drop('ID_P',axis=1)\n",
    "y_train=Training[\"Etiquetas\"]\n",
    "\n",
    "#TEST\n",
    "Test=pd.concat(matrices_hija[23:])  #change \n",
    "Test=clean_dataset(Test)            # Tratar los Nan porque da errores en el calsificador\n",
    "Test_f=Test.drop('Etiquetas',axis=1)\n",
    "X_test=Test_f.drop('ID_P',axis=1)\n",
    "y_test=Test[\"Etiquetas\"]"
   ]
  },
  {
   "cell_type": "markdown",
   "metadata": {},
   "source": [
    "# SOBRE CONJUNTO TOTAL"
   ]
  },
  {
   "cell_type": "markdown",
   "metadata": {},
   "source": [
    "#### 1. SELECCIÓN MODELO"
   ]
  },
  {
   "cell_type": "code",
   "execution_count": null,
   "metadata": {},
   "outputs": [],
   "source": [
    "# SOBRE CONJUNTO TOTAL\n",
    "clf = SVC()"
   ]
  },
  {
   "cell_type": "markdown",
   "metadata": {},
   "source": [
    "#### 2.SELECCIÓN MEJORES PARÁMETROS LIBRES"
   ]
  },
  {
   "cell_type": "code",
   "execution_count": null,
   "metadata": {},
   "outputs": [],
   "source": [
    "parameters = {'kernel':('linear', 'rbf'), 'C':list(range(1,10))}\n",
    "svc_clf=GridSearchCV(clf, parameters, scoring='accuracy',n_jobs=-1)\n",
    "svc_clf.fit(X_train, y_train) \n",
    "svc_clf.best_params_"
   ]
  },
  {
   "cell_type": "markdown",
   "metadata": {},
   "source": [
    "#### 3.EVALUACIÓN DEL MODELO"
   ]
  },
  {
   "cell_type": "code",
   "execution_count": null,
   "metadata": {},
   "outputs": [],
   "source": [
    "predict = svc_clf.predict(X_test)\n",
    "#EVALUACION\n",
    "\n",
    "acc_test= svc_clf.score(X_test, y_test).round(4)\n",
    "acc_train= svc_clf.score(X_train, y_train).round(4)\n",
    "print('La exactitud para el modelo de SVM en el conjunto de TEST es:',acc_test,'\\n')\n",
    "print('La exactitud para el modelo de SVM en el conjunto de TRAIN es:',acc_train,'\\n')\n",
    "\n",
    "print('Confusion Matrix')\n",
    "print(confusion_matrix(y_test, predict),'\\n')\n",
    "#print(\"=============== Classification Report ================\")\n",
    "#print(classification_report(y_test, predict))"
   ]
  },
  {
   "cell_type": "code",
   "execution_count": null,
   "metadata": {},
   "outputs": [],
   "source": [
    "matriz_confusion=pd.crosstab(y_test,predict, rownames=['Clase predicha'], colnames=['Resultado del clasificador'])"
   ]
  },
  {
   "cell_type": "code",
   "execution_count": null,
   "metadata": {},
   "outputs": [],
   "source": [
    "matriz_confusion"
   ]
  },
  {
   "cell_type": "markdown",
   "metadata": {},
   "source": [
    "#### 4. GRÁFICAS RESIDUOS"
   ]
  },
  {
   "cell_type": "code",
   "execution_count": null,
   "metadata": {},
   "outputs": [],
   "source": [
    "pacientes = len(y_test)\n",
    "t = np.arange(0,pacientes)\n",
    "plt.figure()\n",
    "plt.plot(t,y_test,color='blue', marker='.',label='Real')\n",
    "plt.plot(t,predict,color='green', marker='.',label='Predicha')\n",
    "plt.xlabel('Pacientes')\n",
    "plt.ylabel('Fase del sueño')\n",
    "plt.title('Fase del sueño real vs. predicha en los primeros 30s')\n",
    "plt.legend()"
   ]
  },
  {
   "cell_type": "markdown",
   "metadata": {},
   "source": [
    "# MODELO PARA PRIMERA VENTANA"
   ]
  },
  {
   "cell_type": "markdown",
   "metadata": {},
   "source": [
    "Para construir un clasificador SVM, al meter todas las ventanas de todos los pacientes tenemos una salida multiclase, (y esto no nos lo predice bien, predice una salida biclase). \n",
    "\n",
    "Por ello, a continuación vamos a concatenar la primera ventana de cada paciente. Las primeras ventanas (30s) del 70% de los pacientes las utilizaremos para entrenar un clasificador SVM y vamos a predecir las primeras ventanas del 30% de los pacientes. \n",
    "\n"
   ]
  },
  {
   "cell_type": "code",
   "execution_count": null,
   "metadata": {},
   "outputs": [],
   "source": [
    "# Quiero concatenar los primeros 30s de todos los pacientes\n",
    "primera_ventana=pd.DataFrame()\n",
    "for i in range(len(matrices_hija)):\n",
    "    ven1=matrices_hija[i].iloc[0,:]\n",
    "    primera_ventana=primera_ventana.append(ven1)\n"
   ]
  },
  {
   "cell_type": "code",
   "execution_count": null,
   "metadata": {},
   "outputs": [],
   "source": [
    "#primera_ventana"
   ]
  },
  {
   "cell_type": "code",
   "execution_count": null,
   "metadata": {},
   "outputs": [],
   "source": [
    "# Train y Test. Train: 70%, Test: 30%\n",
    "train, test = train_test_split(primera_ventana, test_size = 0.30)\n",
    "#train, val = train_test_split(train, test_size = 0.30)"
   ]
  },
  {
   "cell_type": "code",
   "execution_count": null,
   "metadata": {},
   "outputs": [],
   "source": [
    "#train"
   ]
  },
  {
   "cell_type": "code",
   "execution_count": null,
   "metadata": {},
   "outputs": [],
   "source": [
    "#TRAIN\n",
    "#Training= clean_dataset(train) \n",
    "X_train=train.iloc[:,2:5]\n",
    "y_train=train[\"Etiquetas\"]\n",
    "\n",
    "#TEST\n",
    "#Test=clean_dataset(Test)            \n",
    "X_test=test.iloc[:,2:5]\n",
    "y_test=test[\"Etiquetas\"]"
   ]
  },
  {
   "cell_type": "code",
   "execution_count": null,
   "metadata": {},
   "outputs": [],
   "source": [
    "#X_train"
   ]
  },
  {
   "cell_type": "markdown",
   "metadata": {},
   "source": [
    "#### Creación modelo, selección parámetros libres y evaluación"
   ]
  },
  {
   "cell_type": "code",
   "execution_count": null,
   "metadata": {},
   "outputs": [],
   "source": [
    "#CREACION #decision_function_shape='ovo'\n",
    "clf = SVC()"
   ]
  },
  {
   "cell_type": "code",
   "execution_count": null,
   "metadata": {},
   "outputs": [],
   "source": [
    "#SELECCIOÓN PARAMETROS LIBRES\n",
    "parameters = {'kernel':('linear', 'rbf'), 'C':list(range(1,10))}\n",
    "svc_clf=GridSearchCV(clf, parameters, scoring='accuracy',n_jobs=-1)\n",
    "svc_clf.fit(X_train, y_train) \n",
    "#en el fit habria que poner el conjunto de validacion"
   ]
  },
  {
   "cell_type": "code",
   "execution_count": null,
   "metadata": {},
   "outputs": [],
   "source": [
    "svc_clf.classes_"
   ]
  },
  {
   "cell_type": "code",
   "execution_count": null,
   "metadata": {},
   "outputs": [],
   "source": [
    "predict = svc_clf.predict(X_test)\n",
    "#EVALUACION\n",
    "\n",
    "acc_test= svc_clf.score(X_test, y_test).round(4)\n",
    "acc_train= svc_clf.score(X_train, y_train).round(4)\n",
    "print('La exactitud para el modelo de SVM en el conjunto de TEST es:',acc_test,'\\n')\n",
    "print('La exactitud para el modelo de SVM en el conjunto de TRAIN es:',acc_train,'\\n')\n",
    "\n",
    "print('Confusion Matrix')\n",
    "print(confusion_matrix(y_test, predict),'\\n')\n",
    "#print(\"=============== Classification Report ================\")\n",
    "#print(classification_report(y_test, predict))"
   ]
  },
  {
   "cell_type": "code",
   "execution_count": null,
   "metadata": {},
   "outputs": [],
   "source": [
    "matriz_confusion=pd.crosstab(y_test,predict, rownames=['Clase predicha'], colnames=['Resultado del clasificador'])"
   ]
  },
  {
   "cell_type": "code",
   "execution_count": null,
   "metadata": {},
   "outputs": [],
   "source": [
    "matriz_confusion"
   ]
  },
  {
   "cell_type": "markdown",
   "metadata": {},
   "source": [
    "# Residuos"
   ]
  },
  {
   "cell_type": "code",
   "execution_count": null,
   "metadata": {},
   "outputs": [],
   "source": [
    "#y_test"
   ]
  },
  {
   "cell_type": "code",
   "execution_count": null,
   "metadata": {},
   "outputs": [],
   "source": [
    "#predict"
   ]
  },
  {
   "cell_type": "code",
   "execution_count": null,
   "metadata": {},
   "outputs": [],
   "source": [
    "pacientes = len(y_test)\n",
    "t = np.arange(0,pacientes)\n",
    "plt.figure()\n",
    "plt.plot(t,y_test,color='blue', marker='.',label='Real')\n",
    "plt.plot(t,predict,color='green', marker='.',label='Predicha')\n",
    "plt.xlabel('Pacientes')\n",
    "plt.ylabel('Fase del sueño')\n",
    "plt.title('Fase del sueño real vs. predicha en los primeros 30s')\n",
    "plt.legend()"
   ]
  },
  {
   "cell_type": "code",
   "execution_count": null,
   "metadata": {},
   "outputs": [],
   "source": [
    "residuo=predict-y_test\n",
    "plt.figure()\n",
    "plt.plot(t,residuo,marker='.')\n",
    "plt.xlabel('Pacientes')\n",
    "plt.ylabel('Residuo')\n",
    "plt.title('Residuo primera ventana')\n"
   ]
  },
  {
   "cell_type": "code",
   "execution_count": null,
   "metadata": {},
   "outputs": [],
   "source": []
  },
  {
   "cell_type": "code",
   "execution_count": null,
   "metadata": {},
   "outputs": [],
   "source": []
  },
  {
   "cell_type": "code",
   "execution_count": null,
   "metadata": {},
   "outputs": [],
   "source": []
  }
 ],
 "metadata": {
  "kernelspec": {
   "display_name": "Python 3",
   "language": "python",
   "name": "python3"
  },
  "language_info": {
   "codemirror_mode": {
    "name": "ipython",
    "version": 3
   },
   "file_extension": ".py",
   "mimetype": "text/x-python",
   "name": "python",
   "nbconvert_exporter": "python",
   "pygments_lexer": "ipython3",
   "version": "3.7.4"
  }
 },
 "nbformat": 4,
 "nbformat_minor": 2
}
