{
 "cells": [
  {
   "cell_type": "markdown",
   "metadata": {},
   "source": [
    "<center> <h1>PRIMERA PREDICIÓN DEL SUEÑO DE UN PACIENTE</h1> </center>\n",
    "<center> <h4>Noemi González, Roberto Holgado y Carmen Plaza seco</h4> </center>\n",
    "\n",
    "[URL PHYSIONET](https://physionet.org/content/sleep-accel/1.0.0/)\n",
    "\n",
    "###### Indice\n",
    "\n",
    "* **1. Preprocesado, extracción de características.**\n",
    "  *   **1.1 Extracción variables de frecuencia cardíaca**\n",
    "  *  **1.2 Extracción variables de movimiento**\n",
    "  *  **1.3 Obtención matrices**\n",
    "* **2. Conjuntos Train y Test**\n",
    "  * **2.1 Preparación datos de entreada y salida**\n",
    "* **3. Clasificador SVM Binario**\n",
    "   * **3.1 Creación del modelo y selección parámetros libres**\n",
    "   * **3.2 Evaluación del modelo**\n",
    "* **4. Clasficador SVM Multiclase**\n",
    "   * **4.1 Creación del modelo y selección parámetros libres**\n",
    "      *     **4.2.1**\n",
    "      *     **4.2.2**\n",
    "   * **4.3 Evaluación del modelo**\n",
    "* **5. Clasificador multiclase primera ventana**\n",
    "    * **5.1 Residuos**"
   ]
  },
  {
   "cell_type": "code",
   "execution_count": 1,
   "metadata": {},
   "outputs": [],
   "source": [
    "import numpy as np\n",
    "import pandas as pd\n",
    "import os\n",
    "import matplotlib.pyplot as plt\n",
    "from sklearn.svm import SVC\n",
    "from sklearn.model_selection import train_test_split\n",
    "from sklearn.metrics import confusion_matrix\n",
    "import statistics as stats\n",
    "from sklearn.model_selection import GridSearchCV\n",
    "from random import sample\n",
    "from sklearn.metrics import classification_report\n",
    "from sklearn.model_selection import RandomizedSearchCV"
   ]
  },
  {
   "cell_type": "markdown",
   "metadata": {},
   "source": [
    "## 1.Preprocesado, extracción de características"
   ]
  },
  {
   "cell_type": "code",
   "execution_count": 2,
   "metadata": {},
   "outputs": [],
   "source": [
    "pacientes_sueño=[]\n",
    "for file in (os.listdir(\"labels\")):\n",
    "    pacientes_sueño.append(os.path.join(\"labels\",file))\n",
    "    pacientes_sueño=sorted(pacientes_sueño)\n",
    "    \n",
    "pacientes_frec_card=[]\n",
    "for file in os.listdir(\"heart_rate\"):\n",
    "    pacientes_frec_card.append(os.path.join(\"heart_rate\",file))\n",
    "\n",
    "pacientes_pasos=[]\n",
    "for file in os.listdir(\"steps\"):\n",
    "    pacientes_pasos.append(os.path.join(\"steps\",file))\n",
    "\n",
    "pacientes_movimiento=[]\n",
    "for file in os.listdir(\"motion\"):\n",
    "    pacientes_movimiento.append(os.path.join(\"motion\",file))"
   ]
  },
  {
   "cell_type": "markdown",
   "metadata": {},
   "source": [
    "La siguiente celda de código se corresponde con la ventana deslizante que recorrerá la señal fisiológica deseada. La función toma como datos de entrada el tamaño de la ventana en segundos y la señal sobre la que se quiere trabajar."
   ]
  },
  {
   "cell_type": "markdown",
   "metadata": {},
   "source": [
    "### 1.1 Extracción variables de frecuencia cardíaca"
   ]
  },
  {
   "cell_type": "code",
   "execution_count": 3,
   "metadata": {},
   "outputs": [],
   "source": [
    "def get_window(w_size,signal,n_sueño):\n",
    "    time = signal[\"Tiempo\"]\n",
    "    f_list=[]\n",
    "    \n",
    "    for i in range(n_sueño):\n",
    "        a = w_size*(1+i)\n",
    "        b = w_size*(2+i)\n",
    "\n",
    "        idx=[]\n",
    "        for t in time:\n",
    "            if t>a and t<b:\n",
    "                idx.append(True)\n",
    "            else:\n",
    "                idx.append(False)\n",
    "        \n",
    "        f = signal[idx]\n",
    "        f_list.append(f)\n",
    "        \n",
    "    return f_list"
   ]
  },
  {
   "cell_type": "markdown",
   "metadata": {},
   "source": [
    "En todos los casos, se seleccionará una w_size de 30 segundos para tener una característica cada 30s y así coincidir la cantidad de los datos adquiridos por medio del Apple Watch con los datos recogidos por la PSG.\n",
    "\n",
    "Con la señal de frecuencia cardíaca se han decidido sacar 3 vectores de características: mínimo, máximo y media."
   ]
  },
  {
   "cell_type": "markdown",
   "metadata": {},
   "source": [
    "### 1.2 Extracción variables de movimiento"
   ]
  },
  {
   "cell_type": "markdown",
   "metadata": {},
   "source": [
    "### 1.3 Obtención matrices\n",
    "Realizamos esta operación sobre todos los pacientes:\n",
    "(TARDA UN POCO, no más de 2 minutos, con movimiento tarda MUCHÍSIMO)"
   ]
  },
  {
   "cell_type": "code",
   "execution_count": 4,
   "metadata": {},
   "outputs": [],
   "source": [
    "matrix = []\n",
    "for a, (i,j,k,l) in  enumerate(zip(pacientes_sueño,pacientes_frec_card,pacientes_pasos,pacientes_movimiento)):\n",
    "    #SUEÑO\n",
    "    sueño = pd.read_csv(i, delimiter=' ')\n",
    "    sueño.columns = [\"Tiempo\",\"Etiqueta\"]\n",
    "    \n",
    "    #SUEÑO BINARIO\n",
    "    sueño_bin = sueño.replace(to_replace =[-1,5],  value =0) \n",
    "    sueño_bin = sueño_bin.replace(to_replace =[2,3,4],  value =1)    #Etiquetas binarias\n",
    "    bin_labels = sueño_bin[\"Etiqueta\"]\n",
    "    \n",
    "    #ID_LIST\n",
    "    labels = sueño[\"Etiqueta\"]\n",
    "    id_list = [a]*len(labels)\n",
    "    \n",
    "    #FRECUENCIA CARDIACA\n",
    "    frec_card = pd.read_csv(j)\n",
    "    frec_card.columns = [\"Tiempo\",\"Frec card\"]\n",
    "    frec_card=frec_card[frec_card[\"Tiempo\"]>0]\n",
    "    \n",
    "    w_size = 30\n",
    "    signal = frec_card\n",
    "    n_sueño = len(sueño)\n",
    "    f_list = get_window(w_size,signal,n_sueño)\n",
    "\n",
    "    fc_mean_list = []\n",
    "    fc_min_list = []\n",
    "    fc_max_list = []\n",
    "\n",
    "    for f in f_list:\n",
    "        fc_mean_list.append(round(f['Frec card'].mean(),2))\n",
    "        fc_min_list.append(round(f['Frec card'].min(),2))\n",
    "        fc_max_list.append(round(f['Frec card'].max(),2))\n",
    "    \n",
    "    feat1 = fc_min_list\n",
    "    feat2 = fc_max_list\n",
    "    feat3 = fc_mean_list\n",
    "    \n",
    "    #ACCELERACION\n",
    "    mov=pd.read_csv(l, delimiter=' ')\n",
    "    mov.columns=[\"Tiempo\",\"Ac_x\",\"Ac_y\",\"Ac_z\"]\n",
    "    mov_t=mov[mov['Tiempo']>0]\n",
    "    mov_t=mov_t.sample(frac=.1)\n",
    "    mov_t=mov_t.sort_values('Tiempo')\n",
    "    raiz_movto= np.sqrt(mov_t.Ac_x**2 + mov_t.Ac_y**2 + mov_t.Ac_z**2)\n",
    "    mov_t['Raiz_movto'] = raiz_movto\n",
    "    signal=mov_t\n",
    "    n_sueño=len(sueño)\n",
    "    \n",
    "    move_list= get_window(w_size,signal,n_sueño)\n",
    "    mean_acc=[]\n",
    "    min_acc=[]\n",
    "    max_acc=[]\n",
    "\n",
    "    for f in move_list:\n",
    "        mean_acc.append(round(f['Raiz_movto'].mean(),2))\n",
    "        min_acc.append(round(f['Raiz_movto'].min(),2))\n",
    "        max_acc.append(round(f['Raiz_movto'].max(),2))\n",
    "        \n",
    "    feat4=min_acc\n",
    "    feat5=max_acc\n",
    "    feat6=mean_acc\n",
    "    \n",
    "    datos = {'Min_hr': feat1, \"Max_hr\": feat2,\"Mean_hr\":feat3,'Min_acc': feat4, \"Max_acc\": feat5,\"Mean_acc\":feat6,\"Etiquetas\":labels,\"Etiquetas binarias\":bin_labels,\"ID_P\":id_list}\n",
    "    datos_paciente = pd.DataFrame(data=datos)\n",
    "    matrix.append(datos_paciente)"
   ]
  },
  {
   "cell_type": "markdown",
   "metadata": {},
   "source": [
    "#### FEATURES\n",
    "\n",
    "* **feat1: min_list**. La primera característica que se extrae es la lista de frecuencias mínimas.\n",
    "* **feat2: max_list**. La segunda característica que se extrae es la lista de frecuencias máximas.\n",
    "* **feat3: mean_list**. La tercera característica que se extrae es la lista de frecuencias medias.\n",
    "\n",
    "\n",
    "* **Queremos añadir el movimiento, la raíz cuadrada de la suma de sus 3 componentes (eje x, y, z)** --> problema velocidad--> ¿paralelizar?\n",
    "\n",
    "\n",
    "#### OUTCOME\n",
    "\n",
    "* **labels:**. Lista de etiquetas del sueño\n",
    "\n",
    "#### IDENTIFICACION\n",
    "* **ID:**. Variable que identifica a cada paciente.\n",
    "¿Porqué valores NaN?"
   ]
  },
  {
   "cell_type": "code",
   "execution_count": 5,
   "metadata": {},
   "outputs": [],
   "source": [
    "#matrix"
   ]
  },
  {
   "cell_type": "code",
   "execution_count": 6,
   "metadata": {},
   "outputs": [
    {
     "name": "stdout",
     "output_type": "stream",
     "text": [
      "31\n"
     ]
    }
   ],
   "source": [
    "print(len(matrix))"
   ]
  },
  {
   "cell_type": "code",
   "execution_count": 7,
   "metadata": {},
   "outputs": [],
   "source": [
    "#matrix[0][-5:]"
   ]
  },
  {
   "cell_type": "markdown",
   "metadata": {},
   "source": [
    "Como hay valores NaN en algunas de las matrices, se utiliza la siguiente funcion para limpiar el dataframe de Nan y valores infinitos:"
   ]
  },
  {
   "cell_type": "code",
   "execution_count": 8,
   "metadata": {},
   "outputs": [],
   "source": [
    "def clean_dataset(df):\n",
    "    assert isinstance(df, pd.DataFrame), \"df needs to be a pd.DataFrame\"\n",
    "    df.dropna(inplace=True)\n",
    "    indices_to_keep = ~df.isin([np.nan, np.inf, -np.inf]).any(1)\n",
    "    return df[indices_to_keep].astype(np.float64)"
   ]
  },
  {
   "cell_type": "code",
   "execution_count": 9,
   "metadata": {},
   "outputs": [],
   "source": [
    "clean_matrix = clean_dataset(pd.concat(matrix))"
   ]
  },
  {
   "cell_type": "markdown",
   "metadata": {},
   "source": [
    "## 2. Conjuntos Train y Test"
   ]
  },
  {
   "cell_type": "code",
   "execution_count": 10,
   "metadata": {},
   "outputs": [
    {
     "name": "stdout",
     "output_type": "stream",
     "text": [
      "21 pacientes de train: [19, 11, 29, 7, 16, 23, 15, 3, 2, 8, 21, 20, 25, 14, 0, 10, 6, 24, 1, 9, 4]\n",
      "10 pacientes de test: [5, 12, 13, 17, 18, 22, 26, 27, 28, 30]\n"
     ]
    }
   ],
   "source": [
    "lista = list(range(31)) # Lista de 31 numeros\n",
    "pac_train = sample(lista,k=21) # 21 pacientes para train\n",
    "pac_test = [el for el in lista if el not in pac_train] #Los que no estén en train que vayan a test (10)\n",
    "\n",
    "print(len(pac_train),'pacientes de train:',pac_train)\n",
    "print(len(pac_test),'pacientes de test:',pac_test)"
   ]
  },
  {
   "cell_type": "code",
   "execution_count": 11,
   "metadata": {},
   "outputs": [],
   "source": [
    "#print(len(clean_matrix)) #¿¿¿LONGITUD VARIABLE Y LONGITUD DF???? DISTINTOS\n",
    "#clean_matrix"
   ]
  },
  {
   "cell_type": "code",
   "execution_count": 12,
   "metadata": {},
   "outputs": [],
   "source": [
    "train_matr = []\n",
    "test_matr = []\n",
    "id_paciente = clean_matrix['ID_P']\n",
    "\n",
    "for i in pac_train:    \n",
    "    idx = []\n",
    "    for d in id_paciente:\n",
    "        if d==i:\n",
    "            idx.append(True)\n",
    "        else:\n",
    "            idx.append(False)\n",
    "    m = clean_matrix[idx]\n",
    "    train_matr.append(m)\n",
    "\n",
    "for i in pac_test:    \n",
    "    idx = []\n",
    "    for d in id_paciente:\n",
    "        if d==i:\n",
    "            idx.append(True)\n",
    "        else:\n",
    "            idx.append(False)\n",
    "    m = clean_matrix[idx]\n",
    "    test_matr.append(m)"
   ]
  },
  {
   "cell_type": "code",
   "execution_count": 13,
   "metadata": {},
   "outputs": [],
   "source": [
    "#train_matr"
   ]
  },
  {
   "cell_type": "markdown",
   "metadata": {},
   "source": [
    "### 2.1 Preparación datos de entrada y salida"
   ]
  },
  {
   "cell_type": "code",
   "execution_count": 14,
   "metadata": {},
   "outputs": [],
   "source": [
    "Train = pd.DataFrame()    \n",
    "for i in range(len(train_matr)):\n",
    "    x_train=train_matr[i]\n",
    "    Train=Train.append(x_train)\n",
    "\n",
    "Test = pd.DataFrame()    \n",
    "for i in range(len(test_matr)):\n",
    "    x_test=test_matr[i]\n",
    "    Test=Test.append(x_test)"
   ]
  },
  {
   "cell_type": "code",
   "execution_count": 15,
   "metadata": {},
   "outputs": [
    {
     "data": {
      "text/html": [
       "<div>\n",
       "<style scoped>\n",
       "    .dataframe tbody tr th:only-of-type {\n",
       "        vertical-align: middle;\n",
       "    }\n",
       "\n",
       "    .dataframe tbody tr th {\n",
       "        vertical-align: top;\n",
       "    }\n",
       "\n",
       "    .dataframe thead th {\n",
       "        text-align: right;\n",
       "    }\n",
       "</style>\n",
       "<table border=\"1\" class=\"dataframe\">\n",
       "  <thead>\n",
       "    <tr style=\"text-align: right;\">\n",
       "      <th></th>\n",
       "      <th>Min_hr</th>\n",
       "      <th>Max_hr</th>\n",
       "      <th>Mean_hr</th>\n",
       "      <th>Min_acc</th>\n",
       "      <th>Max_acc</th>\n",
       "      <th>Mean_acc</th>\n",
       "      <th>Etiquetas</th>\n",
       "      <th>Etiquetas binarias</th>\n",
       "      <th>ID_P</th>\n",
       "    </tr>\n",
       "  </thead>\n",
       "  <tbody>\n",
       "    <tr>\n",
       "      <td>0</td>\n",
       "      <td>72.0</td>\n",
       "      <td>77.0</td>\n",
       "      <td>73.33</td>\n",
       "      <td>0.98</td>\n",
       "      <td>1.02</td>\n",
       "      <td>0.99</td>\n",
       "      <td>-1.0</td>\n",
       "      <td>0.0</td>\n",
       "      <td>19.0</td>\n",
       "    </tr>\n",
       "    <tr>\n",
       "      <td>1</td>\n",
       "      <td>70.0</td>\n",
       "      <td>75.0</td>\n",
       "      <td>71.60</td>\n",
       "      <td>0.75</td>\n",
       "      <td>1.39</td>\n",
       "      <td>1.00</td>\n",
       "      <td>-1.0</td>\n",
       "      <td>0.0</td>\n",
       "      <td>19.0</td>\n",
       "    </tr>\n",
       "    <tr>\n",
       "      <td>2</td>\n",
       "      <td>71.0</td>\n",
       "      <td>75.0</td>\n",
       "      <td>72.29</td>\n",
       "      <td>0.91</td>\n",
       "      <td>1.05</td>\n",
       "      <td>0.99</td>\n",
       "      <td>-1.0</td>\n",
       "      <td>0.0</td>\n",
       "      <td>19.0</td>\n",
       "    </tr>\n",
       "    <tr>\n",
       "      <td>3</td>\n",
       "      <td>70.0</td>\n",
       "      <td>72.0</td>\n",
       "      <td>71.20</td>\n",
       "      <td>0.84</td>\n",
       "      <td>1.13</td>\n",
       "      <td>0.99</td>\n",
       "      <td>-1.0</td>\n",
       "      <td>0.0</td>\n",
       "      <td>19.0</td>\n",
       "    </tr>\n",
       "    <tr>\n",
       "      <td>4</td>\n",
       "      <td>68.0</td>\n",
       "      <td>70.0</td>\n",
       "      <td>68.80</td>\n",
       "      <td>0.99</td>\n",
       "      <td>1.00</td>\n",
       "      <td>0.99</td>\n",
       "      <td>-1.0</td>\n",
       "      <td>0.0</td>\n",
       "      <td>19.0</td>\n",
       "    </tr>\n",
       "    <tr>\n",
       "      <td>...</td>\n",
       "      <td>...</td>\n",
       "      <td>...</td>\n",
       "      <td>...</td>\n",
       "      <td>...</td>\n",
       "      <td>...</td>\n",
       "      <td>...</td>\n",
       "      <td>...</td>\n",
       "      <td>...</td>\n",
       "      <td>...</td>\n",
       "    </tr>\n",
       "    <tr>\n",
       "      <td>982</td>\n",
       "      <td>73.0</td>\n",
       "      <td>74.0</td>\n",
       "      <td>73.40</td>\n",
       "      <td>1.00</td>\n",
       "      <td>1.01</td>\n",
       "      <td>1.00</td>\n",
       "      <td>-1.0</td>\n",
       "      <td>0.0</td>\n",
       "      <td>4.0</td>\n",
       "    </tr>\n",
       "    <tr>\n",
       "      <td>983</td>\n",
       "      <td>74.0</td>\n",
       "      <td>76.0</td>\n",
       "      <td>74.80</td>\n",
       "      <td>0.99</td>\n",
       "      <td>1.01</td>\n",
       "      <td>1.00</td>\n",
       "      <td>-1.0</td>\n",
       "      <td>0.0</td>\n",
       "      <td>4.0</td>\n",
       "    </tr>\n",
       "    <tr>\n",
       "      <td>984</td>\n",
       "      <td>71.0</td>\n",
       "      <td>76.0</td>\n",
       "      <td>73.33</td>\n",
       "      <td>0.99</td>\n",
       "      <td>1.01</td>\n",
       "      <td>1.00</td>\n",
       "      <td>-1.0</td>\n",
       "      <td>0.0</td>\n",
       "      <td>4.0</td>\n",
       "    </tr>\n",
       "    <tr>\n",
       "      <td>985</td>\n",
       "      <td>74.0</td>\n",
       "      <td>77.0</td>\n",
       "      <td>75.71</td>\n",
       "      <td>1.00</td>\n",
       "      <td>1.01</td>\n",
       "      <td>1.00</td>\n",
       "      <td>-1.0</td>\n",
       "      <td>0.0</td>\n",
       "      <td>4.0</td>\n",
       "    </tr>\n",
       "    <tr>\n",
       "      <td>986</td>\n",
       "      <td>74.0</td>\n",
       "      <td>75.0</td>\n",
       "      <td>74.60</td>\n",
       "      <td>0.99</td>\n",
       "      <td>1.01</td>\n",
       "      <td>1.00</td>\n",
       "      <td>-1.0</td>\n",
       "      <td>0.0</td>\n",
       "      <td>4.0</td>\n",
       "    </tr>\n",
       "  </tbody>\n",
       "</table>\n",
       "<p>17946 rows × 9 columns</p>\n",
       "</div>"
      ],
      "text/plain": [
       "     Min_hr  Max_hr  Mean_hr  Min_acc  Max_acc  Mean_acc  Etiquetas  \\\n",
       "0      72.0    77.0    73.33     0.98     1.02      0.99       -1.0   \n",
       "1      70.0    75.0    71.60     0.75     1.39      1.00       -1.0   \n",
       "2      71.0    75.0    72.29     0.91     1.05      0.99       -1.0   \n",
       "3      70.0    72.0    71.20     0.84     1.13      0.99       -1.0   \n",
       "4      68.0    70.0    68.80     0.99     1.00      0.99       -1.0   \n",
       "..      ...     ...      ...      ...      ...       ...        ...   \n",
       "982    73.0    74.0    73.40     1.00     1.01      1.00       -1.0   \n",
       "983    74.0    76.0    74.80     0.99     1.01      1.00       -1.0   \n",
       "984    71.0    76.0    73.33     0.99     1.01      1.00       -1.0   \n",
       "985    74.0    77.0    75.71     1.00     1.01      1.00       -1.0   \n",
       "986    74.0    75.0    74.60     0.99     1.01      1.00       -1.0   \n",
       "\n",
       "     Etiquetas binarias  ID_P  \n",
       "0                   0.0  19.0  \n",
       "1                   0.0  19.0  \n",
       "2                   0.0  19.0  \n",
       "3                   0.0  19.0  \n",
       "4                   0.0  19.0  \n",
       "..                  ...   ...  \n",
       "982                 0.0   4.0  \n",
       "983                 0.0   4.0  \n",
       "984                 0.0   4.0  \n",
       "985                 0.0   4.0  \n",
       "986                 0.0   4.0  \n",
       "\n",
       "[17946 rows x 9 columns]"
      ]
     },
     "execution_count": 15,
     "metadata": {},
     "output_type": "execute_result"
    }
   ],
   "source": [
    "Train"
   ]
  },
  {
   "cell_type": "code",
   "execution_count": 16,
   "metadata": {},
   "outputs": [
    {
     "ename": "PermissionError",
     "evalue": "[Errno 13] Permission denied: 'C:\\\\Users\\\\rober\\\\OneDrive\\\\Escritorio\\\\PROCESADO_github\\\\SleepAnalysisWearable'",
     "output_type": "error",
     "traceback": [
      "\u001b[1;31m---------------------------------------------------------------------------\u001b[0m",
      "\u001b[1;31mPermissionError\u001b[0m                           Traceback (most recent call last)",
      "\u001b[1;32m<ipython-input-16-24fa7cc2df9f>\u001b[0m in \u001b[0;36m<module>\u001b[1;34m\u001b[0m\n\u001b[1;32m----> 1\u001b[1;33m \u001b[0mTrain\u001b[0m\u001b[1;33m.\u001b[0m\u001b[0mto_csv\u001b[0m\u001b[1;33m(\u001b[0m\u001b[1;34mr'C:\\Users\\rober\\OneDrive\\Escritorio\\PROCESADO_github\\SleepAnalysisWearable'\u001b[0m\u001b[1;33m)\u001b[0m\u001b[1;33m\u001b[0m\u001b[1;33m\u001b[0m\u001b[0m\n\u001b[0m\u001b[0;32m      2\u001b[0m \u001b[0mTest\u001b[0m\u001b[1;33m.\u001b[0m\u001b[0mto_csv\u001b[0m\u001b[1;33m(\u001b[0m\u001b[1;34mr'C:\\Users\\rober\\OneDrive\\Escritorio\\PROCESADO_github\\SleepAnalysisWearable'\u001b[0m\u001b[1;33m)\u001b[0m\u001b[1;33m\u001b[0m\u001b[1;33m\u001b[0m\u001b[0m\n",
      "\u001b[1;32m~\\Anaconda3\\lib\\site-packages\\pandas\\core\\generic.py\u001b[0m in \u001b[0;36mto_csv\u001b[1;34m(self, path_or_buf, sep, na_rep, float_format, columns, header, index, index_label, mode, encoding, compression, quoting, quotechar, line_terminator, chunksize, date_format, doublequote, escapechar, decimal)\u001b[0m\n\u001b[0;32m   3226\u001b[0m             \u001b[0mdecimal\u001b[0m\u001b[1;33m=\u001b[0m\u001b[0mdecimal\u001b[0m\u001b[1;33m,\u001b[0m\u001b[1;33m\u001b[0m\u001b[1;33m\u001b[0m\u001b[0m\n\u001b[0;32m   3227\u001b[0m         )\n\u001b[1;32m-> 3228\u001b[1;33m         \u001b[0mformatter\u001b[0m\u001b[1;33m.\u001b[0m\u001b[0msave\u001b[0m\u001b[1;33m(\u001b[0m\u001b[1;33m)\u001b[0m\u001b[1;33m\u001b[0m\u001b[1;33m\u001b[0m\u001b[0m\n\u001b[0m\u001b[0;32m   3229\u001b[0m \u001b[1;33m\u001b[0m\u001b[0m\n\u001b[0;32m   3230\u001b[0m         \u001b[1;32mif\u001b[0m \u001b[0mpath_or_buf\u001b[0m \u001b[1;32mis\u001b[0m \u001b[1;32mNone\u001b[0m\u001b[1;33m:\u001b[0m\u001b[1;33m\u001b[0m\u001b[1;33m\u001b[0m\u001b[0m\n",
      "\u001b[1;32m~\\Anaconda3\\lib\\site-packages\\pandas\\io\\formats\\csvs.py\u001b[0m in \u001b[0;36msave\u001b[1;34m(self)\u001b[0m\n\u001b[0;32m    181\u001b[0m                 \u001b[0mself\u001b[0m\u001b[1;33m.\u001b[0m\u001b[0mmode\u001b[0m\u001b[1;33m,\u001b[0m\u001b[1;33m\u001b[0m\u001b[1;33m\u001b[0m\u001b[0m\n\u001b[0;32m    182\u001b[0m                 \u001b[0mencoding\u001b[0m\u001b[1;33m=\u001b[0m\u001b[0mself\u001b[0m\u001b[1;33m.\u001b[0m\u001b[0mencoding\u001b[0m\u001b[1;33m,\u001b[0m\u001b[1;33m\u001b[0m\u001b[1;33m\u001b[0m\u001b[0m\n\u001b[1;32m--> 183\u001b[1;33m                 \u001b[0mcompression\u001b[0m\u001b[1;33m=\u001b[0m\u001b[0mself\u001b[0m\u001b[1;33m.\u001b[0m\u001b[0mcompression\u001b[0m\u001b[1;33m,\u001b[0m\u001b[1;33m\u001b[0m\u001b[1;33m\u001b[0m\u001b[0m\n\u001b[0m\u001b[0;32m    184\u001b[0m             )\n\u001b[0;32m    185\u001b[0m             \u001b[0mclose\u001b[0m \u001b[1;33m=\u001b[0m \u001b[1;32mTrue\u001b[0m\u001b[1;33m\u001b[0m\u001b[1;33m\u001b[0m\u001b[0m\n",
      "\u001b[1;32m~\\Anaconda3\\lib\\site-packages\\pandas\\io\\common.py\u001b[0m in \u001b[0;36m_get_handle\u001b[1;34m(path_or_buf, mode, encoding, compression, memory_map, is_text)\u001b[0m\n\u001b[0;32m    397\u001b[0m         \u001b[1;32mif\u001b[0m \u001b[0mencoding\u001b[0m\u001b[1;33m:\u001b[0m\u001b[1;33m\u001b[0m\u001b[1;33m\u001b[0m\u001b[0m\n\u001b[0;32m    398\u001b[0m             \u001b[1;31m# Encoding\u001b[0m\u001b[1;33m\u001b[0m\u001b[1;33m\u001b[0m\u001b[1;33m\u001b[0m\u001b[0m\n\u001b[1;32m--> 399\u001b[1;33m             \u001b[0mf\u001b[0m \u001b[1;33m=\u001b[0m \u001b[0mopen\u001b[0m\u001b[1;33m(\u001b[0m\u001b[0mpath_or_buf\u001b[0m\u001b[1;33m,\u001b[0m \u001b[0mmode\u001b[0m\u001b[1;33m,\u001b[0m \u001b[0mencoding\u001b[0m\u001b[1;33m=\u001b[0m\u001b[0mencoding\u001b[0m\u001b[1;33m,\u001b[0m \u001b[0mnewline\u001b[0m\u001b[1;33m=\u001b[0m\u001b[1;34m\"\"\u001b[0m\u001b[1;33m)\u001b[0m\u001b[1;33m\u001b[0m\u001b[1;33m\u001b[0m\u001b[0m\n\u001b[0m\u001b[0;32m    400\u001b[0m         \u001b[1;32melif\u001b[0m \u001b[0mis_text\u001b[0m\u001b[1;33m:\u001b[0m\u001b[1;33m\u001b[0m\u001b[1;33m\u001b[0m\u001b[0m\n\u001b[0;32m    401\u001b[0m             \u001b[1;31m# No explicit encoding\u001b[0m\u001b[1;33m\u001b[0m\u001b[1;33m\u001b[0m\u001b[1;33m\u001b[0m\u001b[0m\n",
      "\u001b[1;31mPermissionError\u001b[0m: [Errno 13] Permission denied: 'C:\\\\Users\\\\rober\\\\OneDrive\\\\Escritorio\\\\PROCESADO_github\\\\SleepAnalysisWearable'"
     ]
    }
   ],
   "source": [
    "Train.to_csv(r'C:\\Users\\rober\\OneDrive\\Escritorio\\PROCESADO_github\\SleepAnalysisWearable\\Train.csv')\n",
    "Test.to_csv(r'C:\\Users\\rober\\OneDrive\\Escritorio\\PROCESADO_github\\SleepAnalysisWearable\\Test.csv')"
   ]
  }
 ],
 "metadata": {
  "kernelspec": {
   "display_name": "Python 3",
   "language": "python",
   "name": "python3"
  },
  "language_info": {
   "codemirror_mode": {
    "name": "ipython",
    "version": 3
   },
   "file_extension": ".py",
   "mimetype": "text/x-python",
   "name": "python",
   "nbconvert_exporter": "python",
   "pygments_lexer": "ipython3",
   "version": "3.7.4"
  }
 },
 "nbformat": 4,
 "nbformat_minor": 2
}
