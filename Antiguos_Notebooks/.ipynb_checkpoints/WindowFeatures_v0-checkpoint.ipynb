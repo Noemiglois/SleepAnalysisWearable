{
 "cells": [
  {
   "cell_type": "markdown",
   "metadata": {},
   "source": [
    "<center> <h1>PRIMERA PREDICIÓN DEL SUEÑO DE UN PACIENTE</h1> </center>\n",
    "<center> <h4>Noemi González, Roberto Holgado y Carmen Plaza seco</h4> </center>\n",
    "\n",
    "[URL PHYSIONET](https://physionet.org/content/sleep-accel/1.0.0/)"
   ]
  },
  {
   "cell_type": "code",
   "execution_count": 1,
   "metadata": {},
   "outputs": [],
   "source": [
    "import numpy as np\n",
    "import pandas as pd\n",
    "import os\n",
    "import matplotlib.pyplot as plt\n",
    "from sklearn.svm import SVC\n",
    "from sklearn.model_selection import train_test_split\n",
    "import statistics as stats"
   ]
  },
  {
   "cell_type": "code",
   "execution_count": 2,
   "metadata": {},
   "outputs": [
    {
     "ename": "FileNotFoundError",
     "evalue": "[Errno 2] No such file or directory: 'labels'",
     "output_type": "error",
     "traceback": [
      "\u001b[0;31m---------------------------------------------------------------------------\u001b[0m",
      "\u001b[0;31mFileNotFoundError\u001b[0m                         Traceback (most recent call last)",
      "\u001b[0;32m<ipython-input-2-70cd10ae0098>\u001b[0m in \u001b[0;36m<module>\u001b[0;34m\u001b[0m\n\u001b[1;32m      1\u001b[0m \u001b[0mpacientes_sueño\u001b[0m\u001b[0;34m=\u001b[0m\u001b[0;34m[\u001b[0m\u001b[0;34m]\u001b[0m\u001b[0;34m\u001b[0m\u001b[0;34m\u001b[0m\u001b[0m\n\u001b[0;32m----> 2\u001b[0;31m \u001b[0;32mfor\u001b[0m \u001b[0mfile\u001b[0m \u001b[0;32min\u001b[0m \u001b[0;34m(\u001b[0m\u001b[0mos\u001b[0m\u001b[0;34m.\u001b[0m\u001b[0mlistdir\u001b[0m\u001b[0;34m(\u001b[0m\u001b[0;34m\"labels\"\u001b[0m\u001b[0;34m)\u001b[0m\u001b[0;34m)\u001b[0m\u001b[0;34m:\u001b[0m\u001b[0;34m\u001b[0m\u001b[0;34m\u001b[0m\u001b[0m\n\u001b[0m\u001b[1;32m      3\u001b[0m     \u001b[0mpacientes_sueño\u001b[0m\u001b[0;34m.\u001b[0m\u001b[0mappend\u001b[0m\u001b[0;34m(\u001b[0m\u001b[0mos\u001b[0m\u001b[0;34m.\u001b[0m\u001b[0mpath\u001b[0m\u001b[0;34m.\u001b[0m\u001b[0mjoin\u001b[0m\u001b[0;34m(\u001b[0m\u001b[0;34m\"labels\"\u001b[0m\u001b[0;34m,\u001b[0m\u001b[0mfile\u001b[0m\u001b[0;34m)\u001b[0m\u001b[0;34m)\u001b[0m\u001b[0;34m\u001b[0m\u001b[0;34m\u001b[0m\u001b[0m\n\u001b[1;32m      4\u001b[0m     \u001b[0mpacientes_sueño\u001b[0m\u001b[0;34m=\u001b[0m\u001b[0msorted\u001b[0m\u001b[0;34m(\u001b[0m\u001b[0mpacientes_sueño\u001b[0m\u001b[0;34m)\u001b[0m\u001b[0;34m\u001b[0m\u001b[0;34m\u001b[0m\u001b[0m\n\u001b[1;32m      5\u001b[0m \u001b[0;34m\u001b[0m\u001b[0m\n",
      "\u001b[0;31mFileNotFoundError\u001b[0m: [Errno 2] No such file or directory: 'labels'"
     ]
    }
   ],
   "source": [
    "pacientes_sueño=[]\n",
    "for file in (os.listdir(\"labels\")):\n",
    "    pacientes_sueño.append(os.path.join(\"labels\",file))\n",
    "    pacientes_sueño=sorted(pacientes_sueño)\n",
    "    \n",
    "pacientes_frec_card=[]\n",
    "for file in os.listdir(\"heart_rate\"):\n",
    "    pacientes_frec_card.append(os.path.join(\"heart_rate\",file))\n",
    "\n",
    "pacientes_pasos=[]\n",
    "for file in os.listdir(\"steps\"):\n",
    "    pacientes_pasos.append(os.path.join(\"steps\",file))\n",
    "\n",
    "pacientes_movimiento=[]\n",
    "for file in os.listdir(\"motion\"):\n",
    "    pacientes_movimiento.append(os.path.join(\"motion\",file))"
   ]
  },
  {
   "cell_type": "code",
   "execution_count": null,
   "metadata": {},
   "outputs": [],
   "source": [
    "n=3"
   ]
  },
  {
   "cell_type": "code",
   "execution_count": null,
   "metadata": {},
   "outputs": [],
   "source": [
    "n_pac=len(pacientes_frec_card) # Número de pacientes\n",
    "\n",
    "print('Hay un total de',n_pac,'pacientes')"
   ]
  },
  {
   "cell_type": "code",
   "execution_count": 3,
   "metadata": {},
   "outputs": [
    {
     "ename": "NameError",
     "evalue": "name 'n' is not defined",
     "output_type": "error",
     "traceback": [
      "\u001b[0;31m---------------------------------------------------------------------------\u001b[0m",
      "\u001b[0;31mNameError\u001b[0m                                 Traceback (most recent call last)",
      "\u001b[0;32m<ipython-input-3-0589923bdda8>\u001b[0m in \u001b[0;36m<module>\u001b[0;34m\u001b[0m\n\u001b[1;32m      1\u001b[0m \u001b[0;31m#SUEÑO\u001b[0m\u001b[0;34m\u001b[0m\u001b[0;34m\u001b[0m\u001b[0;34m\u001b[0m\u001b[0m\n\u001b[0;32m----> 2\u001b[0;31m \u001b[0msueño\u001b[0m\u001b[0;34m=\u001b[0m\u001b[0mpd\u001b[0m\u001b[0;34m.\u001b[0m\u001b[0mread_csv\u001b[0m\u001b[0;34m(\u001b[0m\u001b[0mpacientes_sueño\u001b[0m\u001b[0;34m[\u001b[0m\u001b[0mn\u001b[0m\u001b[0;34m]\u001b[0m\u001b[0;34m,\u001b[0m \u001b[0mdelimiter\u001b[0m\u001b[0;34m=\u001b[0m\u001b[0;34m' '\u001b[0m\u001b[0;34m)\u001b[0m\u001b[0;34m\u001b[0m\u001b[0;34m\u001b[0m\u001b[0m\n\u001b[0m\u001b[1;32m      3\u001b[0m \u001b[0msueño\u001b[0m\u001b[0;34m.\u001b[0m\u001b[0mcolumns\u001b[0m\u001b[0;34m=\u001b[0m\u001b[0;34m[\u001b[0m\u001b[0;34m\"Tiempo\"\u001b[0m\u001b[0;34m,\u001b[0m\u001b[0;34m\"Etiqueta\"\u001b[0m\u001b[0;34m]\u001b[0m\u001b[0;34m\u001b[0m\u001b[0;34m\u001b[0m\u001b[0m\n\u001b[1;32m      4\u001b[0m \u001b[0;34m\u001b[0m\u001b[0m\n\u001b[1;32m      5\u001b[0m \u001b[0;31m#FRECUENCIA CARDIACA\u001b[0m\u001b[0;34m\u001b[0m\u001b[0;34m\u001b[0m\u001b[0;34m\u001b[0m\u001b[0m\n",
      "\u001b[0;31mNameError\u001b[0m: name 'n' is not defined"
     ]
    }
   ],
   "source": [
    "#SUEÑO\n",
    "sueño=pd.read_csv(pacientes_sueño[n], delimiter=' ')\n",
    "sueño.columns=[\"Tiempo\",\"Etiqueta\"]\n",
    "\n",
    "#FRECUENCIA CARDIACA\n",
    "frec_card=pd.read_csv(pacientes_frec_card[n])\n",
    "frec_card.columns=[\"Tiempo\",\"Frec card\"]\n",
    "\n",
    "#MOVIMIENTO\n",
    "mov = pd.read_csv(pacientes_movimiento[11], delimiter=' ')\n",
    "mov.columns = [\"Tiempo\",\"Ac_x\",\"Ac_y\",\"Ac_z\"]"
   ]
  },
  {
   "cell_type": "code",
   "execution_count": null,
   "metadata": {},
   "outputs": [],
   "source": [
    "n_frec_card=len(frec_card[frec_card[\"Tiempo\"]>0]) # muestras en frecuencia cardiaca\n",
    "n_sueño=len(sueño) # muestras en etiquetas del sueño\n",
    "\n",
    "print('El paciente',n, 'tiene', n_frec_card, 'muestras de frecuencia cardiaca recogidas durante la duración de la PSG y',n_sueño,'etiquetas del sueño')"
   ]
  },
  {
   "cell_type": "markdown",
   "metadata": {},
   "source": [
    "La siguiente celda de código se corresponde con la ventana deslizante que recorrerá la señal fisiológica deseada. La función toma como datos de entrada el tamaño de la ventana en segundos y la señal sobre la que se quiere trabajar."
   ]
  },
  {
   "cell_type": "code",
   "execution_count": null,
   "metadata": {},
   "outputs": [],
   "source": [
    "def get_window(w_size,signal):\n",
    "    time = signal[\"Tiempo\"]\n",
    "    f_list=[]\n",
    "    \n",
    "    for i in range(n_sueño):\n",
    "        a = w_size*(1+i)\n",
    "        b = w_size*(2+i)\n",
    "\n",
    "        idx=[]\n",
    "        for t in time:\n",
    "            if t>a and t<b:\n",
    "                idx.append(True)\n",
    "            else:\n",
    "                idx.append(False)\n",
    "        \n",
    "        f=signal[idx]\n",
    "        f_list.append(f)\n",
    "        \n",
    "    return f_list"
   ]
  },
  {
   "cell_type": "markdown",
   "metadata": {},
   "source": [
    "En todos los casos, se seleccionará una w_size de 30 segundos para tener una característica cada 30s y así coincidir la cantidad de los datos adquiridos por medio del Apple Watch con los datos recogidos por la PSG.\n",
    "\n",
    "Con la señal de frecuencia cardíaca se han decidido sacar 3 vectores de características: mínimo, máximo y media."
   ]
  },
  {
   "cell_type": "markdown",
   "metadata": {},
   "source": [
    "FRECUENCIA CARDIACA (TARDA POCO, sólo es 1 columna)"
   ]
  },
  {
   "cell_type": "code",
   "execution_count": null,
   "metadata": {},
   "outputs": [],
   "source": [
    "frec_card"
   ]
  },
  {
   "cell_type": "code",
   "execution_count": null,
   "metadata": {},
   "outputs": [],
   "source": [
    "w_size=30\n",
    "signal=frec_card\n",
    "\n",
    "f_list= get_window(w_size,signal)\n",
    "\n",
    "mean_list=[]\n",
    "min_list=[]\n",
    "max_list=[]\n",
    "\n",
    "for f in f_list:\n",
    "    mean_list.append(round(f['Frec card'].mean(),2))\n",
    "    min_list.append(round(f['Frec card'].min(),2))\n",
    "    max_list.append(round(f['Frec card'].max(),2))"
   ]
  },
  {
   "cell_type": "markdown",
   "metadata": {},
   "source": [
    "print('Frecuencias mínimas:',min_list[:250])\n",
    "print('\\nFrecuencias máximas:',max_list[:250])\n",
    "print('\\nFrecuencias medias:',mean_list[:250])\n",
    "\n",
    "print('\\nLa longitud de las listas de frecuencias es:',len(min_list),',',len(max_list),'y',len(mean_list))"
   ]
  },
  {
   "cell_type": "code",
   "execution_count": null,
   "metadata": {},
   "outputs": [],
   "source": [
    "feat1=min_list\n",
    "feat2=max_list\n",
    "feat3=mean_list"
   ]
  },
  {
   "cell_type": "markdown",
   "metadata": {},
   "source": [
    "MOVIMIENTO (TARDA BASTANTE, son 3 columnas)"
   ]
  },
  {
   "cell_type": "code",
   "execution_count": null,
   "metadata": {},
   "outputs": [],
   "source": [
    "mov.head()"
   ]
  },
  {
   "cell_type": "code",
   "execution_count": null,
   "metadata": {},
   "outputs": [],
   "source": [
    "w_size = 30000\n",
    "signal = mov\n",
    "\n",
    "f_list = get_window(w_size,signal)"
   ]
  },
  {
   "cell_type": "code",
   "execution_count": null,
   "metadata": {},
   "outputs": [],
   "source": [
    "f_list"
   ]
  },
  {
   "cell_type": "code",
   "execution_count": null,
   "metadata": {},
   "outputs": [],
   "source": [
    "raiz_mov_list=[]\n",
    "\n",
    "for f in f_list:\n",
    "    raix_mov_list.append(round(f['Frec card'].mean(),2))"
   ]
  },
  {
   "cell_type": "markdown",
   "metadata": {},
   "source": [
    "## FEATURES\n",
    "\n",
    "* **feat1: min_list**. La primera característica que se extrae es la lista de frecuencias mínimas.\n",
    "* **feat2: max_list**. La segunda característica que se extrae es la lista de frecuencias máximas.\n",
    "* **feat3: mean_list**. La tercera característica que se extrae es la lista de frecuencias medias.\n",
    "\n",
    "## OUTCOME\n",
    "\n",
    "* **labels:**. Lista de etiquetas del sueño\n",
    "\n",
    "# IDENTIFICACION\n",
    "* **ID:**. Variable que identifica a cada paciente."
   ]
  },
  {
   "cell_type": "code",
   "execution_count": null,
   "metadata": {},
   "outputs": [],
   "source": [
    "labels=sueño[\"Etiqueta\"]\n",
    "id_list=[a]*len(labels)"
   ]
  },
  {
   "cell_type": "code",
   "execution_count": null,
   "metadata": {},
   "outputs": [],
   "source": [
    "datos = {'Min_hr': feat1, \"Max_hr\": feat2,\"Mean_hr\":feat3,\"Etiquetas\":labels,\"ID_P\":id_list}\n",
    "datos_paciente = pd.DataFrame(data=datos)"
   ]
  }
 ],
 "metadata": {
  "kernelspec": {
   "display_name": "Python 3",
   "language": "python",
   "name": "python3"
  },
  "language_info": {
   "codemirror_mode": {
    "name": "ipython",
    "version": 3
   },
   "file_extension": ".py",
   "mimetype": "text/x-python",
   "name": "python",
   "nbconvert_exporter": "python",
   "pygments_lexer": "ipython3",
   "version": "3.7.4"
  }
 },
 "nbformat": 4,
 "nbformat_minor": 2
}
