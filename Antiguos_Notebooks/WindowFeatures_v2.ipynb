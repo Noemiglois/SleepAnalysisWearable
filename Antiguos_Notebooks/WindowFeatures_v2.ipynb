{
 "cells": [
  {
   "cell_type": "markdown",
   "metadata": {},
   "source": [
    "<center> <h1>PRIMERA PREDICIÓN DEL SUEÑO DE UN PACIENTE</h1> </center>\n",
    "<center> <h4>Noemi González, Roberto Holgado y Carmen Plaza seco</h4> </center>\n",
    "\n",
    "[URL PHYSIONET](https://physionet.org/content/sleep-accel/1.0.0/)"
   ]
  },
  {
   "cell_type": "code",
   "execution_count": 1,
   "metadata": {},
   "outputs": [],
   "source": [
    "import numpy as np\n",
    "import pandas as pd\n",
    "import os\n",
    "import matplotlib.pyplot as plt\n",
    "from sklearn.svm import SVC\n",
    "from sklearn.model_selection import train_test_split\n",
    "from sklearn.metrics import confusion_matrix\n",
    "import statistics as stats"
   ]
  },
  {
   "cell_type": "code",
   "execution_count": 2,
   "metadata": {},
   "outputs": [],
   "source": [
    "pacientes_sueño=[]\n",
    "for file in (os.listdir(\"labels\")):\n",
    "    pacientes_sueño.append(os.path.join(\"labels\",file))\n",
    "    pacientes_sueño=sorted(pacientes_sueño)\n",
    "    \n",
    "pacientes_frec_card=[]\n",
    "for file in os.listdir(\"heart_rate\"):\n",
    "    pacientes_frec_card.append(os.path.join(\"heart_rate\",file))\n",
    "\n",
    "pacientes_pasos=[]\n",
    "for file in os.listdir(\"steps\"):\n",
    "    pacientes_pasos.append(os.path.join(\"steps\",file))\n",
    "\n",
    "pacientes_movimiento=[]\n",
    "for file in os.listdir(\"motion\"):\n",
    "    pacientes_movimiento.append(os.path.join(\"motion\",file))"
   ]
  },
  {
   "cell_type": "markdown",
   "metadata": {},
   "source": [
    "La siguiente celda de código se corresponde con la ventana deslizante que recorrerá la señal fisiológica deseada. La función toma como datos de entrada el tamaño de la ventana en segundos y la señal sobre la que se quiere trabajar."
   ]
  },
  {
   "cell_type": "code",
   "execution_count": 3,
   "metadata": {},
   "outputs": [],
   "source": [
    "def get_window(w_size,signal,n_sueño):\n",
    "    time = signal[\"Tiempo\"]\n",
    "    f_list=[]\n",
    "    \n",
    "    for i in range(n_sueño):\n",
    "        a = w_size*(1+i)\n",
    "        b = w_size*(2+i)\n",
    "\n",
    "        idx=[]\n",
    "        for t in time:\n",
    "            if t>a and t<b:\n",
    "                idx.append(True)\n",
    "            else:\n",
    "                idx.append(False)\n",
    "        \n",
    "        f=signal[idx]\n",
    "        f_list.append(f)\n",
    "        \n",
    "    return f_list"
   ]
  },
  {
   "cell_type": "markdown",
   "metadata": {},
   "source": [
    "En todos los casos, se seleccionará una w_size de 30 segundos para tener una característica cada 30s y así coincidir la cantidad de los datos adquiridos por medio del Apple Watch con los datos recogidos por la PSG.\n",
    "\n",
    "Con la señal de frecuencia cardíaca se han decidido sacar 3 vectores de características: mínimo, máximo y media."
   ]
  },
  {
   "cell_type": "markdown",
   "metadata": {},
   "source": [
    "## FEATURES\n",
    "\n",
    "* **feat1: min_list**. La primera característica que se extrae es la lista de frecuencias mínimas.\n",
    "* **feat2: max_list**. La segunda característica que se extrae es la lista de frecuencias máximas.\n",
    "* **feat3: mean_list**. La tercera característica que se extrae es la lista de frecuencias medias.\n",
    "\n",
    "## OUTCOME\n",
    "\n",
    "* **labels:**. Lista de etiquetas del sueño\n",
    "\n",
    "# IDENTIFICACION\n",
    "* **ID:**. Variable que identifica a cada paciente."
   ]
  },
  {
   "cell_type": "markdown",
   "metadata": {},
   "source": [
    "# MATRICES HIJAS"
   ]
  },
  {
   "cell_type": "markdown",
   "metadata": {},
   "source": [
    "Realizamos esta operación sobre todos los pacientes"
   ]
  },
  {
   "cell_type": "code",
   "execution_count": 4,
   "metadata": {},
   "outputs": [],
   "source": [
    "matrices_hija=[]\n",
    "for a, (i,j) in  enumerate(zip(pacientes_sueño,pacientes_frec_card)):\n",
    "    #SUEÑO\n",
    "    sueño=pd.read_csv(i, delimiter=' ')\n",
    "    sueño.columns=[\"Tiempo\",\"Etiqueta\"]\n",
    "\n",
    "    #FRECUENCIA CARDIACA\n",
    "    frec_card=pd.read_csv(j)\n",
    "    frec_card.columns=[\"Tiempo\",\"Frec card\"]\n",
    "    \n",
    "    w_size=30\n",
    "    signal=frec_card\n",
    "    n_sueño=len(sueño)\n",
    "    f_list= get_window(w_size,signal,n_sueño)\n",
    "\n",
    "    mean_list=[]\n",
    "    min_list=[]\n",
    "    max_list=[]\n",
    "\n",
    "    for f in f_list:\n",
    "        mean_list.append(round(f['Frec card'].mean(),2))\n",
    "        min_list.append(round(f['Frec card'].min(),2))\n",
    "        max_list.append(round(f['Frec card'].max(),2))\n",
    "    \n",
    "    feat1=min_list\n",
    "    feat2=max_list\n",
    "    feat3=mean_list\n",
    "    labels=sueño[\"Etiqueta\"]\n",
    "    id_list=[a]*len(labels)\n",
    "    \n",
    "    datos = {'Min_hr': feat1, \"Max_hr\": feat2,\"Mean_hr\":feat3,\"Etiquetas\":labels,\"ID_P\":id_list}\n",
    "    datos_paciente = pd.DataFrame(data=datos)\n",
    "    matrices_hija.append(datos_paciente) #matrices_hija=matriz_madre, están todas las hijas en esta variable"
   ]
  },
  {
   "cell_type": "markdown",
   "metadata": {},
   "source": [
    "En la variable matrices_hija tenemos las matrices de características de cada paciente. Es decir, matrices_hija es la matriz_madre."
   ]
  },
  {
   "cell_type": "code",
   "execution_count": null,
   "metadata": {},
   "outputs": [],
   "source": [
    "# Separar el for en los núcleos \n",
    "# client.MultiEngineClient.map()"
   ]
  },
  {
   "cell_type": "markdown",
   "metadata": {},
   "source": [
    "Esto es una funcion para limpiar el dataframe de Nan y valores inf en caso de que fuera necesario."
   ]
  },
  {
   "cell_type": "code",
   "execution_count": 8,
   "metadata": {},
   "outputs": [],
   "source": [
    "def clean_dataset(df):\n",
    "    assert isinstance(df, pd.DataFrame), \"df needs to be a pd.DataFrame\"\n",
    "    df.dropna(inplace=True)\n",
    "    indices_to_keep = ~df.isin([np.nan, np.inf, -np.inf]).any(1)\n",
    "    return df[indices_to_keep].astype(np.float64)"
   ]
  },
  {
   "cell_type": "markdown",
   "metadata": {},
   "source": [
    "# MODELO PARA PRIMERA VENTANA"
   ]
  },
  {
   "cell_type": "markdown",
   "metadata": {},
   "source": [
    "Para construir un clasificador SVM, al meter todas las ventanas de todos los pacientes tenemos una salida multiclase, (y esto no nos lo predice bien, predice una salida biclase). \n",
    "\n",
    "Por ello, a continuación vamos a concatenar la primera ventana de cada paciente. Las primeras ventanas (30s) del 70% de los pacientes las utilizaremos para entrenar un clasificador SVM y vamos a predecir las primeras ventanas del 30% de los pacientes. \n",
    "\n"
   ]
  },
  {
   "cell_type": "code",
   "execution_count": 177,
   "metadata": {},
   "outputs": [],
   "source": [
    "# Quiero concatenar los primeros 30s de todos los pacientes\n",
    "primera_ventana=pd.DataFrame()\n",
    "for i in range(len(matrices_hija)):\n",
    "    ven1=matrices_hija[i].iloc[0,:]\n",
    "    primera_ventana=primera_ventana.append(ven1)"
   ]
  },
  {
   "cell_type": "code",
   "execution_count": 178,
   "metadata": {},
   "outputs": [],
   "source": [
    "# Train y Test. Train: 70%, Test: 30%\n",
    "train, test = train_test_split(primera_ventana, test_size = 0.30)"
   ]
  },
  {
   "cell_type": "code",
   "execution_count": 184,
   "metadata": {},
   "outputs": [],
   "source": [
    "#TRAIN\n",
    "#Training= clean_dataset(train) \n",
    "X_train=train.iloc[:,2:5]\n",
    "y_train=train[\"Etiquetas\"]\n",
    "\n",
    "#TEST\n",
    "#Test=clean_dataset(Test)            \n",
    "X_test=test.iloc[:,2:5]\n",
    "y_test=test[\"Etiquetas\"]"
   ]
  },
  {
   "cell_type": "markdown",
   "metadata": {},
   "source": [
    "# Creación modelo y evaluación"
   ]
  },
  {
   "cell_type": "code",
   "execution_count": 185,
   "metadata": {},
   "outputs": [
    {
     "data": {
      "text/plain": [
       "SVC(C=100000, cache_size=200, class_weight=None, coef0=0.0,\n",
       "    decision_function_shape='ovo', degree=3, gamma=0.0001, kernel='rbf',\n",
       "    max_iter=-1, probability=False, random_state=None, shrinking=True,\n",
       "    tol=0.001, verbose=False)"
      ]
     },
     "execution_count": 185,
     "metadata": {},
     "output_type": "execute_result"
    }
   ],
   "source": [
    "#CREACION\n",
    "svc_clf = SVC(C=10**5, kernel='rbf',gamma=0.0001,decision_function_shape='ovo')\n",
    "svc_clf.fit(X_train, y_train)"
   ]
  },
  {
   "cell_type": "code",
   "execution_count": 186,
   "metadata": {},
   "outputs": [
    {
     "data": {
      "text/plain": [
       "array([-1.,  0.])"
      ]
     },
     "execution_count": 186,
     "metadata": {},
     "output_type": "execute_result"
    }
   ],
   "source": [
    "svc_clf.classes_"
   ]
  },
  {
   "cell_type": "code",
   "execution_count": 187,
   "metadata": {},
   "outputs": [
    {
     "name": "stdout",
     "output_type": "stream",
     "text": [
      "La exactitud para el modelo de SVM en el conjunto de TEST es: 0.5 \n",
      "\n",
      "La exactitud para el modelo de SVM en el conjunto de TRAIN es: 0.8095 \n",
      "\n",
      "Confusion Matrix\n",
      "[[4 1]\n",
      " [4 1]] \n",
      "\n"
     ]
    }
   ],
   "source": [
    "predict = svc_clf.predict(X_test)\n",
    "#EVALUACION\n",
    "\n",
    "acc_test= svc_clf.score(X_test, y_test).round(4)\n",
    "acc_train= svc_clf.score(X_train, y_train).round(4)\n",
    "print('La exactitud para el modelo de SVM en el conjunto de TEST es:',acc_test,'\\n')\n",
    "print('La exactitud para el modelo de SVM en el conjunto de TRAIN es:',acc_train,'\\n')\n",
    "\n",
    "print('Confusion Matrix')\n",
    "print(confusion_matrix(y_test, predict),'\\n')\n",
    "#print(\"=============== Classification Report ================\")\n",
    "#print(classification_report(y_test, predict))"
   ]
  },
  {
   "cell_type": "code",
   "execution_count": 194,
   "metadata": {},
   "outputs": [],
   "source": [
    "matriz_confusion=pd.crosstab(y_test,predict, rownames=['Clase predicha'], colnames=['Resultado del clasificador'])"
   ]
  },
  {
   "cell_type": "code",
   "execution_count": 195,
   "metadata": {},
   "outputs": [
    {
     "data": {
      "text/html": [
       "<div>\n",
       "<style scoped>\n",
       "    .dataframe tbody tr th:only-of-type {\n",
       "        vertical-align: middle;\n",
       "    }\n",
       "\n",
       "    .dataframe tbody tr th {\n",
       "        vertical-align: top;\n",
       "    }\n",
       "\n",
       "    .dataframe thead th {\n",
       "        text-align: right;\n",
       "    }\n",
       "</style>\n",
       "<table border=\"1\" class=\"dataframe\">\n",
       "  <thead>\n",
       "    <tr style=\"text-align: right;\">\n",
       "      <th>Resultado del clasificador</th>\n",
       "      <th>-1.0</th>\n",
       "      <th>0.0</th>\n",
       "    </tr>\n",
       "    <tr>\n",
       "      <th>Clase predicha</th>\n",
       "      <th></th>\n",
       "      <th></th>\n",
       "    </tr>\n",
       "  </thead>\n",
       "  <tbody>\n",
       "    <tr>\n",
       "      <th>-1.0</th>\n",
       "      <td>4</td>\n",
       "      <td>1</td>\n",
       "    </tr>\n",
       "    <tr>\n",
       "      <th>0.0</th>\n",
       "      <td>4</td>\n",
       "      <td>1</td>\n",
       "    </tr>\n",
       "  </tbody>\n",
       "</table>\n",
       "</div>"
      ],
      "text/plain": [
       "Resultado del clasificador  -1.0   0.0\n",
       "Clase predicha                        \n",
       "-1.0                           4     1\n",
       " 0.0                           4     1"
      ]
     },
     "execution_count": 195,
     "metadata": {},
     "output_type": "execute_result"
    }
   ],
   "source": [
    "matriz_confusion"
   ]
  },
  {
   "cell_type": "markdown",
   "metadata": {},
   "source": [
    "# Residuos"
   ]
  },
  {
   "cell_type": "code",
   "execution_count": 190,
   "metadata": {},
   "outputs": [
    {
     "data": {
      "text/plain": [
       "0    0.0\n",
       "0    0.0\n",
       "0   -1.0\n",
       "0   -1.0\n",
       "0   -1.0\n",
       "0    0.0\n",
       "0   -1.0\n",
       "0   -1.0\n",
       "0    0.0\n",
       "0    0.0\n",
       "Name: Etiquetas, dtype: float64"
      ]
     },
     "execution_count": 190,
     "metadata": {},
     "output_type": "execute_result"
    }
   ],
   "source": [
    "y_test"
   ]
  },
  {
   "cell_type": "code",
   "execution_count": 191,
   "metadata": {},
   "outputs": [
    {
     "data": {
      "text/plain": [
       "array([-1.,  0.,  0., -1., -1., -1., -1., -1., -1., -1.])"
      ]
     },
     "execution_count": 191,
     "metadata": {},
     "output_type": "execute_result"
    }
   ],
   "source": [
    "predict"
   ]
  },
  {
   "cell_type": "code",
   "execution_count": 210,
   "metadata": {},
   "outputs": [
    {
     "data": {
      "text/plain": [
       "<matplotlib.legend.Legend at 0x1a1ef8a290>"
      ]
     },
     "execution_count": 210,
     "metadata": {},
     "output_type": "execute_result"
    },
    {
     "data": {
      "image/png": "[encoded data removed]",
      "text/plain": [
       "<Figure size 432x288 with 1 Axes>"
      ]
     },
     "metadata": {
      "needs_background": "light"
     },
     "output_type": "display_data"
    }
   ],
   "source": [
    "pacientes = len(y_test)\n",
    "eje = np.arange(0,pacientes)\n",
    "plt.figure()\n",
    "plt.plot(t,y_test,color='blue', marker='.',label='Real')\n",
    "plt.plot(t,predict,color='green', marker='.',label='Predicha')\n",
    "plt.xlabel('Pacientes')\n",
    "plt.ylabel('Fase del sueño')\n",
    "plt.title('Fase del sueño real vs. predicha en los primeros 30s')\n",
    "plt.legend()"
   ]
  },
  {
   "cell_type": "code",
   "execution_count": 215,
   "metadata": {},
   "outputs": [
    {
     "data": {
      "text/plain": [
       "Text(0.5, 1.0, 'Residuo primera ventana')"
      ]
     },
     "execution_count": 215,
     "metadata": {},
     "output_type": "execute_result"
    },
    {
     "data": {
      "image/png": "[encoded data removed]",
      "text/plain": [
       "<Figure size 432x288 with 1 Axes>"
      ]
     },
     "metadata": {
      "needs_background": "light"
     },
     "output_type": "display_data"
    }
   ],
   "source": [
    "residuo=predict-y_test\n",
    "plt.figure()\n",
    "plt.plot(t,residuo,marker='.')\n",
    "plt.xlabel('Pacientes')\n",
    "plt.ylabel('Residuo')\n",
    "plt.title('Residuo primera ventana')\n"
   ]
  },
  {
   "cell_type": "markdown",
   "metadata": {},
   "source": [
    "# MODELO 'X' O TODAS VENTANAS"
   ]
  },
  {
   "cell_type": "markdown",
   "metadata": {},
   "source": [
    "La siguiente celda concatena las X ventanas que queramos de todos los pacientes. El **problema** está en que al separar train y test con mas de una ventana, se nos mezclan las ventanas de un mismo paciente en train y test. Es decir, al hacer la partición puede quedar la primera ventana de un paciente en train y la segunda de este mismo paciente en test (habría que utilizar el ID para separar pero no se como hacerlo)."
   ]
  },
  {
   "cell_type": "code",
   "execution_count": 216,
   "metadata": {},
   "outputs": [],
   "source": [
    "# Quiero concatenar los primeros X segundos de todos los pacientes\n",
    "ventanas=pd.DataFrame()\n",
    "for i in range(len(matrices_hija)):\n",
    "    ven=matrices_hija[i].iloc[0:2,:] # Dos primeras ventanas de cada paciente\n",
    "    ventanas=ventanas.append(ven)"
   ]
  },
  {
   "cell_type": "code",
   "execution_count": 217,
   "metadata": {},
   "outputs": [
    {
     "data": {
      "text/html": [
       "<div>\n",
       "<style scoped>\n",
       "    .dataframe tbody tr th:only-of-type {\n",
       "        vertical-align: middle;\n",
       "    }\n",
       "\n",
       "    .dataframe tbody tr th {\n",
       "        vertical-align: top;\n",
       "    }\n",
       "\n",
       "    .dataframe thead th {\n",
       "        text-align: right;\n",
       "    }\n",
       "</style>\n",
       "<table border=\"1\" class=\"dataframe\">\n",
       "  <thead>\n",
       "    <tr style=\"text-align: right;\">\n",
       "      <th></th>\n",
       "      <th>Min_hr</th>\n",
       "      <th>Max_hr</th>\n",
       "      <th>Mean_hr</th>\n",
       "      <th>Etiquetas</th>\n",
       "      <th>ID_P</th>\n",
       "    </tr>\n",
       "  </thead>\n",
       "  <tbody>\n",
       "    <tr>\n",
       "      <th>0</th>\n",
       "      <td>74.0</td>\n",
       "      <td>75.0</td>\n",
       "      <td>74.43</td>\n",
       "      <td>0</td>\n",
       "      <td>0</td>\n",
       "    </tr>\n",
       "    <tr>\n",
       "      <th>1</th>\n",
       "      <td>64.0</td>\n",
       "      <td>73.0</td>\n",
       "      <td>68.17</td>\n",
       "      <td>0</td>\n",
       "      <td>0</td>\n",
       "    </tr>\n",
       "    <tr>\n",
       "      <th>0</th>\n",
       "      <td>79.0</td>\n",
       "      <td>86.0</td>\n",
       "      <td>81.17</td>\n",
       "      <td>-1</td>\n",
       "      <td>1</td>\n",
       "    </tr>\n",
       "    <tr>\n",
       "      <th>1</th>\n",
       "      <td>81.0</td>\n",
       "      <td>82.0</td>\n",
       "      <td>81.83</td>\n",
       "      <td>-1</td>\n",
       "      <td>1</td>\n",
       "    </tr>\n",
       "    <tr>\n",
       "      <th>0</th>\n",
       "      <td>73.0</td>\n",
       "      <td>77.0</td>\n",
       "      <td>75.00</td>\n",
       "      <td>-1</td>\n",
       "      <td>2</td>\n",
       "    </tr>\n",
       "    <tr>\n",
       "      <th>...</th>\n",
       "      <td>...</td>\n",
       "      <td>...</td>\n",
       "      <td>...</td>\n",
       "      <td>...</td>\n",
       "      <td>...</td>\n",
       "    </tr>\n",
       "    <tr>\n",
       "      <th>1</th>\n",
       "      <td>60.0</td>\n",
       "      <td>61.0</td>\n",
       "      <td>60.40</td>\n",
       "      <td>-1</td>\n",
       "      <td>28</td>\n",
       "    </tr>\n",
       "    <tr>\n",
       "      <th>0</th>\n",
       "      <td>62.0</td>\n",
       "      <td>65.0</td>\n",
       "      <td>63.20</td>\n",
       "      <td>0</td>\n",
       "      <td>29</td>\n",
       "    </tr>\n",
       "    <tr>\n",
       "      <th>1</th>\n",
       "      <td>64.0</td>\n",
       "      <td>69.0</td>\n",
       "      <td>66.50</td>\n",
       "      <td>0</td>\n",
       "      <td>29</td>\n",
       "    </tr>\n",
       "    <tr>\n",
       "      <th>0</th>\n",
       "      <td>68.0</td>\n",
       "      <td>73.0</td>\n",
       "      <td>70.33</td>\n",
       "      <td>0</td>\n",
       "      <td>30</td>\n",
       "    </tr>\n",
       "    <tr>\n",
       "      <th>1</th>\n",
       "      <td>68.0</td>\n",
       "      <td>68.0</td>\n",
       "      <td>68.00</td>\n",
       "      <td>0</td>\n",
       "      <td>30</td>\n",
       "    </tr>\n",
       "  </tbody>\n",
       "</table>\n",
       "<p>62 rows × 5 columns</p>\n",
       "</div>"
      ],
      "text/plain": [
       "    Min_hr  Max_hr  Mean_hr  Etiquetas  ID_P\n",
       "0     74.0    75.0    74.43          0     0\n",
       "1     64.0    73.0    68.17          0     0\n",
       "0     79.0    86.0    81.17         -1     1\n",
       "1     81.0    82.0    81.83         -1     1\n",
       "0     73.0    77.0    75.00         -1     2\n",
       "..     ...     ...      ...        ...   ...\n",
       "1     60.0    61.0    60.40         -1    28\n",
       "0     62.0    65.0    63.20          0    29\n",
       "1     64.0    69.0    66.50          0    29\n",
       "0     68.0    73.0    70.33          0    30\n",
       "1     68.0    68.0    68.00          0    30\n",
       "\n",
       "[62 rows x 5 columns]"
      ]
     },
     "execution_count": 217,
     "metadata": {},
     "output_type": "execute_result"
    }
   ],
   "source": [
    "ventanas"
   ]
  },
  {
   "cell_type": "markdown",
   "metadata": {},
   "source": [
    "¡¡¡PROBLEMA!!!"
   ]
  },
  {
   "cell_type": "code",
   "execution_count": 222,
   "metadata": {},
   "outputs": [],
   "source": [
    "# Train y Test. Train: 70%, Test: 30%\n",
    "train, test = train_test_split(ventanas, test_size = 0.30)"
   ]
  },
  {
   "cell_type": "code",
   "execution_count": 223,
   "metadata": {},
   "outputs": [],
   "source": [
    "#train"
   ]
  },
  {
   "cell_type": "markdown",
   "metadata": {},
   "source": [
    "**COSAS QUE HACER**\n",
    "\n",
    "* Intentar separar bien train y test con X ventanas para que las ventanas de un mismo paciente estén en train o en test pero no mezcladas.\n",
    "* Intentar hacer un clasificador con salida multiclase. Supuestamente SVM lo es pero no me sale"
   ]
  }
 ],
 "metadata": {
  "kernelspec": {
   "display_name": "Python 3",
   "language": "python",
   "name": "python3"
  },
  "language_info": {
   "codemirror_mode": {
    "name": "ipython",
    "version": 3
   },
   "file_extension": ".py",
   "mimetype": "text/x-python",
   "name": "python",
   "nbconvert_exporter": "python",
   "pygments_lexer": "ipython3",
   "version": "3.7.4"
  }
 },
 "nbformat": 4,
 "nbformat_minor": 2
}
