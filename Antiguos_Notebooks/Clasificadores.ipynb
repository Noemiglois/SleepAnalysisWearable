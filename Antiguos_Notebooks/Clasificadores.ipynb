{
 "cells": [
  {
   "cell_type": "markdown",
   "metadata": {},
   "source": [
    "<center> <h1>PRIMERA PREDICIÓN DEL SUEÑO DE UN PACIENTE</h1> </center>\n",
    "<center> <h4>Noemi González, Roberto Holgado y Carmen Plaza seco</h4> </center>\n",
    "\n",
    "[URL PHYSIONET](https://physionet.org/content/sleep-accel/1.0.0/)\n",
    "\n",
    "###### Indice\n",
    "\n",
    "* **1. Preprocesado, extracción de características.**\n",
    "  *   **1.1 Extracción variables de frecuencia cardíaca**\n",
    "  *  **1.2 Extracción variables de movimiento**\n",
    "  *  **1.3 Obtención matrices**\n",
    "* **2. Conjuntos Train y Test**\n",
    "  * **2.1 Preparación datos de entreada y salida**\n",
    "* **3. Clasificador SVM Binario**\n",
    "   * **3.1 Creación del modelo y selección parámetros libres**\n",
    "   * **3.2 Evaluación del modelo**\n",
    "* **4. Clasficador SVM Multiclase**\n",
    "   * **4.1 Creación del modelo y selección parámetros libres**\n",
    "      *     **4.2.1**\n",
    "      *     **4.2.2**\n",
    "   * **4.3 Evaluación del modelo**"
   ]
  },
  {
   "cell_type": "code",
   "execution_count": 1,
   "metadata": {},
   "outputs": [],
   "source": [
    "import numpy as np\n",
    "import pandas as pd\n",
    "import os\n",
    "import matplotlib.pyplot as plt\n",
    "from sklearn.svm import SVC\n",
    "from sklearn.model_selection import train_test_split\n",
    "from sklearn.metrics import confusion_matrix\n",
    "import statistics as stats\n",
    "from sklearn.model_selection import GridSearchCV\n",
    "from random import sample\n",
    "from sklearn.metrics import classification_report\n",
    "from sklearn.model_selection import RandomizedSearchCV\n",
    "from sklearn.model_selection import cross_val_score"
   ]
  },
  {
   "cell_type": "markdown",
   "metadata": {},
   "source": [
    "## 1. CARGAR DATOS"
   ]
  },
  {
   "cell_type": "markdown",
   "metadata": {},
   "source": [
    "### 2.1 Preparación datos de entrada y salida"
   ]
  },
  {
   "cell_type": "code",
   "execution_count": 2,
   "metadata": {},
   "outputs": [],
   "source": [
    "#Train\n",
    "Train= pd.read_csv('Train.csv').drop(['Unnamed: 0'], axis = 1)\n",
    "Test= pd.read_csv('Test.csv').drop(['Unnamed: 0'], axis = 1)"
   ]
  },
  {
   "cell_type": "code",
   "execution_count": 3,
   "metadata": {},
   "outputs": [],
   "source": [
    "X_train=Train.drop(['Etiquetas', 'Etiquetas binarias','ID_P'], axis = 1) \n",
    "y_train_bin=Train['Etiquetas binarias']\n",
    "y_train_multi=Train['Etiquetas']\n",
    "\n",
    "X_test=Test.drop(['Etiquetas', 'Etiquetas binarias','ID_P'], axis = 1)\n",
    "y_test_bin=Test['Etiquetas binarias']\n",
    "y_test_multi=Test['Etiquetas']"
   ]
  },
  {
   "cell_type": "code",
   "execution_count": 4,
   "metadata": {},
   "outputs": [],
   "source": [
    "#X_train"
   ]
  },
  {
   "cell_type": "code",
   "execution_count": 5,
   "metadata": {},
   "outputs": [],
   "source": [
    "#X_test"
   ]
  },
  {
   "cell_type": "markdown",
   "metadata": {},
   "source": [
    "## 3. Clasficador SVM Binario\n"
   ]
  },
  {
   "cell_type": "markdown",
   "metadata": {},
   "source": [
    "### 3.1  Creación del modelo y selección parámetros libres"
   ]
  },
  {
   "cell_type": "code",
   "execution_count": 6,
   "metadata": {},
   "outputs": [],
   "source": [
    "clf = SVC(kernel='linear',gamma=0.1) #fijo gamma\n",
    "modelo_base=clf.fit(X_train,y_train_bin)"
   ]
  },
  {
   "cell_type": "code",
   "execution_count": 7,
   "metadata": {},
   "outputs": [
    {
     "data": {
      "text/plain": [
       "SVC(C=1.0, cache_size=200, class_weight=None, coef0=0.0,\n",
       "    decision_function_shape='ovr', degree=3, gamma=0.1, kernel='linear',\n",
       "    max_iter=-1, probability=False, random_state=None, shrinking=True,\n",
       "    tol=0.001, verbose=False)"
      ]
     },
     "execution_count": 7,
     "metadata": {},
     "output_type": "execute_result"
    }
   ],
   "source": [
    "clf"
   ]
  },
  {
   "cell_type": "markdown",
   "metadata": {},
   "source": [
    "### 3.2  Evaluación del modelo según valor de hiperparámetro."
   ]
  },
  {
   "cell_type": "code",
   "execution_count": 8,
   "metadata": {},
   "outputs": [
    {
     "name": "stderr",
     "output_type": "stream",
     "text": [
      "C:\\Users\\rober\\Anaconda3\\lib\\site-packages\\sklearn\\model_selection\\_search.py:814: DeprecationWarning: The default of the `iid` parameter will change from True to False in version 0.22 and will be removed in 0.24. This will change numeric results when test-set sizes are unequal.\n",
      "  DeprecationWarning)\n"
     ]
    },
    {
     "data": {
      "text/plain": [
       "{'C': 10}"
      ]
     },
     "execution_count": 8,
     "metadata": {},
     "output_type": "execute_result"
    }
   ],
   "source": [
    "Cs =[0.1,1,10,100,1000,1000]\n",
    "param_grid = {'C': Cs}\n",
    "svc_grid = GridSearchCV(clf, param_grid, scoring='accuracy',cv=5,n_jobs=-1)\n",
    "svc_grid.fit(X_train, y_train_bin)\n",
    "svc_grid.best_params_"
   ]
  },
  {
   "cell_type": "code",
   "execution_count": 9,
   "metadata": {},
   "outputs": [],
   "source": [
    "svc_clf=svc_grid.best_estimator_"
   ]
  },
  {
   "cell_type": "code",
   "execution_count": 10,
   "metadata": {},
   "outputs": [
    {
     "data": {
      "image/png": "[encoded data removed]",
      "text/plain": [
       "<Figure size 432x288 with 1 Axes>"
      ]
     },
     "metadata": {
      "needs_background": "light"
     },
     "output_type": "display_data"
    },
    {
     "name": "stdout",
     "output_type": "stream",
     "text": [
      "C que maximiza tasa de acierto: 10.0\n"
     ]
    }
   ],
   "source": [
    "c_scores=[]\n",
    "for c in Cs:\n",
    "    clf = SVC(kernel='linear',gamma=0.1, C=c)\n",
    "    scores=cross_val_score(clf,X_train,y_train_bin,cv=5,scoring='accuracy',n_jobs=-1)\n",
    "    c_scores.append(scores.mean())\n",
    "    \n",
    "\n",
    "plt.figure()\n",
    "plt.plot(Cs,c_scores)\n",
    "plt.xlabel('C')\n",
    "plt.ylabel('CV accuracy')\n",
    "plt.title(\"Evaluación parámetro C\")\n",
    "plt.show()\n",
    "\n",
    "#Select maximo considerando accuracy\n",
    "print(\"C que maximiza tasa de acierto:\",np.array(Cs)[c_scores.index(np.array(c_scores).max())])"
   ]
  },
  {
   "cell_type": "code",
   "execution_count": 11,
   "metadata": {},
   "outputs": [
    {
     "name": "stdout",
     "output_type": "stream",
     "text": [
      "Tasa de acierto del modelo base: 0.67\n",
      "Tasa de acierto con la busqueda de parámetros: 0.68\n",
      "Mejora  del 1.49%.\n"
     ]
    }
   ],
   "source": [
    "print(\"Tasa de acierto del modelo base:\",modelo_base.score(X_test,y_test_bin))\n",
    "print(\"Tasa de acierto con la busqueda de parámetros:\",svc_clf.score(X_test,y_test_bin))\n",
    "\n",
    "#Mejora\n",
    "print('Mejora  del {:0.2f}%.'.format( 100 * (svc_clf.score(X_test,y_test_bin) - modelo_base.score(X_test,y_test_bin)) / modelo_base.score(X_test,y_test_bin)))"
   ]
  },
  {
   "cell_type": "markdown",
   "metadata": {},
   "source": [
    "### 3.3 Evaluación del modelo"
   ]
  },
  {
   "cell_type": "code",
   "execution_count": 12,
   "metadata": {},
   "outputs": [
    {
     "name": "stdout",
     "output_type": "stream",
     "text": [
      "La exactitud para el modelo de SVM en el conjunto de TEST es: 0.68 \n",
      "\n",
      "La exactitud para el modelo de SVM en el conjunto de TRAIN es: 0.7571 \n",
      "\n",
      "Confusion Matrix\n",
      "[[ 3 30]\n",
      " [ 2 65]] \n",
      "\n",
      "=============== Classification Report ================\n",
      "              precision    recall  f1-score   support\n",
      "\n",
      "         0.0       0.60      0.09      0.16        33\n",
      "         1.0       0.68      0.97      0.80        67\n",
      "\n",
      "    accuracy                           0.68       100\n",
      "   macro avg       0.64      0.53      0.48       100\n",
      "weighted avg       0.66      0.68      0.59       100\n",
      "\n"
     ]
    }
   ],
   "source": [
    "predict = svc_clf.predict(X_test)\n",
    "\n",
    "#EVALUACION\n",
    "acc_test= svc_clf.score(X_test, y_test_bin).round(4)\n",
    "acc_train= svc_clf.score(X_train, y_train_bin).round(4)\n",
    "print('La exactitud para el modelo de SVM en el conjunto de TEST es:',acc_test,'\\n')\n",
    "print('La exactitud para el modelo de SVM en el conjunto de TRAIN es:',acc_train,'\\n')\n",
    "\n",
    "print('Confusion Matrix')\n",
    "print(confusion_matrix(y_test_bin, predict),'\\n')\n",
    "\n",
    "print(\"=============== Classification Report ================\")\n",
    "print(classification_report(y_test_bin, predict))\n",
    "#matriz_confusion=pd.crosstab(Y_test,predict, rownames=['Clase predicha'], colnames=['Resultado del clasificador'])"
   ]
  },
  {
   "cell_type": "code",
   "execution_count": 13,
   "metadata": {},
   "outputs": [],
   "source": [
    "matriz_confusion=pd.crosstab(y_test_bin,predict, rownames=['Clase predicha'], colnames=['Resultado del clasificador'])"
   ]
  },
  {
   "cell_type": "code",
   "execution_count": 14,
   "metadata": {},
   "outputs": [
    {
     "data": {
      "text/html": [
       "<div>\n",
       "<style scoped>\n",
       "    .dataframe tbody tr th:only-of-type {\n",
       "        vertical-align: middle;\n",
       "    }\n",
       "\n",
       "    .dataframe tbody tr th {\n",
       "        vertical-align: top;\n",
       "    }\n",
       "\n",
       "    .dataframe thead th {\n",
       "        text-align: right;\n",
       "    }\n",
       "</style>\n",
       "<table border=\"1\" class=\"dataframe\">\n",
       "  <thead>\n",
       "    <tr style=\"text-align: right;\">\n",
       "      <th>Resultado del clasificador</th>\n",
       "      <th>0.0</th>\n",
       "      <th>1.0</th>\n",
       "    </tr>\n",
       "    <tr>\n",
       "      <th>Clase predicha</th>\n",
       "      <th></th>\n",
       "      <th></th>\n",
       "    </tr>\n",
       "  </thead>\n",
       "  <tbody>\n",
       "    <tr>\n",
       "      <td>0.0</td>\n",
       "      <td>3</td>\n",
       "      <td>30</td>\n",
       "    </tr>\n",
       "    <tr>\n",
       "      <td>1.0</td>\n",
       "      <td>2</td>\n",
       "      <td>65</td>\n",
       "    </tr>\n",
       "  </tbody>\n",
       "</table>\n",
       "</div>"
      ],
      "text/plain": [
       "Resultado del clasificador  0.0  1.0\n",
       "Clase predicha                      \n",
       "0.0                           3   30\n",
       "1.0                           2   65"
      ]
     },
     "execution_count": 14,
     "metadata": {},
     "output_type": "execute_result"
    }
   ],
   "source": [
    "matriz_confusion"
   ]
  },
  {
   "cell_type": "markdown",
   "metadata": {},
   "source": [
    "## 4. Clasficador SVM Multiclase\n",
    "### 4.1 Creación del modelo y selección parámetros libres"
   ]
  },
  {
   "cell_type": "code",
   "execution_count": 15,
   "metadata": {
    "scrolled": true
   },
   "outputs": [],
   "source": [
    "clf = SVC(kernel='linear',gamma=0.1)\n",
    "modelo_base=clf.fit(X_train,y_train_multi)"
   ]
  },
  {
   "cell_type": "markdown",
   "metadata": {},
   "source": [
    "### 4.2 Evaluación hiperparámetros con validación cruzada"
   ]
  },
  {
   "cell_type": "code",
   "execution_count": 16,
   "metadata": {},
   "outputs": [
    {
     "name": "stderr",
     "output_type": "stream",
     "text": [
      "C:\\Users\\rober\\Anaconda3\\lib\\site-packages\\sklearn\\model_selection\\_split.py:657: Warning: The least populated class in y has only 2 members, which is too few. The minimum number of members in any class cannot be less than n_splits=3.\n",
      "  % (min_groups, self.n_splits)), Warning)\n",
      "C:\\Users\\rober\\Anaconda3\\lib\\site-packages\\sklearn\\model_selection\\_search.py:814: DeprecationWarning: The default of the `iid` parameter will change from True to False in version 0.22 and will be removed in 0.24. This will change numeric results when test-set sizes are unequal.\n",
      "  DeprecationWarning)\n"
     ]
    },
    {
     "data": {
      "text/plain": [
       "{'C': 1}"
      ]
     },
     "execution_count": 16,
     "metadata": {},
     "output_type": "execute_result"
    }
   ],
   "source": [
    "Cs =[0.1,1,10,100,1000]\n",
    "param_grid = {'C': Cs}\n",
    "svc_grid = GridSearchCV(clf, param_grid, scoring='accuracy',cv=3,n_jobs=-1)\n",
    "svc_grid.fit(X_train, y_train_multi)\n",
    "svc_grid.best_params_"
   ]
  },
  {
   "cell_type": "code",
   "execution_count": 17,
   "metadata": {},
   "outputs": [
    {
     "name": "stderr",
     "output_type": "stream",
     "text": [
      "C:\\Users\\rober\\Anaconda3\\lib\\site-packages\\sklearn\\model_selection\\_split.py:657: Warning: The least populated class in y has only 2 members, which is too few. The minimum number of members in any class cannot be less than n_splits=5.\n",
      "  % (min_groups, self.n_splits)), Warning)\n",
      "C:\\Users\\rober\\Anaconda3\\lib\\site-packages\\sklearn\\model_selection\\_split.py:657: Warning: The least populated class in y has only 2 members, which is too few. The minimum number of members in any class cannot be less than n_splits=5.\n",
      "  % (min_groups, self.n_splits)), Warning)\n",
      "C:\\Users\\rober\\Anaconda3\\lib\\site-packages\\sklearn\\model_selection\\_split.py:657: Warning: The least populated class in y has only 2 members, which is too few. The minimum number of members in any class cannot be less than n_splits=5.\n",
      "  % (min_groups, self.n_splits)), Warning)\n",
      "C:\\Users\\rober\\Anaconda3\\lib\\site-packages\\sklearn\\model_selection\\_split.py:657: Warning: The least populated class in y has only 2 members, which is too few. The minimum number of members in any class cannot be less than n_splits=5.\n",
      "  % (min_groups, self.n_splits)), Warning)\n",
      "C:\\Users\\rober\\Anaconda3\\lib\\site-packages\\sklearn\\model_selection\\_split.py:657: Warning: The least populated class in y has only 2 members, which is too few. The minimum number of members in any class cannot be less than n_splits=5.\n",
      "  % (min_groups, self.n_splits)), Warning)\n"
     ]
    },
    {
     "data": {
      "image/png": "[encoded data removed]",
      "text/plain": [
       "<Figure size 432x288 with 1 Axes>"
      ]
     },
     "metadata": {
      "needs_background": "light"
     },
     "output_type": "display_data"
    },
    {
     "name": "stdout",
     "output_type": "stream",
     "text": [
      "C que maximiza tasa de acierto: 1.0\n"
     ]
    }
   ],
   "source": [
    "c_scores=[]\n",
    "for c in Cs:\n",
    "    clf = SVC(kernel='linear',gamma=0.1, C=c)\n",
    "    scores=cross_val_score(clf,X_train,y_train_multi,cv=5,scoring='accuracy',n_jobs=-1)\n",
    "    c_scores.append(scores.mean())\n",
    "    \n",
    "\n",
    "plt.figure()\n",
    "plt.plot(Cs,c_scores)\n",
    "plt.xlabel('C')\n",
    "plt.ylabel('CV accuracy')\n",
    "plt.title(\"Evaluación parámetro C\")\n",
    "plt.show()\n",
    "\n",
    "#Select maximo considerando accuracy\n",
    "print(\"C que maximiza tasa de acierto:\",np.array(Cs)[c_scores.index(np.array(c_scores).max())])"
   ]
  },
  {
   "cell_type": "code",
   "execution_count": 18,
   "metadata": {},
   "outputs": [],
   "source": [
    "svc_clf=svc_grid.best_estimator_"
   ]
  },
  {
   "cell_type": "code",
   "execution_count": 19,
   "metadata": {},
   "outputs": [
    {
     "name": "stdout",
     "output_type": "stream",
     "text": [
      "Tasa de acierto del modelo base: 0.44\n",
      "Tasa de acierto con la busqueda de parámetros: 0.44\n",
      "Mejora  del 0.00%.\n"
     ]
    }
   ],
   "source": [
    "print(\"Tasa de acierto del modelo base:\",modelo_base.score(X_test,y_test_multi))\n",
    "print(\"Tasa de acierto con la busqueda de parámetros:\",svc_clf.score(X_test,y_test_multi))\n",
    "\n",
    "#Mejora\n",
    "print('Mejora  del {:0.2f}%.'.format( 100 * (svc_clf.score(X_test,y_test_multi) - modelo_base.score(X_test,y_test_multi)) / modelo_base.score(X_test,y_test_multi)))"
   ]
  },
  {
   "cell_type": "code",
   "execution_count": 20,
   "metadata": {},
   "outputs": [
    {
     "data": {
      "text/plain": [
       "\"\\npacientes = len(y_test_bin)\\nt = np.arange(0,pacientes)\\nplt.figure(figsize=(15,9))\\nplt.plot(t,y_test_bin,color='blue', marker='.',label='Real')\\nplt.plot(t,predict,color='green', marker='.',label='Predicha')\\n\\nplt.title('Fase del sueño real vs. predicha en los primeros 30s')\\nplt.xlabel('Muestras de pacientes')\\nplt.ylabel('Fase del sueño')\\n#plt.yticks([-1,0])\\n#plt.xlim([0,10])\\nplt.legend()\\n\\n\""
      ]
     },
     "execution_count": 20,
     "metadata": {},
     "output_type": "execute_result"
    }
   ],
   "source": [
    "\"\"\"\n",
    "pacientes = len(y_test_bin)\n",
    "t = np.arange(0,pacientes)\n",
    "plt.figure(figsize=(15,9))\n",
    "plt.plot(t,y_test_bin,color='blue', marker='.',label='Real')\n",
    "plt.plot(t,predict,color='green', marker='.',label='Predicha')\n",
    "\n",
    "plt.title('Fase del sueño real vs. predicha en los primeros 30s')\n",
    "plt.xlabel('Muestras de pacientes')\n",
    "plt.ylabel('Fase del sueño')\n",
    "#plt.yticks([-1,0])\n",
    "#plt.xlim([0,10])\n",
    "plt.legend()\n",
    "\n",
    "\"\"\""
   ]
  },
  {
   "cell_type": "markdown",
   "metadata": {},
   "source": [
    "### 4.3 Evaluación del modelo"
   ]
  },
  {
   "cell_type": "code",
   "execution_count": 21,
   "metadata": {},
   "outputs": [
    {
     "name": "stdout",
     "output_type": "stream",
     "text": [
      "La exactitud para el modelo de SVM en el conjunto de TEST es: 0.44 \n",
      "\n",
      "La exactitud para el modelo de SVM en el conjunto de TRAIN es: 0.5048 \n",
      "\n",
      "Confusion Matrix\n",
      "[[ 2  0  0  4  0  0  0]\n",
      " [ 0  2  0 10  0  0  0]\n",
      " [ 0  1  0  2  3  0  0]\n",
      " [ 1  1  1 39  4  0  0]\n",
      " [ 0  1  0 10  1  0  0]\n",
      " [ 0  0  0  3  0  0  0]\n",
      " [ 0  0  0 15  0  0  0]] \n",
      "\n",
      "=============== Classification Report ================\n",
      "              precision    recall  f1-score   support\n",
      "\n",
      "        -1.0       0.67      0.33      0.44         6\n",
      "         0.0       0.40      0.17      0.24        12\n",
      "         1.0       0.00      0.00      0.00         6\n",
      "         2.0       0.47      0.85      0.60        46\n",
      "         3.0       0.12      0.08      0.10        12\n",
      "         4.0       0.00      0.00      0.00         3\n",
      "         5.0       0.00      0.00      0.00        15\n",
      "\n",
      "    accuracy                           0.44       100\n",
      "   macro avg       0.24      0.20      0.20       100\n",
      "weighted avg       0.32      0.44      0.35       100\n",
      "\n"
     ]
    },
    {
     "name": "stderr",
     "output_type": "stream",
     "text": [
      "C:\\Users\\rober\\Anaconda3\\lib\\site-packages\\sklearn\\metrics\\classification.py:1437: UndefinedMetricWarning: Precision and F-score are ill-defined and being set to 0.0 in labels with no predicted samples.\n",
      "  'precision', 'predicted', average, warn_for)\n"
     ]
    }
   ],
   "source": [
    "predict = svc_clf.predict(X_test)\n",
    "\n",
    "#EVALUACION\n",
    "acc_test= svc_clf.score(X_test, y_test_multi).round(4)\n",
    "acc_train= svc_clf.score(X_train, y_train_multi).round(4)\n",
    "print('La exactitud para el modelo de SVM en el conjunto de TEST es:',acc_test,'\\n')\n",
    "print('La exactitud para el modelo de SVM en el conjunto de TRAIN es:',acc_train,'\\n')\n",
    "\n",
    "print('Confusion Matrix')\n",
    "print(confusion_matrix(y_test_multi, predict),'\\n')\n",
    "\n",
    "print(\"=============== Classification Report ================\")\n",
    "print(classification_report(y_test_multi, predict))"
   ]
  },
  {
   "cell_type": "code",
   "execution_count": 22,
   "metadata": {},
   "outputs": [],
   "source": [
    "matriz_confusion=pd.crosstab(y_test_multi,predict, rownames=['Clase predicha'], colnames=['Resultado del clasificador'])"
   ]
  },
  {
   "cell_type": "code",
   "execution_count": 23,
   "metadata": {},
   "outputs": [
    {
     "data": {
      "text/html": [
       "<div>\n",
       "<style scoped>\n",
       "    .dataframe tbody tr th:only-of-type {\n",
       "        vertical-align: middle;\n",
       "    }\n",
       "\n",
       "    .dataframe tbody tr th {\n",
       "        vertical-align: top;\n",
       "    }\n",
       "\n",
       "    .dataframe thead th {\n",
       "        text-align: right;\n",
       "    }\n",
       "</style>\n",
       "<table border=\"1\" class=\"dataframe\">\n",
       "  <thead>\n",
       "    <tr style=\"text-align: right;\">\n",
       "      <th>Resultado del clasificador</th>\n",
       "      <th>-1.0</th>\n",
       "      <th>0.0</th>\n",
       "      <th>1.0</th>\n",
       "      <th>2.0</th>\n",
       "      <th>3.0</th>\n",
       "    </tr>\n",
       "    <tr>\n",
       "      <th>Clase predicha</th>\n",
       "      <th></th>\n",
       "      <th></th>\n",
       "      <th></th>\n",
       "      <th></th>\n",
       "      <th></th>\n",
       "    </tr>\n",
       "  </thead>\n",
       "  <tbody>\n",
       "    <tr>\n",
       "      <td>-1.0</td>\n",
       "      <td>2</td>\n",
       "      <td>0</td>\n",
       "      <td>0</td>\n",
       "      <td>4</td>\n",
       "      <td>0</td>\n",
       "    </tr>\n",
       "    <tr>\n",
       "      <td>0.0</td>\n",
       "      <td>0</td>\n",
       "      <td>2</td>\n",
       "      <td>0</td>\n",
       "      <td>10</td>\n",
       "      <td>0</td>\n",
       "    </tr>\n",
       "    <tr>\n",
       "      <td>1.0</td>\n",
       "      <td>0</td>\n",
       "      <td>1</td>\n",
       "      <td>0</td>\n",
       "      <td>2</td>\n",
       "      <td>3</td>\n",
       "    </tr>\n",
       "    <tr>\n",
       "      <td>2.0</td>\n",
       "      <td>1</td>\n",
       "      <td>1</td>\n",
       "      <td>1</td>\n",
       "      <td>39</td>\n",
       "      <td>4</td>\n",
       "    </tr>\n",
       "    <tr>\n",
       "      <td>3.0</td>\n",
       "      <td>0</td>\n",
       "      <td>1</td>\n",
       "      <td>0</td>\n",
       "      <td>10</td>\n",
       "      <td>1</td>\n",
       "    </tr>\n",
       "    <tr>\n",
       "      <td>4.0</td>\n",
       "      <td>0</td>\n",
       "      <td>0</td>\n",
       "      <td>0</td>\n",
       "      <td>3</td>\n",
       "      <td>0</td>\n",
       "    </tr>\n",
       "    <tr>\n",
       "      <td>5.0</td>\n",
       "      <td>0</td>\n",
       "      <td>0</td>\n",
       "      <td>0</td>\n",
       "      <td>15</td>\n",
       "      <td>0</td>\n",
       "    </tr>\n",
       "  </tbody>\n",
       "</table>\n",
       "</div>"
      ],
      "text/plain": [
       "Resultado del clasificador  -1.0   0.0   1.0   2.0   3.0\n",
       "Clase predicha                                          \n",
       "-1.0                           2     0     0     4     0\n",
       " 0.0                           0     2     0    10     0\n",
       " 1.0                           0     1     0     2     3\n",
       " 2.0                           1     1     1    39     4\n",
       " 3.0                           0     1     0    10     1\n",
       " 4.0                           0     0     0     3     0\n",
       " 5.0                           0     0     0    15     0"
      ]
     },
     "execution_count": 23,
     "metadata": {},
     "output_type": "execute_result"
    }
   ],
   "source": [
    "matriz_confusion"
   ]
  },
  {
   "cell_type": "code",
   "execution_count": 24,
   "metadata": {},
   "outputs": [
    {
     "data": {
      "text/plain": [
       "<matplotlib.legend.Legend at 0x2478e807888>"
      ]
     },
     "execution_count": 24,
     "metadata": {},
     "output_type": "execute_result"
    },
    {
     "data": {
      "image/png": "[encoded data removed]",
      "text/plain": [
       "<Figure size 1080x648 with 1 Axes>"
      ]
     },
     "metadata": {
      "needs_background": "light"
     },
     "output_type": "display_data"
    }
   ],
   "source": [
    "pacientes = len(y_test_multi)\n",
    "t = np.arange(0,pacientes)\n",
    "plt.figure(figsize=(15,9))\n",
    "plt.plot(t,y_test_multi,color='blue', marker='.',label='Real')\n",
    "plt.plot(t,predict,color='green', marker='.',label='Predicha')\n",
    "\n",
    "plt.title('Fase del sueño real vs. predicha en los primeros 30s')\n",
    "plt.xlabel('Muestras de pacientes')\n",
    "plt.ylabel('Fase del sueño')\n",
    "#plt.yticks([-1,0])\n",
    "#plt.xlim([0,10])\n",
    "plt.legend()"
   ]
  },
  {
   "cell_type": "code",
   "execution_count": null,
   "metadata": {},
   "outputs": [],
   "source": []
  },
  {
   "cell_type": "code",
   "execution_count": null,
   "metadata": {},
   "outputs": [],
   "source": []
  }
 ],
 "metadata": {
  "kernelspec": {
   "display_name": "Python 3",
   "language": "python",
   "name": "python3"
  },
  "language_info": {
   "codemirror_mode": {
    "name": "ipython",
    "version": 3
   },
   "file_extension": ".py",
   "mimetype": "text/x-python",
   "name": "python",
   "nbconvert_exporter": "python",
   "pygments_lexer": "ipython3",
   "version": "3.7.4"
  }
 },
 "nbformat": 4,
 "nbformat_minor": 2
}
