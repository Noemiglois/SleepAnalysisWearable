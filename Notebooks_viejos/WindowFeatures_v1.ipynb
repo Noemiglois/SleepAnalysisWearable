{
 "cells": [
  {
   "cell_type": "markdown",
   "metadata": {},
   "source": [
    "<center> <h1>PRIMERA PREDICIÓN DEL SUEÑO DE UN PACIENTE</h1> </center>\n",
    "<center> <h4>Noemi González, Roberto Holgado y Carmen Plaza seco</h4> </center>\n",
    "\n",
    "[URL PHYSIONET](https://physionet.org/content/sleep-accel/1.0.0/)"
   ]
  },
  {
   "cell_type": "code",
   "execution_count": 1,
   "metadata": {},
   "outputs": [],
   "source": [
    "import numpy as np\n",
    "import pandas as pd\n",
    "import os\n",
    "import matplotlib.pyplot as plt\n",
    "from sklearn.svm import SVC\n",
    "from sklearn.model_selection import train_test_split\n",
    "from sklearn.metrics import confusion_matrix\n",
    "import statistics as stats"
   ]
  },
  {
   "cell_type": "code",
   "execution_count": 2,
   "metadata": {},
   "outputs": [],
   "source": [
    "pacientes_sueño=[]\n",
    "for file in (os.listdir(\"labels\")):\n",
    "    pacientes_sueño.append(os.path.join(\"labels\",file))\n",
    "    pacientes_sueño=sorted(pacientes_sueño)\n",
    "    \n",
    "pacientes_frec_card=[]\n",
    "for file in os.listdir(\"heart_rate\"):\n",
    "    pacientes_frec_card.append(os.path.join(\"heart_rate\",file))\n",
    "\n",
    "pacientes_pasos=[]\n",
    "for file in os.listdir(\"steps\"):\n",
    "    pacientes_pasos.append(os.path.join(\"steps\",file))\n",
    "\n",
    "pacientes_movimiento=[]\n",
    "for file in os.listdir(\"motion\"):\n",
    "    pacientes_movimiento.append(os.path.join(\"motion\",file))"
   ]
  },
  {
   "cell_type": "markdown",
   "metadata": {},
   "source": [
    "La siguiente celda de código se corresponde con la ventana deslizante que recorrerá la señal fisiológica deseada. La función toma como datos de entrada el tamaño de la ventana en segundos y la señal sobre la que se quiere trabajar."
   ]
  },
  {
   "cell_type": "code",
   "execution_count": 3,
   "metadata": {},
   "outputs": [],
   "source": [
    "def get_window(w_size,signal,n_sueño):\n",
    "    time = signal[\"Tiempo\"]\n",
    "    f_list=[]\n",
    "    \n",
    "    for i in range(n_sueño):\n",
    "        a = w_size*(1+i)\n",
    "        b = w_size*(2+i)\n",
    "\n",
    "        idx=[]\n",
    "        for t in time:\n",
    "            if t>a and t<b:\n",
    "                idx.append(True)\n",
    "            else:\n",
    "                idx.append(False)\n",
    "        \n",
    "        f=signal[idx]\n",
    "        f_list.append(f)\n",
    "        \n",
    "    return f_list"
   ]
  },
  {
   "cell_type": "markdown",
   "metadata": {},
   "source": [
    "En todos los casos, se seleccionará una w_size de 30 segundos para tener una característica cada 30s y así coincidir la cantidad de los datos adquiridos por medio del Apple Watch con los datos recogidos por la PSG.\n",
    "\n",
    "Con la señal de frecuencia cardíaca se han decidido sacar 3 vectores de características: mínimo, máximo y media."
   ]
  },
  {
   "cell_type": "markdown",
   "metadata": {},
   "source": [
    "## FEATURES\n",
    "\n",
    "* **feat1: min_list**. La primera característica que se extrae es la lista de frecuencias mínimas.\n",
    "* **feat2: max_list**. La segunda característica que se extrae es la lista de frecuencias máximas.\n",
    "* **feat3: mean_list**. La tercera característica que se extrae es la lista de frecuencias medias.\n",
    "\n",
    "## OUTCOME\n",
    "\n",
    "* **labels:**. Lista de etiquetas del sueño\n",
    "\n",
    "# IDENTIFICACION\n",
    "* **ID:**. Variable que identifica a cada paciente."
   ]
  },
  {
   "cell_type": "markdown",
   "metadata": {},
   "source": [
    "# MATRICES HIJAS"
   ]
  },
  {
   "cell_type": "markdown",
   "metadata": {},
   "source": [
    "Realizamos esta operación sobre todos los pacientes"
   ]
  },
  {
   "cell_type": "code",
   "execution_count": 4,
   "metadata": {},
   "outputs": [],
   "source": [
    "matrices_hija=[]\n",
    "for a, (i,j) in  enumerate(zip(pacientes_sueño,pacientes_frec_card)):\n",
    "    #SUEÑO\n",
    "    sueño=pd.read_csv(i, delimiter=' ')\n",
    "    sueño.columns=[\"Tiempo\",\"Etiqueta\"]\n",
    "\n",
    "    #FRECUENCIA CARDIACA\n",
    "    frec_card=pd.read_csv(j)\n",
    "    frec_card.columns=[\"Tiempo\",\"Frec card\"]\n",
    "    \n",
    "    w_size=30\n",
    "    signal=frec_card\n",
    "    n_sueño=len(sueño)\n",
    "    f_list= get_window(w_size,signal,n_sueño)\n",
    "\n",
    "    mean_list=[]\n",
    "    min_list=[]\n",
    "    max_list=[]\n",
    "\n",
    "    for f in f_list:\n",
    "        mean_list.append(round(f['Frec card'].mean(),2))\n",
    "        min_list.append(round(f['Frec card'].min(),2))\n",
    "        max_list.append(round(f['Frec card'].max(),2))\n",
    "    \n",
    "    feat1=min_list\n",
    "    feat2=max_list\n",
    "    feat3=mean_list\n",
    "    labels=sueño[\"Etiqueta\"]\n",
    "    id_list=[a]*len(labels)\n",
    "    \n",
    "    datos = {'Min_hr': feat1, \"Max_hr\": feat2,\"Mean_hr\":feat3,\"Etiquetas\":labels,\"ID_P\":id_list}\n",
    "    datos_paciente = pd.DataFrame(data=datos)\n",
    "    matrices_hija.append(datos_paciente)"
   ]
  },
  {
   "cell_type": "code",
   "execution_count": 24,
   "metadata": {},
   "outputs": [
    {
     "data": {
      "text/html": [
       "<div>\n",
       "<style scoped>\n",
       "    .dataframe tbody tr th:only-of-type {\n",
       "        vertical-align: middle;\n",
       "    }\n",
       "\n",
       "    .dataframe tbody tr th {\n",
       "        vertical-align: top;\n",
       "    }\n",
       "\n",
       "    .dataframe thead th {\n",
       "        text-align: right;\n",
       "    }\n",
       "</style>\n",
       "<table border=\"1\" class=\"dataframe\">\n",
       "  <thead>\n",
       "    <tr style=\"text-align: right;\">\n",
       "      <th></th>\n",
       "      <th>Min_hr</th>\n",
       "      <th>Max_hr</th>\n",
       "      <th>Mean_hr</th>\n",
       "      <th>Etiquetas</th>\n",
       "      <th>ID_P</th>\n",
       "    </tr>\n",
       "  </thead>\n",
       "  <tbody>\n",
       "    <tr>\n",
       "      <td>0</td>\n",
       "      <td>82</td>\n",
       "      <td>84</td>\n",
       "      <td>83.00</td>\n",
       "      <td>-1</td>\n",
       "      <td>6</td>\n",
       "    </tr>\n",
       "    <tr>\n",
       "      <td>1</td>\n",
       "      <td>75</td>\n",
       "      <td>80</td>\n",
       "      <td>78.00</td>\n",
       "      <td>-1</td>\n",
       "      <td>6</td>\n",
       "    </tr>\n",
       "    <tr>\n",
       "      <td>2</td>\n",
       "      <td>75</td>\n",
       "      <td>80</td>\n",
       "      <td>76.50</td>\n",
       "      <td>-1</td>\n",
       "      <td>6</td>\n",
       "    </tr>\n",
       "    <tr>\n",
       "      <td>3</td>\n",
       "      <td>70</td>\n",
       "      <td>75</td>\n",
       "      <td>71.80</td>\n",
       "      <td>-1</td>\n",
       "      <td>6</td>\n",
       "    </tr>\n",
       "    <tr>\n",
       "      <td>4</td>\n",
       "      <td>68</td>\n",
       "      <td>71</td>\n",
       "      <td>69.67</td>\n",
       "      <td>-1</td>\n",
       "      <td>6</td>\n",
       "    </tr>\n",
       "    <tr>\n",
       "      <td>...</td>\n",
       "      <td>...</td>\n",
       "      <td>...</td>\n",
       "      <td>...</td>\n",
       "      <td>...</td>\n",
       "      <td>...</td>\n",
       "    </tr>\n",
       "    <tr>\n",
       "      <td>963</td>\n",
       "      <td>59</td>\n",
       "      <td>66</td>\n",
       "      <td>62.33</td>\n",
       "      <td>-1</td>\n",
       "      <td>6</td>\n",
       "    </tr>\n",
       "    <tr>\n",
       "      <td>964</td>\n",
       "      <td>56</td>\n",
       "      <td>59</td>\n",
       "      <td>57.50</td>\n",
       "      <td>-1</td>\n",
       "      <td>6</td>\n",
       "    </tr>\n",
       "    <tr>\n",
       "      <td>965</td>\n",
       "      <td>57</td>\n",
       "      <td>63</td>\n",
       "      <td>60.60</td>\n",
       "      <td>-1</td>\n",
       "      <td>6</td>\n",
       "    </tr>\n",
       "    <tr>\n",
       "      <td>966</td>\n",
       "      <td>61</td>\n",
       "      <td>64</td>\n",
       "      <td>62.50</td>\n",
       "      <td>-1</td>\n",
       "      <td>6</td>\n",
       "    </tr>\n",
       "    <tr>\n",
       "      <td>967</td>\n",
       "      <td>64</td>\n",
       "      <td>68</td>\n",
       "      <td>66.33</td>\n",
       "      <td>-1</td>\n",
       "      <td>6</td>\n",
       "    </tr>\n",
       "  </tbody>\n",
       "</table>\n",
       "<p>968 rows × 5 columns</p>\n",
       "</div>"
      ],
      "text/plain": [
       "     Min_hr  Max_hr  Mean_hr  Etiquetas  ID_P\n",
       "0        82      84    83.00         -1     6\n",
       "1        75      80    78.00         -1     6\n",
       "2        75      80    76.50         -1     6\n",
       "3        70      75    71.80         -1     6\n",
       "4        68      71    69.67         -1     6\n",
       "..      ...     ...      ...        ...   ...\n",
       "963      59      66    62.33         -1     6\n",
       "964      56      59    57.50         -1     6\n",
       "965      57      63    60.60         -1     6\n",
       "966      61      64    62.50         -1     6\n",
       "967      64      68    66.33         -1     6\n",
       "\n",
       "[968 rows x 5 columns]"
      ]
     },
     "execution_count": 24,
     "metadata": {},
     "output_type": "execute_result"
    }
   ],
   "source": [
    "matrices_hija[6]"
   ]
  },
  {
   "cell_type": "markdown",
   "metadata": {},
   "source": [
    "Una vez que ta tenemos guardadas todas las matrices, nos disponemos a crear un clasificador SVM. Primero vamos a utilizar 20 pacientes para entrenar el modelo; por ejemplo, seleccionaremos las 20 primeras matrices hijas; y 11 matrices de pacientes para testear el modelo."
   ]
  },
  {
   "cell_type": "markdown",
   "metadata": {},
   "source": [
    "Esto es una funcion para limpiar el dataframe de Nan y valores inf."
   ]
  },
  {
   "cell_type": "code",
   "execution_count": 6,
   "metadata": {},
   "outputs": [],
   "source": [
    "def clean_dataset(df):\n",
    "    assert isinstance(df, pd.DataFrame), \"df needs to be a pd.DataFrame\"\n",
    "    df.dropna(inplace=True)\n",
    "    indices_to_keep = ~df.isin([np.nan, np.inf, -np.inf]).any(1)\n",
    "    return df[indices_to_keep].astype(np.float64)"
   ]
  },
  {
   "cell_type": "code",
   "execution_count": 18,
   "metadata": {},
   "outputs": [],
   "source": [
    "#TRAIN\n",
    "Training=pd.concat(matrices_hija[0:21]) \n",
    "Training= clean_dataset(Training) # Tratar los Nan porque da errores en el calsificador\n",
    "Train=Training.drop('Etiquetas',axis=1) \n",
    "\n",
    "X_train=Train.drop('ID_P',axis=1)\n",
    "y_train=Training[\"Etiquetas\"]\n",
    "\n",
    "#TEST\n",
    "Test=pd.concat(matrices_hija[22:])  \n",
    "Test=clean_dataset(Test)            # Tratar los Nan porque da errores en el calsificador\n",
    "Test_f=Test.drop('Etiquetas',axis=1)\n",
    "X_test=Test_f.drop('ID_P',axis=1)\n",
    "y_test=Test[\"Etiquetas\"]\n"
   ]
  },
  {
   "cell_type": "markdown",
   "metadata": {},
   "source": [
    "# Creación modelo y evaluación"
   ]
  },
  {
   "cell_type": "code",
   "execution_count": 19,
   "metadata": {},
   "outputs": [
    {
     "data": {
      "text/plain": [
       "SVC(C=100000, cache_size=200, class_weight=None, coef0=0.0,\n",
       "    decision_function_shape='ovr', degree=3, gamma=0.0001, kernel='rbf',\n",
       "    max_iter=-1, probability=False, random_state=None, shrinking=True,\n",
       "    tol=0.001, verbose=False)"
      ]
     },
     "execution_count": 19,
     "metadata": {},
     "output_type": "execute_result"
    }
   ],
   "source": [
    "#CREACION\n",
    "svc_clf = SVC(C=10**5, kernel='rbf',gamma=0.0001)\n",
    "svc_clf.fit(X_train, y_train)"
   ]
  },
  {
   "cell_type": "code",
   "execution_count": 20,
   "metadata": {},
   "outputs": [
    {
     "name": "stdout",
     "output_type": "stream",
     "text": [
      "La exactitud para el modelo de SVM en el conjunto de TEST es: 0.4706 \n",
      "\n",
      "La exactitud para el modelo de SVM en el conjunto de TRAIN es: 0.5084 \n",
      "\n",
      "Confusion Matrix\n",
      "[[   0    2    0  137    2    0   13]\n",
      " [   0   38    1  570    8    0   82]\n",
      " [   0   51    2  538    3    0   79]\n",
      " [   0   15    0 3765    2    0  135]\n",
      " [   0    2    0  965    0    0   15]\n",
      " [   0    0    0  166    0    0    0]\n",
      " [   0   17    2 1646   13    0  163]] \n",
      "\n"
     ]
    }
   ],
   "source": [
    "predict = svc_clf.predict(X_test)\n",
    "#EVALUACION\n",
    "\n",
    "acc_test= svc_clf.score(X_test, y_test).round(4)\n",
    "acc_train= svc_clf.score(X_train, y_train).round(4)\n",
    "print('La exactitud para el modelo de SVM en el conjunto de TEST es:',acc_test,'\\n')\n",
    "print('La exactitud para el modelo de SVM en el conjunto de TRAIN es:',acc_train,'\\n')\n",
    "\n",
    "print('Confusion Matrix')\n",
    "print(confusion_matrix(y_test, predict),'\\n')\n",
    "#print(\"=============== Classification Report ================\")\n",
    "#print(classification_report(y_test, predict))"
   ]
  },
  {
   "cell_type": "code",
   "execution_count": 25,
   "metadata": {},
   "outputs": [],
   "source": [
    "matriz_confusion=pd.crosstab(y_test,predict, rownames=['Clase predicha'], colnames=['Resultado del clasificador'])"
   ]
  },
  {
   "cell_type": "code",
   "execution_count": 26,
   "metadata": {},
   "outputs": [
    {
     "data": {
      "text/html": [
       "<div>\n",
       "<style scoped>\n",
       "    .dataframe tbody tr th:only-of-type {\n",
       "        vertical-align: middle;\n",
       "    }\n",
       "\n",
       "    .dataframe tbody tr th {\n",
       "        vertical-align: top;\n",
       "    }\n",
       "\n",
       "    .dataframe thead th {\n",
       "        text-align: right;\n",
       "    }\n",
       "</style>\n",
       "<table border=\"1\" class=\"dataframe\">\n",
       "  <thead>\n",
       "    <tr style=\"text-align: right;\">\n",
       "      <th>Resultado del clasificador</th>\n",
       "      <th>0.0</th>\n",
       "      <th>1.0</th>\n",
       "      <th>2.0</th>\n",
       "      <th>3.0</th>\n",
       "      <th>5.0</th>\n",
       "    </tr>\n",
       "    <tr>\n",
       "      <th>Clase predicha</th>\n",
       "      <th></th>\n",
       "      <th></th>\n",
       "      <th></th>\n",
       "      <th></th>\n",
       "      <th></th>\n",
       "    </tr>\n",
       "  </thead>\n",
       "  <tbody>\n",
       "    <tr>\n",
       "      <td>-1.0</td>\n",
       "      <td>2</td>\n",
       "      <td>0</td>\n",
       "      <td>137</td>\n",
       "      <td>2</td>\n",
       "      <td>13</td>\n",
       "    </tr>\n",
       "    <tr>\n",
       "      <td>0.0</td>\n",
       "      <td>38</td>\n",
       "      <td>1</td>\n",
       "      <td>570</td>\n",
       "      <td>8</td>\n",
       "      <td>82</td>\n",
       "    </tr>\n",
       "    <tr>\n",
       "      <td>1.0</td>\n",
       "      <td>51</td>\n",
       "      <td>2</td>\n",
       "      <td>538</td>\n",
       "      <td>3</td>\n",
       "      <td>79</td>\n",
       "    </tr>\n",
       "    <tr>\n",
       "      <td>2.0</td>\n",
       "      <td>15</td>\n",
       "      <td>0</td>\n",
       "      <td>3765</td>\n",
       "      <td>2</td>\n",
       "      <td>135</td>\n",
       "    </tr>\n",
       "    <tr>\n",
       "      <td>3.0</td>\n",
       "      <td>2</td>\n",
       "      <td>0</td>\n",
       "      <td>965</td>\n",
       "      <td>0</td>\n",
       "      <td>15</td>\n",
       "    </tr>\n",
       "    <tr>\n",
       "      <td>4.0</td>\n",
       "      <td>0</td>\n",
       "      <td>0</td>\n",
       "      <td>166</td>\n",
       "      <td>0</td>\n",
       "      <td>0</td>\n",
       "    </tr>\n",
       "    <tr>\n",
       "      <td>5.0</td>\n",
       "      <td>17</td>\n",
       "      <td>2</td>\n",
       "      <td>1646</td>\n",
       "      <td>13</td>\n",
       "      <td>163</td>\n",
       "    </tr>\n",
       "  </tbody>\n",
       "</table>\n",
       "</div>"
      ],
      "text/plain": [
       "Resultado del clasificador  0.0  1.0   2.0  3.0  5.0\n",
       "Clase predicha                                      \n",
       "-1.0                          2    0   137    2   13\n",
       " 0.0                         38    1   570    8   82\n",
       " 1.0                         51    2   538    3   79\n",
       " 2.0                         15    0  3765    2  135\n",
       " 3.0                          2    0   965    0   15\n",
       " 4.0                          0    0   166    0    0\n",
       " 5.0                         17    2  1646   13  163"
      ]
     },
     "execution_count": 26,
     "metadata": {},
     "output_type": "execute_result"
    }
   ],
   "source": [
    "matriz_confusion"
   ]
  },
  {
   "cell_type": "code",
   "execution_count": null,
   "metadata": {},
   "outputs": [],
   "source": []
  }
 ],
 "metadata": {
  "kernelspec": {
   "display_name": "Python 3",
   "language": "python",
   "name": "python3"
  },
  "language_info": {
   "codemirror_mode": {
    "name": "ipython",
    "version": 3
   },
   "file_extension": ".py",
   "mimetype": "text/x-python",
   "name": "python",
   "nbconvert_exporter": "python",
   "pygments_lexer": "ipython3",
   "version": "3.7.4"
  }
 },
 "nbformat": 4,
 "nbformat_minor": 2
}
